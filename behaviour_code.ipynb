{
 "cells": [
  {
   "cell_type": "code",
   "execution_count": 1,
   "id": "9b58d7fc",
   "metadata": {},
   "outputs": [],
   "source": [
    "import pandas as pd\n",
    "import matplotlib.pyplot as plt\n",
    "import seaborn as sns\n",
    "import plotly.express as px\n",
    "import numpy as np\n",
    "from scipy import stats\n",
    "import plotly.graph_objects as go\n",
    "from sklearn.preprocessing import MinMaxScaler\n",
    "from sklearn.preprocessing import RobustScaler\n",
    "from sklearn.cluster import KMeans\n",
    "from sklearn.preprocessing import StandardScaler\n",
    "from sklearn.decomposition import PCA"
   ]
  },
  {
   "cell_type": "code",
   "execution_count": 2,
   "id": "3521e721",
   "metadata": {},
   "outputs": [],
   "source": [
    "bhv_df = pd.read_csv('behaviour_data.csv')"
   ]
  },
  {
   "cell_type": "code",
   "execution_count": 3,
   "id": "787cf7b8",
   "metadata": {},
   "outputs": [
    {
     "data": {
      "text/html": [
       "<div>\n",
       "<style scoped>\n",
       "    .dataframe tbody tr th:only-of-type {\n",
       "        vertical-align: middle;\n",
       "    }\n",
       "\n",
       "    .dataframe tbody tr th {\n",
       "        vertical-align: top;\n",
       "    }\n",
       "\n",
       "    .dataframe thead th {\n",
       "        text-align: right;\n",
       "    }\n",
       "</style>\n",
       "<table border=\"1\" class=\"dataframe\">\n",
       "  <thead>\n",
       "    <tr style=\"text-align: right;\">\n",
       "      <th></th>\n",
       "      <th>income</th>\n",
       "      <th>total_saved</th>\n",
       "      <th>total_debt</th>\n",
       "      <th>avg_trans_amt</th>\n",
       "      <th>total_trans_amt</th>\n",
       "      <th>total_no_transactions</th>\n",
       "      <th>savings_acct_active</th>\n",
       "      <th>credit_acct_active</th>\n",
       "    </tr>\n",
       "  </thead>\n",
       "  <tbody>\n",
       "    <tr>\n",
       "      <th>count</th>\n",
       "      <td>664.000000</td>\n",
       "      <td>664.000000</td>\n",
       "      <td>664.000000</td>\n",
       "      <td>664.000000</td>\n",
       "      <td>664.000000</td>\n",
       "      <td>664.000000</td>\n",
       "      <td>664.000000</td>\n",
       "      <td>664.000000</td>\n",
       "    </tr>\n",
       "    <tr>\n",
       "      <th>mean</th>\n",
       "      <td>23079.980422</td>\n",
       "      <td>243.469744</td>\n",
       "      <td>43.436702</td>\n",
       "      <td>-1.850820</td>\n",
       "      <td>-918.540949</td>\n",
       "      <td>116.807229</td>\n",
       "      <td>0.564759</td>\n",
       "      <td>0.637048</td>\n",
       "    </tr>\n",
       "    <tr>\n",
       "      <th>std</th>\n",
       "      <td>22215.443625</td>\n",
       "      <td>873.201468</td>\n",
       "      <td>1716.256431</td>\n",
       "      <td>113.441060</td>\n",
       "      <td>2707.684972</td>\n",
       "      <td>56.615361</td>\n",
       "      <td>0.496162</td>\n",
       "      <td>0.481214</td>\n",
       "    </tr>\n",
       "    <tr>\n",
       "      <th>min</th>\n",
       "      <td>0.000000</td>\n",
       "      <td>-2406.270000</td>\n",
       "      <td>-9633.490000</td>\n",
       "      <td>-189.325862</td>\n",
       "      <td>-13384.540000</td>\n",
       "      <td>1.000000</td>\n",
       "      <td>0.000000</td>\n",
       "      <td>0.000000</td>\n",
       "    </tr>\n",
       "    <tr>\n",
       "      <th>25%</th>\n",
       "      <td>7458.000000</td>\n",
       "      <td>0.000000</td>\n",
       "      <td>-22.672500</td>\n",
       "      <td>-18.412006</td>\n",
       "      <td>-2474.237500</td>\n",
       "      <td>71.000000</td>\n",
       "      <td>0.000000</td>\n",
       "      <td>0.000000</td>\n",
       "    </tr>\n",
       "    <tr>\n",
       "      <th>50%</th>\n",
       "      <td>17598.000000</td>\n",
       "      <td>0.000000</td>\n",
       "      <td>0.000000</td>\n",
       "      <td>-3.297455</td>\n",
       "      <td>-284.460000</td>\n",
       "      <td>123.000000</td>\n",
       "      <td>1.000000</td>\n",
       "      <td>1.000000</td>\n",
       "    </tr>\n",
       "    <tr>\n",
       "      <th>75%</th>\n",
       "      <td>31532.250000</td>\n",
       "      <td>290.110000</td>\n",
       "      <td>672.062500</td>\n",
       "      <td>5.241642</td>\n",
       "      <td>466.605000</td>\n",
       "      <td>160.250000</td>\n",
       "      <td>1.000000</td>\n",
       "      <td>1.000000</td>\n",
       "    </tr>\n",
       "    <tr>\n",
       "      <th>max</th>\n",
       "      <td>144157.000000</td>\n",
       "      <td>11079.850000</td>\n",
       "      <td>9500.000000</td>\n",
       "      <td>2814.610000</td>\n",
       "      <td>9804.750000</td>\n",
       "      <td>263.000000</td>\n",
       "      <td>1.000000</td>\n",
       "      <td>1.000000</td>\n",
       "    </tr>\n",
       "  </tbody>\n",
       "</table>\n",
       "</div>"
      ],
      "text/plain": [
       "              income   total_saved   total_debt  avg_trans_amt  \\\n",
       "count     664.000000    664.000000   664.000000     664.000000   \n",
       "mean    23079.980422    243.469744    43.436702      -1.850820   \n",
       "std     22215.443625    873.201468  1716.256431     113.441060   \n",
       "min         0.000000  -2406.270000 -9633.490000    -189.325862   \n",
       "25%      7458.000000      0.000000   -22.672500     -18.412006   \n",
       "50%     17598.000000      0.000000     0.000000      -3.297455   \n",
       "75%     31532.250000    290.110000   672.062500       5.241642   \n",
       "max    144157.000000  11079.850000  9500.000000    2814.610000   \n",
       "\n",
       "       total_trans_amt  total_no_transactions  savings_acct_active  \\\n",
       "count       664.000000             664.000000           664.000000   \n",
       "mean       -918.540949             116.807229             0.564759   \n",
       "std        2707.684972              56.615361             0.496162   \n",
       "min      -13384.540000               1.000000             0.000000   \n",
       "25%       -2474.237500              71.000000             0.000000   \n",
       "50%        -284.460000             123.000000             1.000000   \n",
       "75%         466.605000             160.250000             1.000000   \n",
       "max        9804.750000             263.000000             1.000000   \n",
       "\n",
       "       credit_acct_active  \n",
       "count          664.000000  \n",
       "mean             0.637048  \n",
       "std              0.481214  \n",
       "min              0.000000  \n",
       "25%              0.000000  \n",
       "50%              1.000000  \n",
       "75%              1.000000  \n",
       "max              1.000000  "
      ]
     },
     "execution_count": 3,
     "metadata": {},
     "output_type": "execute_result"
    }
   ],
   "source": [
    "bhv_df.describe()"
   ]
  },
  {
   "cell_type": "code",
   "execution_count": 4,
   "id": "d8c3882f",
   "metadata": {},
   "outputs": [],
   "source": [
    "#Weird data point\n",
    "bhv_df.drop(labels=[225], axis=0, inplace=True)"
   ]
  },
  {
   "cell_type": "code",
   "execution_count": 5,
   "id": "430b3fb9",
   "metadata": {},
   "outputs": [],
   "source": [
    "s_scaler = StandardScaler()\n",
    "n_scaler = MinMaxScaler()\n",
    "r_scaler = RobustScaler()"
   ]
  },
  {
   "cell_type": "code",
   "execution_count": 6,
   "id": "7b3cc6c7",
   "metadata": {},
   "outputs": [],
   "source": [
    "bhv_test = bhv_df[['income', 'total_saved', 'total_debt', 'avg_trans_amt', 'total_trans_amt', 'total_no_transactions']]\n",
    "bhv_tscaled = pd.DataFrame(s_scaler.fit_transform(bhv_test), columns=bhv_test.columns)"
   ]
  },
  {
   "cell_type": "code",
   "execution_count": 7,
   "id": "d9892d07",
   "metadata": {},
   "outputs": [],
   "source": [
    "bhv_tscaled['savings_acct'] = bhv_df['savings_acct_active']\n",
    "bhv_tscaled['credit_acct'] = bhv_df['credit_acct_active']"
   ]
  },
  {
   "cell_type": "code",
   "execution_count": 8,
   "id": "1549db0f",
   "metadata": {},
   "outputs": [],
   "source": [
    "bhv_tscaled.fillna(0, inplace=True)"
   ]
  },
  {
   "cell_type": "code",
   "execution_count": 9,
   "id": "96e46176",
   "metadata": {},
   "outputs": [
    {
     "data": {
      "text/html": [
       "<div>\n",
       "<style scoped>\n",
       "    .dataframe tbody tr th:only-of-type {\n",
       "        vertical-align: middle;\n",
       "    }\n",
       "\n",
       "    .dataframe tbody tr th {\n",
       "        vertical-align: top;\n",
       "    }\n",
       "\n",
       "    .dataframe thead th {\n",
       "        text-align: right;\n",
       "    }\n",
       "</style>\n",
       "<table border=\"1\" class=\"dataframe\">\n",
       "  <thead>\n",
       "    <tr style=\"text-align: right;\">\n",
       "      <th></th>\n",
       "      <th>income</th>\n",
       "      <th>total_saved</th>\n",
       "      <th>total_debt</th>\n",
       "      <th>avg_trans_amt</th>\n",
       "      <th>total_trans_amt</th>\n",
       "      <th>total_no_transactions</th>\n",
       "      <th>savings_acct</th>\n",
       "      <th>credit_acct</th>\n",
       "    </tr>\n",
       "  </thead>\n",
       "  <tbody>\n",
       "    <tr>\n",
       "      <th>0</th>\n",
       "      <td>-0.742844</td>\n",
       "      <td>-1.010911</td>\n",
       "      <td>0.876100</td>\n",
       "      <td>-0.953844</td>\n",
       "      <td>-0.972318</td>\n",
       "      <td>-0.247747</td>\n",
       "      <td>0.0</td>\n",
       "      <td>1.0</td>\n",
       "    </tr>\n",
       "    <tr>\n",
       "      <th>1</th>\n",
       "      <td>-0.205067</td>\n",
       "      <td>-0.268381</td>\n",
       "      <td>-0.244327</td>\n",
       "      <td>0.317648</td>\n",
       "      <td>0.485873</td>\n",
       "      <td>-0.017398</td>\n",
       "      <td>1.0</td>\n",
       "      <td>1.0</td>\n",
       "    </tr>\n",
       "    <tr>\n",
       "      <th>2</th>\n",
       "      <td>1.106166</td>\n",
       "      <td>-0.268874</td>\n",
       "      <td>-1.371977</td>\n",
       "      <td>0.745581</td>\n",
       "      <td>1.056279</td>\n",
       "      <td>0.053478</td>\n",
       "      <td>1.0</td>\n",
       "      <td>0.0</td>\n",
       "    </tr>\n",
       "    <tr>\n",
       "      <th>3</th>\n",
       "      <td>0.965947</td>\n",
       "      <td>-0.274932</td>\n",
       "      <td>-4.054482</td>\n",
       "      <td>0.595383</td>\n",
       "      <td>0.913720</td>\n",
       "      <td>0.283827</td>\n",
       "      <td>1.0</td>\n",
       "      <td>1.0</td>\n",
       "    </tr>\n",
       "    <tr>\n",
       "      <th>4</th>\n",
       "      <td>-1.040258</td>\n",
       "      <td>0.740414</td>\n",
       "      <td>0.556011</td>\n",
       "      <td>-0.267113</td>\n",
       "      <td>-0.624810</td>\n",
       "      <td>1.222941</td>\n",
       "      <td>0.0</td>\n",
       "      <td>1.0</td>\n",
       "    </tr>\n",
       "  </tbody>\n",
       "</table>\n",
       "</div>"
      ],
      "text/plain": [
       "     income  total_saved  total_debt  avg_trans_amt  total_trans_amt  \\\n",
       "0 -0.742844    -1.010911    0.876100      -0.953844        -0.972318   \n",
       "1 -0.205067    -0.268381   -0.244327       0.317648         0.485873   \n",
       "2  1.106166    -0.268874   -1.371977       0.745581         1.056279   \n",
       "3  0.965947    -0.274932   -4.054482       0.595383         0.913720   \n",
       "4 -1.040258     0.740414    0.556011      -0.267113        -0.624810   \n",
       "\n",
       "   total_no_transactions  savings_acct  credit_acct  \n",
       "0              -0.247747           0.0          1.0  \n",
       "1              -0.017398           1.0          1.0  \n",
       "2               0.053478           1.0          0.0  \n",
       "3               0.283827           1.0          1.0  \n",
       "4               1.222941           0.0          1.0  "
      ]
     },
     "execution_count": 9,
     "metadata": {},
     "output_type": "execute_result"
    }
   ],
   "source": [
    "bhv_tscaled.head()"
   ]
  },
  {
   "cell_type": "code",
   "execution_count": 10,
   "id": "9a562668",
   "metadata": {},
   "outputs": [
    {
     "data": {
      "image/png": "[encoded data removed]",
      "text/plain": [
       "<Figure size 640x480 with 1 Axes>"
      ]
     },
     "metadata": {},
     "output_type": "display_data"
    }
   ],
   "source": [
    "#scree plot\n",
    "pca = PCA()\n",
    "#\n",
    "# Determine transformed features\n",
    "#\n",
    "data_pca = pca.fit_transform(bhv_tscaled)\n",
    "#\n",
    "# Determine explained variance using explained_variance_ration_ attribute\n",
    "#\n",
    "exp_var_pca = pca.explained_variance_ratio_\n",
    "#\n",
    "# Cumulative sum of eigenvalues; This will be used to create step plot\n",
    "# for visualizing the variance explained by each principal component.\n",
    "#\n",
    "cum_sum_eigenvalues = np.cumsum(exp_var_pca)\n",
    "#\n",
    "# Create the visualization plot\n",
    "#\n",
    "plt.bar(range(0,len(exp_var_pca)), exp_var_pca, alpha=0.5, align='center', label='Individual explained variance')\n",
    "plt.step(range(0,len(cum_sum_eigenvalues)), cum_sum_eigenvalues, where='mid',label='Cumulative explained variance')\n",
    "plt.ylabel('Explained variance ratio')\n",
    "plt.xlabel('Principal component index')\n",
    "plt.legend(loc='best')\n",
    "plt.tight_layout()\n",
    "plt.show()"
   ]
  },
  {
   "cell_type": "code",
   "execution_count": 11,
   "id": "b2794f60",
   "metadata": {},
   "outputs": [],
   "source": [
    "def apply_pca(df, components):\n",
    "    columns = []\n",
    "    for i in range(components):\n",
    "        columns.append(f'column {i + 1}')\n",
    "    pca = PCA(n_components=components)\n",
    "    result = pca.fit_transform(df)\n",
    "    pca_df = pd.DataFrame(data = result, columns=columns)\n",
    "    return pca_df"
   ]
  },
  {
   "cell_type": "code",
   "execution_count": 12,
   "id": "19c31dc3",
   "metadata": {},
   "outputs": [],
   "source": [
    "bhv_pca = apply_pca(bhv_tscaled, 6)"
   ]
  },
  {
   "cell_type": "code",
   "execution_count": 13,
   "id": "8620ccc5",
   "metadata": {},
   "outputs": [
    {
     "data": {
      "text/html": [
       "<div>\n",
       "<style scoped>\n",
       "    .dataframe tbody tr th:only-of-type {\n",
       "        vertical-align: middle;\n",
       "    }\n",
       "\n",
       "    .dataframe tbody tr th {\n",
       "        vertical-align: top;\n",
       "    }\n",
       "\n",
       "    .dataframe thead th {\n",
       "        text-align: right;\n",
       "    }\n",
       "</style>\n",
       "<table border=\"1\" class=\"dataframe\">\n",
       "  <thead>\n",
       "    <tr style=\"text-align: right;\">\n",
       "      <th></th>\n",
       "      <th>column 1</th>\n",
       "      <th>column 2</th>\n",
       "      <th>column 3</th>\n",
       "      <th>column 4</th>\n",
       "      <th>column 5</th>\n",
       "      <th>column 6</th>\n",
       "    </tr>\n",
       "  </thead>\n",
       "  <tbody>\n",
       "    <tr>\n",
       "      <th>0</th>\n",
       "      <td>-1.753073</td>\n",
       "      <td>-1.086527</td>\n",
       "      <td>-0.185867</td>\n",
       "      <td>-0.048902</td>\n",
       "      <td>0.030459</td>\n",
       "      <td>0.387989</td>\n",
       "    </tr>\n",
       "    <tr>\n",
       "      <th>1</th>\n",
       "      <td>0.534133</td>\n",
       "      <td>-0.312996</td>\n",
       "      <td>-0.173574</td>\n",
       "      <td>-0.274828</td>\n",
       "      <td>-0.211217</td>\n",
       "      <td>-0.515366</td>\n",
       "    </tr>\n",
       "    <tr>\n",
       "      <th>2</th>\n",
       "      <td>1.597248</td>\n",
       "      <td>0.613792</td>\n",
       "      <td>0.696651</td>\n",
       "      <td>-1.192005</td>\n",
       "      <td>-0.125873</td>\n",
       "      <td>-0.169738</td>\n",
       "    </tr>\n",
       "    <tr>\n",
       "      <th>3</th>\n",
       "      <td>2.648252</td>\n",
       "      <td>0.952593</td>\n",
       "      <td>0.542800</td>\n",
       "      <td>-2.753086</td>\n",
       "      <td>1.642182</td>\n",
       "      <td>-0.624985</td>\n",
       "    </tr>\n",
       "    <tr>\n",
       "      <th>4</th>\n",
       "      <td>-0.716107</td>\n",
       "      <td>0.358314</td>\n",
       "      <td>-1.639164</td>\n",
       "      <td>0.718733</td>\n",
       "      <td>0.337569</td>\n",
       "      <td>0.412522</td>\n",
       "    </tr>\n",
       "    <tr>\n",
       "      <th>...</th>\n",
       "      <td>...</td>\n",
       "      <td>...</td>\n",
       "      <td>...</td>\n",
       "      <td>...</td>\n",
       "      <td>...</td>\n",
       "      <td>...</td>\n",
       "    </tr>\n",
       "    <tr>\n",
       "      <th>658</th>\n",
       "      <td>-0.658095</td>\n",
       "      <td>-1.012214</td>\n",
       "      <td>0.955200</td>\n",
       "      <td>0.250420</td>\n",
       "      <td>0.864920</td>\n",
       "      <td>-0.314817</td>\n",
       "    </tr>\n",
       "    <tr>\n",
       "      <th>659</th>\n",
       "      <td>-0.767874</td>\n",
       "      <td>-0.704316</td>\n",
       "      <td>1.022200</td>\n",
       "      <td>0.436616</td>\n",
       "      <td>-0.072848</td>\n",
       "      <td>0.698893</td>\n",
       "    </tr>\n",
       "    <tr>\n",
       "      <th>660</th>\n",
       "      <td>-6.148413</td>\n",
       "      <td>0.968672</td>\n",
       "      <td>0.952319</td>\n",
       "      <td>2.142453</td>\n",
       "      <td>-2.209746</td>\n",
       "      <td>-0.443416</td>\n",
       "    </tr>\n",
       "    <tr>\n",
       "      <th>661</th>\n",
       "      <td>-0.182681</td>\n",
       "      <td>0.164244</td>\n",
       "      <td>-1.025375</td>\n",
       "      <td>-0.440932</td>\n",
       "      <td>-0.128776</td>\n",
       "      <td>0.438015</td>\n",
       "    </tr>\n",
       "    <tr>\n",
       "      <th>662</th>\n",
       "      <td>-1.375420</td>\n",
       "      <td>0.154911</td>\n",
       "      <td>-0.582241</td>\n",
       "      <td>-0.076277</td>\n",
       "      <td>0.182265</td>\n",
       "      <td>0.771662</td>\n",
       "    </tr>\n",
       "  </tbody>\n",
       "</table>\n",
       "<p>663 rows × 6 columns</p>\n",
       "</div>"
      ],
      "text/plain": [
       "     column 1  column 2  column 3  column 4  column 5  column 6\n",
       "0   -1.753073 -1.086527 -0.185867 -0.048902  0.030459  0.387989\n",
       "1    0.534133 -0.312996 -0.173574 -0.274828 -0.211217 -0.515366\n",
       "2    1.597248  0.613792  0.696651 -1.192005 -0.125873 -0.169738\n",
       "3    2.648252  0.952593  0.542800 -2.753086  1.642182 -0.624985\n",
       "4   -0.716107  0.358314 -1.639164  0.718733  0.337569  0.412522\n",
       "..        ...       ...       ...       ...       ...       ...\n",
       "658 -0.658095 -1.012214  0.955200  0.250420  0.864920 -0.314817\n",
       "659 -0.767874 -0.704316  1.022200  0.436616 -0.072848  0.698893\n",
       "660 -6.148413  0.968672  0.952319  2.142453 -2.209746 -0.443416\n",
       "661 -0.182681  0.164244 -1.025375 -0.440932 -0.128776  0.438015\n",
       "662 -1.375420  0.154911 -0.582241 -0.076277  0.182265  0.771662\n",
       "\n",
       "[663 rows x 6 columns]"
      ]
     },
     "execution_count": 13,
     "metadata": {},
     "output_type": "execute_result"
    }
   ],
   "source": [
    "bhv_pca"
   ]
  },
  {
   "cell_type": "code",
   "execution_count": 14,
   "id": "2c0a2c78",
   "metadata": {},
   "outputs": [
    {
     "name": "stderr",
     "output_type": "stream",
     "text": [
      "C:\\Users\\annie\\anaconda3\\lib\\site-packages\\sklearn\\cluster\\_kmeans.py:1036: UserWarning: KMeans is known to have a memory leak on Windows with MKL, when there are less chunks than available threads. You can avoid it by setting the environment variable OMP_NUM_THREADS=3.\n",
      "  warnings.warn(\n"
     ]
    },
    {
     "data": {
      "image/png": "[encoded data removed]",
      "text/plain": [
       "<Figure size 1200x800 with 1 Axes>"
      ]
     },
     "metadata": {},
     "output_type": "display_data"
    }
   ],
   "source": [
    "distortions = []\n",
    "for i in range (1,11):\n",
    "    km = KMeans(n_clusters = i,\n",
    "               n_init=10)\n",
    "    km.fit(bhv_pca)\n",
    "    distortions.append(km.inertia_)\n",
    "plt.rcParams[\"figure.figsize\"] = (12,8)    \n",
    "plt.plot(range(1,11), distortions, marker='o')\n",
    "plt.xlabel('Number of Clusters')\n",
    "plt.ylabel('Distortion')\n",
    "plt.show()"
   ]
  },
  {
   "cell_type": "markdown",
   "id": "16b028f0",
   "metadata": {},
   "source": [
    "## weird code for making pretty scatter plot"
   ]
  },
  {
   "cell_type": "code",
   "execution_count": 53,
   "id": "56f6d850",
   "metadata": {},
   "outputs": [],
   "source": [
    "pca2 = PCA(n_components=2)\n",
    "X_pca2 = pca2.fit_transform(bhv_pca)\n",
    "pca_behav_df = pd.DataFrame(data = X_pca2,\n",
    "                               columns = ['pc1', 'pc2'])"
   ]
  },
  {
   "cell_type": "code",
   "execution_count": 54,
   "id": "7970b03d",
   "metadata": {},
   "outputs": [],
   "source": [
    "pca_behav_df['cluster'] = bhv_df['cluster']"
   ]
  },
  {
   "cell_type": "code",
   "execution_count": null,
   "id": "605ae286",
   "metadata": {
    "scrolled": true
   },
   "outputs": [],
   "source": [
    "x0 = pca_behav_df.loc[pca_behav_df['cluster'] == 0]\n",
    "x0.info()"
   ]
  },
  {
   "cell_type": "code",
   "execution_count": null,
   "id": "b151c0ba",
   "metadata": {},
   "outputs": [],
   "source": [
    "x1 = pca_behav_df.loc[pca_behav_df['cluster'] == 1]\n",
    "x1.info()"
   ]
  },
  {
   "cell_type": "code",
   "execution_count": null,
   "id": "6ce97efc",
   "metadata": {},
   "outputs": [],
   "source": [
    "x2 = pca_behav_df.loc[pca_behav_df['cluster'] == 2]\n",
    "x2.info()"
   ]
  },
  {
   "cell_type": "code",
   "execution_count": null,
   "id": "263aff22",
   "metadata": {},
   "outputs": [],
   "source": [
    "x3 = pca_behav_df.loc[pca_behav_df['cluster'] == 3]\n",
    "x3.info()"
   ]
  },
  {
   "cell_type": "code",
   "execution_count": null,
   "id": "f521d0de",
   "metadata": {},
   "outputs": [],
   "source": [
    "x4 = pca_behav_df.loc[pca_behav_df['cluster'] == 4]\n",
    "x4.info()"
   ]
  },
  {
   "cell_type": "code",
   "execution_count": 60,
   "id": "75921988",
   "metadata": {},
   "outputs": [
    {
     "data": {
      "application/vnd.plotly.v1+json": {
       "config": {
        "plotlyServerURL": "https://plot.ly"
       },
       "data": [
        {
         "marker": {
          "color": "deepskyblue",
          "line": {
           "color": "dodgerblue",
           "width": 1
          }
         },
         "mode": "markers",
         "name": "cluster 0",
         "type": "scatter",
         "x": [
          0.5341334781061599,
          0.38455543210571275,
          1.8936245827677278,
          -0.05004890609724519,
          0.7989123612168272,
          -0.22631874081951306,
          1.9634499944260946,
          1.1260162547090733,
          1.5078571156130658,
          0.7014550104846962,
          0.26920446245429,
          -0.1505955456580312,
          0.5713386777481103,
          1.7651685943521525,
          0.4638936317211749,
          -0.1288423616517077,
          0.5604677429103655,
          1.915228002186605,
          1.613722971055795,
          0.8225556752139586,
          0.1628268357729682,
          0.33598432328456385,
          0.36588508678862675,
          0.19178796695457417,
          0.3106340982537754,
          1.1691773745069722,
          -0.3449208657821407,
          0.30644055948975685,
          1.2256438111615142,
          1.6346175357954147,
          1.6160063515608871,
          0.2702324599147929,
          0.2180327446741814,
          0.20868624973210145,
          0.6421587892501867,
          0.9179989554383503,
          0.9217728953126734,
          0.3486573955402916,
          -0.5054264291488708,
          0.1899063432054154,
          0.09311974493767809,
          0.28839929608175086,
          0.41584805755566717,
          -0.7022913671908236,
          0.38980560013477106,
          0.27481846508820434,
          0.8514405954087335,
          0.6098474436541831,
          1.0094011070121878,
          -0.40380411382801457,
          0.5275881891372113,
          0.9449080741061057,
          -0.4914952015878914,
          1.0158413883036452,
          0.5754591205991404,
          -0.39159568778467074,
          1.5087613419419112,
          1.755719831954464,
          0.33400919077507596,
          0.36901559554266156,
          -0.7524825259493559,
          0.2660145969981119,
          1.181705326841264,
          0.19946015884052629,
          0.2658577663065246,
          1.0079944108120804,
          0.4470482099045674,
          0.49084405217515115,
          -1.424993761502847,
          0.5495378764361345,
          -1.3498720592094364,
          1.5154194988910596,
          -1.4291104731322424,
          -3.293111342332141,
          -0.652884272810074,
          0.5384326613139646,
          3.18368696561945,
          -0.7926438841456385,
          0.36682378129444115,
          0.5189422694019532,
          0.2192222481352402,
          -1.4113750729606995,
          -1.085479289815289,
          0.3133197003191299,
          -1.1999167857989141,
          2.4490943007915438,
          -0.1736716299557102,
          0.3742429838471171,
          -0.6427930593932826,
          -1.296852828149691,
          -1.6266997902185725,
          0.27310043575809734,
          -2.2516952550647247,
          -1.5678982942104274,
          -1.0635474451611142,
          -1.6641166147874724,
          -1.759447088182187,
          -5.29828032798584,
          0.3730863350306795,
          -1.2810917006677716,
          -2.0248453021392065,
          -2.919992154920727,
          0.6092119059826538,
          0.2883327241213766,
          0.09155573270306126,
          0.35948352551857254,
          1.129151691429769,
          -0.6464631657939078,
          -1.1740946546759445,
          -0.41319875109476806,
          0.38853449324215494,
          1.9034113159062784,
          0.6892669474428675,
          -1.1462024600112721,
          -1.581320980535412,
          0.9871682302231398,
          -0.3578549504509378,
          2.1686341651063366,
          0.3896807838496229,
          3.807826850709446,
          1.378553704524345,
          0.3993586724636863,
          2.0261551217906155,
          2.2836950213404954,
          -2.870476673580839,
          1.0626292941203863,
          0.15920627331093712,
          0.22963770677642056,
          0.6086926976558218,
          1.645093994563104,
          -0.340917323499046,
          0.20942511430829944,
          1.6724955638713166,
          3.10319384366696,
          -2.7992593358117444,
          0.049941808516863286,
          0.44295415628296003,
          0.3194434118017243,
          -0.7871960595185663,
          0.9873805783898875,
          -0.1751156305714208,
          0.7679583675652224,
          0.7871397274626186,
          0.27240678672585733,
          5.712407482998589,
          -0.5129778356198883,
          -0.4439603948628993,
          0.7867195922496483,
          -0.8085230160004696,
          0.7127189840781614,
          1.0168917941910227,
          -0.23923962042286773,
          0.059265909559769396,
          -0.6907374324769439,
          -1.3848536545270227,
          0.2830044550870838,
          -0.16160870225326407,
          -2.7201326633689886,
          -0.4092876752971656,
          0.3646290372803967,
          1.3064371021147194,
          -0.4937169569354292,
          1.7724525925545498,
          -0.11321461410874764,
          2.312482809720782,
          1.676141855298492,
          -1.4424566385206115,
          -0.09129132898793779,
          3.274563147704625,
          1.5770576733633652,
          0.18789385877840573,
          0.021642819157048205,
          -3.817908542588613,
          -0.464171633283795,
          3.573297492816352,
          1.4571070320072246,
          0.11775979100254835,
          0.9173981151387488,
          0.38131396476889595,
          1.5485728910761203,
          0.5564082802048639,
          -0.9098614265970402,
          0.12271309226132025,
          0.33023569130489794,
          0.14068453353325988,
          0.07520547062803698,
          3.32331540767495,
          -0.3736086116904424,
          0.08076734240882436,
          -2.1440808398779656,
          -0.7260777743467988,
          -1.7865195319912321,
          0.18520606367494583,
          5.685589268898649,
          -1.3967539583054474,
          -0.2679599623504677,
          -0.3826861220136924,
          -1.5596262959041982,
          1.115110884058297,
          0.5834097372083781,
          0.10035995172037346,
          -1.174660262510945,
          1.730513392304366,
          -1.590542184137281,
          0.1564026810780678,
          2.846991379753044,
          -1.0923604075728883,
          1.2867848834140985,
          -2.2235755663658305,
          0.327992390599034,
          -1.2900570427251703,
          0.18645490934518563,
          7.368861882970092,
          2.6650939454210496,
          -1.2106314672112621,
          0.4290822734022792,
          -1.8067185273102788,
          1.0967126688538655,
          0.6066963633296871,
          -1.3836916419041647,
          -0.06286904976055935,
          -0.6580945778018096,
          -0.7678739076116432,
          -6.1484132707679136
         ],
         "y": [
          -0.312995541799069,
          -0.39603942927162683,
          -0.8650971056849595,
          -0.9045037000074898,
          -0.538627688140403,
          -1.4725776654017275,
          0.4382237257650437,
          -0.5245102891021763,
          -1.4359948471109263,
          -0.13014700576680882,
          -0.20646294420323716,
          -0.8062634081146574,
          -1.863271131907686,
          -0.9519747763257947,
          -1.2125100802335143,
          -0.7136449485991254,
          -1.6899557682620376,
          -1.2941991755978963,
          -0.6234063048287399,
          -1.389585797325064,
          -1.9054357173257983,
          -0.8141638002699441,
          -1.801519509413875,
          -0.3006604132383992,
          -0.046780075905908304,
          -1.078414123294457,
          -1.534618505989436,
          -0.9535729913535769,
          -0.7926287696815079,
          -0.43704056031359706,
          -0.40355603545354823,
          -0.5713678860247703,
          -0.5101584300381485,
          -0.4548982389148681,
          -1.8489841301313383,
          -0.04982269519908112,
          -1.6110823011697364,
          -0.7404876350927299,
          -0.35095290335543394,
          -1.115310138183612,
          -0.9254820798606319,
          -0.7123515023342318,
          -1.019567016664277,
          -1.368835180558084,
          -0.901191117047501,
          -0.8557760603883015,
          -0.5153243587178601,
          -1.4494147052349453,
          -0.0935252104605978,
          -1.1084283102769863,
          -0.7464313560608258,
          -1.2222086899101159,
          -1.2281069027099454,
          -0.3867518714920548,
          -1.8624398881679713,
          -0.6718385657671972,
          -1.212220847577121,
          -0.992738366204512,
          -0.7726445725466793,
          -0.516813216426392,
          -1.1094993683071386,
          -1.2020804443356394,
          -1.7274900846050834,
          -1.4086018317082643,
          -0.9020035599994662,
          0.922427439029762,
          -0.706868949000516,
          -0.8963221640826382,
          0.5443044048123319,
          -0.5752575872418509,
          0.00878094614522554,
          -1.2288226726212856,
          0.4390809653858766,
          1.3809232187220357,
          -0.4629093901670646,
          0.5168095538598625,
          0.1480891556402087,
          0.19617213671493322,
          -0.6406960321242223,
          -1.2152394718245094,
          -1.8632511169348698,
          0.15752485716672915,
          1.3447096837990338,
          -1.8592978009528047,
          1.79970500146019,
          -0.6630862521093274,
          0.12423124061043103,
          0.3211909472113829,
          -0.8738652452332436,
          0.5851503994391712,
          0.37976371680934645,
          -0.6678043117061981,
          0.42471285324845476,
          -0.7633726106089047,
          0.7943940003850799,
          1.5223338190559106,
          1.515640985694643,
          0.4411447619632847,
          0.4696672083414942,
          0.6374419603006342,
          0.576551149082434,
          0.5944063671445482,
          -1.212457532761436,
          0.19686420806176555,
          -0.30964046078258256,
          -0.26849642979560895,
          -0.4381594793048168,
          -1.1950101042852521,
          0.16260170657373055,
          -0.9091911056967839,
          -1.1135557373400882,
          3.089820666049154,
          -1.0936267634975083,
          -0.5297591428624885,
          0.244429092779529,
          -0.9478752947832032,
          -0.45991495017266654,
          -0.8582292248494126,
          -0.10650818097596623,
          -1.0782551796767545,
          -1.0206945350774361,
          0.33209995403881365,
          1.110159171705577,
          -1.6647159538925713,
          4.042973455306232,
          1.258686430506596,
          -1.0913676618465296,
          -0.04725932328406667,
          0.049047252211274046,
          0.0630483464544004,
          -0.7815769786983765,
          -0.19736897837470113,
          0.32138473646095456,
          1.2516611148596724,
          0.9779651155072266,
          -0.049305819768859414,
          -0.7613299066166436,
          -1.1682108331913075,
          -0.5631994397920592,
          -1.50982506869682,
          0.5138382723666884,
          -0.18476944113386073,
          -0.33662433985959445,
          -1.2160446663808102,
          1.0604485413076867,
          1.3683899813381728,
          -0.19752307775408895,
          0.4592077591213352,
          -0.38994574650465713,
          0.008333467181376088,
          -0.1518587753576198,
          -0.5207385745130982,
          -0.4359059055776338,
          -0.07144373499715279,
          -0.1977557383711137,
          -1.471098585539891,
          0.6277531098239175,
          0.9511734859886453,
          -0.4185828240869142,
          -0.6184448247186297,
          0.29090167075468637,
          -0.4196738285009345,
          0.11885194338383691,
          -0.638359049863997,
          -0.9587433379919491,
          -0.3233425327112108,
          -0.4729267696083005,
          -1.8991334084526057,
          -0.12995445849994636,
          0.2656932614670091,
          -0.23068322280805253,
          0.09113309363684378,
          3.1598794952988625,
          -0.21408595186316526,
          -0.4891508169525142,
          1.0134514102117003,
          0.14942901338935993,
          -1.4814934683580971,
          -1.2299314357080047,
          0.33997543068161357,
          -1.9039591844114054,
          -0.4700816896385827,
          -0.4219126391736599,
          -1.0662244495080717,
          -1.8426029845652645,
          -0.8133480857638435,
          -0.9287385958289007,
          0.7533896946926376,
          -1.0286110878302028,
          2.783557210995399,
          -0.5548900796434564,
          3.773768923524558,
          -0.32172924528874886,
          4.953111681781817,
          -0.24552461822448352,
          1.565085894076054,
          2.6336190986396435,
          0.5599084193427752,
          -0.5035737238861175,
          -0.5352742909702313,
          0.20717073127950186,
          0.3800520991503922,
          -1.2379995095338878,
          0.48500429622002394,
          0.04846004758636034,
          1.164481904384523,
          0.7460374688794031,
          1.174749926970656,
          0.6621528028417429,
          -0.6467484500724492,
          1.1410716939967234,
          -0.3238082821641087,
          3.9021948704628517,
          -0.8510745736110696,
          -0.693921301745892,
          -0.7359095489076343,
          0.12863133886945374,
          0.9400474413604558,
          -0.9438836453063576,
          0.6842883315987021,
          -0.028050978762801677,
          -1.0122138789156525,
          -0.7043159971446292,
          0.9686721032479949
         ]
        },
        {
         "marker": {
          "color": "coral",
          "line": {
           "color": "lightcoral",
           "width": 1
          }
         },
         "mode": "markers",
         "name": "cluster 1",
         "type": "scatter",
         "x": [
          2.1797475469931302,
          2.6453831501320364,
          2.9855581589668407,
          2.836347428248428,
          0.23784424156832645,
          0.47185853727863997,
          0.6407547434396104,
          -1.2491670585372718
         ],
         "y": [
          6.101800401474977,
          3.175553045080558,
          3.48679658907816,
          3.7201253522993425,
          -0.5283107979568352,
          -0.5116107964935571,
          0.15269474733729396,
          0.2118250341458522
         ]
        },
        {
         "marker": {
          "color": "gold",
          "line": {
           "color": "goldenrod",
           "width": 1
          }
         },
         "mode": "markers",
         "name": "cluster 2",
         "type": "scatter",
         "x": [
          -1.7530731152924481,
          -0.7161069454547795,
          -1.7298270484022285,
          1.1932386891934124,
          0.06840092800551087,
          -0.743503699150456,
          -0.3889329694556809,
          0.15186632070590203,
          -1.0334463350016165,
          -1.4791552738213738,
          -0.7599093938037143,
          -0.4392542509953041,
          -0.3694158291667238,
          -1.70867731107813,
          0.2500366270107193,
          1.3223371059439082,
          -0.14105264157045316,
          -0.4041046858326475,
          0.4540131696124549,
          -1.7621393145748028,
          -0.32850604262898475,
          -1.1489367162265753,
          0.7579916801788878,
          0.6712552187623497,
          -0.0020902852172840977,
          -1.131972949598531,
          -0.976497881966674,
          1.1105400690660985,
          0.08990918567327806,
          -0.9658256612205758,
          -0.7328707909476279,
          -1.605735902711287,
          0.5886018338174167,
          -0.9023057141831874,
          -0.02370215142255332,
          -0.9085441471369767,
          0.25440518925428235,
          0.0006334063141630057,
          0.8513432998119996,
          -0.1308565665219295,
          -0.5114332310698945,
          -0.47834256408233655,
          0.6661430723021593,
          -0.5784108110959576,
          0.5351173844690345,
          0.40553884069323,
          -0.5961128754578151,
          0.5351988057085426,
          0.5902092205097034,
          -0.5111580851638133,
          -0.0002342343524417282,
          0.3179343791049503,
          0.13777881379561666,
          -1.0041513260746262,
          -1.2956221055623425,
          -0.26225077941501507,
          -0.3914208263094174,
          -0.82570271269497,
          0.2357428016692174,
          -1.2810204806699435,
          0.6090191814970008,
          -1.1092126492709216,
          0.38975536431772595,
          -0.5562546407853963,
          0.8630229224245733,
          -1.3563643155387415,
          -0.2240061349468557,
          0.11856982234923394,
          -0.6004264374351824,
          -0.700974575471071,
          -1.0644724916094064,
          -0.7335590173733963,
          0.8152959428394663,
          -0.15003982554437598,
          0.04230267347096654,
          0.37336188238910745,
          -0.767828584541303,
          -0.21410061977890857,
          -0.37610751166052925,
          -0.4596680714082714,
          0.961812715313229,
          -0.9254101703506433,
          0.7440651638850946,
          -0.5811371576898738,
          0.28215846822537066,
          -0.519215395204216,
          -0.8775879030899967,
          -0.21433117683815622,
          -0.3939679290323246,
          -1.5439423206815477,
          0.46144313123599556,
          0.19221621371970796,
          -0.3312302741481053,
          1.012754744882742,
          0.0922127300307523,
          0.3218207775689723,
          -1.4154224825399513,
          -0.1959035751343256,
          -0.6448690330491029,
          0.34622677948270647,
          -0.8135783820863746,
          -1.1371132813632856,
          0.9067848970048361,
          -0.43661339039291625,
          0.16042648825741412,
          0.2576899095572523,
          -1.189589893718707,
          -0.11044962337138392,
          0.40983513987242315,
          0.3494806963166523,
          0.35220898715427,
          -0.8407187573162842,
          0.26344044225935154,
          -0.8647647212868984,
          -0.43400452529459976,
          1.2812448983569682,
          1.8271159309002987,
          1.2729497433053412,
          -2.9130699579102752,
          -3.706486830628403,
          -1.5498309469459324,
          0.8293439212253869,
          -2.344610224395204,
          -1.0454097714995714,
          0.549861297588069,
          -0.8692730431607418,
          -1.1515582067749028,
          -0.8496038423243618,
          3.6060300099458638,
          -0.024633490236980294,
          1.1406895760462654,
          1.87924550080041,
          0.5302215694558524,
          -2.2807566406849182,
          -0.5698593846256217,
          0.042288281473063224,
          -3.0630548026353352,
          0.402159511888368,
          0.15300659353241367,
          0.19134490610851998,
          -4.387992542011984,
          0.5082351746906972,
          0.2160339783413024,
          -0.7643580668596848,
          -0.7206422962532423,
          0.4067316870052047,
          -1.3771640264254335,
          -0.19942696897176368,
          -0.15855564238197456,
          -0.6195055048827985,
          -0.11357576957908219,
          0.762226636066429,
          -0.5560572960170069,
          -0.2831570410844243,
          0.03686651702927574,
          0.550228276557458,
          1.1093582786798153,
          -0.4116534375500685,
          -0.7353145739124238,
          0.12746659276236366,
          -1.3914004604280439,
          -0.10830206285061847,
          0.1089538131823353,
          0.8385153953744361,
          -1.3280442110307293,
          1.0125883352015803,
          1.273570688784164,
          1.5362587527148055,
          -0.07291969693687377,
          3.1925578201466878,
          0.02050368485602568,
          0.1542879553463402,
          -1.0689762254507267,
          1.0140375806711606,
          -1.141263783875912,
          0.3490590747945215,
          1.7461542835926538,
          -1.3046148417225543,
          1.1011510285713664,
          0.5200426390232119,
          0.10880005540290409,
          -1.9100408660770647,
          -0.825822826334509,
          0.3579088274342831,
          0.9805293504243617,
          -0.16384693105285172,
          0.4525051049713349,
          2.412964227979803,
          -0.6019846369968321,
          -0.2815355576859629,
          0.41504243073746483,
          0.34769326512080734,
          2.606242688556105,
          0.0833863001643187,
          -0.03540114722413351,
          2.4230565675159665,
          3.275317745333843,
          0.3236927195648926,
          1.4626104431095017,
          -1.3787358059243244,
          -1.4418206254281438,
          2.892215861778502,
          -1.46685628106889,
          -0.11588869361288445,
          -1.4029942341101131,
          -1.3191701202222945,
          0.2916084268645792,
          1.1081487883525525,
          -0.30758359205218727,
          0.41156496073146764,
          -0.0717750661812468,
          -0.8431676253794504,
          1.500456993373501,
          0.5047311384649258,
          -1.8756479931356151,
          0.24001740398098126,
          2.4655801542660516,
          -1.5838185552226631,
          0.9493334423029699,
          1.138673343934196,
          2.573193784580847,
          0.7740811518959942,
          1.666929273413105,
          -0.5653021768407116,
          -0.6328972347963752,
          1.3577867925319875,
          0.08716825328195109,
          0.20495477978036603,
          -0.5978429567588355,
          1.8767217030071563,
          -1.4362112589038885,
          -0.02900854634421746,
          0.5764582847298859,
          -0.07392965156713818,
          -1.2669090765061497,
          0.5390658035528223,
          0.9160295308001835,
          -1.289999759126759,
          -0.8431903068502251,
          -1.0339990629380518,
          -5.43069233861918,
          0.884092436737529,
          0.2128288252210715,
          0.17434702222121523,
          1.4631452813344858,
          -0.5192562267852964,
          -3.0408673053380415,
          0.2922059039161936,
          -0.0983901499217648,
          0.2966838416785012,
          -0.5770465845602276,
          -0.6593337260121529,
          0.05120168857977022,
          0.7329541125658323,
          -0.16408386084787582,
          -4.098759124052126,
          0.5374049896287354,
          -0.3741886302673839,
          -1.0551838367911643,
          -0.4296283921831541,
          -1.2124743749158724,
          0.35461669639814947,
          -0.3264447123098005,
          0.9924675344497016,
          0.11844440161095125,
          0.19225580598780376,
          -2.491216946810013,
          -0.8186603987013403,
          0.08749644389739471,
          0.9224510957280283,
          1.3424366196974806,
          -0.2640621556724749,
          -0.38801386102743335,
          0.3694304009503205,
          0.18024985215419603,
          0.33516704371599787,
          -1.7455017722901975,
          -2.5869870559639487,
          0.29932088673966956,
          -0.6685671911615847,
          2.027843080218909,
          0.32807575003552714,
          0.7765618955057544,
          1.3551694240993308,
          0.6181315573007095,
          2.060509024287053,
          0.2842336534753344,
          -0.8740298819057998,
          -0.5398659541312046,
          0.6029480803755591,
          -1.3754196101895622
         ],
         "y": [
          -1.0865267385912547,
          0.3583136821106833,
          -0.5973647575070818,
          0.23825359066866303,
          0.005397303829942529,
          -0.6554135604257982,
          -0.17196214741778448,
          1.0701120363267953,
          0.3025500613660391,
          0.25418612604939306,
          -0.34399715058433067,
          -0.38534060580127,
          0.011788368418451479,
          0.288657973118184,
          0.29986035577959463,
          1.9519846649963248,
          0.17845922935271177,
          0.3130388599652357,
          0.8842753846495359,
          0.2870262599568419,
          -0.2442483894070735,
          -0.061156342039445206,
          0.3222960179052649,
          1.0316408091602325,
          -0.01459680806410693,
          0.17116126695869488,
          0.18456993507678335,
          0.47844538800439634,
          0.17296549041121753,
          -0.5429452478219948,
          0.39626103890928416,
          1.0604478862540432,
          -0.3014904094148235,
          0.26625123597938244,
          -0.04167472098937379,
          -1.1816438877469977,
          0.11551257985762577,
          -0.2528708067225191,
          -0.02671023962546854,
          0.923610119161573,
          0.47585034303083756,
          -0.12272719716710184,
          -0.1761429699649297,
          0.5779396899316435,
          0.07879004946485225,
          0.33593976065933856,
          -0.32377277317313163,
          0.5171413846318063,
          -0.3124063269212748,
          -0.7072421400040341,
          -0.5969276218440682,
          1.3364808737762797,
          -0.11851992121974601,
          0.28442433008557233,
          -0.275095886941691,
          0.6940290628215561,
          0.7215336859387784,
          0.014497909438062364,
          0.685356184762865,
          0.3331589302947588,
          0.08587928906351776,
          0.1451488484506751,
          -0.2370040354197353,
          0.4187044278937107,
          1.1536892859816223,
          0.6449612359450505,
          -0.4827126186407198,
          0.04478334310750204,
          -0.35396852404510826,
          -0.7868287779008571,
          1.26863997794862,
          0.19412193979232092,
          0.019499546255296034,
          -0.5666485901559513,
          -0.2759687071169372,
          0.6728702991303102,
          -0.9153321631492607,
          0.7409049673778663,
          0.5503052177101391,
          -0.009483130248197497,
          0.48738132250232585,
          -0.39515414914519215,
          0.08983994305501526,
          0.09420574018563302,
          -0.057716122734682594,
          -0.7684033910628598,
          0.4185973288936216,
          1.8612718739965362,
          -0.6290922882995708,
          -0.3657519307494567,
          0.44846163692612073,
          0.9146663678439072,
          0.2227609427699753,
          1.3999129827845491,
          -0.7048491765751137,
          -0.5746105604639236,
          -0.5263095063461692,
          -0.12933893811332056,
          -0.3284695695354676,
          1.9383728104571554,
          -0.07650508462557225,
          -0.8884623877861089,
          1.138561483547948,
          2.9027557027241513,
          0.6123922217548334,
          -0.026086045444880714,
          0.3597715201810238,
          0.11845734930663923,
          0.3032347440901183,
          -0.7972381735899693,
          -1.6514071547551559,
          -0.2762016201366192,
          -1.0992644200809287,
          1.1443464698230867,
          -0.6967369598243027,
          -1.311444495679392,
          -0.307875639493014,
          -1.489023756555143,
          1.2242407182548223,
          -0.021126005398685456,
          0.16414544689351235,
          0.2859025811759861,
          0.1786505515820447,
          0.3006468877914316,
          -1.7104268409927748,
          0.3531223172898432,
          -1.1901106842381353,
          -0.07764272048314172,
          1.4833530019747672,
          -0.7439147119539933,
          -0.6186240748272933,
          0.3451924686689588,
          0.0967541159165549,
          1.23860699095095,
          0.7811301060701876,
          -0.3193345719070137,
          0.4092292886714438,
          2.0845792009645776,
          -0.570214853926157,
          -0.4127572051024757,
          0.49014844181405354,
          -1.225714802741822,
          -0.5711101628835225,
          -0.5319088323017745,
          -0.5479045797947883,
          -0.041960086598405,
          -0.6228190925561363,
          -0.9003119781375475,
          -0.5336149691096149,
          0.0033202700571298305,
          -0.3663053765932222,
          -0.10488071129493566,
          -0.7369220731455877,
          -0.020328206193495044,
          0.21247990606492614,
          -0.8892536003844433,
          -1.3503932121575934,
          1.5978398979792432,
          -0.7400112095433526,
          -1.7808323509523303,
          -0.46213289716124406,
          0.5683508404074866,
          1.7060604823794625,
          0.667489842548903,
          -0.49280961561194436,
          -0.9669580368815935,
          1.0718479017165516,
          0.38269249270774275,
          -1.5440306429608472,
          2.509297806576867,
          0.885682844987439,
          -0.5397244371404462,
          0.3412679707711696,
          -0.8363089359622089,
          1.9222137492662237,
          -0.6574430251901657,
          -0.46075932056249896,
          0.10754256209130054,
          -0.07874129470859592,
          -1.3798894775437702,
          -0.22854005838796135,
          0.6894425437792376,
          0.40399914728504843,
          -0.8958226617220135,
          0.10502415460732836,
          -0.8071556059444738,
          -1.6518420358882002,
          -0.4689832870187267,
          0.1618699675732623,
          1.4593979456411212,
          -1.6803859899887221,
          -0.9136327121140919,
          -1.4596750601640385,
          -0.41922289097436954,
          -1.93772243249595,
          0.8628465782386833,
          1.678489659570927,
          -0.4886657000824715,
          1.2837830112353708,
          -0.5852833140231869,
          -0.8434214612892209,
          1.741491071141451,
          -0.8253959159964352,
          0.06257394337997912,
          0.47263788845966936,
          0.23101451208959461,
          0.34781561405131817,
          1.1591963663097737,
          0.25171074206561694,
          -0.45242085221418715,
          0.07392780042973444,
          0.778710776821852,
          -0.389406870761091,
          -0.30342732549648715,
          0.31120528182277846,
          -0.5922564008213933,
          -0.8721786872804927,
          -1.504145528422672,
          -1.44072963329819,
          0.3024565269216468,
          2.1047005463229422,
          -0.19810240354382946,
          0.6427644098621712,
          0.678073144034626,
          -0.12542017919218654,
          -0.13640713309188598,
          -0.6148215983801733,
          0.26852051885077566,
          -0.6567147567685481,
          0.19071831783436308,
          0.6862473054391408,
          -1.1125554985631636,
          1.149566280336093,
          0.8588862081068055,
          1.9874912720289128,
          0.638445313020929,
          0.6011288697239964,
          1.7414446773098977,
          -0.20225867885966178,
          0.16301232043434805,
          1.1840287442620212,
          -0.3298987996983666,
          -1.5779001395912642,
          -0.7834838509385051,
          0.2767073633514565,
          -0.18916845161058618,
          0.2393876311849618,
          -0.9455673706923772,
          -0.34237648936248755,
          -0.4014789717448427,
          -0.5707798540473199,
          -0.08124352806459996,
          -1.2578637094322322,
          -1.3000663998565747,
          0.45262560837993887,
          0.8220880090758576,
          -0.5397588812451067,
          -1.1611089148382312,
          -0.5985466590999747,
          0.46829396117285477,
          0.2923635211433441,
          -0.5519315514985297,
          0.8388802195052438,
          0.6351916511769595,
          0.15144447096917363,
          -1.7901651120420679,
          0.17898255266195282,
          -0.921569998353046,
          -0.9795546867767216,
          -0.8946358494575113,
          0.7786753947446465,
          0.05450790601178332,
          0.1709106274970577,
          -0.3183567636263978,
          -0.9643479744630601,
          -1.298163368117077,
          -0.5959468577353292,
          0.7839653870655094,
          -1.018251105294264,
          -0.24617170219760034,
          1.6747545426951236,
          -1.7864308616660496,
          0.9106581700133826,
          0.7335511594036133,
          0.0018153803551241932,
          -0.6135837192782146,
          -1.4060129172702946,
          0.6653504780978605,
          -0.8584507513864615,
          -0.733109889402951,
          0.15491082142547583
         ]
        },
        {
         "marker": {
          "color": "palegreen",
          "line": {
           "color": "seagreen",
           "width": 1
          }
         },
         "mode": "markers",
         "name": "cluster 3",
         "type": "scatter",
         "x": [
          -4.523770022548922,
          -5.6548904142592695,
          -1.6683337050950051,
          -2.4868991119867543,
          -2.443147666147871,
          -0.26049309437660334,
          -1.7701261251643745,
          -1.0604949791453937,
          -1.9586732179165387,
          -1.5037069217399,
          -2.6404536134085848,
          -3.18189025663484,
          -3.044796371771817,
          -3.5586569065716307,
          -1.994350303047349,
          -2.16339082557774,
          -3.4938093044273564,
          -1.8000031259101006,
          -1.376975245698693,
          -2.2080022449497183,
          -4.840722690494758,
          -3.1345008984263902,
          -3.9269957688980393,
          -4.781842551266548,
          -1.7654851436988535,
          1.6381624690249401,
          1.8094696760616897,
          -0.3988931295458667,
          0.37560598680783147,
          -0.9332537083141461,
          -1.0154453778165633,
          0.446811738015595,
          0.6438310270578061,
          -0.8989327835547176,
          0.6725571417974016,
          0.8504048286521186,
          -1.5294692463982962,
          -0.26819888264846276,
          -0.740982001729368,
          0.13031018745511838,
          -0.8492620469079155,
          -0.9224345987861852,
          1.098886858618628,
          0.443101414113048,
          -1.725489646661788,
          1.144099921737616,
          0.2588362993889031,
          -3.093450101033594,
          0.6036614210909674,
          -0.8057713944421312,
          -1.4898050537469334,
          0.32391359435689254,
          0.17419005435162746,
          0.24203210180060114,
          -1.237842715838128,
          0.8660396576983223,
          0.2319510387174966,
          -0.1471221637067449,
          -1.8977987009388142,
          -6.0310967538845945,
          -0.9214000790512028,
          1.02681836717127,
          -0.914024387355499,
          0.8892029885949418,
          -0.03565831380614066,
          0.060616147923329956,
          0.020270926524043442,
          -0.7605945855481064,
          -0.16619623304180786,
          0.038061855065521705,
          0.5966179512642096,
          -0.1826811776689335
         ],
         "y": [
          0.7093254354302997,
          0.8529533610795081,
          0.7499330715515045,
          0.8886938924020932,
          0.8068314177164522,
          3.2925360225822637,
          0.3762959317077708,
          -0.07808114596689612,
          0.2963382351874107,
          2.9826415579101533,
          2.2262237574056125,
          1.077468713464962,
          -1.239336235866538,
          0.8808829129323967,
          1.5359560502986112,
          1.3277031000586927,
          3.610706612366936,
          0.6437654124149009,
          0.043246223515843445,
          -0.30175748480730363,
          -0.40964263584385463,
          -0.476910248847124,
          1.0730113660190486,
          3.910718609393766,
          0.6815278237449044,
          -0.9986891844436523,
          -0.49103116902748634,
          -0.7086288844731607,
          -0.37375415778827975,
          0.23911854065294,
          0.20859216821891363,
          -0.8595494199163709,
          0.380856808265847,
          0.22249193234285766,
          -1.2612842305746834,
          -0.47771259028167257,
          -0.0722799355321632,
          -1.221242630634608,
          1.0296166494382073,
          -0.07455277215449865,
          0.41800410441539587,
          0.39605574265772964,
          -1.4647913788638087,
          -1.7343675094722273,
          0.09113261621560072,
          0.30965049687747015,
          -0.8423048934747118,
          -0.7134165236269816,
          -1.699592534837513,
          -0.31297890379587806,
          0.43576477375768535,
          -1.2932404159262676,
          0.5807154678032145,
          0.20668772319520926,
          -0.563909262352807,
          -0.07802869034967197,
          -0.5534257375125681,
          -0.30909124920408837,
          0.2609852011045175,
          -0.27738550133553286,
          1.3462866477616742,
          0.08443174499514401,
          -0.8310362258955669,
          -0.18067634007228595,
          -1.1218926273693615,
          -0.23211350087872257,
          0.9980444907014934,
          -0.6334650335163482,
          -0.7257551092271161,
          0.33783623964470055,
          0.9952538932777668,
          0.16424353328298927
         ]
        },
        {
         "marker": {
          "color": "orchid",
          "line": {
           "color": "mediumpurple",
           "width": 1
          }
         },
         "mode": "markers",
         "name": "cluster 3",
         "type": "scatter",
         "x": [
          1.597247997322517,
          2.648252246325666,
          3.7566645571528654,
          2.5681706551326493,
          2.445092880596792,
          1.1390479864818817,
          3.5067718209179484,
          0.8459238341413295,
          1.7872034814727955,
          2.0612072037768323,
          5.326512499387807,
          1.377022566764649,
          4.255594347686356,
          4.217405960481778,
          5.954399653950791,
          2.8715093701235803,
          2.2811042567453783,
          2.471007901628607,
          2.801465092555324,
          2.8573412377595586,
          -2.7720634419063357,
          1.082357417916359,
          0.27599318368896014,
          -1.22472967452012,
          0.5713386777481103,
          2.797121245863212,
          0.2765659096791238,
          -0.8847903929394284,
          -2.3540026311659323,
          0.29680879018595546,
          -1.738622340027748,
          -0.6659520362912172,
          2.427918360083228,
          -0.18362754227506337,
          -3.830613685104851,
          -0.72925140711659,
          0.9750537207532316,
          0.6911189286898337,
          -1.2753922942252096,
          -0.28216758265471287,
          7.601479699342625,
          -4.406585361647995,
          -0.8564099350625304,
          -1.0144346136867626,
          -0.6962900672247476,
          0.4807030074384687,
          0.5794618475179173,
          0.6034978955765234,
          0.3971550306553026,
          0.8314391556718816,
          -0.7053420462474024,
          0.31054147516036296,
          -0.2271402577372186,
          -0.10399196063606156,
          0.6122720644667032,
          2.4595163414841887,
          0.511852694281234,
          0.6243853865143015,
          -0.6477542284856586,
          -0.3197872492649079,
          -0.3497257990154115,
          -1.1343984923881025,
          -0.7763530565042727,
          1.0485963573142556,
          -0.16577367520027586,
          -0.39052489395125844,
          -0.7538255671020918
         ],
         "y": [
          0.613792217450997,
          0.952593483199359,
          0.8749451886116629,
          -0.6944258472898939,
          1.869034295508204,
          0.010772546704949251,
          -1.106209188431473,
          1.425682119483671,
          1.0035829595980597,
          1.8057000806462373,
          1.7752817960746152,
          0.9116194466896722,
          -0.915177264446725,
          0.516762604027214,
          1.6660942408349195,
          -0.3328659014614548,
          -0.36471057926369954,
          0.15128903267831126,
          -0.02350104307505056,
          0.6043621843837766,
          0.6398738047024255,
          -1.2083794056327875,
          -0.2608719943800988,
          0.7432316525958985,
          -1.863271131907686,
          3.011604626786694,
          -1.5847000954021504,
          -0.2532717695695956,
          0.8256063200556711,
          0.584021552985658,
          -0.4028465756069339,
          0.021163178827907914,
          1.7631006988702638,
          0.5239063164507082,
          1.5773492088854029,
          -0.10133442401122564,
          0.7388833718445805,
          1.960577828936453,
          0.0964395069281523,
          -0.747565931621632,
          9.40349424373469,
          3.320105282643542,
          0.6009122017098552,
          -0.04972677727201495,
          0.40203497966345303,
          0.2514019264553929,
          0.44442803695536115,
          0.6291711227096172,
          -0.5211446485946238,
          -0.1622810161942052,
          -0.07600360392881753,
          0.31515418896031944,
          0.7689104984990163,
          -0.47835782923630776,
          -0.8622932424079223,
          -0.10487436229141389,
          -0.48143058839919683,
          -1.838302111461189,
          -0.8451767368735157,
          0.8614811975925666,
          -0.30780941821752705,
          -0.5796202266981997,
          0.4457610835683787,
          -1.5665805588417807,
          0.35129772912255436,
          -1.0320791092167614,
          0.5174729900469468
         ]
        }
       ],
       "layout": {
        "template": {
         "data": {
          "bar": [
           {
            "error_x": {
             "color": "#2a3f5f"
            },
            "error_y": {
             "color": "#2a3f5f"
            },
            "marker": {
             "line": {
              "color": "#E5ECF6",
              "width": 0.5
             },
             "pattern": {
              "fillmode": "overlay",
              "size": 10,
              "solidity": 0.2
             }
            },
            "type": "bar"
           }
          ],
          "barpolar": [
           {
            "marker": {
             "line": {
              "color": "#E5ECF6",
              "width": 0.5
             },
             "pattern": {
              "fillmode": "overlay",
              "size": 10,
              "solidity": 0.2
             }
            },
            "type": "barpolar"
           }
          ],
          "carpet": [
           {
            "aaxis": {
             "endlinecolor": "#2a3f5f",
             "gridcolor": "white",
             "linecolor": "white",
             "minorgridcolor": "white",
             "startlinecolor": "#2a3f5f"
            },
            "baxis": {
             "endlinecolor": "#2a3f5f",
             "gridcolor": "white",
             "linecolor": "white",
             "minorgridcolor": "white",
             "startlinecolor": "#2a3f5f"
            },
            "type": "carpet"
           }
          ],
          "choropleth": [
           {
            "colorbar": {
             "outlinewidth": 0,
             "ticks": ""
            },
            "type": "choropleth"
           }
          ],
          "contour": [
           {
            "colorbar": {
             "outlinewidth": 0,
             "ticks": ""
            },
            "colorscale": [
             [
              0,
              "#0d0887"
             ],
             [
              0.1111111111111111,
              "#46039f"
             ],
             [
              0.2222222222222222,
              "#7201a8"
             ],
             [
              0.3333333333333333,
              "#9c179e"
             ],
             [
              0.4444444444444444,
              "#bd3786"
             ],
             [
              0.5555555555555556,
              "#d8576b"
             ],
             [
              0.6666666666666666,
              "#ed7953"
             ],
             [
              0.7777777777777778,
              "#fb9f3a"
             ],
             [
              0.8888888888888888,
              "#fdca26"
             ],
             [
              1,
              "#f0f921"
             ]
            ],
            "type": "contour"
           }
          ],
          "contourcarpet": [
           {
            "colorbar": {
             "outlinewidth": 0,
             "ticks": ""
            },
            "type": "contourcarpet"
           }
          ],
          "heatmap": [
           {
            "colorbar": {
             "outlinewidth": 0,
             "ticks": ""
            },
            "colorscale": [
             [
              0,
              "#0d0887"
             ],
             [
              0.1111111111111111,
              "#46039f"
             ],
             [
              0.2222222222222222,
              "#7201a8"
             ],
             [
              0.3333333333333333,
              "#9c179e"
             ],
             [
              0.4444444444444444,
              "#bd3786"
             ],
             [
              0.5555555555555556,
              "#d8576b"
             ],
             [
              0.6666666666666666,
              "#ed7953"
             ],
             [
              0.7777777777777778,
              "#fb9f3a"
             ],
             [
              0.8888888888888888,
              "#fdca26"
             ],
             [
              1,
              "#f0f921"
             ]
            ],
            "type": "heatmap"
           }
          ],
          "heatmapgl": [
           {
            "colorbar": {
             "outlinewidth": 0,
             "ticks": ""
            },
            "colorscale": [
             [
              0,
              "#0d0887"
             ],
             [
              0.1111111111111111,
              "#46039f"
             ],
             [
              0.2222222222222222,
              "#7201a8"
             ],
             [
              0.3333333333333333,
              "#9c179e"
             ],
             [
              0.4444444444444444,
              "#bd3786"
             ],
             [
              0.5555555555555556,
              "#d8576b"
             ],
             [
              0.6666666666666666,
              "#ed7953"
             ],
             [
              0.7777777777777778,
              "#fb9f3a"
             ],
             [
              0.8888888888888888,
              "#fdca26"
             ],
             [
              1,
              "#f0f921"
             ]
            ],
            "type": "heatmapgl"
           }
          ],
          "histogram": [
           {
            "marker": {
             "pattern": {
              "fillmode": "overlay",
              "size": 10,
              "solidity": 0.2
             }
            },
            "type": "histogram"
           }
          ],
          "histogram2d": [
           {
            "colorbar": {
             "outlinewidth": 0,
             "ticks": ""
            },
            "colorscale": [
             [
              0,
              "#0d0887"
             ],
             [
              0.1111111111111111,
              "#46039f"
             ],
             [
              0.2222222222222222,
              "#7201a8"
             ],
             [
              0.3333333333333333,
              "#9c179e"
             ],
             [
              0.4444444444444444,
              "#bd3786"
             ],
             [
              0.5555555555555556,
              "#d8576b"
             ],
             [
              0.6666666666666666,
              "#ed7953"
             ],
             [
              0.7777777777777778,
              "#fb9f3a"
             ],
             [
              0.8888888888888888,
              "#fdca26"
             ],
             [
              1,
              "#f0f921"
             ]
            ],
            "type": "histogram2d"
           }
          ],
          "histogram2dcontour": [
           {
            "colorbar": {
             "outlinewidth": 0,
             "ticks": ""
            },
            "colorscale": [
             [
              0,
              "#0d0887"
             ],
             [
              0.1111111111111111,
              "#46039f"
             ],
             [
              0.2222222222222222,
              "#7201a8"
             ],
             [
              0.3333333333333333,
              "#9c179e"
             ],
             [
              0.4444444444444444,
              "#bd3786"
             ],
             [
              0.5555555555555556,
              "#d8576b"
             ],
             [
              0.6666666666666666,
              "#ed7953"
             ],
             [
              0.7777777777777778,
              "#fb9f3a"
             ],
             [
              0.8888888888888888,
              "#fdca26"
             ],
             [
              1,
              "#f0f921"
             ]
            ],
            "type": "histogram2dcontour"
           }
          ],
          "mesh3d": [
           {
            "colorbar": {
             "outlinewidth": 0,
             "ticks": ""
            },
            "type": "mesh3d"
           }
          ],
          "parcoords": [
           {
            "line": {
             "colorbar": {
              "outlinewidth": 0,
              "ticks": ""
             }
            },
            "type": "parcoords"
           }
          ],
          "pie": [
           {
            "automargin": true,
            "type": "pie"
           }
          ],
          "scatter": [
           {
            "fillpattern": {
             "fillmode": "overlay",
             "size": 10,
             "solidity": 0.2
            },
            "type": "scatter"
           }
          ],
          "scatter3d": [
           {
            "line": {
             "colorbar": {
              "outlinewidth": 0,
              "ticks": ""
             }
            },
            "marker": {
             "colorbar": {
              "outlinewidth": 0,
              "ticks": ""
             }
            },
            "type": "scatter3d"
           }
          ],
          "scattercarpet": [
           {
            "marker": {
             "colorbar": {
              "outlinewidth": 0,
              "ticks": ""
             }
            },
            "type": "scattercarpet"
           }
          ],
          "scattergeo": [
           {
            "marker": {
             "colorbar": {
              "outlinewidth": 0,
              "ticks": ""
             }
            },
            "type": "scattergeo"
           }
          ],
          "scattergl": [
           {
            "marker": {
             "colorbar": {
              "outlinewidth": 0,
              "ticks": ""
             }
            },
            "type": "scattergl"
           }
          ],
          "scattermapbox": [
           {
            "marker": {
             "colorbar": {
              "outlinewidth": 0,
              "ticks": ""
             }
            },
            "type": "scattermapbox"
           }
          ],
          "scatterpolar": [
           {
            "marker": {
             "colorbar": {
              "outlinewidth": 0,
              "ticks": ""
             }
            },
            "type": "scatterpolar"
           }
          ],
          "scatterpolargl": [
           {
            "marker": {
             "colorbar": {
              "outlinewidth": 0,
              "ticks": ""
             }
            },
            "type": "scatterpolargl"
           }
          ],
          "scatterternary": [
           {
            "marker": {
             "colorbar": {
              "outlinewidth": 0,
              "ticks": ""
             }
            },
            "type": "scatterternary"
           }
          ],
          "surface": [
           {
            "colorbar": {
             "outlinewidth": 0,
             "ticks": ""
            },
            "colorscale": [
             [
              0,
              "#0d0887"
             ],
             [
              0.1111111111111111,
              "#46039f"
             ],
             [
              0.2222222222222222,
              "#7201a8"
             ],
             [
              0.3333333333333333,
              "#9c179e"
             ],
             [
              0.4444444444444444,
              "#bd3786"
             ],
             [
              0.5555555555555556,
              "#d8576b"
             ],
             [
              0.6666666666666666,
              "#ed7953"
             ],
             [
              0.7777777777777778,
              "#fb9f3a"
             ],
             [
              0.8888888888888888,
              "#fdca26"
             ],
             [
              1,
              "#f0f921"
             ]
            ],
            "type": "surface"
           }
          ],
          "table": [
           {
            "cells": {
             "fill": {
              "color": "#EBF0F8"
             },
             "line": {
              "color": "white"
             }
            },
            "header": {
             "fill": {
              "color": "#C8D4E3"
             },
             "line": {
              "color": "white"
             }
            },
            "type": "table"
           }
          ]
         },
         "layout": {
          "annotationdefaults": {
           "arrowcolor": "#2a3f5f",
           "arrowhead": 0,
           "arrowwidth": 1
          },
          "autotypenumbers": "strict",
          "coloraxis": {
           "colorbar": {
            "outlinewidth": 0,
            "ticks": ""
           }
          },
          "colorscale": {
           "diverging": [
            [
             0,
             "#8e0152"
            ],
            [
             0.1,
             "#c51b7d"
            ],
            [
             0.2,
             "#de77ae"
            ],
            [
             0.3,
             "#f1b6da"
            ],
            [
             0.4,
             "#fde0ef"
            ],
            [
             0.5,
             "#f7f7f7"
            ],
            [
             0.6,
             "#e6f5d0"
            ],
            [
             0.7,
             "#b8e186"
            ],
            [
             0.8,
             "#7fbc41"
            ],
            [
             0.9,
             "#4d9221"
            ],
            [
             1,
             "#276419"
            ]
           ],
           "sequential": [
            [
             0,
             "#0d0887"
            ],
            [
             0.1111111111111111,
             "#46039f"
            ],
            [
             0.2222222222222222,
             "#7201a8"
            ],
            [
             0.3333333333333333,
             "#9c179e"
            ],
            [
             0.4444444444444444,
             "#bd3786"
            ],
            [
             0.5555555555555556,
             "#d8576b"
            ],
            [
             0.6666666666666666,
             "#ed7953"
            ],
            [
             0.7777777777777778,
             "#fb9f3a"
            ],
            [
             0.8888888888888888,
             "#fdca26"
            ],
            [
             1,
             "#f0f921"
            ]
           ],
           "sequentialminus": [
            [
             0,
             "#0d0887"
            ],
            [
             0.1111111111111111,
             "#46039f"
            ],
            [
             0.2222222222222222,
             "#7201a8"
            ],
            [
             0.3333333333333333,
             "#9c179e"
            ],
            [
             0.4444444444444444,
             "#bd3786"
            ],
            [
             0.5555555555555556,
             "#d8576b"
            ],
            [
             0.6666666666666666,
             "#ed7953"
            ],
            [
             0.7777777777777778,
             "#fb9f3a"
            ],
            [
             0.8888888888888888,
             "#fdca26"
            ],
            [
             1,
             "#f0f921"
            ]
           ]
          },
          "colorway": [
           "#636efa",
           "#EF553B",
           "#00cc96",
           "#ab63fa",
           "#FFA15A",
           "#19d3f3",
           "#FF6692",
           "#B6E880",
           "#FF97FF",
           "#FECB52"
          ],
          "font": {
           "color": "#2a3f5f"
          },
          "geo": {
           "bgcolor": "white",
           "lakecolor": "white",
           "landcolor": "#E5ECF6",
           "showlakes": true,
           "showland": true,
           "subunitcolor": "white"
          },
          "hoverlabel": {
           "align": "left"
          },
          "hovermode": "closest",
          "mapbox": {
           "style": "light"
          },
          "paper_bgcolor": "white",
          "plot_bgcolor": "#E5ECF6",
          "polar": {
           "angularaxis": {
            "gridcolor": "white",
            "linecolor": "white",
            "ticks": ""
           },
           "bgcolor": "#E5ECF6",
           "radialaxis": {
            "gridcolor": "white",
            "linecolor": "white",
            "ticks": ""
           }
          },
          "scene": {
           "xaxis": {
            "backgroundcolor": "#E5ECF6",
            "gridcolor": "white",
            "gridwidth": 2,
            "linecolor": "white",
            "showbackground": true,
            "ticks": "",
            "zerolinecolor": "white"
           },
           "yaxis": {
            "backgroundcolor": "#E5ECF6",
            "gridcolor": "white",
            "gridwidth": 2,
            "linecolor": "white",
            "showbackground": true,
            "ticks": "",
            "zerolinecolor": "white"
           },
           "zaxis": {
            "backgroundcolor": "#E5ECF6",
            "gridcolor": "white",
            "gridwidth": 2,
            "linecolor": "white",
            "showbackground": true,
            "ticks": "",
            "zerolinecolor": "white"
           }
          },
          "shapedefaults": {
           "line": {
            "color": "#2a3f5f"
           }
          },
          "ternary": {
           "aaxis": {
            "gridcolor": "white",
            "linecolor": "white",
            "ticks": ""
           },
           "baxis": {
            "gridcolor": "white",
            "linecolor": "white",
            "ticks": ""
           },
           "bgcolor": "#E5ECF6",
           "caxis": {
            "gridcolor": "white",
            "linecolor": "white",
            "ticks": ""
           }
          },
          "title": {
           "x": 0.05
          },
          "xaxis": {
           "automargin": true,
           "gridcolor": "white",
           "linecolor": "white",
           "ticks": "",
           "title": {
            "standoff": 15
           },
           "zerolinecolor": "white",
           "zerolinewidth": 2
          },
          "yaxis": {
           "automargin": true,
           "gridcolor": "white",
           "linecolor": "white",
           "ticks": "",
           "title": {
            "standoff": 15
           },
           "zerolinecolor": "white",
           "zerolinewidth": 2
          }
         }
        },
        "title": {
         "text": "Banking Behaviour Clusters"
        }
       }
      },
      "text/html": [
       "<div>                            <div id=\"e2243792-9437-4b20-93c3-f7fb006d794b\" class=\"plotly-graph-div\" style=\"height:525px; width:100%;\"></div>            <script type=\"text/javascript\">                require([\"plotly\"], function(Plotly) {                    window.PLOTLYENV=window.PLOTLYENV || {};                                    if (document.getElementById(\"e2243792-9437-4b20-93c3-f7fb006d794b\")) {                    Plotly.newPlot(                        \"e2243792-9437-4b20-93c3-f7fb006d794b\",                        [{\"marker\":{\"color\":\"deepskyblue\",\"line\":{\"color\":\"dodgerblue\",\"width\":1}},\"mode\":\"markers\",\"name\":\"cluster 0\",\"x\":[0.5341334781061599,0.38455543210571275,1.8936245827677278,-0.05004890609724519,0.7989123612168272,-0.22631874081951306,1.9634499944260946,1.1260162547090733,1.5078571156130658,0.7014550104846962,0.26920446245429,-0.1505955456580312,0.5713386777481103,1.7651685943521525,0.4638936317211749,-0.1288423616517077,0.5604677429103655,1.915228002186605,1.613722971055795,0.8225556752139586,0.1628268357729682,0.33598432328456385,0.36588508678862675,0.19178796695457417,0.3106340982537754,1.1691773745069722,-0.3449208657821407,0.30644055948975685,1.2256438111615142,1.6346175357954147,1.6160063515608871,0.2702324599147929,0.2180327446741814,0.20868624973210145,0.6421587892501867,0.9179989554383503,0.9217728953126734,0.3486573955402916,-0.5054264291488708,0.1899063432054154,0.09311974493767809,0.28839929608175086,0.41584805755566717,-0.7022913671908236,0.38980560013477106,0.27481846508820434,0.8514405954087335,0.6098474436541831,1.0094011070121878,-0.40380411382801457,0.5275881891372113,0.9449080741061057,-0.4914952015878914,1.0158413883036452,0.5754591205991404,-0.39159568778467074,1.5087613419419112,1.755719831954464,0.33400919077507596,0.36901559554266156,-0.7524825259493559,0.2660145969981119,1.181705326841264,0.19946015884052629,0.2658577663065246,1.0079944108120804,0.4470482099045674,0.49084405217515115,-1.424993761502847,0.5495378764361345,-1.3498720592094364,1.5154194988910596,-1.4291104731322424,-3.293111342332141,-0.652884272810074,0.5384326613139646,3.18368696561945,-0.7926438841456385,0.36682378129444115,0.5189422694019532,0.2192222481352402,-1.4113750729606995,-1.085479289815289,0.3133197003191299,-1.1999167857989141,2.4490943007915438,-0.1736716299557102,0.3742429838471171,-0.6427930593932826,-1.296852828149691,-1.6266997902185725,0.27310043575809734,-2.2516952550647247,-1.5678982942104274,-1.0635474451611142,-1.6641166147874724,-1.759447088182187,-5.29828032798584,0.3730863350306795,-1.2810917006677716,-2.0248453021392065,-2.919992154920727,0.6092119059826538,0.2883327241213766,0.09155573270306126,0.35948352551857254,1.129151691429769,-0.6464631657939078,-1.1740946546759445,-0.41319875109476806,0.38853449324215494,1.9034113159062784,0.6892669474428675,-1.1462024600112721,-1.581320980535412,0.9871682302231398,-0.3578549504509378,2.1686341651063366,0.3896807838496229,3.807826850709446,1.378553704524345,0.3993586724636863,2.0261551217906155,2.2836950213404954,-2.870476673580839,1.0626292941203863,0.15920627331093712,0.22963770677642056,0.6086926976558218,1.645093994563104,-0.340917323499046,0.20942511430829944,1.6724955638713166,3.10319384366696,-2.7992593358117444,0.049941808516863286,0.44295415628296003,0.3194434118017243,-0.7871960595185663,0.9873805783898875,-0.1751156305714208,0.7679583675652224,0.7871397274626186,0.27240678672585733,5.712407482998589,-0.5129778356198883,-0.4439603948628993,0.7867195922496483,-0.8085230160004696,0.7127189840781614,1.0168917941910227,-0.23923962042286773,0.059265909559769396,-0.6907374324769439,-1.3848536545270227,0.2830044550870838,-0.16160870225326407,-2.7201326633689886,-0.4092876752971656,0.3646290372803967,1.3064371021147194,-0.4937169569354292,1.7724525925545498,-0.11321461410874764,2.312482809720782,1.676141855298492,-1.4424566385206115,-0.09129132898793779,3.274563147704625,1.5770576733633652,0.18789385877840573,0.021642819157048205,-3.817908542588613,-0.464171633283795,3.573297492816352,1.4571070320072246,0.11775979100254835,0.9173981151387488,0.38131396476889595,1.5485728910761203,0.5564082802048639,-0.9098614265970402,0.12271309226132025,0.33023569130489794,0.14068453353325988,0.07520547062803698,3.32331540767495,-0.3736086116904424,0.08076734240882436,-2.1440808398779656,-0.7260777743467988,-1.7865195319912321,0.18520606367494583,5.685589268898649,-1.3967539583054474,-0.2679599623504677,-0.3826861220136924,-1.5596262959041982,1.115110884058297,0.5834097372083781,0.10035995172037346,-1.174660262510945,1.730513392304366,-1.590542184137281,0.1564026810780678,2.846991379753044,-1.0923604075728883,1.2867848834140985,-2.2235755663658305,0.327992390599034,-1.2900570427251703,0.18645490934518563,7.368861882970092,2.6650939454210496,-1.2106314672112621,0.4290822734022792,-1.8067185273102788,1.0967126688538655,0.6066963633296871,-1.3836916419041647,-0.06286904976055935,-0.6580945778018096,-0.7678739076116432,-6.1484132707679136],\"y\":[-0.312995541799069,-0.39603942927162683,-0.8650971056849595,-0.9045037000074898,-0.538627688140403,-1.4725776654017275,0.4382237257650437,-0.5245102891021763,-1.4359948471109263,-0.13014700576680882,-0.20646294420323716,-0.8062634081146574,-1.863271131907686,-0.9519747763257947,-1.2125100802335143,-0.7136449485991254,-1.6899557682620376,-1.2941991755978963,-0.6234063048287399,-1.389585797325064,-1.9054357173257983,-0.8141638002699441,-1.801519509413875,-0.3006604132383992,-0.046780075905908304,-1.078414123294457,-1.534618505989436,-0.9535729913535769,-0.7926287696815079,-0.43704056031359706,-0.40355603545354823,-0.5713678860247703,-0.5101584300381485,-0.4548982389148681,-1.8489841301313383,-0.04982269519908112,-1.6110823011697364,-0.7404876350927299,-0.35095290335543394,-1.115310138183612,-0.9254820798606319,-0.7123515023342318,-1.019567016664277,-1.368835180558084,-0.901191117047501,-0.8557760603883015,-0.5153243587178601,-1.4494147052349453,-0.0935252104605978,-1.1084283102769863,-0.7464313560608258,-1.2222086899101159,-1.2281069027099454,-0.3867518714920548,-1.8624398881679713,-0.6718385657671972,-1.212220847577121,-0.992738366204512,-0.7726445725466793,-0.516813216426392,-1.1094993683071386,-1.2020804443356394,-1.7274900846050834,-1.4086018317082643,-0.9020035599994662,0.922427439029762,-0.706868949000516,-0.8963221640826382,0.5443044048123319,-0.5752575872418509,0.00878094614522554,-1.2288226726212856,0.4390809653858766,1.3809232187220357,-0.4629093901670646,0.5168095538598625,0.1480891556402087,0.19617213671493322,-0.6406960321242223,-1.2152394718245094,-1.8632511169348698,0.15752485716672915,1.3447096837990338,-1.8592978009528047,1.79970500146019,-0.6630862521093274,0.12423124061043103,0.3211909472113829,-0.8738652452332436,0.5851503994391712,0.37976371680934645,-0.6678043117061981,0.42471285324845476,-0.7633726106089047,0.7943940003850799,1.5223338190559106,1.515640985694643,0.4411447619632847,0.4696672083414942,0.6374419603006342,0.576551149082434,0.5944063671445482,-1.212457532761436,0.19686420806176555,-0.30964046078258256,-0.26849642979560895,-0.4381594793048168,-1.1950101042852521,0.16260170657373055,-0.9091911056967839,-1.1135557373400882,3.089820666049154,-1.0936267634975083,-0.5297591428624885,0.244429092779529,-0.9478752947832032,-0.45991495017266654,-0.8582292248494126,-0.10650818097596623,-1.0782551796767545,-1.0206945350774361,0.33209995403881365,1.110159171705577,-1.6647159538925713,4.042973455306232,1.258686430506596,-1.0913676618465296,-0.04725932328406667,0.049047252211274046,0.0630483464544004,-0.7815769786983765,-0.19736897837470113,0.32138473646095456,1.2516611148596724,0.9779651155072266,-0.049305819768859414,-0.7613299066166436,-1.1682108331913075,-0.5631994397920592,-1.50982506869682,0.5138382723666884,-0.18476944113386073,-0.33662433985959445,-1.2160446663808102,1.0604485413076867,1.3683899813381728,-0.19752307775408895,0.4592077591213352,-0.38994574650465713,0.008333467181376088,-0.1518587753576198,-0.5207385745130982,-0.4359059055776338,-0.07144373499715279,-0.1977557383711137,-1.471098585539891,0.6277531098239175,0.9511734859886453,-0.4185828240869142,-0.6184448247186297,0.29090167075468637,-0.4196738285009345,0.11885194338383691,-0.638359049863997,-0.9587433379919491,-0.3233425327112108,-0.4729267696083005,-1.8991334084526057,-0.12995445849994636,0.2656932614670091,-0.23068322280805253,0.09113309363684378,3.1598794952988625,-0.21408595186316526,-0.4891508169525142,1.0134514102117003,0.14942901338935993,-1.4814934683580971,-1.2299314357080047,0.33997543068161357,-1.9039591844114054,-0.4700816896385827,-0.4219126391736599,-1.0662244495080717,-1.8426029845652645,-0.8133480857638435,-0.9287385958289007,0.7533896946926376,-1.0286110878302028,2.783557210995399,-0.5548900796434564,3.773768923524558,-0.32172924528874886,4.953111681781817,-0.24552461822448352,1.565085894076054,2.6336190986396435,0.5599084193427752,-0.5035737238861175,-0.5352742909702313,0.20717073127950186,0.3800520991503922,-1.2379995095338878,0.48500429622002394,0.04846004758636034,1.164481904384523,0.7460374688794031,1.174749926970656,0.6621528028417429,-0.6467484500724492,1.1410716939967234,-0.3238082821641087,3.9021948704628517,-0.8510745736110696,-0.693921301745892,-0.7359095489076343,0.12863133886945374,0.9400474413604558,-0.9438836453063576,0.6842883315987021,-0.028050978762801677,-1.0122138789156525,-0.7043159971446292,0.9686721032479949],\"type\":\"scatter\"},{\"marker\":{\"color\":\"coral\",\"line\":{\"color\":\"lightcoral\",\"width\":1}},\"mode\":\"markers\",\"name\":\"cluster 1\",\"x\":[2.1797475469931302,2.6453831501320364,2.9855581589668407,2.836347428248428,0.23784424156832645,0.47185853727863997,0.6407547434396104,-1.2491670585372718],\"y\":[6.101800401474977,3.175553045080558,3.48679658907816,3.7201253522993425,-0.5283107979568352,-0.5116107964935571,0.15269474733729396,0.2118250341458522],\"type\":\"scatter\"},{\"marker\":{\"color\":\"gold\",\"line\":{\"color\":\"goldenrod\",\"width\":1}},\"mode\":\"markers\",\"name\":\"cluster 2\",\"x\":[-1.7530731152924481,-0.7161069454547795,-1.7298270484022285,1.1932386891934124,0.06840092800551087,-0.743503699150456,-0.3889329694556809,0.15186632070590203,-1.0334463350016165,-1.4791552738213738,-0.7599093938037143,-0.4392542509953041,-0.3694158291667238,-1.70867731107813,0.2500366270107193,1.3223371059439082,-0.14105264157045316,-0.4041046858326475,0.4540131696124549,-1.7621393145748028,-0.32850604262898475,-1.1489367162265753,0.7579916801788878,0.6712552187623497,-0.0020902852172840977,-1.131972949598531,-0.976497881966674,1.1105400690660985,0.08990918567327806,-0.9658256612205758,-0.7328707909476279,-1.605735902711287,0.5886018338174167,-0.9023057141831874,-0.02370215142255332,-0.9085441471369767,0.25440518925428235,0.0006334063141630057,0.8513432998119996,-0.1308565665219295,-0.5114332310698945,-0.47834256408233655,0.6661430723021593,-0.5784108110959576,0.5351173844690345,0.40553884069323,-0.5961128754578151,0.5351988057085426,0.5902092205097034,-0.5111580851638133,-0.0002342343524417282,0.3179343791049503,0.13777881379561666,-1.0041513260746262,-1.2956221055623425,-0.26225077941501507,-0.3914208263094174,-0.82570271269497,0.2357428016692174,-1.2810204806699435,0.6090191814970008,-1.1092126492709216,0.38975536431772595,-0.5562546407853963,0.8630229224245733,-1.3563643155387415,-0.2240061349468557,0.11856982234923394,-0.6004264374351824,-0.700974575471071,-1.0644724916094064,-0.7335590173733963,0.8152959428394663,-0.15003982554437598,0.04230267347096654,0.37336188238910745,-0.767828584541303,-0.21410061977890857,-0.37610751166052925,-0.4596680714082714,0.961812715313229,-0.9254101703506433,0.7440651638850946,-0.5811371576898738,0.28215846822537066,-0.519215395204216,-0.8775879030899967,-0.21433117683815622,-0.3939679290323246,-1.5439423206815477,0.46144313123599556,0.19221621371970796,-0.3312302741481053,1.012754744882742,0.0922127300307523,0.3218207775689723,-1.4154224825399513,-0.1959035751343256,-0.6448690330491029,0.34622677948270647,-0.8135783820863746,-1.1371132813632856,0.9067848970048361,-0.43661339039291625,0.16042648825741412,0.2576899095572523,-1.189589893718707,-0.11044962337138392,0.40983513987242315,0.3494806963166523,0.35220898715427,-0.8407187573162842,0.26344044225935154,-0.8647647212868984,-0.43400452529459976,1.2812448983569682,1.8271159309002987,1.2729497433053412,-2.9130699579102752,-3.706486830628403,-1.5498309469459324,0.8293439212253869,-2.344610224395204,-1.0454097714995714,0.549861297588069,-0.8692730431607418,-1.1515582067749028,-0.8496038423243618,3.6060300099458638,-0.024633490236980294,1.1406895760462654,1.87924550080041,0.5302215694558524,-2.2807566406849182,-0.5698593846256217,0.042288281473063224,-3.0630548026353352,0.402159511888368,0.15300659353241367,0.19134490610851998,-4.387992542011984,0.5082351746906972,0.2160339783413024,-0.7643580668596848,-0.7206422962532423,0.4067316870052047,-1.3771640264254335,-0.19942696897176368,-0.15855564238197456,-0.6195055048827985,-0.11357576957908219,0.762226636066429,-0.5560572960170069,-0.2831570410844243,0.03686651702927574,0.550228276557458,1.1093582786798153,-0.4116534375500685,-0.7353145739124238,0.12746659276236366,-1.3914004604280439,-0.10830206285061847,0.1089538131823353,0.8385153953744361,-1.3280442110307293,1.0125883352015803,1.273570688784164,1.5362587527148055,-0.07291969693687377,3.1925578201466878,0.02050368485602568,0.1542879553463402,-1.0689762254507267,1.0140375806711606,-1.141263783875912,0.3490590747945215,1.7461542835926538,-1.3046148417225543,1.1011510285713664,0.5200426390232119,0.10880005540290409,-1.9100408660770647,-0.825822826334509,0.3579088274342831,0.9805293504243617,-0.16384693105285172,0.4525051049713349,2.412964227979803,-0.6019846369968321,-0.2815355576859629,0.41504243073746483,0.34769326512080734,2.606242688556105,0.0833863001643187,-0.03540114722413351,2.4230565675159665,3.275317745333843,0.3236927195648926,1.4626104431095017,-1.3787358059243244,-1.4418206254281438,2.892215861778502,-1.46685628106889,-0.11588869361288445,-1.4029942341101131,-1.3191701202222945,0.2916084268645792,1.1081487883525525,-0.30758359205218727,0.41156496073146764,-0.0717750661812468,-0.8431676253794504,1.500456993373501,0.5047311384649258,-1.8756479931356151,0.24001740398098126,2.4655801542660516,-1.5838185552226631,0.9493334423029699,1.138673343934196,2.573193784580847,0.7740811518959942,1.666929273413105,-0.5653021768407116,-0.6328972347963752,1.3577867925319875,0.08716825328195109,0.20495477978036603,-0.5978429567588355,1.8767217030071563,-1.4362112589038885,-0.02900854634421746,0.5764582847298859,-0.07392965156713818,-1.2669090765061497,0.5390658035528223,0.9160295308001835,-1.289999759126759,-0.8431903068502251,-1.0339990629380518,-5.43069233861918,0.884092436737529,0.2128288252210715,0.17434702222121523,1.4631452813344858,-0.5192562267852964,-3.0408673053380415,0.2922059039161936,-0.0983901499217648,0.2966838416785012,-0.5770465845602276,-0.6593337260121529,0.05120168857977022,0.7329541125658323,-0.16408386084787582,-4.098759124052126,0.5374049896287354,-0.3741886302673839,-1.0551838367911643,-0.4296283921831541,-1.2124743749158724,0.35461669639814947,-0.3264447123098005,0.9924675344497016,0.11844440161095125,0.19225580598780376,-2.491216946810013,-0.8186603987013403,0.08749644389739471,0.9224510957280283,1.3424366196974806,-0.2640621556724749,-0.38801386102743335,0.3694304009503205,0.18024985215419603,0.33516704371599787,-1.7455017722901975,-2.5869870559639487,0.29932088673966956,-0.6685671911615847,2.027843080218909,0.32807575003552714,0.7765618955057544,1.3551694240993308,0.6181315573007095,2.060509024287053,0.2842336534753344,-0.8740298819057998,-0.5398659541312046,0.6029480803755591,-1.3754196101895622],\"y\":[-1.0865267385912547,0.3583136821106833,-0.5973647575070818,0.23825359066866303,0.005397303829942529,-0.6554135604257982,-0.17196214741778448,1.0701120363267953,0.3025500613660391,0.25418612604939306,-0.34399715058433067,-0.38534060580127,0.011788368418451479,0.288657973118184,0.29986035577959463,1.9519846649963248,0.17845922935271177,0.3130388599652357,0.8842753846495359,0.2870262599568419,-0.2442483894070735,-0.061156342039445206,0.3222960179052649,1.0316408091602325,-0.01459680806410693,0.17116126695869488,0.18456993507678335,0.47844538800439634,0.17296549041121753,-0.5429452478219948,0.39626103890928416,1.0604478862540432,-0.3014904094148235,0.26625123597938244,-0.04167472098937379,-1.1816438877469977,0.11551257985762577,-0.2528708067225191,-0.02671023962546854,0.923610119161573,0.47585034303083756,-0.12272719716710184,-0.1761429699649297,0.5779396899316435,0.07879004946485225,0.33593976065933856,-0.32377277317313163,0.5171413846318063,-0.3124063269212748,-0.7072421400040341,-0.5969276218440682,1.3364808737762797,-0.11851992121974601,0.28442433008557233,-0.275095886941691,0.6940290628215561,0.7215336859387784,0.014497909438062364,0.685356184762865,0.3331589302947588,0.08587928906351776,0.1451488484506751,-0.2370040354197353,0.4187044278937107,1.1536892859816223,0.6449612359450505,-0.4827126186407198,0.04478334310750204,-0.35396852404510826,-0.7868287779008571,1.26863997794862,0.19412193979232092,0.019499546255296034,-0.5666485901559513,-0.2759687071169372,0.6728702991303102,-0.9153321631492607,0.7409049673778663,0.5503052177101391,-0.009483130248197497,0.48738132250232585,-0.39515414914519215,0.08983994305501526,0.09420574018563302,-0.057716122734682594,-0.7684033910628598,0.4185973288936216,1.8612718739965362,-0.6290922882995708,-0.3657519307494567,0.44846163692612073,0.9146663678439072,0.2227609427699753,1.3999129827845491,-0.7048491765751137,-0.5746105604639236,-0.5263095063461692,-0.12933893811332056,-0.3284695695354676,1.9383728104571554,-0.07650508462557225,-0.8884623877861089,1.138561483547948,2.9027557027241513,0.6123922217548334,-0.026086045444880714,0.3597715201810238,0.11845734930663923,0.3032347440901183,-0.7972381735899693,-1.6514071547551559,-0.2762016201366192,-1.0992644200809287,1.1443464698230867,-0.6967369598243027,-1.311444495679392,-0.307875639493014,-1.489023756555143,1.2242407182548223,-0.021126005398685456,0.16414544689351235,0.2859025811759861,0.1786505515820447,0.3006468877914316,-1.7104268409927748,0.3531223172898432,-1.1901106842381353,-0.07764272048314172,1.4833530019747672,-0.7439147119539933,-0.6186240748272933,0.3451924686689588,0.0967541159165549,1.23860699095095,0.7811301060701876,-0.3193345719070137,0.4092292886714438,2.0845792009645776,-0.570214853926157,-0.4127572051024757,0.49014844181405354,-1.225714802741822,-0.5711101628835225,-0.5319088323017745,-0.5479045797947883,-0.041960086598405,-0.6228190925561363,-0.9003119781375475,-0.5336149691096149,0.0033202700571298305,-0.3663053765932222,-0.10488071129493566,-0.7369220731455877,-0.020328206193495044,0.21247990606492614,-0.8892536003844433,-1.3503932121575934,1.5978398979792432,-0.7400112095433526,-1.7808323509523303,-0.46213289716124406,0.5683508404074866,1.7060604823794625,0.667489842548903,-0.49280961561194436,-0.9669580368815935,1.0718479017165516,0.38269249270774275,-1.5440306429608472,2.509297806576867,0.885682844987439,-0.5397244371404462,0.3412679707711696,-0.8363089359622089,1.9222137492662237,-0.6574430251901657,-0.46075932056249896,0.10754256209130054,-0.07874129470859592,-1.3798894775437702,-0.22854005838796135,0.6894425437792376,0.40399914728504843,-0.8958226617220135,0.10502415460732836,-0.8071556059444738,-1.6518420358882002,-0.4689832870187267,0.1618699675732623,1.4593979456411212,-1.6803859899887221,-0.9136327121140919,-1.4596750601640385,-0.41922289097436954,-1.93772243249595,0.8628465782386833,1.678489659570927,-0.4886657000824715,1.2837830112353708,-0.5852833140231869,-0.8434214612892209,1.741491071141451,-0.8253959159964352,0.06257394337997912,0.47263788845966936,0.23101451208959461,0.34781561405131817,1.1591963663097737,0.25171074206561694,-0.45242085221418715,0.07392780042973444,0.778710776821852,-0.389406870761091,-0.30342732549648715,0.31120528182277846,-0.5922564008213933,-0.8721786872804927,-1.504145528422672,-1.44072963329819,0.3024565269216468,2.1047005463229422,-0.19810240354382946,0.6427644098621712,0.678073144034626,-0.12542017919218654,-0.13640713309188598,-0.6148215983801733,0.26852051885077566,-0.6567147567685481,0.19071831783436308,0.6862473054391408,-1.1125554985631636,1.149566280336093,0.8588862081068055,1.9874912720289128,0.638445313020929,0.6011288697239964,1.7414446773098977,-0.20225867885966178,0.16301232043434805,1.1840287442620212,-0.3298987996983666,-1.5779001395912642,-0.7834838509385051,0.2767073633514565,-0.18916845161058618,0.2393876311849618,-0.9455673706923772,-0.34237648936248755,-0.4014789717448427,-0.5707798540473199,-0.08124352806459996,-1.2578637094322322,-1.3000663998565747,0.45262560837993887,0.8220880090758576,-0.5397588812451067,-1.1611089148382312,-0.5985466590999747,0.46829396117285477,0.2923635211433441,-0.5519315514985297,0.8388802195052438,0.6351916511769595,0.15144447096917363,-1.7901651120420679,0.17898255266195282,-0.921569998353046,-0.9795546867767216,-0.8946358494575113,0.7786753947446465,0.05450790601178332,0.1709106274970577,-0.3183567636263978,-0.9643479744630601,-1.298163368117077,-0.5959468577353292,0.7839653870655094,-1.018251105294264,-0.24617170219760034,1.6747545426951236,-1.7864308616660496,0.9106581700133826,0.7335511594036133,0.0018153803551241932,-0.6135837192782146,-1.4060129172702946,0.6653504780978605,-0.8584507513864615,-0.733109889402951,0.15491082142547583],\"type\":\"scatter\"},{\"marker\":{\"color\":\"palegreen\",\"line\":{\"color\":\"seagreen\",\"width\":1}},\"mode\":\"markers\",\"name\":\"cluster 3\",\"x\":[-4.523770022548922,-5.6548904142592695,-1.6683337050950051,-2.4868991119867543,-2.443147666147871,-0.26049309437660334,-1.7701261251643745,-1.0604949791453937,-1.9586732179165387,-1.5037069217399,-2.6404536134085848,-3.18189025663484,-3.044796371771817,-3.5586569065716307,-1.994350303047349,-2.16339082557774,-3.4938093044273564,-1.8000031259101006,-1.376975245698693,-2.2080022449497183,-4.840722690494758,-3.1345008984263902,-3.9269957688980393,-4.781842551266548,-1.7654851436988535,1.6381624690249401,1.8094696760616897,-0.3988931295458667,0.37560598680783147,-0.9332537083141461,-1.0154453778165633,0.446811738015595,0.6438310270578061,-0.8989327835547176,0.6725571417974016,0.8504048286521186,-1.5294692463982962,-0.26819888264846276,-0.740982001729368,0.13031018745511838,-0.8492620469079155,-0.9224345987861852,1.098886858618628,0.443101414113048,-1.725489646661788,1.144099921737616,0.2588362993889031,-3.093450101033594,0.6036614210909674,-0.8057713944421312,-1.4898050537469334,0.32391359435689254,0.17419005435162746,0.24203210180060114,-1.237842715838128,0.8660396576983223,0.2319510387174966,-0.1471221637067449,-1.8977987009388142,-6.0310967538845945,-0.9214000790512028,1.02681836717127,-0.914024387355499,0.8892029885949418,-0.03565831380614066,0.060616147923329956,0.020270926524043442,-0.7605945855481064,-0.16619623304180786,0.038061855065521705,0.5966179512642096,-0.1826811776689335],\"y\":[0.7093254354302997,0.8529533610795081,0.7499330715515045,0.8886938924020932,0.8068314177164522,3.2925360225822637,0.3762959317077708,-0.07808114596689612,0.2963382351874107,2.9826415579101533,2.2262237574056125,1.077468713464962,-1.239336235866538,0.8808829129323967,1.5359560502986112,1.3277031000586927,3.610706612366936,0.6437654124149009,0.043246223515843445,-0.30175748480730363,-0.40964263584385463,-0.476910248847124,1.0730113660190486,3.910718609393766,0.6815278237449044,-0.9986891844436523,-0.49103116902748634,-0.7086288844731607,-0.37375415778827975,0.23911854065294,0.20859216821891363,-0.8595494199163709,0.380856808265847,0.22249193234285766,-1.2612842305746834,-0.47771259028167257,-0.0722799355321632,-1.221242630634608,1.0296166494382073,-0.07455277215449865,0.41800410441539587,0.39605574265772964,-1.4647913788638087,-1.7343675094722273,0.09113261621560072,0.30965049687747015,-0.8423048934747118,-0.7134165236269816,-1.699592534837513,-0.31297890379587806,0.43576477375768535,-1.2932404159262676,0.5807154678032145,0.20668772319520926,-0.563909262352807,-0.07802869034967197,-0.5534257375125681,-0.30909124920408837,0.2609852011045175,-0.27738550133553286,1.3462866477616742,0.08443174499514401,-0.8310362258955669,-0.18067634007228595,-1.1218926273693615,-0.23211350087872257,0.9980444907014934,-0.6334650335163482,-0.7257551092271161,0.33783623964470055,0.9952538932777668,0.16424353328298927],\"type\":\"scatter\"},{\"marker\":{\"color\":\"orchid\",\"line\":{\"color\":\"mediumpurple\",\"width\":1}},\"mode\":\"markers\",\"name\":\"cluster 3\",\"x\":[1.597247997322517,2.648252246325666,3.7566645571528654,2.5681706551326493,2.445092880596792,1.1390479864818817,3.5067718209179484,0.8459238341413295,1.7872034814727955,2.0612072037768323,5.326512499387807,1.377022566764649,4.255594347686356,4.217405960481778,5.954399653950791,2.8715093701235803,2.2811042567453783,2.471007901628607,2.801465092555324,2.8573412377595586,-2.7720634419063357,1.082357417916359,0.27599318368896014,-1.22472967452012,0.5713386777481103,2.797121245863212,0.2765659096791238,-0.8847903929394284,-2.3540026311659323,0.29680879018595546,-1.738622340027748,-0.6659520362912172,2.427918360083228,-0.18362754227506337,-3.830613685104851,-0.72925140711659,0.9750537207532316,0.6911189286898337,-1.2753922942252096,-0.28216758265471287,7.601479699342625,-4.406585361647995,-0.8564099350625304,-1.0144346136867626,-0.6962900672247476,0.4807030074384687,0.5794618475179173,0.6034978955765234,0.3971550306553026,0.8314391556718816,-0.7053420462474024,0.31054147516036296,-0.2271402577372186,-0.10399196063606156,0.6122720644667032,2.4595163414841887,0.511852694281234,0.6243853865143015,-0.6477542284856586,-0.3197872492649079,-0.3497257990154115,-1.1343984923881025,-0.7763530565042727,1.0485963573142556,-0.16577367520027586,-0.39052489395125844,-0.7538255671020918],\"y\":[0.613792217450997,0.952593483199359,0.8749451886116629,-0.6944258472898939,1.869034295508204,0.010772546704949251,-1.106209188431473,1.425682119483671,1.0035829595980597,1.8057000806462373,1.7752817960746152,0.9116194466896722,-0.915177264446725,0.516762604027214,1.6660942408349195,-0.3328659014614548,-0.36471057926369954,0.15128903267831126,-0.02350104307505056,0.6043621843837766,0.6398738047024255,-1.2083794056327875,-0.2608719943800988,0.7432316525958985,-1.863271131907686,3.011604626786694,-1.5847000954021504,-0.2532717695695956,0.8256063200556711,0.584021552985658,-0.4028465756069339,0.021163178827907914,1.7631006988702638,0.5239063164507082,1.5773492088854029,-0.10133442401122564,0.7388833718445805,1.960577828936453,0.0964395069281523,-0.747565931621632,9.40349424373469,3.320105282643542,0.6009122017098552,-0.04972677727201495,0.40203497966345303,0.2514019264553929,0.44442803695536115,0.6291711227096172,-0.5211446485946238,-0.1622810161942052,-0.07600360392881753,0.31515418896031944,0.7689104984990163,-0.47835782923630776,-0.8622932424079223,-0.10487436229141389,-0.48143058839919683,-1.838302111461189,-0.8451767368735157,0.8614811975925666,-0.30780941821752705,-0.5796202266981997,0.4457610835683787,-1.5665805588417807,0.35129772912255436,-1.0320791092167614,0.5174729900469468],\"type\":\"scatter\"}],                        {\"template\":{\"data\":{\"histogram2dcontour\":[{\"type\":\"histogram2dcontour\",\"colorbar\":{\"outlinewidth\":0,\"ticks\":\"\"},\"colorscale\":[[0.0,\"#0d0887\"],[0.1111111111111111,\"#46039f\"],[0.2222222222222222,\"#7201a8\"],[0.3333333333333333,\"#9c179e\"],[0.4444444444444444,\"#bd3786\"],[0.5555555555555556,\"#d8576b\"],[0.6666666666666666,\"#ed7953\"],[0.7777777777777778,\"#fb9f3a\"],[0.8888888888888888,\"#fdca26\"],[1.0,\"#f0f921\"]]}],\"choropleth\":[{\"type\":\"choropleth\",\"colorbar\":{\"outlinewidth\":0,\"ticks\":\"\"}}],\"histogram2d\":[{\"type\":\"histogram2d\",\"colorbar\":{\"outlinewidth\":0,\"ticks\":\"\"},\"colorscale\":[[0.0,\"#0d0887\"],[0.1111111111111111,\"#46039f\"],[0.2222222222222222,\"#7201a8\"],[0.3333333333333333,\"#9c179e\"],[0.4444444444444444,\"#bd3786\"],[0.5555555555555556,\"#d8576b\"],[0.6666666666666666,\"#ed7953\"],[0.7777777777777778,\"#fb9f3a\"],[0.8888888888888888,\"#fdca26\"],[1.0,\"#f0f921\"]]}],\"heatmap\":[{\"type\":\"heatmap\",\"colorbar\":{\"outlinewidth\":0,\"ticks\":\"\"},\"colorscale\":[[0.0,\"#0d0887\"],[0.1111111111111111,\"#46039f\"],[0.2222222222222222,\"#7201a8\"],[0.3333333333333333,\"#9c179e\"],[0.4444444444444444,\"#bd3786\"],[0.5555555555555556,\"#d8576b\"],[0.6666666666666666,\"#ed7953\"],[0.7777777777777778,\"#fb9f3a\"],[0.8888888888888888,\"#fdca26\"],[1.0,\"#f0f921\"]]}],\"heatmapgl\":[{\"type\":\"heatmapgl\",\"colorbar\":{\"outlinewidth\":0,\"ticks\":\"\"},\"colorscale\":[[0.0,\"#0d0887\"],[0.1111111111111111,\"#46039f\"],[0.2222222222222222,\"#7201a8\"],[0.3333333333333333,\"#9c179e\"],[0.4444444444444444,\"#bd3786\"],[0.5555555555555556,\"#d8576b\"],[0.6666666666666666,\"#ed7953\"],[0.7777777777777778,\"#fb9f3a\"],[0.8888888888888888,\"#fdca26\"],[1.0,\"#f0f921\"]]}],\"contourcarpet\":[{\"type\":\"contourcarpet\",\"colorbar\":{\"outlinewidth\":0,\"ticks\":\"\"}}],\"contour\":[{\"type\":\"contour\",\"colorbar\":{\"outlinewidth\":0,\"ticks\":\"\"},\"colorscale\":[[0.0,\"#0d0887\"],[0.1111111111111111,\"#46039f\"],[0.2222222222222222,\"#7201a8\"],[0.3333333333333333,\"#9c179e\"],[0.4444444444444444,\"#bd3786\"],[0.5555555555555556,\"#d8576b\"],[0.6666666666666666,\"#ed7953\"],[0.7777777777777778,\"#fb9f3a\"],[0.8888888888888888,\"#fdca26\"],[1.0,\"#f0f921\"]]}],\"surface\":[{\"type\":\"surface\",\"colorbar\":{\"outlinewidth\":0,\"ticks\":\"\"},\"colorscale\":[[0.0,\"#0d0887\"],[0.1111111111111111,\"#46039f\"],[0.2222222222222222,\"#7201a8\"],[0.3333333333333333,\"#9c179e\"],[0.4444444444444444,\"#bd3786\"],[0.5555555555555556,\"#d8576b\"],[0.6666666666666666,\"#ed7953\"],[0.7777777777777778,\"#fb9f3a\"],[0.8888888888888888,\"#fdca26\"],[1.0,\"#f0f921\"]]}],\"mesh3d\":[{\"type\":\"mesh3d\",\"colorbar\":{\"outlinewidth\":0,\"ticks\":\"\"}}],\"scatter\":[{\"fillpattern\":{\"fillmode\":\"overlay\",\"size\":10,\"solidity\":0.2},\"type\":\"scatter\"}],\"parcoords\":[{\"type\":\"parcoords\",\"line\":{\"colorbar\":{\"outlinewidth\":0,\"ticks\":\"\"}}}],\"scatterpolargl\":[{\"type\":\"scatterpolargl\",\"marker\":{\"colorbar\":{\"outlinewidth\":0,\"ticks\":\"\"}}}],\"bar\":[{\"error_x\":{\"color\":\"#2a3f5f\"},\"error_y\":{\"color\":\"#2a3f5f\"},\"marker\":{\"line\":{\"color\":\"#E5ECF6\",\"width\":0.5},\"pattern\":{\"fillmode\":\"overlay\",\"size\":10,\"solidity\":0.2}},\"type\":\"bar\"}],\"scattergeo\":[{\"type\":\"scattergeo\",\"marker\":{\"colorbar\":{\"outlinewidth\":0,\"ticks\":\"\"}}}],\"scatterpolar\":[{\"type\":\"scatterpolar\",\"marker\":{\"colorbar\":{\"outlinewidth\":0,\"ticks\":\"\"}}}],\"histogram\":[{\"marker\":{\"pattern\":{\"fillmode\":\"overlay\",\"size\":10,\"solidity\":0.2}},\"type\":\"histogram\"}],\"scattergl\":[{\"type\":\"scattergl\",\"marker\":{\"colorbar\":{\"outlinewidth\":0,\"ticks\":\"\"}}}],\"scatter3d\":[{\"type\":\"scatter3d\",\"line\":{\"colorbar\":{\"outlinewidth\":0,\"ticks\":\"\"}},\"marker\":{\"colorbar\":{\"outlinewidth\":0,\"ticks\":\"\"}}}],\"scattermapbox\":[{\"type\":\"scattermapbox\",\"marker\":{\"colorbar\":{\"outlinewidth\":0,\"ticks\":\"\"}}}],\"scatterternary\":[{\"type\":\"scatterternary\",\"marker\":{\"colorbar\":{\"outlinewidth\":0,\"ticks\":\"\"}}}],\"scattercarpet\":[{\"type\":\"scattercarpet\",\"marker\":{\"colorbar\":{\"outlinewidth\":0,\"ticks\":\"\"}}}],\"carpet\":[{\"aaxis\":{\"endlinecolor\":\"#2a3f5f\",\"gridcolor\":\"white\",\"linecolor\":\"white\",\"minorgridcolor\":\"white\",\"startlinecolor\":\"#2a3f5f\"},\"baxis\":{\"endlinecolor\":\"#2a3f5f\",\"gridcolor\":\"white\",\"linecolor\":\"white\",\"minorgridcolor\":\"white\",\"startlinecolor\":\"#2a3f5f\"},\"type\":\"carpet\"}],\"table\":[{\"cells\":{\"fill\":{\"color\":\"#EBF0F8\"},\"line\":{\"color\":\"white\"}},\"header\":{\"fill\":{\"color\":\"#C8D4E3\"},\"line\":{\"color\":\"white\"}},\"type\":\"table\"}],\"barpolar\":[{\"marker\":{\"line\":{\"color\":\"#E5ECF6\",\"width\":0.5},\"pattern\":{\"fillmode\":\"overlay\",\"size\":10,\"solidity\":0.2}},\"type\":\"barpolar\"}],\"pie\":[{\"automargin\":true,\"type\":\"pie\"}]},\"layout\":{\"autotypenumbers\":\"strict\",\"colorway\":[\"#636efa\",\"#EF553B\",\"#00cc96\",\"#ab63fa\",\"#FFA15A\",\"#19d3f3\",\"#FF6692\",\"#B6E880\",\"#FF97FF\",\"#FECB52\"],\"font\":{\"color\":\"#2a3f5f\"},\"hovermode\":\"closest\",\"hoverlabel\":{\"align\":\"left\"},\"paper_bgcolor\":\"white\",\"plot_bgcolor\":\"#E5ECF6\",\"polar\":{\"bgcolor\":\"#E5ECF6\",\"angularaxis\":{\"gridcolor\":\"white\",\"linecolor\":\"white\",\"ticks\":\"\"},\"radialaxis\":{\"gridcolor\":\"white\",\"linecolor\":\"white\",\"ticks\":\"\"}},\"ternary\":{\"bgcolor\":\"#E5ECF6\",\"aaxis\":{\"gridcolor\":\"white\",\"linecolor\":\"white\",\"ticks\":\"\"},\"baxis\":{\"gridcolor\":\"white\",\"linecolor\":\"white\",\"ticks\":\"\"},\"caxis\":{\"gridcolor\":\"white\",\"linecolor\":\"white\",\"ticks\":\"\"}},\"coloraxis\":{\"colorbar\":{\"outlinewidth\":0,\"ticks\":\"\"}},\"colorscale\":{\"sequential\":[[0.0,\"#0d0887\"],[0.1111111111111111,\"#46039f\"],[0.2222222222222222,\"#7201a8\"],[0.3333333333333333,\"#9c179e\"],[0.4444444444444444,\"#bd3786\"],[0.5555555555555556,\"#d8576b\"],[0.6666666666666666,\"#ed7953\"],[0.7777777777777778,\"#fb9f3a\"],[0.8888888888888888,\"#fdca26\"],[1.0,\"#f0f921\"]],\"sequentialminus\":[[0.0,\"#0d0887\"],[0.1111111111111111,\"#46039f\"],[0.2222222222222222,\"#7201a8\"],[0.3333333333333333,\"#9c179e\"],[0.4444444444444444,\"#bd3786\"],[0.5555555555555556,\"#d8576b\"],[0.6666666666666666,\"#ed7953\"],[0.7777777777777778,\"#fb9f3a\"],[0.8888888888888888,\"#fdca26\"],[1.0,\"#f0f921\"]],\"diverging\":[[0,\"#8e0152\"],[0.1,\"#c51b7d\"],[0.2,\"#de77ae\"],[0.3,\"#f1b6da\"],[0.4,\"#fde0ef\"],[0.5,\"#f7f7f7\"],[0.6,\"#e6f5d0\"],[0.7,\"#b8e186\"],[0.8,\"#7fbc41\"],[0.9,\"#4d9221\"],[1,\"#276419\"]]},\"xaxis\":{\"gridcolor\":\"white\",\"linecolor\":\"white\",\"ticks\":\"\",\"title\":{\"standoff\":15},\"zerolinecolor\":\"white\",\"automargin\":true,\"zerolinewidth\":2},\"yaxis\":{\"gridcolor\":\"white\",\"linecolor\":\"white\",\"ticks\":\"\",\"title\":{\"standoff\":15},\"zerolinecolor\":\"white\",\"automargin\":true,\"zerolinewidth\":2},\"scene\":{\"xaxis\":{\"backgroundcolor\":\"#E5ECF6\",\"gridcolor\":\"white\",\"linecolor\":\"white\",\"showbackground\":true,\"ticks\":\"\",\"zerolinecolor\":\"white\",\"gridwidth\":2},\"yaxis\":{\"backgroundcolor\":\"#E5ECF6\",\"gridcolor\":\"white\",\"linecolor\":\"white\",\"showbackground\":true,\"ticks\":\"\",\"zerolinecolor\":\"white\",\"gridwidth\":2},\"zaxis\":{\"backgroundcolor\":\"#E5ECF6\",\"gridcolor\":\"white\",\"linecolor\":\"white\",\"showbackground\":true,\"ticks\":\"\",\"zerolinecolor\":\"white\",\"gridwidth\":2}},\"shapedefaults\":{\"line\":{\"color\":\"#2a3f5f\"}},\"annotationdefaults\":{\"arrowcolor\":\"#2a3f5f\",\"arrowhead\":0,\"arrowwidth\":1},\"geo\":{\"bgcolor\":\"white\",\"landcolor\":\"#E5ECF6\",\"subunitcolor\":\"white\",\"showland\":true,\"showlakes\":true,\"lakecolor\":\"white\"},\"title\":{\"x\":0.05},\"mapbox\":{\"style\":\"light\"}}},\"title\":{\"text\":\"Banking Behaviour Clusters\"}},                        {\"responsive\": true}                    ).then(function(){\n",
       "                            \n",
       "var gd = document.getElementById('e2243792-9437-4b20-93c3-f7fb006d794b');\n",
       "var x = new MutationObserver(function (mutations, observer) {{\n",
       "        var display = window.getComputedStyle(gd).display;\n",
       "        if (!display || display === 'none') {{\n",
       "            console.log([gd, 'removed!']);\n",
       "            Plotly.purge(gd);\n",
       "            observer.disconnect();\n",
       "        }}\n",
       "}});\n",
       "\n",
       "// Listen for the removal of the full notebook cells\n",
       "var notebookContainer = gd.closest('#notebook-container');\n",
       "if (notebookContainer) {{\n",
       "    x.observe(notebookContainer, {childList: true});\n",
       "}}\n",
       "\n",
       "// Listen for the clearing of the current output cell\n",
       "var outputEl = gd.closest('.output');\n",
       "if (outputEl) {{\n",
       "    x.observe(outputEl, {childList: true});\n",
       "}}\n",
       "\n",
       "                        })                };                });            </script>        </div>"
      ]
     },
     "metadata": {},
     "output_type": "display_data"
    }
   ],
   "source": [
    "fig = go.Figure()\n",
    "# cluster 0\n",
    "fig.add_trace(go.Scatter(\n",
    "        x=x0['pc1'],\n",
    "        y=x0['pc2'],\n",
    "        name='cluster 0',\n",
    "        mode='markers',\n",
    "        marker=dict(\n",
    "                color='deepskyblue',\n",
    "                line=dict(\n",
    "                color='dodgerblue',\n",
    "                width=1))\n",
    "        ))\n",
    "# cluster 1\n",
    "fig.add_trace(go.Scatter(\n",
    "        x=x1['pc1'],\n",
    "        y=x1['pc2'],\n",
    "        name='cluster 1',\n",
    "        mode='markers',\n",
    "        marker=dict(\n",
    "                color='coral',\n",
    "                line=dict(\n",
    "                color='lightcoral',\n",
    "                width=1))\n",
    "        ))\n",
    "# cluster 2\n",
    "fig.add_trace(go.Scatter(\n",
    "        x=x2['pc1'],\n",
    "        y=x2['pc2'],\n",
    "        name='cluster 2',\n",
    "        mode='markers',\n",
    "        marker=dict(\n",
    "                color='gold',\n",
    "                line=dict(\n",
    "                color='goldenrod',\n",
    "                width=1))\n",
    "        ))\n",
    "# cluster 3\n",
    "fig.add_trace(go.Scatter(\n",
    "        x=x3['pc1'],\n",
    "        y=x3['pc2'],\n",
    "        name='cluster 3',\n",
    "        mode='markers',\n",
    "        marker=dict(\n",
    "                color='palegreen',\n",
    "                line=dict(\n",
    "                color='seagreen',\n",
    "                width=1))\n",
    "        ))\n",
    "\n",
    "# cluster 4\n",
    "fig.add_trace(go.Scatter(\n",
    "        x=x4['pc1'],\n",
    "        y=x4['pc2'],\n",
    "        name='cluster 3',\n",
    "        mode='markers',\n",
    "        marker=dict(\n",
    "                color='orchid',\n",
    "                line=dict(\n",
    "                color='mediumpurple',\n",
    "                width=1))\n",
    "        ))\n",
    "\n",
    "fig.update_layout(title='Banking Behaviour Clusters')\n",
    "fig.show()"
   ]
  },
  {
   "cell_type": "markdown",
   "id": "fd87a196",
   "metadata": {},
   "source": [
    "## weird code ends"
   ]
  },
  {
   "cell_type": "code",
   "execution_count": 18,
   "id": "721c91ae",
   "metadata": {},
   "outputs": [],
   "source": [
    "km = KMeans(n_clusters=5, init='k-means++')\n",
    "\n",
    "y_km = km.fit_predict(bhv_pca)"
   ]
  },
  {
   "cell_type": "code",
   "execution_count": 19,
   "id": "57d0c7bb",
   "metadata": {},
   "outputs": [],
   "source": [
    "#create plotting function (take it from compass)\n",
    "def plot_clusters(X,y_res, plt_cluster_centers = False):\n",
    "    X_centroids = []\n",
    "    Y_centroids = []\n",
    "\n",
    "    for cluster in set(y_res):\n",
    "        x = X[y_res == cluster,0]\n",
    "        y = X[y_res == cluster,1]\n",
    "        X_centroids.append(np.mean(x))\n",
    "        Y_centroids.append(np.mean(y))\n",
    "\n",
    "        plt.scatter(x,\n",
    "                    y,\n",
    "                    s=50,\n",
    "                    marker='s',\n",
    "                    label=f'cluster {cluster}')\n",
    "\n",
    "    if plt_cluster_centers:\n",
    "        plt.scatter(X_centroids,\n",
    "                    Y_centroids,\n",
    "                    marker='*',\n",
    "                    c='red',\n",
    "                    s=250,\n",
    "                    label='centroids')\n",
    "    plt.legend()\n",
    "    plt.grid()\n",
    "    plt.show()"
   ]
  },
  {
   "cell_type": "code",
   "execution_count": 20,
   "id": "061bd3be",
   "metadata": {},
   "outputs": [
    {
     "data": {
      "image/png": "[encoded data removed]",
      "text/plain": [
       "<Figure size 1200x800 with 1 Axes>"
      ]
     },
     "metadata": {},
     "output_type": "display_data"
    }
   ],
   "source": [
    "plot_clusters(np.array(bhv_pca), y_km)"
   ]
  },
  {
   "cell_type": "code",
   "execution_count": 21,
   "id": "1a577dab",
   "metadata": {},
   "outputs": [],
   "source": [
    "bhv_df['cluster'] = y_km"
   ]
  },
  {
   "cell_type": "code",
   "execution_count": 22,
   "id": "ae20da82",
   "metadata": {},
   "outputs": [],
   "source": [
    "bhv_df_c0 = bhv_df[bhv_df['cluster']==0].drop('cluster', axis=1)\n",
    "bhv_df_c1 = bhv_df[bhv_df['cluster']==1].drop('cluster', axis=1)\n",
    "bhv_df_c2 = bhv_df[bhv_df['cluster']==2].drop('cluster', axis=1)\n",
    "bhv_df_c3 = bhv_df[bhv_df['cluster']==3].drop('cluster', axis=1)\n",
    "bhv_df_c4 = bhv_df[bhv_df['cluster']==4].drop('cluster', axis=1)"
   ]
  },
  {
   "cell_type": "code",
   "execution_count": 23,
   "id": "187a38db",
   "metadata": {},
   "outputs": [
    {
     "data": {
      "text/html": [
       "<div>\n",
       "<style scoped>\n",
       "    .dataframe tbody tr th:only-of-type {\n",
       "        vertical-align: middle;\n",
       "    }\n",
       "\n",
       "    .dataframe tbody tr th {\n",
       "        vertical-align: top;\n",
       "    }\n",
       "\n",
       "    .dataframe thead th {\n",
       "        text-align: right;\n",
       "    }\n",
       "</style>\n",
       "<table border=\"1\" class=\"dataframe\">\n",
       "  <thead>\n",
       "    <tr style=\"text-align: right;\">\n",
       "      <th></th>\n",
       "      <th>income</th>\n",
       "      <th>total_saved</th>\n",
       "      <th>total_debt</th>\n",
       "      <th>avg_trans_amt</th>\n",
       "      <th>total_trans_amt</th>\n",
       "      <th>total_no_transactions</th>\n",
       "      <th>savings_acct_active</th>\n",
       "      <th>credit_acct_active</th>\n",
       "    </tr>\n",
       "  </thead>\n",
       "  <tbody>\n",
       "    <tr>\n",
       "      <th>count</th>\n",
       "      <td>224.000000</td>\n",
       "      <td>224.000000</td>\n",
       "      <td>224.000000</td>\n",
       "      <td>224.000000</td>\n",
       "      <td>224.000000</td>\n",
       "      <td>224.000000</td>\n",
       "      <td>224.000000</td>\n",
       "      <td>224.000000</td>\n",
       "    </tr>\n",
       "    <tr>\n",
       "      <th>mean</th>\n",
       "      <td>12877.250000</td>\n",
       "      <td>195.666786</td>\n",
       "      <td>7.564464</td>\n",
       "      <td>1.675245</td>\n",
       "      <td>56.913482</td>\n",
       "      <td>62.808036</td>\n",
       "      <td>0.575893</td>\n",
       "      <td>0.433036</td>\n",
       "    </tr>\n",
       "    <tr>\n",
       "      <th>std</th>\n",
       "      <td>11727.373448</td>\n",
       "      <td>472.847959</td>\n",
       "      <td>535.427706</td>\n",
       "      <td>18.719743</td>\n",
       "      <td>825.930062</td>\n",
       "      <td>32.874046</td>\n",
       "      <td>0.495314</td>\n",
       "      <td>0.496605</td>\n",
       "    </tr>\n",
       "    <tr>\n",
       "      <th>min</th>\n",
       "      <td>0.000000</td>\n",
       "      <td>-926.630000</td>\n",
       "      <td>-2256.030000</td>\n",
       "      <td>-82.692500</td>\n",
       "      <td>-2046.660000</td>\n",
       "      <td>4.000000</td>\n",
       "      <td>0.000000</td>\n",
       "      <td>0.000000</td>\n",
       "    </tr>\n",
       "    <tr>\n",
       "      <th>25%</th>\n",
       "      <td>2410.000000</td>\n",
       "      <td>0.000000</td>\n",
       "      <td>0.000000</td>\n",
       "      <td>-7.332279</td>\n",
       "      <td>-299.915000</td>\n",
       "      <td>33.750000</td>\n",
       "      <td>0.000000</td>\n",
       "      <td>0.000000</td>\n",
       "    </tr>\n",
       "    <tr>\n",
       "      <th>50%</th>\n",
       "      <td>10961.500000</td>\n",
       "      <td>0.310000</td>\n",
       "      <td>0.000000</td>\n",
       "      <td>-0.115152</td>\n",
       "      <td>-10.880000</td>\n",
       "      <td>60.500000</td>\n",
       "      <td>1.000000</td>\n",
       "      <td>0.000000</td>\n",
       "    </tr>\n",
       "    <tr>\n",
       "      <th>75%</th>\n",
       "      <td>19696.750000</td>\n",
       "      <td>136.957500</td>\n",
       "      <td>0.000000</td>\n",
       "      <td>8.949688</td>\n",
       "      <td>486.435000</td>\n",
       "      <td>97.000000</td>\n",
       "      <td>1.000000</td>\n",
       "      <td>1.000000</td>\n",
       "    </tr>\n",
       "    <tr>\n",
       "      <th>max</th>\n",
       "      <td>56708.000000</td>\n",
       "      <td>2425.720000</td>\n",
       "      <td>2093.960000</td>\n",
       "      <td>93.296923</td>\n",
       "      <td>2425.720000</td>\n",
       "      <td>132.000000</td>\n",
       "      <td>1.000000</td>\n",
       "      <td>1.000000</td>\n",
       "    </tr>\n",
       "  </tbody>\n",
       "</table>\n",
       "</div>"
      ],
      "text/plain": [
       "             income  total_saved   total_debt  avg_trans_amt  total_trans_amt  \\\n",
       "count    224.000000   224.000000   224.000000     224.000000       224.000000   \n",
       "mean   12877.250000   195.666786     7.564464       1.675245        56.913482   \n",
       "std    11727.373448   472.847959   535.427706      18.719743       825.930062   \n",
       "min        0.000000  -926.630000 -2256.030000     -82.692500     -2046.660000   \n",
       "25%     2410.000000     0.000000     0.000000      -7.332279      -299.915000   \n",
       "50%    10961.500000     0.310000     0.000000      -0.115152       -10.880000   \n",
       "75%    19696.750000   136.957500     0.000000       8.949688       486.435000   \n",
       "max    56708.000000  2425.720000  2093.960000      93.296923      2425.720000   \n",
       "\n",
       "       total_no_transactions  savings_acct_active  credit_acct_active  \n",
       "count             224.000000           224.000000          224.000000  \n",
       "mean               62.808036             0.575893            0.433036  \n",
       "std                32.874046             0.495314            0.496605  \n",
       "min                 4.000000             0.000000            0.000000  \n",
       "25%                33.750000             0.000000            0.000000  \n",
       "50%                60.500000             1.000000            0.000000  \n",
       "75%                97.000000             1.000000            1.000000  \n",
       "max               132.000000             1.000000            1.000000  "
      ]
     },
     "execution_count": 23,
     "metadata": {},
     "output_type": "execute_result"
    }
   ],
   "source": [
    "bhv_df_c0.describe()"
   ]
  },
  {
   "cell_type": "code",
   "execution_count": 24,
   "id": "292a001e",
   "metadata": {},
   "outputs": [
    {
     "data": {
      "text/html": [
       "<div>\n",
       "<style scoped>\n",
       "    .dataframe tbody tr th:only-of-type {\n",
       "        vertical-align: middle;\n",
       "    }\n",
       "\n",
       "    .dataframe tbody tr th {\n",
       "        vertical-align: top;\n",
       "    }\n",
       "\n",
       "    .dataframe thead th {\n",
       "        text-align: right;\n",
       "    }\n",
       "</style>\n",
       "<table border=\"1\" class=\"dataframe\">\n",
       "  <thead>\n",
       "    <tr style=\"text-align: right;\">\n",
       "      <th></th>\n",
       "      <th>income</th>\n",
       "      <th>total_saved</th>\n",
       "      <th>total_debt</th>\n",
       "      <th>avg_trans_amt</th>\n",
       "      <th>total_trans_amt</th>\n",
       "      <th>total_no_transactions</th>\n",
       "      <th>savings_acct_active</th>\n",
       "      <th>credit_acct_active</th>\n",
       "    </tr>\n",
       "  </thead>\n",
       "  <tbody>\n",
       "    <tr>\n",
       "      <th>count</th>\n",
       "      <td>8.000000</td>\n",
       "      <td>8.000000</td>\n",
       "      <td>8.000000</td>\n",
       "      <td>8.000000</td>\n",
       "      <td>8.00000</td>\n",
       "      <td>8.000000</td>\n",
       "      <td>8.000000</td>\n",
       "      <td>8.000000</td>\n",
       "    </tr>\n",
       "    <tr>\n",
       "      <th>mean</th>\n",
       "      <td>69583.250000</td>\n",
       "      <td>5830.512500</td>\n",
       "      <td>-1899.587500</td>\n",
       "      <td>46.440468</td>\n",
       "      <td>4598.23000</td>\n",
       "      <td>137.375000</td>\n",
       "      <td>0.875000</td>\n",
       "      <td>0.125000</td>\n",
       "    </tr>\n",
       "    <tr>\n",
       "      <th>std</th>\n",
       "      <td>20941.526133</td>\n",
       "      <td>2504.473834</td>\n",
       "      <td>3633.634591</td>\n",
       "      <td>54.296155</td>\n",
       "      <td>2963.23149</td>\n",
       "      <td>53.138465</td>\n",
       "      <td>0.353553</td>\n",
       "      <td>0.353553</td>\n",
       "    </tr>\n",
       "    <tr>\n",
       "      <th>min</th>\n",
       "      <td>34797.000000</td>\n",
       "      <td>3671.030000</td>\n",
       "      <td>-9557.000000</td>\n",
       "      <td>-0.567194</td>\n",
       "      <td>-78.84000</td>\n",
       "      <td>40.000000</td>\n",
       "      <td>0.000000</td>\n",
       "      <td>0.000000</td>\n",
       "    </tr>\n",
       "    <tr>\n",
       "      <th>25%</th>\n",
       "      <td>59083.250000</td>\n",
       "      <td>4162.465000</td>\n",
       "      <td>-2671.072500</td>\n",
       "      <td>24.059108</td>\n",
       "      <td>3438.78750</td>\n",
       "      <td>116.500000</td>\n",
       "      <td>1.000000</td>\n",
       "      <td>0.000000</td>\n",
       "    </tr>\n",
       "    <tr>\n",
       "      <th>50%</th>\n",
       "      <td>72163.000000</td>\n",
       "      <td>4681.955000</td>\n",
       "      <td>0.000000</td>\n",
       "      <td>33.989497</td>\n",
       "      <td>4314.18500</td>\n",
       "      <td>135.500000</td>\n",
       "      <td>1.000000</td>\n",
       "      <td>0.000000</td>\n",
       "    </tr>\n",
       "    <tr>\n",
       "      <th>75%</th>\n",
       "      <td>80376.500000</td>\n",
       "      <td>7063.532500</td>\n",
       "      <td>0.000000</td>\n",
       "      <td>41.620401</td>\n",
       "      <td>5712.58250</td>\n",
       "      <td>179.750000</td>\n",
       "      <td>1.000000</td>\n",
       "      <td>0.000000</td>\n",
       "    </tr>\n",
       "    <tr>\n",
       "      <th>max</th>\n",
       "      <td>102286.000000</td>\n",
       "      <td>11079.850000</td>\n",
       "      <td>1241.510000</td>\n",
       "      <td>175.163000</td>\n",
       "      <td>9804.75000</td>\n",
       "      <td>201.000000</td>\n",
       "      <td>1.000000</td>\n",
       "      <td>1.000000</td>\n",
       "    </tr>\n",
       "  </tbody>\n",
       "</table>\n",
       "</div>"
      ],
      "text/plain": [
       "              income   total_saved   total_debt  avg_trans_amt  \\\n",
       "count       8.000000      8.000000     8.000000       8.000000   \n",
       "mean    69583.250000   5830.512500 -1899.587500      46.440468   \n",
       "std     20941.526133   2504.473834  3633.634591      54.296155   \n",
       "min     34797.000000   3671.030000 -9557.000000      -0.567194   \n",
       "25%     59083.250000   4162.465000 -2671.072500      24.059108   \n",
       "50%     72163.000000   4681.955000     0.000000      33.989497   \n",
       "75%     80376.500000   7063.532500     0.000000      41.620401   \n",
       "max    102286.000000  11079.850000  1241.510000     175.163000   \n",
       "\n",
       "       total_trans_amt  total_no_transactions  savings_acct_active  \\\n",
       "count          8.00000               8.000000             8.000000   \n",
       "mean        4598.23000             137.375000             0.875000   \n",
       "std         2963.23149              53.138465             0.353553   \n",
       "min          -78.84000              40.000000             0.000000   \n",
       "25%         3438.78750             116.500000             1.000000   \n",
       "50%         4314.18500             135.500000             1.000000   \n",
       "75%         5712.58250             179.750000             1.000000   \n",
       "max         9804.75000             201.000000             1.000000   \n",
       "\n",
       "       credit_acct_active  \n",
       "count            8.000000  \n",
       "mean             0.125000  \n",
       "std              0.353553  \n",
       "min              0.000000  \n",
       "25%              0.000000  \n",
       "50%              0.000000  \n",
       "75%              0.000000  \n",
       "max              1.000000  "
      ]
     },
     "execution_count": 24,
     "metadata": {},
     "output_type": "execute_result"
    }
   ],
   "source": [
    "bhv_df_c1.describe()"
   ]
  },
  {
   "cell_type": "code",
   "execution_count": 25,
   "id": "0e932f0c",
   "metadata": {},
   "outputs": [
    {
     "data": {
      "text/html": [
       "<div>\n",
       "<style scoped>\n",
       "    .dataframe tbody tr th:only-of-type {\n",
       "        vertical-align: middle;\n",
       "    }\n",
       "\n",
       "    .dataframe tbody tr th {\n",
       "        vertical-align: top;\n",
       "    }\n",
       "\n",
       "    .dataframe thead th {\n",
       "        text-align: right;\n",
       "    }\n",
       "</style>\n",
       "<table border=\"1\" class=\"dataframe\">\n",
       "  <thead>\n",
       "    <tr style=\"text-align: right;\">\n",
       "      <th></th>\n",
       "      <th>income</th>\n",
       "      <th>total_saved</th>\n",
       "      <th>total_debt</th>\n",
       "      <th>avg_trans_amt</th>\n",
       "      <th>total_trans_amt</th>\n",
       "      <th>total_no_transactions</th>\n",
       "      <th>savings_acct_active</th>\n",
       "      <th>credit_acct_active</th>\n",
       "    </tr>\n",
       "  </thead>\n",
       "  <tbody>\n",
       "    <tr>\n",
       "      <th>count</th>\n",
       "      <td>292.000000</td>\n",
       "      <td>292.000000</td>\n",
       "      <td>292.000000</td>\n",
       "      <td>292.000000</td>\n",
       "      <td>292.000000</td>\n",
       "      <td>292.000000</td>\n",
       "      <td>292.000000</td>\n",
       "      <td>292.000000</td>\n",
       "    </tr>\n",
       "    <tr>\n",
       "      <th>mean</th>\n",
       "      <td>16414.232877</td>\n",
       "      <td>174.159486</td>\n",
       "      <td>375.935445</td>\n",
       "      <td>-9.915723</td>\n",
       "      <td>-1439.227534</td>\n",
       "      <td>159.318493</td>\n",
       "      <td>0.578767</td>\n",
       "      <td>0.825342</td>\n",
       "    </tr>\n",
       "    <tr>\n",
       "      <th>std</th>\n",
       "      <td>12285.363208</td>\n",
       "      <td>588.954810</td>\n",
       "      <td>833.865466</td>\n",
       "      <td>11.776563</td>\n",
       "      <td>1715.360654</td>\n",
       "      <td>32.509020</td>\n",
       "      <td>0.494604</td>\n",
       "      <td>0.380326</td>\n",
       "    </tr>\n",
       "    <tr>\n",
       "      <th>min</th>\n",
       "      <td>0.000000</td>\n",
       "      <td>-2406.270000</td>\n",
       "      <td>-2152.330000</td>\n",
       "      <td>-41.588788</td>\n",
       "      <td>-6202.150000</td>\n",
       "      <td>95.000000</td>\n",
       "      <td>0.000000</td>\n",
       "      <td>0.000000</td>\n",
       "    </tr>\n",
       "    <tr>\n",
       "      <th>25%</th>\n",
       "      <td>7147.500000</td>\n",
       "      <td>0.000000</td>\n",
       "      <td>0.000000</td>\n",
       "      <td>-18.921191</td>\n",
       "      <td>-2730.987500</td>\n",
       "      <td>136.000000</td>\n",
       "      <td>0.000000</td>\n",
       "      <td>1.000000</td>\n",
       "    </tr>\n",
       "    <tr>\n",
       "      <th>50%</th>\n",
       "      <td>13424.500000</td>\n",
       "      <td>0.000000</td>\n",
       "      <td>237.140000</td>\n",
       "      <td>-8.321191</td>\n",
       "      <td>-1349.720000</td>\n",
       "      <td>159.500000</td>\n",
       "      <td>1.000000</td>\n",
       "      <td>1.000000</td>\n",
       "    </tr>\n",
       "    <tr>\n",
       "      <th>75%</th>\n",
       "      <td>24306.500000</td>\n",
       "      <td>352.757500</td>\n",
       "      <td>911.342500</td>\n",
       "      <td>-0.712592</td>\n",
       "      <td>-102.882500</td>\n",
       "      <td>182.000000</td>\n",
       "      <td>1.000000</td>\n",
       "      <td>1.000000</td>\n",
       "    </tr>\n",
       "    <tr>\n",
       "      <th>max</th>\n",
       "      <td>61885.000000</td>\n",
       "      <td>2610.340000</td>\n",
       "      <td>3229.660000</td>\n",
       "      <td>10.952857</td>\n",
       "      <td>2161.310000</td>\n",
       "      <td>254.000000</td>\n",
       "      <td>1.000000</td>\n",
       "      <td>1.000000</td>\n",
       "    </tr>\n",
       "  </tbody>\n",
       "</table>\n",
       "</div>"
      ],
      "text/plain": [
       "             income  total_saved   total_debt  avg_trans_amt  total_trans_amt  \\\n",
       "count    292.000000   292.000000   292.000000     292.000000       292.000000   \n",
       "mean   16414.232877   174.159486   375.935445      -9.915723     -1439.227534   \n",
       "std    12285.363208   588.954810   833.865466      11.776563      1715.360654   \n",
       "min        0.000000 -2406.270000 -2152.330000     -41.588788     -6202.150000   \n",
       "25%     7147.500000     0.000000     0.000000     -18.921191     -2730.987500   \n",
       "50%    13424.500000     0.000000   237.140000      -8.321191     -1349.720000   \n",
       "75%    24306.500000   352.757500   911.342500      -0.712592      -102.882500   \n",
       "max    61885.000000  2610.340000  3229.660000      10.952857      2161.310000   \n",
       "\n",
       "       total_no_transactions  savings_acct_active  credit_acct_active  \n",
       "count             292.000000           292.000000          292.000000  \n",
       "mean              159.318493             0.578767            0.825342  \n",
       "std                32.509020             0.494604            0.380326  \n",
       "min                95.000000             0.000000            0.000000  \n",
       "25%               136.000000             0.000000            1.000000  \n",
       "50%               159.500000             1.000000            1.000000  \n",
       "75%               182.000000             1.000000            1.000000  \n",
       "max               254.000000             1.000000            1.000000  "
      ]
     },
     "execution_count": 25,
     "metadata": {},
     "output_type": "execute_result"
    }
   ],
   "source": [
    "bhv_df_c2.describe()"
   ]
  },
  {
   "cell_type": "code",
   "execution_count": 26,
   "id": "d0308057",
   "metadata": {},
   "outputs": [
    {
     "data": {
      "text/html": [
       "<div>\n",
       "<style scoped>\n",
       "    .dataframe tbody tr th:only-of-type {\n",
       "        vertical-align: middle;\n",
       "    }\n",
       "\n",
       "    .dataframe tbody tr th {\n",
       "        vertical-align: top;\n",
       "    }\n",
       "\n",
       "    .dataframe thead th {\n",
       "        text-align: right;\n",
       "    }\n",
       "</style>\n",
       "<table border=\"1\" class=\"dataframe\">\n",
       "  <thead>\n",
       "    <tr style=\"text-align: right;\">\n",
       "      <th></th>\n",
       "      <th>income</th>\n",
       "      <th>total_saved</th>\n",
       "      <th>total_debt</th>\n",
       "      <th>avg_trans_amt</th>\n",
       "      <th>total_trans_amt</th>\n",
       "      <th>total_no_transactions</th>\n",
       "      <th>savings_acct_active</th>\n",
       "      <th>credit_acct_active</th>\n",
       "    </tr>\n",
       "  </thead>\n",
       "  <tbody>\n",
       "    <tr>\n",
       "      <th>count</th>\n",
       "      <td>72.000000</td>\n",
       "      <td>72.000000</td>\n",
       "      <td>72.000000</td>\n",
       "      <td>72.000000</td>\n",
       "      <td>72.000000</td>\n",
       "      <td>72.000000</td>\n",
       "      <td>72.000000</td>\n",
       "      <td>72.000000</td>\n",
       "    </tr>\n",
       "    <tr>\n",
       "      <th>mean</th>\n",
       "      <td>55298.250000</td>\n",
       "      <td>61.573472</td>\n",
       "      <td>1776.833611</td>\n",
       "      <td>-55.587875</td>\n",
       "      <td>-5683.670417</td>\n",
       "      <td>114.333333</td>\n",
       "      <td>0.444444</td>\n",
       "      <td>0.666667</td>\n",
       "    </tr>\n",
       "    <tr>\n",
       "      <th>std</th>\n",
       "      <td>28416.760375</td>\n",
       "      <td>698.196060</td>\n",
       "      <td>2592.073946</td>\n",
       "      <td>31.324276</td>\n",
       "      <td>2806.441017</td>\n",
       "      <td>45.966307</td>\n",
       "      <td>0.500391</td>\n",
       "      <td>0.474713</td>\n",
       "    </tr>\n",
       "    <tr>\n",
       "      <th>min</th>\n",
       "      <td>11944.000000</td>\n",
       "      <td>-2382.800000</td>\n",
       "      <td>-4781.230000</td>\n",
       "      <td>-189.325862</td>\n",
       "      <td>-13384.540000</td>\n",
       "      <td>18.000000</td>\n",
       "      <td>0.000000</td>\n",
       "      <td>0.000000</td>\n",
       "    </tr>\n",
       "    <tr>\n",
       "      <th>25%</th>\n",
       "      <td>37419.500000</td>\n",
       "      <td>0.000000</td>\n",
       "      <td>0.000000</td>\n",
       "      <td>-67.389281</td>\n",
       "      <td>-7119.665000</td>\n",
       "      <td>85.500000</td>\n",
       "      <td>0.000000</td>\n",
       "      <td>0.000000</td>\n",
       "    </tr>\n",
       "    <tr>\n",
       "      <th>50%</th>\n",
       "      <td>45111.000000</td>\n",
       "      <td>0.000000</td>\n",
       "      <td>1252.175000</td>\n",
       "      <td>-47.330601</td>\n",
       "      <td>-5398.230000</td>\n",
       "      <td>121.000000</td>\n",
       "      <td>0.000000</td>\n",
       "      <td>1.000000</td>\n",
       "    </tr>\n",
       "    <tr>\n",
       "      <th>75%</th>\n",
       "      <td>61858.000000</td>\n",
       "      <td>23.520000</td>\n",
       "      <td>2780.315000</td>\n",
       "      <td>-37.206553</td>\n",
       "      <td>-3964.975000</td>\n",
       "      <td>146.250000</td>\n",
       "      <td>1.000000</td>\n",
       "      <td>1.000000</td>\n",
       "    </tr>\n",
       "    <tr>\n",
       "      <th>max</th>\n",
       "      <td>144157.000000</td>\n",
       "      <td>3472.810000</td>\n",
       "      <td>9500.000000</td>\n",
       "      <td>-4.963410</td>\n",
       "      <td>-696.400000</td>\n",
       "      <td>243.000000</td>\n",
       "      <td>1.000000</td>\n",
       "      <td>1.000000</td>\n",
       "    </tr>\n",
       "  </tbody>\n",
       "</table>\n",
       "</div>"
      ],
      "text/plain": [
       "              income  total_saved   total_debt  avg_trans_amt  \\\n",
       "count      72.000000    72.000000    72.000000      72.000000   \n",
       "mean    55298.250000    61.573472  1776.833611     -55.587875   \n",
       "std     28416.760375   698.196060  2592.073946      31.324276   \n",
       "min     11944.000000 -2382.800000 -4781.230000    -189.325862   \n",
       "25%     37419.500000     0.000000     0.000000     -67.389281   \n",
       "50%     45111.000000     0.000000  1252.175000     -47.330601   \n",
       "75%     61858.000000    23.520000  2780.315000     -37.206553   \n",
       "max    144157.000000  3472.810000  9500.000000      -4.963410   \n",
       "\n",
       "       total_trans_amt  total_no_transactions  savings_acct_active  \\\n",
       "count        72.000000              72.000000            72.000000   \n",
       "mean      -5683.670417             114.333333             0.444444   \n",
       "std        2806.441017              45.966307             0.500391   \n",
       "min      -13384.540000              18.000000             0.000000   \n",
       "25%       -7119.665000              85.500000             0.000000   \n",
       "50%       -5398.230000             121.000000             0.000000   \n",
       "75%       -3964.975000             146.250000             1.000000   \n",
       "max        -696.400000             243.000000             1.000000   \n",
       "\n",
       "       credit_acct_active  \n",
       "count           72.000000  \n",
       "mean             0.666667  \n",
       "std              0.474713  \n",
       "min              0.000000  \n",
       "25%              0.000000  \n",
       "50%              1.000000  \n",
       "75%              1.000000  \n",
       "max              1.000000  "
      ]
     },
     "execution_count": 26,
     "metadata": {},
     "output_type": "execute_result"
    }
   ],
   "source": [
    "bhv_df_c3.describe()"
   ]
  },
  {
   "cell_type": "code",
   "execution_count": 27,
   "id": "70c848b5",
   "metadata": {},
   "outputs": [
    {
     "data": {
      "text/html": [
       "<div>\n",
       "<style scoped>\n",
       "    .dataframe tbody tr th:only-of-type {\n",
       "        vertical-align: middle;\n",
       "    }\n",
       "\n",
       "    .dataframe tbody tr th {\n",
       "        vertical-align: top;\n",
       "    }\n",
       "\n",
       "    .dataframe thead th {\n",
       "        text-align: right;\n",
       "    }\n",
       "</style>\n",
       "<table border=\"1\" class=\"dataframe\">\n",
       "  <thead>\n",
       "    <tr style=\"text-align: right;\">\n",
       "      <th></th>\n",
       "      <th>income</th>\n",
       "      <th>total_saved</th>\n",
       "      <th>total_debt</th>\n",
       "      <th>avg_trans_amt</th>\n",
       "      <th>total_trans_amt</th>\n",
       "      <th>total_no_transactions</th>\n",
       "      <th>savings_acct_active</th>\n",
       "      <th>credit_acct_active</th>\n",
       "    </tr>\n",
       "  </thead>\n",
       "  <tbody>\n",
       "    <tr>\n",
       "      <th>count</th>\n",
       "      <td>67.000000</td>\n",
       "      <td>67.000000</td>\n",
       "      <td>67.000000</td>\n",
       "      <td>67.000000</td>\n",
       "      <td>67.000000</td>\n",
       "      <td>67.000000</td>\n",
       "      <td>67.000000</td>\n",
       "      <td>67.000000</td>\n",
       "    </tr>\n",
       "    <tr>\n",
       "      <th>mean</th>\n",
       "      <td>46285.462687</td>\n",
       "      <td>237.352090</td>\n",
       "      <td>-2874.306866</td>\n",
       "      <td>31.453509</td>\n",
       "      <td>2495.797761</td>\n",
       "      <td>114.000000</td>\n",
       "      <td>0.567164</td>\n",
       "      <td>0.522388</td>\n",
       "    </tr>\n",
       "    <tr>\n",
       "      <th>std</th>\n",
       "      <td>20445.740549</td>\n",
       "      <td>579.055281</td>\n",
       "      <td>1983.557027</td>\n",
       "      <td>32.132482</td>\n",
       "      <td>2008.035061</td>\n",
       "      <td>56.160215</td>\n",
       "      <td>0.499208</td>\n",
       "      <td>0.503268</td>\n",
       "    </tr>\n",
       "    <tr>\n",
       "      <th>min</th>\n",
       "      <td>0.000000</td>\n",
       "      <td>-463.300000</td>\n",
       "      <td>-9633.490000</td>\n",
       "      <td>-39.950219</td>\n",
       "      <td>-5473.180000</td>\n",
       "      <td>22.000000</td>\n",
       "      <td>0.000000</td>\n",
       "      <td>0.000000</td>\n",
       "    </tr>\n",
       "    <tr>\n",
       "      <th>25%</th>\n",
       "      <td>31275.000000</td>\n",
       "      <td>0.000000</td>\n",
       "      <td>-3648.195000</td>\n",
       "      <td>11.261512</td>\n",
       "      <td>1539.390000</td>\n",
       "      <td>65.500000</td>\n",
       "      <td>0.000000</td>\n",
       "      <td>0.000000</td>\n",
       "    </tr>\n",
       "    <tr>\n",
       "      <th>50%</th>\n",
       "      <td>46461.000000</td>\n",
       "      <td>2.360000</td>\n",
       "      <td>-2343.320000</td>\n",
       "      <td>23.960000</td>\n",
       "      <td>2097.160000</td>\n",
       "      <td>120.000000</td>\n",
       "      <td>1.000000</td>\n",
       "      <td>1.000000</td>\n",
       "    </tr>\n",
       "    <tr>\n",
       "      <th>75%</th>\n",
       "      <td>57667.500000</td>\n",
       "      <td>228.125000</td>\n",
       "      <td>-1655.390000</td>\n",
       "      <td>40.892831</td>\n",
       "      <td>3264.705000</td>\n",
       "      <td>147.000000</td>\n",
       "      <td>1.000000</td>\n",
       "      <td>1.000000</td>\n",
       "    </tr>\n",
       "    <tr>\n",
       "      <th>max</th>\n",
       "      <td>98566.000000</td>\n",
       "      <td>2595.780000</td>\n",
       "      <td>293.440000</td>\n",
       "      <td>173.709583</td>\n",
       "      <td>9133.170000</td>\n",
       "      <td>263.000000</td>\n",
       "      <td>1.000000</td>\n",
       "      <td>1.000000</td>\n",
       "    </tr>\n",
       "  </tbody>\n",
       "</table>\n",
       "</div>"
      ],
      "text/plain": [
       "             income  total_saved   total_debt  avg_trans_amt  total_trans_amt  \\\n",
       "count     67.000000    67.000000    67.000000      67.000000        67.000000   \n",
       "mean   46285.462687   237.352090 -2874.306866      31.453509      2495.797761   \n",
       "std    20445.740549   579.055281  1983.557027      32.132482      2008.035061   \n",
       "min        0.000000  -463.300000 -9633.490000     -39.950219     -5473.180000   \n",
       "25%    31275.000000     0.000000 -3648.195000      11.261512      1539.390000   \n",
       "50%    46461.000000     2.360000 -2343.320000      23.960000      2097.160000   \n",
       "75%    57667.500000   228.125000 -1655.390000      40.892831      3264.705000   \n",
       "max    98566.000000  2595.780000   293.440000     173.709583      9133.170000   \n",
       "\n",
       "       total_no_transactions  savings_acct_active  credit_acct_active  \n",
       "count              67.000000            67.000000           67.000000  \n",
       "mean              114.000000             0.567164            0.522388  \n",
       "std                56.160215             0.499208            0.503268  \n",
       "min                22.000000             0.000000            0.000000  \n",
       "25%                65.500000             0.000000            0.000000  \n",
       "50%               120.000000             1.000000            1.000000  \n",
       "75%               147.000000             1.000000            1.000000  \n",
       "max               263.000000             1.000000            1.000000  "
      ]
     },
     "execution_count": 27,
     "metadata": {},
     "output_type": "execute_result"
    }
   ],
   "source": [
    "bhv_df_c4.describe()"
   ]
  },
  {
   "cell_type": "code",
   "execution_count": 28,
   "id": "c307acd6",
   "metadata": {},
   "outputs": [],
   "source": [
    "bhv_tscaled['cluster'] = y_km\n",
    "bhv_scaled0 = bhv_tscaled[bhv_tscaled['cluster']==0].drop('cluster', axis=1)\n",
    "bhv_scaled1 = bhv_tscaled[bhv_tscaled['cluster']==1].drop('cluster', axis=1)\n",
    "bhv_scaled2 = bhv_tscaled[bhv_tscaled['cluster']==2].drop('cluster', axis=1)\n",
    "bhv_scaled3 = bhv_tscaled[bhv_tscaled['cluster']==3].drop('cluster', axis=1)\n",
    "bhv_scaled4 = bhv_tscaled[bhv_tscaled['cluster']==4].drop('cluster', axis=1)"
   ]
  },
  {
   "cell_type": "code",
   "execution_count": 29,
   "id": "93a6b33b",
   "metadata": {},
   "outputs": [
    {
     "data": {
      "text/html": [
       "<div>\n",
       "<style scoped>\n",
       "    .dataframe tbody tr th:only-of-type {\n",
       "        vertical-align: middle;\n",
       "    }\n",
       "\n",
       "    .dataframe tbody tr th {\n",
       "        vertical-align: top;\n",
       "    }\n",
       "\n",
       "    .dataframe thead th {\n",
       "        text-align: right;\n",
       "    }\n",
       "</style>\n",
       "<table border=\"1\" class=\"dataframe\">\n",
       "  <thead>\n",
       "    <tr style=\"text-align: right;\">\n",
       "      <th></th>\n",
       "      <th>income</th>\n",
       "      <th>total_saved</th>\n",
       "      <th>total_debt</th>\n",
       "      <th>avg_trans_amt</th>\n",
       "      <th>total_trans_amt</th>\n",
       "      <th>total_no_transactions</th>\n",
       "      <th>savings_acct_active</th>\n",
       "      <th>credit_acct_active</th>\n",
       "    </tr>\n",
       "  </thead>\n",
       "  <tbody>\n",
       "    <tr>\n",
       "      <th>count</th>\n",
       "      <td>224.000000</td>\n",
       "      <td>224.000000</td>\n",
       "      <td>224.000000</td>\n",
       "      <td>224.000000</td>\n",
       "      <td>224.000000</td>\n",
       "      <td>224.000000</td>\n",
       "      <td>224.000000</td>\n",
       "      <td>224.000000</td>\n",
       "    </tr>\n",
       "    <tr>\n",
       "      <th>mean</th>\n",
       "      <td>12877.250000</td>\n",
       "      <td>195.666786</td>\n",
       "      <td>7.564464</td>\n",
       "      <td>1.675245</td>\n",
       "      <td>56.913482</td>\n",
       "      <td>62.808036</td>\n",
       "      <td>0.575893</td>\n",
       "      <td>0.433036</td>\n",
       "    </tr>\n",
       "    <tr>\n",
       "      <th>std</th>\n",
       "      <td>11727.373448</td>\n",
       "      <td>472.847959</td>\n",
       "      <td>535.427706</td>\n",
       "      <td>18.719743</td>\n",
       "      <td>825.930062</td>\n",
       "      <td>32.874046</td>\n",
       "      <td>0.495314</td>\n",
       "      <td>0.496605</td>\n",
       "    </tr>\n",
       "    <tr>\n",
       "      <th>min</th>\n",
       "      <td>0.000000</td>\n",
       "      <td>-926.630000</td>\n",
       "      <td>-2256.030000</td>\n",
       "      <td>-82.692500</td>\n",
       "      <td>-2046.660000</td>\n",
       "      <td>4.000000</td>\n",
       "      <td>0.000000</td>\n",
       "      <td>0.000000</td>\n",
       "    </tr>\n",
       "    <tr>\n",
       "      <th>25%</th>\n",
       "      <td>2410.000000</td>\n",
       "      <td>0.000000</td>\n",
       "      <td>0.000000</td>\n",
       "      <td>-7.332279</td>\n",
       "      <td>-299.915000</td>\n",
       "      <td>33.750000</td>\n",
       "      <td>0.000000</td>\n",
       "      <td>0.000000</td>\n",
       "    </tr>\n",
       "    <tr>\n",
       "      <th>50%</th>\n",
       "      <td>10961.500000</td>\n",
       "      <td>0.310000</td>\n",
       "      <td>0.000000</td>\n",
       "      <td>-0.115152</td>\n",
       "      <td>-10.880000</td>\n",
       "      <td>60.500000</td>\n",
       "      <td>1.000000</td>\n",
       "      <td>0.000000</td>\n",
       "    </tr>\n",
       "    <tr>\n",
       "      <th>75%</th>\n",
       "      <td>19696.750000</td>\n",
       "      <td>136.957500</td>\n",
       "      <td>0.000000</td>\n",
       "      <td>8.949688</td>\n",
       "      <td>486.435000</td>\n",
       "      <td>97.000000</td>\n",
       "      <td>1.000000</td>\n",
       "      <td>1.000000</td>\n",
       "    </tr>\n",
       "    <tr>\n",
       "      <th>max</th>\n",
       "      <td>56708.000000</td>\n",
       "      <td>2425.720000</td>\n",
       "      <td>2093.960000</td>\n",
       "      <td>93.296923</td>\n",
       "      <td>2425.720000</td>\n",
       "      <td>132.000000</td>\n",
       "      <td>1.000000</td>\n",
       "      <td>1.000000</td>\n",
       "    </tr>\n",
       "  </tbody>\n",
       "</table>\n",
       "</div>"
      ],
      "text/plain": [
       "             income  total_saved   total_debt  avg_trans_amt  total_trans_amt  \\\n",
       "count    224.000000   224.000000   224.000000     224.000000       224.000000   \n",
       "mean   12877.250000   195.666786     7.564464       1.675245        56.913482   \n",
       "std    11727.373448   472.847959   535.427706      18.719743       825.930062   \n",
       "min        0.000000  -926.630000 -2256.030000     -82.692500     -2046.660000   \n",
       "25%     2410.000000     0.000000     0.000000      -7.332279      -299.915000   \n",
       "50%    10961.500000     0.310000     0.000000      -0.115152       -10.880000   \n",
       "75%    19696.750000   136.957500     0.000000       8.949688       486.435000   \n",
       "max    56708.000000  2425.720000  2093.960000      93.296923      2425.720000   \n",
       "\n",
       "       total_no_transactions  savings_acct_active  credit_acct_active  \n",
       "count             224.000000           224.000000          224.000000  \n",
       "mean               62.808036             0.575893            0.433036  \n",
       "std                32.874046             0.495314            0.496605  \n",
       "min                 4.000000             0.000000            0.000000  \n",
       "25%                33.750000             0.000000            0.000000  \n",
       "50%                60.500000             1.000000            0.000000  \n",
       "75%                97.000000             1.000000            1.000000  \n",
       "max               132.000000             1.000000            1.000000  "
      ]
     },
     "execution_count": 29,
     "metadata": {},
     "output_type": "execute_result"
    }
   ],
   "source": [
    "bhv_df_c0.describe()"
   ]
  },
  {
   "cell_type": "code",
   "execution_count": 30,
   "id": "e2d52d06",
   "metadata": {},
   "outputs": [
    {
     "data": {
      "text/html": [
       "<div>\n",
       "<style scoped>\n",
       "    .dataframe tbody tr th:only-of-type {\n",
       "        vertical-align: middle;\n",
       "    }\n",
       "\n",
       "    .dataframe tbody tr th {\n",
       "        vertical-align: top;\n",
       "    }\n",
       "\n",
       "    .dataframe thead th {\n",
       "        text-align: right;\n",
       "    }\n",
       "</style>\n",
       "<table border=\"1\" class=\"dataframe\">\n",
       "  <thead>\n",
       "    <tr style=\"text-align: right;\">\n",
       "      <th></th>\n",
       "      <th>income</th>\n",
       "      <th>total_saved</th>\n",
       "      <th>total_debt</th>\n",
       "      <th>avg_trans_amt</th>\n",
       "      <th>total_trans_amt</th>\n",
       "      <th>total_no_transactions</th>\n",
       "      <th>savings_acct</th>\n",
       "      <th>credit_acct</th>\n",
       "    </tr>\n",
       "  </thead>\n",
       "  <tbody>\n",
       "    <tr>\n",
       "      <th>count</th>\n",
       "      <td>224.000000</td>\n",
       "      <td>224.000000</td>\n",
       "      <td>224.000000</td>\n",
       "      <td>224.000000</td>\n",
       "      <td>224.000000</td>\n",
       "      <td>224.000000</td>\n",
       "      <td>224.000000</td>\n",
       "      <td>224.000000</td>\n",
       "    </tr>\n",
       "    <tr>\n",
       "      <th>mean</th>\n",
       "      <td>-0.460413</td>\n",
       "      <td>-0.055168</td>\n",
       "      <td>-0.023433</td>\n",
       "      <td>0.261126</td>\n",
       "      <td>0.362855</td>\n",
       "      <td>-0.959914</td>\n",
       "      <td>0.629464</td>\n",
       "      <td>0.535714</td>\n",
       "    </tr>\n",
       "    <tr>\n",
       "      <th>std</th>\n",
       "      <td>0.528067</td>\n",
       "      <td>0.541543</td>\n",
       "      <td>0.312615</td>\n",
       "      <td>0.628779</td>\n",
       "      <td>0.305471</td>\n",
       "      <td>0.582500</td>\n",
       "      <td>0.484030</td>\n",
       "      <td>0.499840</td>\n",
       "    </tr>\n",
       "    <tr>\n",
       "      <th>min</th>\n",
       "      <td>-1.040258</td>\n",
       "      <td>-1.340510</td>\n",
       "      <td>-1.345056</td>\n",
       "      <td>-2.572711</td>\n",
       "      <td>-0.415153</td>\n",
       "      <td>-2.001942</td>\n",
       "      <td>0.000000</td>\n",
       "      <td>0.000000</td>\n",
       "    </tr>\n",
       "    <tr>\n",
       "      <th>25%</th>\n",
       "      <td>-0.931739</td>\n",
       "      <td>-0.279261</td>\n",
       "      <td>-0.027849</td>\n",
       "      <td>-0.041429</td>\n",
       "      <td>0.230882</td>\n",
       "      <td>-1.474797</td>\n",
       "      <td>0.000000</td>\n",
       "      <td>0.000000</td>\n",
       "    </tr>\n",
       "    <tr>\n",
       "      <th>50%</th>\n",
       "      <td>-0.546677</td>\n",
       "      <td>-0.278906</td>\n",
       "      <td>-0.027849</td>\n",
       "      <td>0.200988</td>\n",
       "      <td>0.337781</td>\n",
       "      <td>-1.000810</td>\n",
       "      <td>1.000000</td>\n",
       "      <td>1.000000</td>\n",
       "    </tr>\n",
       "    <tr>\n",
       "      <th>75%</th>\n",
       "      <td>-0.153341</td>\n",
       "      <td>-0.122407</td>\n",
       "      <td>-0.027849</td>\n",
       "      <td>0.505468</td>\n",
       "      <td>0.521714</td>\n",
       "      <td>-0.354062</td>\n",
       "      <td>1.000000</td>\n",
       "      <td>1.000000</td>\n",
       "    </tr>\n",
       "    <tr>\n",
       "      <th>max</th>\n",
       "      <td>1.513225</td>\n",
       "      <td>2.498863</td>\n",
       "      <td>1.194730</td>\n",
       "      <td>3.338615</td>\n",
       "      <td>1.238959</td>\n",
       "      <td>0.266108</td>\n",
       "      <td>1.000000</td>\n",
       "      <td>1.000000</td>\n",
       "    </tr>\n",
       "  </tbody>\n",
       "</table>\n",
       "</div>"
      ],
      "text/plain": [
       "           income  total_saved  total_debt  avg_trans_amt  total_trans_amt  \\\n",
       "count  224.000000   224.000000  224.000000     224.000000       224.000000   \n",
       "mean    -0.460413    -0.055168   -0.023433       0.261126         0.362855   \n",
       "std      0.528067     0.541543    0.312615       0.628779         0.305471   \n",
       "min     -1.040258    -1.340510   -1.345056      -2.572711        -0.415153   \n",
       "25%     -0.931739    -0.279261   -0.027849      -0.041429         0.230882   \n",
       "50%     -0.546677    -0.278906   -0.027849       0.200988         0.337781   \n",
       "75%     -0.153341    -0.122407   -0.027849       0.505468         0.521714   \n",
       "max      1.513225     2.498863    1.194730       3.338615         1.238959   \n",
       "\n",
       "       total_no_transactions  savings_acct  credit_acct  \n",
       "count             224.000000    224.000000   224.000000  \n",
       "mean               -0.959914      0.629464     0.535714  \n",
       "std                 0.582500      0.484030     0.499840  \n",
       "min                -2.001942      0.000000     0.000000  \n",
       "25%                -1.474797      0.000000     0.000000  \n",
       "50%                -1.000810      1.000000     1.000000  \n",
       "75%                -0.354062      1.000000     1.000000  \n",
       "max                 0.266108      1.000000     1.000000  "
      ]
     },
     "execution_count": 30,
     "metadata": {},
     "output_type": "execute_result"
    }
   ],
   "source": [
    "bhv_scaled0.describe()"
   ]
  },
  {
   "cell_type": "code",
   "execution_count": 49,
   "id": "55b28f5f",
   "metadata": {},
   "outputs": [
    {
     "data": {
      "application/vnd.plotly.v1+json": {
       "config": {
        "plotlyServerURL": "https://plot.ly"
       },
       "data": [
        {
         "fill": "toself",
         "fillcolor": "deepskyblue",
         "line": {
          "color": "dodgerblue"
         },
         "opacity": 0.8,
         "r": [
          -0.4604131971179326,
          -0.055168266555339164,
          -0.02343288231167745,
          0.2611256796995471,
          0.3628548844712335,
          -0.9599140460650538,
          0.6294642857142857,
          0.5357142857142857
         ],
         "theta": [
          "income",
          "total_saved",
          "total_debt",
          "avg_trans_amt",
          "total_trans_amt",
          "total_no_transactions",
          "savings_acct",
          "credit_acct"
         ],
         "type": "scatterpolar"
        }
       ],
       "layout": {
        "polar": {
         "radialaxis": {
          "range": [
           -2,
           2
          ],
          "visible": true
         }
        },
        "template": {
         "data": {
          "bar": [
           {
            "error_x": {
             "color": "#2a3f5f"
            },
            "error_y": {
             "color": "#2a3f5f"
            },
            "marker": {
             "line": {
              "color": "#E5ECF6",
              "width": 0.5
             },
             "pattern": {
              "fillmode": "overlay",
              "size": 10,
              "solidity": 0.2
             }
            },
            "type": "bar"
           }
          ],
          "barpolar": [
           {
            "marker": {
             "line": {
              "color": "#E5ECF6",
              "width": 0.5
             },
             "pattern": {
              "fillmode": "overlay",
              "size": 10,
              "solidity": 0.2
             }
            },
            "type": "barpolar"
           }
          ],
          "carpet": [
           {
            "aaxis": {
             "endlinecolor": "#2a3f5f",
             "gridcolor": "white",
             "linecolor": "white",
             "minorgridcolor": "white",
             "startlinecolor": "#2a3f5f"
            },
            "baxis": {
             "endlinecolor": "#2a3f5f",
             "gridcolor": "white",
             "linecolor": "white",
             "minorgridcolor": "white",
             "startlinecolor": "#2a3f5f"
            },
            "type": "carpet"
           }
          ],
          "choropleth": [
           {
            "colorbar": {
             "outlinewidth": 0,
             "ticks": ""
            },
            "type": "choropleth"
           }
          ],
          "contour": [
           {
            "colorbar": {
             "outlinewidth": 0,
             "ticks": ""
            },
            "colorscale": [
             [
              0,
              "#0d0887"
             ],
             [
              0.1111111111111111,
              "#46039f"
             ],
             [
              0.2222222222222222,
              "#7201a8"
             ],
             [
              0.3333333333333333,
              "#9c179e"
             ],
             [
              0.4444444444444444,
              "#bd3786"
             ],
             [
              0.5555555555555556,
              "#d8576b"
             ],
             [
              0.6666666666666666,
              "#ed7953"
             ],
             [
              0.7777777777777778,
              "#fb9f3a"
             ],
             [
              0.8888888888888888,
              "#fdca26"
             ],
             [
              1,
              "#f0f921"
             ]
            ],
            "type": "contour"
           }
          ],
          "contourcarpet": [
           {
            "colorbar": {
             "outlinewidth": 0,
             "ticks": ""
            },
            "type": "contourcarpet"
           }
          ],
          "heatmap": [
           {
            "colorbar": {
             "outlinewidth": 0,
             "ticks": ""
            },
            "colorscale": [
             [
              0,
              "#0d0887"
             ],
             [
              0.1111111111111111,
              "#46039f"
             ],
             [
              0.2222222222222222,
              "#7201a8"
             ],
             [
              0.3333333333333333,
              "#9c179e"
             ],
             [
              0.4444444444444444,
              "#bd3786"
             ],
             [
              0.5555555555555556,
              "#d8576b"
             ],
             [
              0.6666666666666666,
              "#ed7953"
             ],
             [
              0.7777777777777778,
              "#fb9f3a"
             ],
             [
              0.8888888888888888,
              "#fdca26"
             ],
             [
              1,
              "#f0f921"
             ]
            ],
            "type": "heatmap"
           }
          ],
          "heatmapgl": [
           {
            "colorbar": {
             "outlinewidth": 0,
             "ticks": ""
            },
            "colorscale": [
             [
              0,
              "#0d0887"
             ],
             [
              0.1111111111111111,
              "#46039f"
             ],
             [
              0.2222222222222222,
              "#7201a8"
             ],
             [
              0.3333333333333333,
              "#9c179e"
             ],
             [
              0.4444444444444444,
              "#bd3786"
             ],
             [
              0.5555555555555556,
              "#d8576b"
             ],
             [
              0.6666666666666666,
              "#ed7953"
             ],
             [
              0.7777777777777778,
              "#fb9f3a"
             ],
             [
              0.8888888888888888,
              "#fdca26"
             ],
             [
              1,
              "#f0f921"
             ]
            ],
            "type": "heatmapgl"
           }
          ],
          "histogram": [
           {
            "marker": {
             "pattern": {
              "fillmode": "overlay",
              "size": 10,
              "solidity": 0.2
             }
            },
            "type": "histogram"
           }
          ],
          "histogram2d": [
           {
            "colorbar": {
             "outlinewidth": 0,
             "ticks": ""
            },
            "colorscale": [
             [
              0,
              "#0d0887"
             ],
             [
              0.1111111111111111,
              "#46039f"
             ],
             [
              0.2222222222222222,
              "#7201a8"
             ],
             [
              0.3333333333333333,
              "#9c179e"
             ],
             [
              0.4444444444444444,
              "#bd3786"
             ],
             [
              0.5555555555555556,
              "#d8576b"
             ],
             [
              0.6666666666666666,
              "#ed7953"
             ],
             [
              0.7777777777777778,
              "#fb9f3a"
             ],
             [
              0.8888888888888888,
              "#fdca26"
             ],
             [
              1,
              "#f0f921"
             ]
            ],
            "type": "histogram2d"
           }
          ],
          "histogram2dcontour": [
           {
            "colorbar": {
             "outlinewidth": 0,
             "ticks": ""
            },
            "colorscale": [
             [
              0,
              "#0d0887"
             ],
             [
              0.1111111111111111,
              "#46039f"
             ],
             [
              0.2222222222222222,
              "#7201a8"
             ],
             [
              0.3333333333333333,
              "#9c179e"
             ],
             [
              0.4444444444444444,
              "#bd3786"
             ],
             [
              0.5555555555555556,
              "#d8576b"
             ],
             [
              0.6666666666666666,
              "#ed7953"
             ],
             [
              0.7777777777777778,
              "#fb9f3a"
             ],
             [
              0.8888888888888888,
              "#fdca26"
             ],
             [
              1,
              "#f0f921"
             ]
            ],
            "type": "histogram2dcontour"
           }
          ],
          "mesh3d": [
           {
            "colorbar": {
             "outlinewidth": 0,
             "ticks": ""
            },
            "type": "mesh3d"
           }
          ],
          "parcoords": [
           {
            "line": {
             "colorbar": {
              "outlinewidth": 0,
              "ticks": ""
             }
            },
            "type": "parcoords"
           }
          ],
          "pie": [
           {
            "automargin": true,
            "type": "pie"
           }
          ],
          "scatter": [
           {
            "fillpattern": {
             "fillmode": "overlay",
             "size": 10,
             "solidity": 0.2
            },
            "type": "scatter"
           }
          ],
          "scatter3d": [
           {
            "line": {
             "colorbar": {
              "outlinewidth": 0,
              "ticks": ""
             }
            },
            "marker": {
             "colorbar": {
              "outlinewidth": 0,
              "ticks": ""
             }
            },
            "type": "scatter3d"
           }
          ],
          "scattercarpet": [
           {
            "marker": {
             "colorbar": {
              "outlinewidth": 0,
              "ticks": ""
             }
            },
            "type": "scattercarpet"
           }
          ],
          "scattergeo": [
           {
            "marker": {
             "colorbar": {
              "outlinewidth": 0,
              "ticks": ""
             }
            },
            "type": "scattergeo"
           }
          ],
          "scattergl": [
           {
            "marker": {
             "colorbar": {
              "outlinewidth": 0,
              "ticks": ""
             }
            },
            "type": "scattergl"
           }
          ],
          "scattermapbox": [
           {
            "marker": {
             "colorbar": {
              "outlinewidth": 0,
              "ticks": ""
             }
            },
            "type": "scattermapbox"
           }
          ],
          "scatterpolar": [
           {
            "marker": {
             "colorbar": {
              "outlinewidth": 0,
              "ticks": ""
             }
            },
            "type": "scatterpolar"
           }
          ],
          "scatterpolargl": [
           {
            "marker": {
             "colorbar": {
              "outlinewidth": 0,
              "ticks": ""
             }
            },
            "type": "scatterpolargl"
           }
          ],
          "scatterternary": [
           {
            "marker": {
             "colorbar": {
              "outlinewidth": 0,
              "ticks": ""
             }
            },
            "type": "scatterternary"
           }
          ],
          "surface": [
           {
            "colorbar": {
             "outlinewidth": 0,
             "ticks": ""
            },
            "colorscale": [
             [
              0,
              "#0d0887"
             ],
             [
              0.1111111111111111,
              "#46039f"
             ],
             [
              0.2222222222222222,
              "#7201a8"
             ],
             [
              0.3333333333333333,
              "#9c179e"
             ],
             [
              0.4444444444444444,
              "#bd3786"
             ],
             [
              0.5555555555555556,
              "#d8576b"
             ],
             [
              0.6666666666666666,
              "#ed7953"
             ],
             [
              0.7777777777777778,
              "#fb9f3a"
             ],
             [
              0.8888888888888888,
              "#fdca26"
             ],
             [
              1,
              "#f0f921"
             ]
            ],
            "type": "surface"
           }
          ],
          "table": [
           {
            "cells": {
             "fill": {
              "color": "#EBF0F8"
             },
             "line": {
              "color": "white"
             }
            },
            "header": {
             "fill": {
              "color": "#C8D4E3"
             },
             "line": {
              "color": "white"
             }
            },
            "type": "table"
           }
          ]
         },
         "layout": {
          "annotationdefaults": {
           "arrowcolor": "#2a3f5f",
           "arrowhead": 0,
           "arrowwidth": 1
          },
          "autotypenumbers": "strict",
          "coloraxis": {
           "colorbar": {
            "outlinewidth": 0,
            "ticks": ""
           }
          },
          "colorscale": {
           "diverging": [
            [
             0,
             "#8e0152"
            ],
            [
             0.1,
             "#c51b7d"
            ],
            [
             0.2,
             "#de77ae"
            ],
            [
             0.3,
             "#f1b6da"
            ],
            [
             0.4,
             "#fde0ef"
            ],
            [
             0.5,
             "#f7f7f7"
            ],
            [
             0.6,
             "#e6f5d0"
            ],
            [
             0.7,
             "#b8e186"
            ],
            [
             0.8,
             "#7fbc41"
            ],
            [
             0.9,
             "#4d9221"
            ],
            [
             1,
             "#276419"
            ]
           ],
           "sequential": [
            [
             0,
             "#0d0887"
            ],
            [
             0.1111111111111111,
             "#46039f"
            ],
            [
             0.2222222222222222,
             "#7201a8"
            ],
            [
             0.3333333333333333,
             "#9c179e"
            ],
            [
             0.4444444444444444,
             "#bd3786"
            ],
            [
             0.5555555555555556,
             "#d8576b"
            ],
            [
             0.6666666666666666,
             "#ed7953"
            ],
            [
             0.7777777777777778,
             "#fb9f3a"
            ],
            [
             0.8888888888888888,
             "#fdca26"
            ],
            [
             1,
             "#f0f921"
            ]
           ],
           "sequentialminus": [
            [
             0,
             "#0d0887"
            ],
            [
             0.1111111111111111,
             "#46039f"
            ],
            [
             0.2222222222222222,
             "#7201a8"
            ],
            [
             0.3333333333333333,
             "#9c179e"
            ],
            [
             0.4444444444444444,
             "#bd3786"
            ],
            [
             0.5555555555555556,
             "#d8576b"
            ],
            [
             0.6666666666666666,
             "#ed7953"
            ],
            [
             0.7777777777777778,
             "#fb9f3a"
            ],
            [
             0.8888888888888888,
             "#fdca26"
            ],
            [
             1,
             "#f0f921"
            ]
           ]
          },
          "colorway": [
           "#636efa",
           "#EF553B",
           "#00cc96",
           "#ab63fa",
           "#FFA15A",
           "#19d3f3",
           "#FF6692",
           "#B6E880",
           "#FF97FF",
           "#FECB52"
          ],
          "font": {
           "color": "#2a3f5f"
          },
          "geo": {
           "bgcolor": "white",
           "lakecolor": "white",
           "landcolor": "#E5ECF6",
           "showlakes": true,
           "showland": true,
           "subunitcolor": "white"
          },
          "hoverlabel": {
           "align": "left"
          },
          "hovermode": "closest",
          "mapbox": {
           "style": "light"
          },
          "paper_bgcolor": "white",
          "plot_bgcolor": "#E5ECF6",
          "polar": {
           "angularaxis": {
            "gridcolor": "white",
            "linecolor": "white",
            "ticks": ""
           },
           "bgcolor": "#E5ECF6",
           "radialaxis": {
            "gridcolor": "white",
            "linecolor": "white",
            "ticks": ""
           }
          },
          "scene": {
           "xaxis": {
            "backgroundcolor": "#E5ECF6",
            "gridcolor": "white",
            "gridwidth": 2,
            "linecolor": "white",
            "showbackground": true,
            "ticks": "",
            "zerolinecolor": "white"
           },
           "yaxis": {
            "backgroundcolor": "#E5ECF6",
            "gridcolor": "white",
            "gridwidth": 2,
            "linecolor": "white",
            "showbackground": true,
            "ticks": "",
            "zerolinecolor": "white"
           },
           "zaxis": {
            "backgroundcolor": "#E5ECF6",
            "gridcolor": "white",
            "gridwidth": 2,
            "linecolor": "white",
            "showbackground": true,
            "ticks": "",
            "zerolinecolor": "white"
           }
          },
          "shapedefaults": {
           "line": {
            "color": "#2a3f5f"
           }
          },
          "ternary": {
           "aaxis": {
            "gridcolor": "white",
            "linecolor": "white",
            "ticks": ""
           },
           "baxis": {
            "gridcolor": "white",
            "linecolor": "white",
            "ticks": ""
           },
           "bgcolor": "#E5ECF6",
           "caxis": {
            "gridcolor": "white",
            "linecolor": "white",
            "ticks": ""
           }
          },
          "title": {
           "x": 0.05
          },
          "xaxis": {
           "automargin": true,
           "gridcolor": "white",
           "linecolor": "white",
           "ticks": "",
           "title": {
            "standoff": 15
           },
           "zerolinecolor": "white",
           "zerolinewidth": 2
          },
          "yaxis": {
           "automargin": true,
           "gridcolor": "white",
           "linecolor": "white",
           "ticks": "",
           "title": {
            "standoff": 15
           },
           "zerolinecolor": "white",
           "zerolinewidth": 2
          }
         }
        },
        "title": {
         "text": "Behavior Cluster 0"
        }
       }
      },
      "text/html": [
       "<div>                            <div id=\"9080734d-d3ef-4bb8-98ab-edcf17ed23c2\" class=\"plotly-graph-div\" style=\"height:525px; width:100%;\"></div>            <script type=\"text/javascript\">                require([\"plotly\"], function(Plotly) {                    window.PLOTLYENV=window.PLOTLYENV || {};                                    if (document.getElementById(\"9080734d-d3ef-4bb8-98ab-edcf17ed23c2\")) {                    Plotly.newPlot(                        \"9080734d-d3ef-4bb8-98ab-edcf17ed23c2\",                        [{\"fill\":\"toself\",\"fillcolor\":\"deepskyblue\",\"line\":{\"color\":\"dodgerblue\"},\"opacity\":0.8,\"r\":[-0.4604131971179326,-0.055168266555339164,-0.02343288231167745,0.2611256796995471,0.3628548844712335,-0.9599140460650538,0.6294642857142857,0.5357142857142857],\"theta\":[\"income\",\"total_saved\",\"total_debt\",\"avg_trans_amt\",\"total_trans_amt\",\"total_no_transactions\",\"savings_acct\",\"credit_acct\"],\"type\":\"scatterpolar\"}],                        {\"template\":{\"data\":{\"histogram2dcontour\":[{\"type\":\"histogram2dcontour\",\"colorbar\":{\"outlinewidth\":0,\"ticks\":\"\"},\"colorscale\":[[0.0,\"#0d0887\"],[0.1111111111111111,\"#46039f\"],[0.2222222222222222,\"#7201a8\"],[0.3333333333333333,\"#9c179e\"],[0.4444444444444444,\"#bd3786\"],[0.5555555555555556,\"#d8576b\"],[0.6666666666666666,\"#ed7953\"],[0.7777777777777778,\"#fb9f3a\"],[0.8888888888888888,\"#fdca26\"],[1.0,\"#f0f921\"]]}],\"choropleth\":[{\"type\":\"choropleth\",\"colorbar\":{\"outlinewidth\":0,\"ticks\":\"\"}}],\"histogram2d\":[{\"type\":\"histogram2d\",\"colorbar\":{\"outlinewidth\":0,\"ticks\":\"\"},\"colorscale\":[[0.0,\"#0d0887\"],[0.1111111111111111,\"#46039f\"],[0.2222222222222222,\"#7201a8\"],[0.3333333333333333,\"#9c179e\"],[0.4444444444444444,\"#bd3786\"],[0.5555555555555556,\"#d8576b\"],[0.6666666666666666,\"#ed7953\"],[0.7777777777777778,\"#fb9f3a\"],[0.8888888888888888,\"#fdca26\"],[1.0,\"#f0f921\"]]}],\"heatmap\":[{\"type\":\"heatmap\",\"colorbar\":{\"outlinewidth\":0,\"ticks\":\"\"},\"colorscale\":[[0.0,\"#0d0887\"],[0.1111111111111111,\"#46039f\"],[0.2222222222222222,\"#7201a8\"],[0.3333333333333333,\"#9c179e\"],[0.4444444444444444,\"#bd3786\"],[0.5555555555555556,\"#d8576b\"],[0.6666666666666666,\"#ed7953\"],[0.7777777777777778,\"#fb9f3a\"],[0.8888888888888888,\"#fdca26\"],[1.0,\"#f0f921\"]]}],\"heatmapgl\":[{\"type\":\"heatmapgl\",\"colorbar\":{\"outlinewidth\":0,\"ticks\":\"\"},\"colorscale\":[[0.0,\"#0d0887\"],[0.1111111111111111,\"#46039f\"],[0.2222222222222222,\"#7201a8\"],[0.3333333333333333,\"#9c179e\"],[0.4444444444444444,\"#bd3786\"],[0.5555555555555556,\"#d8576b\"],[0.6666666666666666,\"#ed7953\"],[0.7777777777777778,\"#fb9f3a\"],[0.8888888888888888,\"#fdca26\"],[1.0,\"#f0f921\"]]}],\"contourcarpet\":[{\"type\":\"contourcarpet\",\"colorbar\":{\"outlinewidth\":0,\"ticks\":\"\"}}],\"contour\":[{\"type\":\"contour\",\"colorbar\":{\"outlinewidth\":0,\"ticks\":\"\"},\"colorscale\":[[0.0,\"#0d0887\"],[0.1111111111111111,\"#46039f\"],[0.2222222222222222,\"#7201a8\"],[0.3333333333333333,\"#9c179e\"],[0.4444444444444444,\"#bd3786\"],[0.5555555555555556,\"#d8576b\"],[0.6666666666666666,\"#ed7953\"],[0.7777777777777778,\"#fb9f3a\"],[0.8888888888888888,\"#fdca26\"],[1.0,\"#f0f921\"]]}],\"surface\":[{\"type\":\"surface\",\"colorbar\":{\"outlinewidth\":0,\"ticks\":\"\"},\"colorscale\":[[0.0,\"#0d0887\"],[0.1111111111111111,\"#46039f\"],[0.2222222222222222,\"#7201a8\"],[0.3333333333333333,\"#9c179e\"],[0.4444444444444444,\"#bd3786\"],[0.5555555555555556,\"#d8576b\"],[0.6666666666666666,\"#ed7953\"],[0.7777777777777778,\"#fb9f3a\"],[0.8888888888888888,\"#fdca26\"],[1.0,\"#f0f921\"]]}],\"mesh3d\":[{\"type\":\"mesh3d\",\"colorbar\":{\"outlinewidth\":0,\"ticks\":\"\"}}],\"scatter\":[{\"fillpattern\":{\"fillmode\":\"overlay\",\"size\":10,\"solidity\":0.2},\"type\":\"scatter\"}],\"parcoords\":[{\"type\":\"parcoords\",\"line\":{\"colorbar\":{\"outlinewidth\":0,\"ticks\":\"\"}}}],\"scatterpolargl\":[{\"type\":\"scatterpolargl\",\"marker\":{\"colorbar\":{\"outlinewidth\":0,\"ticks\":\"\"}}}],\"bar\":[{\"error_x\":{\"color\":\"#2a3f5f\"},\"error_y\":{\"color\":\"#2a3f5f\"},\"marker\":{\"line\":{\"color\":\"#E5ECF6\",\"width\":0.5},\"pattern\":{\"fillmode\":\"overlay\",\"size\":10,\"solidity\":0.2}},\"type\":\"bar\"}],\"scattergeo\":[{\"type\":\"scattergeo\",\"marker\":{\"colorbar\":{\"outlinewidth\":0,\"ticks\":\"\"}}}],\"scatterpolar\":[{\"type\":\"scatterpolar\",\"marker\":{\"colorbar\":{\"outlinewidth\":0,\"ticks\":\"\"}}}],\"histogram\":[{\"marker\":{\"pattern\":{\"fillmode\":\"overlay\",\"size\":10,\"solidity\":0.2}},\"type\":\"histogram\"}],\"scattergl\":[{\"type\":\"scattergl\",\"marker\":{\"colorbar\":{\"outlinewidth\":0,\"ticks\":\"\"}}}],\"scatter3d\":[{\"type\":\"scatter3d\",\"line\":{\"colorbar\":{\"outlinewidth\":0,\"ticks\":\"\"}},\"marker\":{\"colorbar\":{\"outlinewidth\":0,\"ticks\":\"\"}}}],\"scattermapbox\":[{\"type\":\"scattermapbox\",\"marker\":{\"colorbar\":{\"outlinewidth\":0,\"ticks\":\"\"}}}],\"scatterternary\":[{\"type\":\"scatterternary\",\"marker\":{\"colorbar\":{\"outlinewidth\":0,\"ticks\":\"\"}}}],\"scattercarpet\":[{\"type\":\"scattercarpet\",\"marker\":{\"colorbar\":{\"outlinewidth\":0,\"ticks\":\"\"}}}],\"carpet\":[{\"aaxis\":{\"endlinecolor\":\"#2a3f5f\",\"gridcolor\":\"white\",\"linecolor\":\"white\",\"minorgridcolor\":\"white\",\"startlinecolor\":\"#2a3f5f\"},\"baxis\":{\"endlinecolor\":\"#2a3f5f\",\"gridcolor\":\"white\",\"linecolor\":\"white\",\"minorgridcolor\":\"white\",\"startlinecolor\":\"#2a3f5f\"},\"type\":\"carpet\"}],\"table\":[{\"cells\":{\"fill\":{\"color\":\"#EBF0F8\"},\"line\":{\"color\":\"white\"}},\"header\":{\"fill\":{\"color\":\"#C8D4E3\"},\"line\":{\"color\":\"white\"}},\"type\":\"table\"}],\"barpolar\":[{\"marker\":{\"line\":{\"color\":\"#E5ECF6\",\"width\":0.5},\"pattern\":{\"fillmode\":\"overlay\",\"size\":10,\"solidity\":0.2}},\"type\":\"barpolar\"}],\"pie\":[{\"automargin\":true,\"type\":\"pie\"}]},\"layout\":{\"autotypenumbers\":\"strict\",\"colorway\":[\"#636efa\",\"#EF553B\",\"#00cc96\",\"#ab63fa\",\"#FFA15A\",\"#19d3f3\",\"#FF6692\",\"#B6E880\",\"#FF97FF\",\"#FECB52\"],\"font\":{\"color\":\"#2a3f5f\"},\"hovermode\":\"closest\",\"hoverlabel\":{\"align\":\"left\"},\"paper_bgcolor\":\"white\",\"plot_bgcolor\":\"#E5ECF6\",\"polar\":{\"bgcolor\":\"#E5ECF6\",\"angularaxis\":{\"gridcolor\":\"white\",\"linecolor\":\"white\",\"ticks\":\"\"},\"radialaxis\":{\"gridcolor\":\"white\",\"linecolor\":\"white\",\"ticks\":\"\"}},\"ternary\":{\"bgcolor\":\"#E5ECF6\",\"aaxis\":{\"gridcolor\":\"white\",\"linecolor\":\"white\",\"ticks\":\"\"},\"baxis\":{\"gridcolor\":\"white\",\"linecolor\":\"white\",\"ticks\":\"\"},\"caxis\":{\"gridcolor\":\"white\",\"linecolor\":\"white\",\"ticks\":\"\"}},\"coloraxis\":{\"colorbar\":{\"outlinewidth\":0,\"ticks\":\"\"}},\"colorscale\":{\"sequential\":[[0.0,\"#0d0887\"],[0.1111111111111111,\"#46039f\"],[0.2222222222222222,\"#7201a8\"],[0.3333333333333333,\"#9c179e\"],[0.4444444444444444,\"#bd3786\"],[0.5555555555555556,\"#d8576b\"],[0.6666666666666666,\"#ed7953\"],[0.7777777777777778,\"#fb9f3a\"],[0.8888888888888888,\"#fdca26\"],[1.0,\"#f0f921\"]],\"sequentialminus\":[[0.0,\"#0d0887\"],[0.1111111111111111,\"#46039f\"],[0.2222222222222222,\"#7201a8\"],[0.3333333333333333,\"#9c179e\"],[0.4444444444444444,\"#bd3786\"],[0.5555555555555556,\"#d8576b\"],[0.6666666666666666,\"#ed7953\"],[0.7777777777777778,\"#fb9f3a\"],[0.8888888888888888,\"#fdca26\"],[1.0,\"#f0f921\"]],\"diverging\":[[0,\"#8e0152\"],[0.1,\"#c51b7d\"],[0.2,\"#de77ae\"],[0.3,\"#f1b6da\"],[0.4,\"#fde0ef\"],[0.5,\"#f7f7f7\"],[0.6,\"#e6f5d0\"],[0.7,\"#b8e186\"],[0.8,\"#7fbc41\"],[0.9,\"#4d9221\"],[1,\"#276419\"]]},\"xaxis\":{\"gridcolor\":\"white\",\"linecolor\":\"white\",\"ticks\":\"\",\"title\":{\"standoff\":15},\"zerolinecolor\":\"white\",\"automargin\":true,\"zerolinewidth\":2},\"yaxis\":{\"gridcolor\":\"white\",\"linecolor\":\"white\",\"ticks\":\"\",\"title\":{\"standoff\":15},\"zerolinecolor\":\"white\",\"automargin\":true,\"zerolinewidth\":2},\"scene\":{\"xaxis\":{\"backgroundcolor\":\"#E5ECF6\",\"gridcolor\":\"white\",\"linecolor\":\"white\",\"showbackground\":true,\"ticks\":\"\",\"zerolinecolor\":\"white\",\"gridwidth\":2},\"yaxis\":{\"backgroundcolor\":\"#E5ECF6\",\"gridcolor\":\"white\",\"linecolor\":\"white\",\"showbackground\":true,\"ticks\":\"\",\"zerolinecolor\":\"white\",\"gridwidth\":2},\"zaxis\":{\"backgroundcolor\":\"#E5ECF6\",\"gridcolor\":\"white\",\"linecolor\":\"white\",\"showbackground\":true,\"ticks\":\"\",\"zerolinecolor\":\"white\",\"gridwidth\":2}},\"shapedefaults\":{\"line\":{\"color\":\"#2a3f5f\"}},\"annotationdefaults\":{\"arrowcolor\":\"#2a3f5f\",\"arrowhead\":0,\"arrowwidth\":1},\"geo\":{\"bgcolor\":\"white\",\"landcolor\":\"#E5ECF6\",\"subunitcolor\":\"white\",\"showland\":true,\"showlakes\":true,\"lakecolor\":\"white\"},\"title\":{\"x\":0.05},\"mapbox\":{\"style\":\"light\"}}},\"polar\":{\"radialaxis\":{\"visible\":true,\"range\":[-2,2]}},\"title\":{\"text\":\"Behavior Cluster 0\"}},                        {\"responsive\": true}                    ).then(function(){\n",
       "                            \n",
       "var gd = document.getElementById('9080734d-d3ef-4bb8-98ab-edcf17ed23c2');\n",
       "var x = new MutationObserver(function (mutations, observer) {{\n",
       "        var display = window.getComputedStyle(gd).display;\n",
       "        if (!display || display === 'none') {{\n",
       "            console.log([gd, 'removed!']);\n",
       "            Plotly.purge(gd);\n",
       "            observer.disconnect();\n",
       "        }}\n",
       "}});\n",
       "\n",
       "// Listen for the removal of the full notebook cells\n",
       "var notebookContainer = gd.closest('#notebook-container');\n",
       "if (notebookContainer) {{\n",
       "    x.observe(notebookContainer, {childList: true});\n",
       "}}\n",
       "\n",
       "// Listen for the clearing of the current output cell\n",
       "var outputEl = gd.closest('.output');\n",
       "if (outputEl) {{\n",
       "    x.observe(outputEl, {childList: true});\n",
       "}}\n",
       "\n",
       "                        })                };                });            </script>        </div>"
      ]
     },
     "metadata": {},
     "output_type": "display_data"
    }
   ],
   "source": [
    "fig = go.Figure()\n",
    "\n",
    "fig.add_trace(go.Scatterpolar(r = bhv_scaled0.mean(), theta = bhv_scaled0.columns,fill='toself',fillcolor='deepskyblue', line_color='dodgerblue', opacity=0.8))\n",
    "\n",
    "fig.update_layout(title = 'Behavior Cluster 0',     \n",
    "    polar=dict(\n",
    "    radialaxis=dict(\n",
    "    visible=True,\n",
    "    range=[-2,2])))\n",
    "\n",
    "fig.show()"
   ]
  },
  {
   "cell_type": "code",
   "execution_count": 32,
   "id": "91ed5fc5",
   "metadata": {},
   "outputs": [
    {
     "data": {
      "text/html": [
       "<div>\n",
       "<style scoped>\n",
       "    .dataframe tbody tr th:only-of-type {\n",
       "        vertical-align: middle;\n",
       "    }\n",
       "\n",
       "    .dataframe tbody tr th {\n",
       "        vertical-align: top;\n",
       "    }\n",
       "\n",
       "    .dataframe thead th {\n",
       "        text-align: right;\n",
       "    }\n",
       "</style>\n",
       "<table border=\"1\" class=\"dataframe\">\n",
       "  <thead>\n",
       "    <tr style=\"text-align: right;\">\n",
       "      <th></th>\n",
       "      <th>income</th>\n",
       "      <th>total_saved</th>\n",
       "      <th>total_debt</th>\n",
       "      <th>avg_trans_amt</th>\n",
       "      <th>total_trans_amt</th>\n",
       "      <th>total_no_transactions</th>\n",
       "      <th>savings_acct_active</th>\n",
       "      <th>credit_acct_active</th>\n",
       "    </tr>\n",
       "  </thead>\n",
       "  <tbody>\n",
       "    <tr>\n",
       "      <th>count</th>\n",
       "      <td>8.000000</td>\n",
       "      <td>8.000000</td>\n",
       "      <td>8.000000</td>\n",
       "      <td>8.000000</td>\n",
       "      <td>8.00000</td>\n",
       "      <td>8.000000</td>\n",
       "      <td>8.000000</td>\n",
       "      <td>8.000000</td>\n",
       "    </tr>\n",
       "    <tr>\n",
       "      <th>mean</th>\n",
       "      <td>69583.250000</td>\n",
       "      <td>5830.512500</td>\n",
       "      <td>-1899.587500</td>\n",
       "      <td>46.440468</td>\n",
       "      <td>4598.23000</td>\n",
       "      <td>137.375000</td>\n",
       "      <td>0.875000</td>\n",
       "      <td>0.125000</td>\n",
       "    </tr>\n",
       "    <tr>\n",
       "      <th>std</th>\n",
       "      <td>20941.526133</td>\n",
       "      <td>2504.473834</td>\n",
       "      <td>3633.634591</td>\n",
       "      <td>54.296155</td>\n",
       "      <td>2963.23149</td>\n",
       "      <td>53.138465</td>\n",
       "      <td>0.353553</td>\n",
       "      <td>0.353553</td>\n",
       "    </tr>\n",
       "    <tr>\n",
       "      <th>min</th>\n",
       "      <td>34797.000000</td>\n",
       "      <td>3671.030000</td>\n",
       "      <td>-9557.000000</td>\n",
       "      <td>-0.567194</td>\n",
       "      <td>-78.84000</td>\n",
       "      <td>40.000000</td>\n",
       "      <td>0.000000</td>\n",
       "      <td>0.000000</td>\n",
       "    </tr>\n",
       "    <tr>\n",
       "      <th>25%</th>\n",
       "      <td>59083.250000</td>\n",
       "      <td>4162.465000</td>\n",
       "      <td>-2671.072500</td>\n",
       "      <td>24.059108</td>\n",
       "      <td>3438.78750</td>\n",
       "      <td>116.500000</td>\n",
       "      <td>1.000000</td>\n",
       "      <td>0.000000</td>\n",
       "    </tr>\n",
       "    <tr>\n",
       "      <th>50%</th>\n",
       "      <td>72163.000000</td>\n",
       "      <td>4681.955000</td>\n",
       "      <td>0.000000</td>\n",
       "      <td>33.989497</td>\n",
       "      <td>4314.18500</td>\n",
       "      <td>135.500000</td>\n",
       "      <td>1.000000</td>\n",
       "      <td>0.000000</td>\n",
       "    </tr>\n",
       "    <tr>\n",
       "      <th>75%</th>\n",
       "      <td>80376.500000</td>\n",
       "      <td>7063.532500</td>\n",
       "      <td>0.000000</td>\n",
       "      <td>41.620401</td>\n",
       "      <td>5712.58250</td>\n",
       "      <td>179.750000</td>\n",
       "      <td>1.000000</td>\n",
       "      <td>0.000000</td>\n",
       "    </tr>\n",
       "    <tr>\n",
       "      <th>max</th>\n",
       "      <td>102286.000000</td>\n",
       "      <td>11079.850000</td>\n",
       "      <td>1241.510000</td>\n",
       "      <td>175.163000</td>\n",
       "      <td>9804.75000</td>\n",
       "      <td>201.000000</td>\n",
       "      <td>1.000000</td>\n",
       "      <td>1.000000</td>\n",
       "    </tr>\n",
       "  </tbody>\n",
       "</table>\n",
       "</div>"
      ],
      "text/plain": [
       "              income   total_saved   total_debt  avg_trans_amt  \\\n",
       "count       8.000000      8.000000     8.000000       8.000000   \n",
       "mean    69583.250000   5830.512500 -1899.587500      46.440468   \n",
       "std     20941.526133   2504.473834  3633.634591      54.296155   \n",
       "min     34797.000000   3671.030000 -9557.000000      -0.567194   \n",
       "25%     59083.250000   4162.465000 -2671.072500      24.059108   \n",
       "50%     72163.000000   4681.955000     0.000000      33.989497   \n",
       "75%     80376.500000   7063.532500     0.000000      41.620401   \n",
       "max    102286.000000  11079.850000  1241.510000     175.163000   \n",
       "\n",
       "       total_trans_amt  total_no_transactions  savings_acct_active  \\\n",
       "count          8.00000               8.000000             8.000000   \n",
       "mean        4598.23000             137.375000             0.875000   \n",
       "std         2963.23149              53.138465             0.353553   \n",
       "min          -78.84000              40.000000             0.000000   \n",
       "25%         3438.78750             116.500000             1.000000   \n",
       "50%         4314.18500             135.500000             1.000000   \n",
       "75%         5712.58250             179.750000             1.000000   \n",
       "max         9804.75000             201.000000             1.000000   \n",
       "\n",
       "       credit_acct_active  \n",
       "count            8.000000  \n",
       "mean             0.125000  \n",
       "std              0.353553  \n",
       "min              0.000000  \n",
       "25%              0.000000  \n",
       "50%              0.000000  \n",
       "75%              0.000000  \n",
       "max              1.000000  "
      ]
     },
     "execution_count": 32,
     "metadata": {},
     "output_type": "execute_result"
    }
   ],
   "source": [
    "bhv_df_c1.describe()"
   ]
  },
  {
   "cell_type": "code",
   "execution_count": 33,
   "id": "358b950b",
   "metadata": {},
   "outputs": [
    {
     "data": {
      "text/html": [
       "<div>\n",
       "<style scoped>\n",
       "    .dataframe tbody tr th:only-of-type {\n",
       "        vertical-align: middle;\n",
       "    }\n",
       "\n",
       "    .dataframe tbody tr th {\n",
       "        vertical-align: top;\n",
       "    }\n",
       "\n",
       "    .dataframe thead th {\n",
       "        text-align: right;\n",
       "    }\n",
       "</style>\n",
       "<table border=\"1\" class=\"dataframe\">\n",
       "  <thead>\n",
       "    <tr style=\"text-align: right;\">\n",
       "      <th></th>\n",
       "      <th>income</th>\n",
       "      <th>total_saved</th>\n",
       "      <th>total_debt</th>\n",
       "      <th>avg_trans_amt</th>\n",
       "      <th>total_trans_amt</th>\n",
       "      <th>total_no_transactions</th>\n",
       "      <th>savings_acct</th>\n",
       "      <th>credit_acct</th>\n",
       "    </tr>\n",
       "  </thead>\n",
       "  <tbody>\n",
       "    <tr>\n",
       "      <th>count</th>\n",
       "      <td>8.000000</td>\n",
       "      <td>8.000000</td>\n",
       "      <td>8.000000</td>\n",
       "      <td>8.000000</td>\n",
       "      <td>8.000000</td>\n",
       "      <td>8.000000</td>\n",
       "      <td>8.000000</td>\n",
       "      <td>8.000000</td>\n",
       "    </tr>\n",
       "    <tr>\n",
       "      <th>mean</th>\n",
       "      <td>2.092980</td>\n",
       "      <td>6.398298</td>\n",
       "      <td>-1.136943</td>\n",
       "      <td>1.764749</td>\n",
       "      <td>2.042463</td>\n",
       "      <td>0.361348</td>\n",
       "      <td>0.375000</td>\n",
       "      <td>0.375000</td>\n",
       "    </tr>\n",
       "    <tr>\n",
       "      <th>std</th>\n",
       "      <td>0.942968</td>\n",
       "      <td>2.868320</td>\n",
       "      <td>2.121535</td>\n",
       "      <td>1.823759</td>\n",
       "      <td>1.095953</td>\n",
       "      <td>0.941568</td>\n",
       "      <td>0.517549</td>\n",
       "      <td>0.517549</td>\n",
       "    </tr>\n",
       "    <tr>\n",
       "      <th>min</th>\n",
       "      <td>0.526603</td>\n",
       "      <td>3.925090</td>\n",
       "      <td>-5.607802</td>\n",
       "      <td>0.185804</td>\n",
       "      <td>0.312646</td>\n",
       "      <td>-1.364053</td>\n",
       "      <td>0.000000</td>\n",
       "      <td>0.000000</td>\n",
       "    </tr>\n",
       "    <tr>\n",
       "      <th>25%</th>\n",
       "      <td>1.620179</td>\n",
       "      <td>4.487920</td>\n",
       "      <td>-1.587382</td>\n",
       "      <td>1.012979</td>\n",
       "      <td>1.613643</td>\n",
       "      <td>-0.008539</td>\n",
       "      <td>0.000000</td>\n",
       "      <td>0.000000</td>\n",
       "    </tr>\n",
       "    <tr>\n",
       "      <th>50%</th>\n",
       "      <td>2.209142</td>\n",
       "      <td>5.082880</td>\n",
       "      <td>-0.027849</td>\n",
       "      <td>1.346532</td>\n",
       "      <td>1.937409</td>\n",
       "      <td>0.328125</td>\n",
       "      <td>0.000000</td>\n",
       "      <td>0.000000</td>\n",
       "    </tr>\n",
       "    <tr>\n",
       "      <th>75%</th>\n",
       "      <td>2.578985</td>\n",
       "      <td>7.810450</td>\n",
       "      <td>-0.027849</td>\n",
       "      <td>1.602847</td>\n",
       "      <td>2.454607</td>\n",
       "      <td>1.112196</td>\n",
       "      <td>1.000000</td>\n",
       "      <td>1.000000</td>\n",
       "    </tr>\n",
       "    <tr>\n",
       "      <th>max</th>\n",
       "      <td>3.565540</td>\n",
       "      <td>12.410251</td>\n",
       "      <td>0.697019</td>\n",
       "      <td>6.088423</td>\n",
       "      <td>3.968098</td>\n",
       "      <td>1.488728</td>\n",
       "      <td>1.000000</td>\n",
       "      <td>1.000000</td>\n",
       "    </tr>\n",
       "  </tbody>\n",
       "</table>\n",
       "</div>"
      ],
      "text/plain": [
       "         income  total_saved  total_debt  avg_trans_amt  total_trans_amt  \\\n",
       "count  8.000000     8.000000    8.000000       8.000000         8.000000   \n",
       "mean   2.092980     6.398298   -1.136943       1.764749         2.042463   \n",
       "std    0.942968     2.868320    2.121535       1.823759         1.095953   \n",
       "min    0.526603     3.925090   -5.607802       0.185804         0.312646   \n",
       "25%    1.620179     4.487920   -1.587382       1.012979         1.613643   \n",
       "50%    2.209142     5.082880   -0.027849       1.346532         1.937409   \n",
       "75%    2.578985     7.810450   -0.027849       1.602847         2.454607   \n",
       "max    3.565540    12.410251    0.697019       6.088423         3.968098   \n",
       "\n",
       "       total_no_transactions  savings_acct  credit_acct  \n",
       "count               8.000000      8.000000     8.000000  \n",
       "mean                0.361348      0.375000     0.375000  \n",
       "std                 0.941568      0.517549     0.517549  \n",
       "min                -1.364053      0.000000     0.000000  \n",
       "25%                -0.008539      0.000000     0.000000  \n",
       "50%                 0.328125      0.000000     0.000000  \n",
       "75%                 1.112196      1.000000     1.000000  \n",
       "max                 1.488728      1.000000     1.000000  "
      ]
     },
     "execution_count": 33,
     "metadata": {},
     "output_type": "execute_result"
    }
   ],
   "source": [
    "bhv_scaled1.describe()"
   ]
  },
  {
   "cell_type": "code",
   "execution_count": 45,
   "id": "4d5dc227",
   "metadata": {},
   "outputs": [
    {
     "data": {
      "application/vnd.plotly.v1+json": {
       "config": {
        "plotlyServerURL": "https://plot.ly"
       },
       "data": [
        {
         "fill": "toself",
         "fillcolor": "coral",
         "line": {
          "color": "lightcoral"
         },
         "opacity": 0.8,
         "r": [
          2.0929798568552207,
          6.39829845311763,
          -1.1369430513206478,
          1.7647490480889378,
          2.0424633470334115,
          0.36134809272070356,
          0.375,
          0.375
         ],
         "theta": [
          "income",
          "total_saved",
          "total_debt",
          "avg_trans_amt",
          "total_trans_amt",
          "total_no_transactions",
          "savings_acct",
          "credit_acct"
         ],
         "type": "scatterpolar"
        }
       ],
       "layout": {
        "polar": {
         "radialaxis": {
          "range": [
           -2,
           7
          ],
          "visible": true
         }
        },
        "template": {
         "data": {
          "bar": [
           {
            "error_x": {
             "color": "#2a3f5f"
            },
            "error_y": {
             "color": "#2a3f5f"
            },
            "marker": {
             "line": {
              "color": "#E5ECF6",
              "width": 0.5
             },
             "pattern": {
              "fillmode": "overlay",
              "size": 10,
              "solidity": 0.2
             }
            },
            "type": "bar"
           }
          ],
          "barpolar": [
           {
            "marker": {
             "line": {
              "color": "#E5ECF6",
              "width": 0.5
             },
             "pattern": {
              "fillmode": "overlay",
              "size": 10,
              "solidity": 0.2
             }
            },
            "type": "barpolar"
           }
          ],
          "carpet": [
           {
            "aaxis": {
             "endlinecolor": "#2a3f5f",
             "gridcolor": "white",
             "linecolor": "white",
             "minorgridcolor": "white",
             "startlinecolor": "#2a3f5f"
            },
            "baxis": {
             "endlinecolor": "#2a3f5f",
             "gridcolor": "white",
             "linecolor": "white",
             "minorgridcolor": "white",
             "startlinecolor": "#2a3f5f"
            },
            "type": "carpet"
           }
          ],
          "choropleth": [
           {
            "colorbar": {
             "outlinewidth": 0,
             "ticks": ""
            },
            "type": "choropleth"
           }
          ],
          "contour": [
           {
            "colorbar": {
             "outlinewidth": 0,
             "ticks": ""
            },
            "colorscale": [
             [
              0,
              "#0d0887"
             ],
             [
              0.1111111111111111,
              "#46039f"
             ],
             [
              0.2222222222222222,
              "#7201a8"
             ],
             [
              0.3333333333333333,
              "#9c179e"
             ],
             [
              0.4444444444444444,
              "#bd3786"
             ],
             [
              0.5555555555555556,
              "#d8576b"
             ],
             [
              0.6666666666666666,
              "#ed7953"
             ],
             [
              0.7777777777777778,
              "#fb9f3a"
             ],
             [
              0.8888888888888888,
              "#fdca26"
             ],
             [
              1,
              "#f0f921"
             ]
            ],
            "type": "contour"
           }
          ],
          "contourcarpet": [
           {
            "colorbar": {
             "outlinewidth": 0,
             "ticks": ""
            },
            "type": "contourcarpet"
           }
          ],
          "heatmap": [
           {
            "colorbar": {
             "outlinewidth": 0,
             "ticks": ""
            },
            "colorscale": [
             [
              0,
              "#0d0887"
             ],
             [
              0.1111111111111111,
              "#46039f"
             ],
             [
              0.2222222222222222,
              "#7201a8"
             ],
             [
              0.3333333333333333,
              "#9c179e"
             ],
             [
              0.4444444444444444,
              "#bd3786"
             ],
             [
              0.5555555555555556,
              "#d8576b"
             ],
             [
              0.6666666666666666,
              "#ed7953"
             ],
             [
              0.7777777777777778,
              "#fb9f3a"
             ],
             [
              0.8888888888888888,
              "#fdca26"
             ],
             [
              1,
              "#f0f921"
             ]
            ],
            "type": "heatmap"
           }
          ],
          "heatmapgl": [
           {
            "colorbar": {
             "outlinewidth": 0,
             "ticks": ""
            },
            "colorscale": [
             [
              0,
              "#0d0887"
             ],
             [
              0.1111111111111111,
              "#46039f"
             ],
             [
              0.2222222222222222,
              "#7201a8"
             ],
             [
              0.3333333333333333,
              "#9c179e"
             ],
             [
              0.4444444444444444,
              "#bd3786"
             ],
             [
              0.5555555555555556,
              "#d8576b"
             ],
             [
              0.6666666666666666,
              "#ed7953"
             ],
             [
              0.7777777777777778,
              "#fb9f3a"
             ],
             [
              0.8888888888888888,
              "#fdca26"
             ],
             [
              1,
              "#f0f921"
             ]
            ],
            "type": "heatmapgl"
           }
          ],
          "histogram": [
           {
            "marker": {
             "pattern": {
              "fillmode": "overlay",
              "size": 10,
              "solidity": 0.2
             }
            },
            "type": "histogram"
           }
          ],
          "histogram2d": [
           {
            "colorbar": {
             "outlinewidth": 0,
             "ticks": ""
            },
            "colorscale": [
             [
              0,
              "#0d0887"
             ],
             [
              0.1111111111111111,
              "#46039f"
             ],
             [
              0.2222222222222222,
              "#7201a8"
             ],
             [
              0.3333333333333333,
              "#9c179e"
             ],
             [
              0.4444444444444444,
              "#bd3786"
             ],
             [
              0.5555555555555556,
              "#d8576b"
             ],
             [
              0.6666666666666666,
              "#ed7953"
             ],
             [
              0.7777777777777778,
              "#fb9f3a"
             ],
             [
              0.8888888888888888,
              "#fdca26"
             ],
             [
              1,
              "#f0f921"
             ]
            ],
            "type": "histogram2d"
           }
          ],
          "histogram2dcontour": [
           {
            "colorbar": {
             "outlinewidth": 0,
             "ticks": ""
            },
            "colorscale": [
             [
              0,
              "#0d0887"
             ],
             [
              0.1111111111111111,
              "#46039f"
             ],
             [
              0.2222222222222222,
              "#7201a8"
             ],
             [
              0.3333333333333333,
              "#9c179e"
             ],
             [
              0.4444444444444444,
              "#bd3786"
             ],
             [
              0.5555555555555556,
              "#d8576b"
             ],
             [
              0.6666666666666666,
              "#ed7953"
             ],
             [
              0.7777777777777778,
              "#fb9f3a"
             ],
             [
              0.8888888888888888,
              "#fdca26"
             ],
             [
              1,
              "#f0f921"
             ]
            ],
            "type": "histogram2dcontour"
           }
          ],
          "mesh3d": [
           {
            "colorbar": {
             "outlinewidth": 0,
             "ticks": ""
            },
            "type": "mesh3d"
           }
          ],
          "parcoords": [
           {
            "line": {
             "colorbar": {
              "outlinewidth": 0,
              "ticks": ""
             }
            },
            "type": "parcoords"
           }
          ],
          "pie": [
           {
            "automargin": true,
            "type": "pie"
           }
          ],
          "scatter": [
           {
            "fillpattern": {
             "fillmode": "overlay",
             "size": 10,
             "solidity": 0.2
            },
            "type": "scatter"
           }
          ],
          "scatter3d": [
           {
            "line": {
             "colorbar": {
              "outlinewidth": 0,
              "ticks": ""
             }
            },
            "marker": {
             "colorbar": {
              "outlinewidth": 0,
              "ticks": ""
             }
            },
            "type": "scatter3d"
           }
          ],
          "scattercarpet": [
           {
            "marker": {
             "colorbar": {
              "outlinewidth": 0,
              "ticks": ""
             }
            },
            "type": "scattercarpet"
           }
          ],
          "scattergeo": [
           {
            "marker": {
             "colorbar": {
              "outlinewidth": 0,
              "ticks": ""
             }
            },
            "type": "scattergeo"
           }
          ],
          "scattergl": [
           {
            "marker": {
             "colorbar": {
              "outlinewidth": 0,
              "ticks": ""
             }
            },
            "type": "scattergl"
           }
          ],
          "scattermapbox": [
           {
            "marker": {
             "colorbar": {
              "outlinewidth": 0,
              "ticks": ""
             }
            },
            "type": "scattermapbox"
           }
          ],
          "scatterpolar": [
           {
            "marker": {
             "colorbar": {
              "outlinewidth": 0,
              "ticks": ""
             }
            },
            "type": "scatterpolar"
           }
          ],
          "scatterpolargl": [
           {
            "marker": {
             "colorbar": {
              "outlinewidth": 0,
              "ticks": ""
             }
            },
            "type": "scatterpolargl"
           }
          ],
          "scatterternary": [
           {
            "marker": {
             "colorbar": {
              "outlinewidth": 0,
              "ticks": ""
             }
            },
            "type": "scatterternary"
           }
          ],
          "surface": [
           {
            "colorbar": {
             "outlinewidth": 0,
             "ticks": ""
            },
            "colorscale": [
             [
              0,
              "#0d0887"
             ],
             [
              0.1111111111111111,
              "#46039f"
             ],
             [
              0.2222222222222222,
              "#7201a8"
             ],
             [
              0.3333333333333333,
              "#9c179e"
             ],
             [
              0.4444444444444444,
              "#bd3786"
             ],
             [
              0.5555555555555556,
              "#d8576b"
             ],
             [
              0.6666666666666666,
              "#ed7953"
             ],
             [
              0.7777777777777778,
              "#fb9f3a"
             ],
             [
              0.8888888888888888,
              "#fdca26"
             ],
             [
              1,
              "#f0f921"
             ]
            ],
            "type": "surface"
           }
          ],
          "table": [
           {
            "cells": {
             "fill": {
              "color": "#EBF0F8"
             },
             "line": {
              "color": "white"
             }
            },
            "header": {
             "fill": {
              "color": "#C8D4E3"
             },
             "line": {
              "color": "white"
             }
            },
            "type": "table"
           }
          ]
         },
         "layout": {
          "annotationdefaults": {
           "arrowcolor": "#2a3f5f",
           "arrowhead": 0,
           "arrowwidth": 1
          },
          "autotypenumbers": "strict",
          "coloraxis": {
           "colorbar": {
            "outlinewidth": 0,
            "ticks": ""
           }
          },
          "colorscale": {
           "diverging": [
            [
             0,
             "#8e0152"
            ],
            [
             0.1,
             "#c51b7d"
            ],
            [
             0.2,
             "#de77ae"
            ],
            [
             0.3,
             "#f1b6da"
            ],
            [
             0.4,
             "#fde0ef"
            ],
            [
             0.5,
             "#f7f7f7"
            ],
            [
             0.6,
             "#e6f5d0"
            ],
            [
             0.7,
             "#b8e186"
            ],
            [
             0.8,
             "#7fbc41"
            ],
            [
             0.9,
             "#4d9221"
            ],
            [
             1,
             "#276419"
            ]
           ],
           "sequential": [
            [
             0,
             "#0d0887"
            ],
            [
             0.1111111111111111,
             "#46039f"
            ],
            [
             0.2222222222222222,
             "#7201a8"
            ],
            [
             0.3333333333333333,
             "#9c179e"
            ],
            [
             0.4444444444444444,
             "#bd3786"
            ],
            [
             0.5555555555555556,
             "#d8576b"
            ],
            [
             0.6666666666666666,
             "#ed7953"
            ],
            [
             0.7777777777777778,
             "#fb9f3a"
            ],
            [
             0.8888888888888888,
             "#fdca26"
            ],
            [
             1,
             "#f0f921"
            ]
           ],
           "sequentialminus": [
            [
             0,
             "#0d0887"
            ],
            [
             0.1111111111111111,
             "#46039f"
            ],
            [
             0.2222222222222222,
             "#7201a8"
            ],
            [
             0.3333333333333333,
             "#9c179e"
            ],
            [
             0.4444444444444444,
             "#bd3786"
            ],
            [
             0.5555555555555556,
             "#d8576b"
            ],
            [
             0.6666666666666666,
             "#ed7953"
            ],
            [
             0.7777777777777778,
             "#fb9f3a"
            ],
            [
             0.8888888888888888,
             "#fdca26"
            ],
            [
             1,
             "#f0f921"
            ]
           ]
          },
          "colorway": [
           "#636efa",
           "#EF553B",
           "#00cc96",
           "#ab63fa",
           "#FFA15A",
           "#19d3f3",
           "#FF6692",
           "#B6E880",
           "#FF97FF",
           "#FECB52"
          ],
          "font": {
           "color": "#2a3f5f"
          },
          "geo": {
           "bgcolor": "white",
           "lakecolor": "white",
           "landcolor": "#E5ECF6",
           "showlakes": true,
           "showland": true,
           "subunitcolor": "white"
          },
          "hoverlabel": {
           "align": "left"
          },
          "hovermode": "closest",
          "mapbox": {
           "style": "light"
          },
          "paper_bgcolor": "white",
          "plot_bgcolor": "#E5ECF6",
          "polar": {
           "angularaxis": {
            "gridcolor": "white",
            "linecolor": "white",
            "ticks": ""
           },
           "bgcolor": "#E5ECF6",
           "radialaxis": {
            "gridcolor": "white",
            "linecolor": "white",
            "ticks": ""
           }
          },
          "scene": {
           "xaxis": {
            "backgroundcolor": "#E5ECF6",
            "gridcolor": "white",
            "gridwidth": 2,
            "linecolor": "white",
            "showbackground": true,
            "ticks": "",
            "zerolinecolor": "white"
           },
           "yaxis": {
            "backgroundcolor": "#E5ECF6",
            "gridcolor": "white",
            "gridwidth": 2,
            "linecolor": "white",
            "showbackground": true,
            "ticks": "",
            "zerolinecolor": "white"
           },
           "zaxis": {
            "backgroundcolor": "#E5ECF6",
            "gridcolor": "white",
            "gridwidth": 2,
            "linecolor": "white",
            "showbackground": true,
            "ticks": "",
            "zerolinecolor": "white"
           }
          },
          "shapedefaults": {
           "line": {
            "color": "#2a3f5f"
           }
          },
          "ternary": {
           "aaxis": {
            "gridcolor": "white",
            "linecolor": "white",
            "ticks": ""
           },
           "baxis": {
            "gridcolor": "white",
            "linecolor": "white",
            "ticks": ""
           },
           "bgcolor": "#E5ECF6",
           "caxis": {
            "gridcolor": "white",
            "linecolor": "white",
            "ticks": ""
           }
          },
          "title": {
           "x": 0.05
          },
          "xaxis": {
           "automargin": true,
           "gridcolor": "white",
           "linecolor": "white",
           "ticks": "",
           "title": {
            "standoff": 15
           },
           "zerolinecolor": "white",
           "zerolinewidth": 2
          },
          "yaxis": {
           "automargin": true,
           "gridcolor": "white",
           "linecolor": "white",
           "ticks": "",
           "title": {
            "standoff": 15
           },
           "zerolinecolor": "white",
           "zerolinewidth": 2
          }
         }
        },
        "title": {
         "text": "Behavior Cluster 1"
        }
       }
      },
      "text/html": [
       "<div>                            <div id=\"7091ef24-ffbc-46cb-8ef8-29f35db9f1fa\" class=\"plotly-graph-div\" style=\"height:525px; width:100%;\"></div>            <script type=\"text/javascript\">                require([\"plotly\"], function(Plotly) {                    window.PLOTLYENV=window.PLOTLYENV || {};                                    if (document.getElementById(\"7091ef24-ffbc-46cb-8ef8-29f35db9f1fa\")) {                    Plotly.newPlot(                        \"7091ef24-ffbc-46cb-8ef8-29f35db9f1fa\",                        [{\"fill\":\"toself\",\"fillcolor\":\"coral\",\"line\":{\"color\":\"lightcoral\"},\"opacity\":0.8,\"r\":[2.0929798568552207,6.39829845311763,-1.1369430513206478,1.7647490480889378,2.0424633470334115,0.36134809272070356,0.375,0.375],\"theta\":[\"income\",\"total_saved\",\"total_debt\",\"avg_trans_amt\",\"total_trans_amt\",\"total_no_transactions\",\"savings_acct\",\"credit_acct\"],\"type\":\"scatterpolar\"}],                        {\"template\":{\"data\":{\"histogram2dcontour\":[{\"type\":\"histogram2dcontour\",\"colorbar\":{\"outlinewidth\":0,\"ticks\":\"\"},\"colorscale\":[[0.0,\"#0d0887\"],[0.1111111111111111,\"#46039f\"],[0.2222222222222222,\"#7201a8\"],[0.3333333333333333,\"#9c179e\"],[0.4444444444444444,\"#bd3786\"],[0.5555555555555556,\"#d8576b\"],[0.6666666666666666,\"#ed7953\"],[0.7777777777777778,\"#fb9f3a\"],[0.8888888888888888,\"#fdca26\"],[1.0,\"#f0f921\"]]}],\"choropleth\":[{\"type\":\"choropleth\",\"colorbar\":{\"outlinewidth\":0,\"ticks\":\"\"}}],\"histogram2d\":[{\"type\":\"histogram2d\",\"colorbar\":{\"outlinewidth\":0,\"ticks\":\"\"},\"colorscale\":[[0.0,\"#0d0887\"],[0.1111111111111111,\"#46039f\"],[0.2222222222222222,\"#7201a8\"],[0.3333333333333333,\"#9c179e\"],[0.4444444444444444,\"#bd3786\"],[0.5555555555555556,\"#d8576b\"],[0.6666666666666666,\"#ed7953\"],[0.7777777777777778,\"#fb9f3a\"],[0.8888888888888888,\"#fdca26\"],[1.0,\"#f0f921\"]]}],\"heatmap\":[{\"type\":\"heatmap\",\"colorbar\":{\"outlinewidth\":0,\"ticks\":\"\"},\"colorscale\":[[0.0,\"#0d0887\"],[0.1111111111111111,\"#46039f\"],[0.2222222222222222,\"#7201a8\"],[0.3333333333333333,\"#9c179e\"],[0.4444444444444444,\"#bd3786\"],[0.5555555555555556,\"#d8576b\"],[0.6666666666666666,\"#ed7953\"],[0.7777777777777778,\"#fb9f3a\"],[0.8888888888888888,\"#fdca26\"],[1.0,\"#f0f921\"]]}],\"heatmapgl\":[{\"type\":\"heatmapgl\",\"colorbar\":{\"outlinewidth\":0,\"ticks\":\"\"},\"colorscale\":[[0.0,\"#0d0887\"],[0.1111111111111111,\"#46039f\"],[0.2222222222222222,\"#7201a8\"],[0.3333333333333333,\"#9c179e\"],[0.4444444444444444,\"#bd3786\"],[0.5555555555555556,\"#d8576b\"],[0.6666666666666666,\"#ed7953\"],[0.7777777777777778,\"#fb9f3a\"],[0.8888888888888888,\"#fdca26\"],[1.0,\"#f0f921\"]]}],\"contourcarpet\":[{\"type\":\"contourcarpet\",\"colorbar\":{\"outlinewidth\":0,\"ticks\":\"\"}}],\"contour\":[{\"type\":\"contour\",\"colorbar\":{\"outlinewidth\":0,\"ticks\":\"\"},\"colorscale\":[[0.0,\"#0d0887\"],[0.1111111111111111,\"#46039f\"],[0.2222222222222222,\"#7201a8\"],[0.3333333333333333,\"#9c179e\"],[0.4444444444444444,\"#bd3786\"],[0.5555555555555556,\"#d8576b\"],[0.6666666666666666,\"#ed7953\"],[0.7777777777777778,\"#fb9f3a\"],[0.8888888888888888,\"#fdca26\"],[1.0,\"#f0f921\"]]}],\"surface\":[{\"type\":\"surface\",\"colorbar\":{\"outlinewidth\":0,\"ticks\":\"\"},\"colorscale\":[[0.0,\"#0d0887\"],[0.1111111111111111,\"#46039f\"],[0.2222222222222222,\"#7201a8\"],[0.3333333333333333,\"#9c179e\"],[0.4444444444444444,\"#bd3786\"],[0.5555555555555556,\"#d8576b\"],[0.6666666666666666,\"#ed7953\"],[0.7777777777777778,\"#fb9f3a\"],[0.8888888888888888,\"#fdca26\"],[1.0,\"#f0f921\"]]}],\"mesh3d\":[{\"type\":\"mesh3d\",\"colorbar\":{\"outlinewidth\":0,\"ticks\":\"\"}}],\"scatter\":[{\"fillpattern\":{\"fillmode\":\"overlay\",\"size\":10,\"solidity\":0.2},\"type\":\"scatter\"}],\"parcoords\":[{\"type\":\"parcoords\",\"line\":{\"colorbar\":{\"outlinewidth\":0,\"ticks\":\"\"}}}],\"scatterpolargl\":[{\"type\":\"scatterpolargl\",\"marker\":{\"colorbar\":{\"outlinewidth\":0,\"ticks\":\"\"}}}],\"bar\":[{\"error_x\":{\"color\":\"#2a3f5f\"},\"error_y\":{\"color\":\"#2a3f5f\"},\"marker\":{\"line\":{\"color\":\"#E5ECF6\",\"width\":0.5},\"pattern\":{\"fillmode\":\"overlay\",\"size\":10,\"solidity\":0.2}},\"type\":\"bar\"}],\"scattergeo\":[{\"type\":\"scattergeo\",\"marker\":{\"colorbar\":{\"outlinewidth\":0,\"ticks\":\"\"}}}],\"scatterpolar\":[{\"type\":\"scatterpolar\",\"marker\":{\"colorbar\":{\"outlinewidth\":0,\"ticks\":\"\"}}}],\"histogram\":[{\"marker\":{\"pattern\":{\"fillmode\":\"overlay\",\"size\":10,\"solidity\":0.2}},\"type\":\"histogram\"}],\"scattergl\":[{\"type\":\"scattergl\",\"marker\":{\"colorbar\":{\"outlinewidth\":0,\"ticks\":\"\"}}}],\"scatter3d\":[{\"type\":\"scatter3d\",\"line\":{\"colorbar\":{\"outlinewidth\":0,\"ticks\":\"\"}},\"marker\":{\"colorbar\":{\"outlinewidth\":0,\"ticks\":\"\"}}}],\"scattermapbox\":[{\"type\":\"scattermapbox\",\"marker\":{\"colorbar\":{\"outlinewidth\":0,\"ticks\":\"\"}}}],\"scatterternary\":[{\"type\":\"scatterternary\",\"marker\":{\"colorbar\":{\"outlinewidth\":0,\"ticks\":\"\"}}}],\"scattercarpet\":[{\"type\":\"scattercarpet\",\"marker\":{\"colorbar\":{\"outlinewidth\":0,\"ticks\":\"\"}}}],\"carpet\":[{\"aaxis\":{\"endlinecolor\":\"#2a3f5f\",\"gridcolor\":\"white\",\"linecolor\":\"white\",\"minorgridcolor\":\"white\",\"startlinecolor\":\"#2a3f5f\"},\"baxis\":{\"endlinecolor\":\"#2a3f5f\",\"gridcolor\":\"white\",\"linecolor\":\"white\",\"minorgridcolor\":\"white\",\"startlinecolor\":\"#2a3f5f\"},\"type\":\"carpet\"}],\"table\":[{\"cells\":{\"fill\":{\"color\":\"#EBF0F8\"},\"line\":{\"color\":\"white\"}},\"header\":{\"fill\":{\"color\":\"#C8D4E3\"},\"line\":{\"color\":\"white\"}},\"type\":\"table\"}],\"barpolar\":[{\"marker\":{\"line\":{\"color\":\"#E5ECF6\",\"width\":0.5},\"pattern\":{\"fillmode\":\"overlay\",\"size\":10,\"solidity\":0.2}},\"type\":\"barpolar\"}],\"pie\":[{\"automargin\":true,\"type\":\"pie\"}]},\"layout\":{\"autotypenumbers\":\"strict\",\"colorway\":[\"#636efa\",\"#EF553B\",\"#00cc96\",\"#ab63fa\",\"#FFA15A\",\"#19d3f3\",\"#FF6692\",\"#B6E880\",\"#FF97FF\",\"#FECB52\"],\"font\":{\"color\":\"#2a3f5f\"},\"hovermode\":\"closest\",\"hoverlabel\":{\"align\":\"left\"},\"paper_bgcolor\":\"white\",\"plot_bgcolor\":\"#E5ECF6\",\"polar\":{\"bgcolor\":\"#E5ECF6\",\"angularaxis\":{\"gridcolor\":\"white\",\"linecolor\":\"white\",\"ticks\":\"\"},\"radialaxis\":{\"gridcolor\":\"white\",\"linecolor\":\"white\",\"ticks\":\"\"}},\"ternary\":{\"bgcolor\":\"#E5ECF6\",\"aaxis\":{\"gridcolor\":\"white\",\"linecolor\":\"white\",\"ticks\":\"\"},\"baxis\":{\"gridcolor\":\"white\",\"linecolor\":\"white\",\"ticks\":\"\"},\"caxis\":{\"gridcolor\":\"white\",\"linecolor\":\"white\",\"ticks\":\"\"}},\"coloraxis\":{\"colorbar\":{\"outlinewidth\":0,\"ticks\":\"\"}},\"colorscale\":{\"sequential\":[[0.0,\"#0d0887\"],[0.1111111111111111,\"#46039f\"],[0.2222222222222222,\"#7201a8\"],[0.3333333333333333,\"#9c179e\"],[0.4444444444444444,\"#bd3786\"],[0.5555555555555556,\"#d8576b\"],[0.6666666666666666,\"#ed7953\"],[0.7777777777777778,\"#fb9f3a\"],[0.8888888888888888,\"#fdca26\"],[1.0,\"#f0f921\"]],\"sequentialminus\":[[0.0,\"#0d0887\"],[0.1111111111111111,\"#46039f\"],[0.2222222222222222,\"#7201a8\"],[0.3333333333333333,\"#9c179e\"],[0.4444444444444444,\"#bd3786\"],[0.5555555555555556,\"#d8576b\"],[0.6666666666666666,\"#ed7953\"],[0.7777777777777778,\"#fb9f3a\"],[0.8888888888888888,\"#fdca26\"],[1.0,\"#f0f921\"]],\"diverging\":[[0,\"#8e0152\"],[0.1,\"#c51b7d\"],[0.2,\"#de77ae\"],[0.3,\"#f1b6da\"],[0.4,\"#fde0ef\"],[0.5,\"#f7f7f7\"],[0.6,\"#e6f5d0\"],[0.7,\"#b8e186\"],[0.8,\"#7fbc41\"],[0.9,\"#4d9221\"],[1,\"#276419\"]]},\"xaxis\":{\"gridcolor\":\"white\",\"linecolor\":\"white\",\"ticks\":\"\",\"title\":{\"standoff\":15},\"zerolinecolor\":\"white\",\"automargin\":true,\"zerolinewidth\":2},\"yaxis\":{\"gridcolor\":\"white\",\"linecolor\":\"white\",\"ticks\":\"\",\"title\":{\"standoff\":15},\"zerolinecolor\":\"white\",\"automargin\":true,\"zerolinewidth\":2},\"scene\":{\"xaxis\":{\"backgroundcolor\":\"#E5ECF6\",\"gridcolor\":\"white\",\"linecolor\":\"white\",\"showbackground\":true,\"ticks\":\"\",\"zerolinecolor\":\"white\",\"gridwidth\":2},\"yaxis\":{\"backgroundcolor\":\"#E5ECF6\",\"gridcolor\":\"white\",\"linecolor\":\"white\",\"showbackground\":true,\"ticks\":\"\",\"zerolinecolor\":\"white\",\"gridwidth\":2},\"zaxis\":{\"backgroundcolor\":\"#E5ECF6\",\"gridcolor\":\"white\",\"linecolor\":\"white\",\"showbackground\":true,\"ticks\":\"\",\"zerolinecolor\":\"white\",\"gridwidth\":2}},\"shapedefaults\":{\"line\":{\"color\":\"#2a3f5f\"}},\"annotationdefaults\":{\"arrowcolor\":\"#2a3f5f\",\"arrowhead\":0,\"arrowwidth\":1},\"geo\":{\"bgcolor\":\"white\",\"landcolor\":\"#E5ECF6\",\"subunitcolor\":\"white\",\"showland\":true,\"showlakes\":true,\"lakecolor\":\"white\"},\"title\":{\"x\":0.05},\"mapbox\":{\"style\":\"light\"}}},\"polar\":{\"radialaxis\":{\"visible\":true,\"range\":[-2,7]}},\"title\":{\"text\":\"Behavior Cluster 1\"}},                        {\"responsive\": true}                    ).then(function(){\n",
       "                            \n",
       "var gd = document.getElementById('7091ef24-ffbc-46cb-8ef8-29f35db9f1fa');\n",
       "var x = new MutationObserver(function (mutations, observer) {{\n",
       "        var display = window.getComputedStyle(gd).display;\n",
       "        if (!display || display === 'none') {{\n",
       "            console.log([gd, 'removed!']);\n",
       "            Plotly.purge(gd);\n",
       "            observer.disconnect();\n",
       "        }}\n",
       "}});\n",
       "\n",
       "// Listen for the removal of the full notebook cells\n",
       "var notebookContainer = gd.closest('#notebook-container');\n",
       "if (notebookContainer) {{\n",
       "    x.observe(notebookContainer, {childList: true});\n",
       "}}\n",
       "\n",
       "// Listen for the clearing of the current output cell\n",
       "var outputEl = gd.closest('.output');\n",
       "if (outputEl) {{\n",
       "    x.observe(outputEl, {childList: true});\n",
       "}}\n",
       "\n",
       "                        })                };                });            </script>        </div>"
      ]
     },
     "metadata": {},
     "output_type": "display_data"
    }
   ],
   "source": [
    "fig = go.Figure()\n",
    "\n",
    "fig.add_trace(go.Scatterpolar(r = bhv_scaled1.mean(), theta = bhv_scaled1.columns,fill='toself', fillcolor='coral', line_color='lightcoral', opacity=0.8))\n",
    "\n",
    "fig.update_layout(title = 'Behavior Cluster 1',     \n",
    "    polar=dict(\n",
    "    radialaxis=dict(\n",
    "    visible=True,\n",
    "    range=[-2,7])))\n",
    "\n",
    "fig.show()"
   ]
  },
  {
   "cell_type": "code",
   "execution_count": 35,
   "id": "97a74c38",
   "metadata": {},
   "outputs": [
    {
     "data": {
      "text/html": [
       "<div>\n",
       "<style scoped>\n",
       "    .dataframe tbody tr th:only-of-type {\n",
       "        vertical-align: middle;\n",
       "    }\n",
       "\n",
       "    .dataframe tbody tr th {\n",
       "        vertical-align: top;\n",
       "    }\n",
       "\n",
       "    .dataframe thead th {\n",
       "        text-align: right;\n",
       "    }\n",
       "</style>\n",
       "<table border=\"1\" class=\"dataframe\">\n",
       "  <thead>\n",
       "    <tr style=\"text-align: right;\">\n",
       "      <th></th>\n",
       "      <th>income</th>\n",
       "      <th>total_saved</th>\n",
       "      <th>total_debt</th>\n",
       "      <th>avg_trans_amt</th>\n",
       "      <th>total_trans_amt</th>\n",
       "      <th>total_no_transactions</th>\n",
       "      <th>savings_acct_active</th>\n",
       "      <th>credit_acct_active</th>\n",
       "    </tr>\n",
       "  </thead>\n",
       "  <tbody>\n",
       "    <tr>\n",
       "      <th>count</th>\n",
       "      <td>292.000000</td>\n",
       "      <td>292.000000</td>\n",
       "      <td>292.000000</td>\n",
       "      <td>292.000000</td>\n",
       "      <td>292.000000</td>\n",
       "      <td>292.000000</td>\n",
       "      <td>292.000000</td>\n",
       "      <td>292.000000</td>\n",
       "    </tr>\n",
       "    <tr>\n",
       "      <th>mean</th>\n",
       "      <td>16414.232877</td>\n",
       "      <td>174.159486</td>\n",
       "      <td>375.935445</td>\n",
       "      <td>-9.915723</td>\n",
       "      <td>-1439.227534</td>\n",
       "      <td>159.318493</td>\n",
       "      <td>0.578767</td>\n",
       "      <td>0.825342</td>\n",
       "    </tr>\n",
       "    <tr>\n",
       "      <th>std</th>\n",
       "      <td>12285.363208</td>\n",
       "      <td>588.954810</td>\n",
       "      <td>833.865466</td>\n",
       "      <td>11.776563</td>\n",
       "      <td>1715.360654</td>\n",
       "      <td>32.509020</td>\n",
       "      <td>0.494604</td>\n",
       "      <td>0.380326</td>\n",
       "    </tr>\n",
       "    <tr>\n",
       "      <th>min</th>\n",
       "      <td>0.000000</td>\n",
       "      <td>-2406.270000</td>\n",
       "      <td>-2152.330000</td>\n",
       "      <td>-41.588788</td>\n",
       "      <td>-6202.150000</td>\n",
       "      <td>95.000000</td>\n",
       "      <td>0.000000</td>\n",
       "      <td>0.000000</td>\n",
       "    </tr>\n",
       "    <tr>\n",
       "      <th>25%</th>\n",
       "      <td>7147.500000</td>\n",
       "      <td>0.000000</td>\n",
       "      <td>0.000000</td>\n",
       "      <td>-18.921191</td>\n",
       "      <td>-2730.987500</td>\n",
       "      <td>136.000000</td>\n",
       "      <td>0.000000</td>\n",
       "      <td>1.000000</td>\n",
       "    </tr>\n",
       "    <tr>\n",
       "      <th>50%</th>\n",
       "      <td>13424.500000</td>\n",
       "      <td>0.000000</td>\n",
       "      <td>237.140000</td>\n",
       "      <td>-8.321191</td>\n",
       "      <td>-1349.720000</td>\n",
       "      <td>159.500000</td>\n",
       "      <td>1.000000</td>\n",
       "      <td>1.000000</td>\n",
       "    </tr>\n",
       "    <tr>\n",
       "      <th>75%</th>\n",
       "      <td>24306.500000</td>\n",
       "      <td>352.757500</td>\n",
       "      <td>911.342500</td>\n",
       "      <td>-0.712592</td>\n",
       "      <td>-102.882500</td>\n",
       "      <td>182.000000</td>\n",
       "      <td>1.000000</td>\n",
       "      <td>1.000000</td>\n",
       "    </tr>\n",
       "    <tr>\n",
       "      <th>max</th>\n",
       "      <td>61885.000000</td>\n",
       "      <td>2610.340000</td>\n",
       "      <td>3229.660000</td>\n",
       "      <td>10.952857</td>\n",
       "      <td>2161.310000</td>\n",
       "      <td>254.000000</td>\n",
       "      <td>1.000000</td>\n",
       "      <td>1.000000</td>\n",
       "    </tr>\n",
       "  </tbody>\n",
       "</table>\n",
       "</div>"
      ],
      "text/plain": [
       "             income  total_saved   total_debt  avg_trans_amt  total_trans_amt  \\\n",
       "count    292.000000   292.000000   292.000000     292.000000       292.000000   \n",
       "mean   16414.232877   174.159486   375.935445      -9.915723     -1439.227534   \n",
       "std    12285.363208   588.954810   833.865466      11.776563      1715.360654   \n",
       "min        0.000000 -2406.270000 -2152.330000     -41.588788     -6202.150000   \n",
       "25%     7147.500000     0.000000     0.000000     -18.921191     -2730.987500   \n",
       "50%    13424.500000     0.000000   237.140000      -8.321191     -1349.720000   \n",
       "75%    24306.500000   352.757500   911.342500      -0.712592      -102.882500   \n",
       "max    61885.000000  2610.340000  3229.660000      10.952857      2161.310000   \n",
       "\n",
       "       total_no_transactions  savings_acct_active  credit_acct_active  \n",
       "count             292.000000           292.000000          292.000000  \n",
       "mean              159.318493             0.578767            0.825342  \n",
       "std                32.509020             0.494604            0.380326  \n",
       "min                95.000000             0.000000            0.000000  \n",
       "25%               136.000000             0.000000            1.000000  \n",
       "50%               159.500000             1.000000            1.000000  \n",
       "75%               182.000000             1.000000            1.000000  \n",
       "max               254.000000             1.000000            1.000000  "
      ]
     },
     "execution_count": 35,
     "metadata": {},
     "output_type": "execute_result"
    }
   ],
   "source": [
    "bhv_df_c2.describe()"
   ]
  },
  {
   "cell_type": "code",
   "execution_count": 36,
   "id": "fd5299bc",
   "metadata": {},
   "outputs": [
    {
     "data": {
      "text/html": [
       "<div>\n",
       "<style scoped>\n",
       "    .dataframe tbody tr th:only-of-type {\n",
       "        vertical-align: middle;\n",
       "    }\n",
       "\n",
       "    .dataframe tbody tr th {\n",
       "        vertical-align: top;\n",
       "    }\n",
       "\n",
       "    .dataframe thead th {\n",
       "        text-align: right;\n",
       "    }\n",
       "</style>\n",
       "<table border=\"1\" class=\"dataframe\">\n",
       "  <thead>\n",
       "    <tr style=\"text-align: right;\">\n",
       "      <th></th>\n",
       "      <th>income</th>\n",
       "      <th>total_saved</th>\n",
       "      <th>total_debt</th>\n",
       "      <th>avg_trans_amt</th>\n",
       "      <th>total_trans_amt</th>\n",
       "      <th>total_no_transactions</th>\n",
       "      <th>savings_acct</th>\n",
       "      <th>credit_acct</th>\n",
       "    </tr>\n",
       "  </thead>\n",
       "  <tbody>\n",
       "    <tr>\n",
       "      <th>count</th>\n",
       "      <td>292.000000</td>\n",
       "      <td>292.000000</td>\n",
       "      <td>292.000000</td>\n",
       "      <td>292.000000</td>\n",
       "      <td>292.000000</td>\n",
       "      <td>292.000000</td>\n",
       "      <td>292.000000</td>\n",
       "      <td>292.000000</td>\n",
       "    </tr>\n",
       "    <tr>\n",
       "      <th>mean</th>\n",
       "      <td>-0.301148</td>\n",
       "      <td>-0.079800</td>\n",
       "      <td>0.191644</td>\n",
       "      <td>-0.128204</td>\n",
       "      <td>-0.190494</td>\n",
       "      <td>0.750168</td>\n",
       "      <td>0.503425</td>\n",
       "      <td>0.726027</td>\n",
       "    </tr>\n",
       "    <tr>\n",
       "      <th>std</th>\n",
       "      <td>0.553193</td>\n",
       "      <td>0.674517</td>\n",
       "      <td>0.486861</td>\n",
       "      <td>0.395564</td>\n",
       "      <td>0.634427</td>\n",
       "      <td>0.576032</td>\n",
       "      <td>0.500847</td>\n",
       "      <td>0.446761</td>\n",
       "    </tr>\n",
       "    <tr>\n",
       "      <th>min</th>\n",
       "      <td>-1.040258</td>\n",
       "      <td>-3.035110</td>\n",
       "      <td>-1.284509</td>\n",
       "      <td>-1.192074</td>\n",
       "      <td>-1.952063</td>\n",
       "      <td>-0.389500</td>\n",
       "      <td>0.000000</td>\n",
       "      <td>0.000000</td>\n",
       "    </tr>\n",
       "    <tr>\n",
       "      <th>25%</th>\n",
       "      <td>-0.718416</td>\n",
       "      <td>-0.279261</td>\n",
       "      <td>-0.027849</td>\n",
       "      <td>-0.430690</td>\n",
       "      <td>-0.668252</td>\n",
       "      <td>0.336984</td>\n",
       "      <td>0.000000</td>\n",
       "      <td>0.000000</td>\n",
       "    </tr>\n",
       "    <tr>\n",
       "      <th>50%</th>\n",
       "      <td>-0.435771</td>\n",
       "      <td>-0.279261</td>\n",
       "      <td>0.110607</td>\n",
       "      <td>-0.074646</td>\n",
       "      <td>-0.157389</td>\n",
       "      <td>0.753384</td>\n",
       "      <td>1.000000</td>\n",
       "      <td>1.000000</td>\n",
       "    </tr>\n",
       "    <tr>\n",
       "      <th>75%</th>\n",
       "      <td>0.054230</td>\n",
       "      <td>0.124744</td>\n",
       "      <td>0.504247</td>\n",
       "      <td>0.180920</td>\n",
       "      <td>0.303754</td>\n",
       "      <td>1.152065</td>\n",
       "      <td>1.000000</td>\n",
       "      <td>1.000000</td>\n",
       "    </tr>\n",
       "    <tr>\n",
       "      <th>max</th>\n",
       "      <td>1.746338</td>\n",
       "      <td>2.710305</td>\n",
       "      <td>1.857821</td>\n",
       "      <td>0.572752</td>\n",
       "      <td>1.141167</td>\n",
       "      <td>2.427842</td>\n",
       "      <td>1.000000</td>\n",
       "      <td>1.000000</td>\n",
       "    </tr>\n",
       "  </tbody>\n",
       "</table>\n",
       "</div>"
      ],
      "text/plain": [
       "           income  total_saved  total_debt  avg_trans_amt  total_trans_amt  \\\n",
       "count  292.000000   292.000000  292.000000     292.000000       292.000000   \n",
       "mean    -0.301148    -0.079800    0.191644      -0.128204        -0.190494   \n",
       "std      0.553193     0.674517    0.486861       0.395564         0.634427   \n",
       "min     -1.040258    -3.035110   -1.284509      -1.192074        -1.952063   \n",
       "25%     -0.718416    -0.279261   -0.027849      -0.430690        -0.668252   \n",
       "50%     -0.435771    -0.279261    0.110607      -0.074646        -0.157389   \n",
       "75%      0.054230     0.124744    0.504247       0.180920         0.303754   \n",
       "max      1.746338     2.710305    1.857821       0.572752         1.141167   \n",
       "\n",
       "       total_no_transactions  savings_acct  credit_acct  \n",
       "count             292.000000    292.000000   292.000000  \n",
       "mean                0.750168      0.503425     0.726027  \n",
       "std                 0.576032      0.500847     0.446761  \n",
       "min                -0.389500      0.000000     0.000000  \n",
       "25%                 0.336984      0.000000     0.000000  \n",
       "50%                 0.753384      1.000000     1.000000  \n",
       "75%                 1.152065      1.000000     1.000000  \n",
       "max                 2.427842      1.000000     1.000000  "
      ]
     },
     "execution_count": 36,
     "metadata": {},
     "output_type": "execute_result"
    }
   ],
   "source": [
    "bhv_scaled2.describe()"
   ]
  },
  {
   "cell_type": "code",
   "execution_count": 50,
   "id": "80a66e71",
   "metadata": {},
   "outputs": [
    {
     "data": {
      "application/vnd.plotly.v1+json": {
       "config": {
        "plotlyServerURL": "https://plot.ly"
       },
       "data": [
        {
         "fill": "toself",
         "fillcolor": "gold",
         "line": {
          "color": "goldenrod"
         },
         "opacity": 0.8,
         "r": [
          -0.3011477312162773,
          -0.07980011062507321,
          0.19164428033885852,
          -0.12820446319782391,
          -0.19049371002396254,
          0.7501678196659124,
          0.5034246575342466,
          0.726027397260274
         ],
         "theta": [
          "income",
          "total_saved",
          "total_debt",
          "avg_trans_amt",
          "total_trans_amt",
          "total_no_transactions",
          "savings_acct",
          "credit_acct"
         ],
         "type": "scatterpolar"
        }
       ],
       "layout": {
        "polar": {
         "radialaxis": {
          "range": [
           -2,
           2
          ],
          "visible": true
         }
        },
        "template": {
         "data": {
          "bar": [
           {
            "error_x": {
             "color": "#2a3f5f"
            },
            "error_y": {
             "color": "#2a3f5f"
            },
            "marker": {
             "line": {
              "color": "#E5ECF6",
              "width": 0.5
             },
             "pattern": {
              "fillmode": "overlay",
              "size": 10,
              "solidity": 0.2
             }
            },
            "type": "bar"
           }
          ],
          "barpolar": [
           {
            "marker": {
             "line": {
              "color": "#E5ECF6",
              "width": 0.5
             },
             "pattern": {
              "fillmode": "overlay",
              "size": 10,
              "solidity": 0.2
             }
            },
            "type": "barpolar"
           }
          ],
          "carpet": [
           {
            "aaxis": {
             "endlinecolor": "#2a3f5f",
             "gridcolor": "white",
             "linecolor": "white",
             "minorgridcolor": "white",
             "startlinecolor": "#2a3f5f"
            },
            "baxis": {
             "endlinecolor": "#2a3f5f",
             "gridcolor": "white",
             "linecolor": "white",
             "minorgridcolor": "white",
             "startlinecolor": "#2a3f5f"
            },
            "type": "carpet"
           }
          ],
          "choropleth": [
           {
            "colorbar": {
             "outlinewidth": 0,
             "ticks": ""
            },
            "type": "choropleth"
           }
          ],
          "contour": [
           {
            "colorbar": {
             "outlinewidth": 0,
             "ticks": ""
            },
            "colorscale": [
             [
              0,
              "#0d0887"
             ],
             [
              0.1111111111111111,
              "#46039f"
             ],
             [
              0.2222222222222222,
              "#7201a8"
             ],
             [
              0.3333333333333333,
              "#9c179e"
             ],
             [
              0.4444444444444444,
              "#bd3786"
             ],
             [
              0.5555555555555556,
              "#d8576b"
             ],
             [
              0.6666666666666666,
              "#ed7953"
             ],
             [
              0.7777777777777778,
              "#fb9f3a"
             ],
             [
              0.8888888888888888,
              "#fdca26"
             ],
             [
              1,
              "#f0f921"
             ]
            ],
            "type": "contour"
           }
          ],
          "contourcarpet": [
           {
            "colorbar": {
             "outlinewidth": 0,
             "ticks": ""
            },
            "type": "contourcarpet"
           }
          ],
          "heatmap": [
           {
            "colorbar": {
             "outlinewidth": 0,
             "ticks": ""
            },
            "colorscale": [
             [
              0,
              "#0d0887"
             ],
             [
              0.1111111111111111,
              "#46039f"
             ],
             [
              0.2222222222222222,
              "#7201a8"
             ],
             [
              0.3333333333333333,
              "#9c179e"
             ],
             [
              0.4444444444444444,
              "#bd3786"
             ],
             [
              0.5555555555555556,
              "#d8576b"
             ],
             [
              0.6666666666666666,
              "#ed7953"
             ],
             [
              0.7777777777777778,
              "#fb9f3a"
             ],
             [
              0.8888888888888888,
              "#fdca26"
             ],
             [
              1,
              "#f0f921"
             ]
            ],
            "type": "heatmap"
           }
          ],
          "heatmapgl": [
           {
            "colorbar": {
             "outlinewidth": 0,
             "ticks": ""
            },
            "colorscale": [
             [
              0,
              "#0d0887"
             ],
             [
              0.1111111111111111,
              "#46039f"
             ],
             [
              0.2222222222222222,
              "#7201a8"
             ],
             [
              0.3333333333333333,
              "#9c179e"
             ],
             [
              0.4444444444444444,
              "#bd3786"
             ],
             [
              0.5555555555555556,
              "#d8576b"
             ],
             [
              0.6666666666666666,
              "#ed7953"
             ],
             [
              0.7777777777777778,
              "#fb9f3a"
             ],
             [
              0.8888888888888888,
              "#fdca26"
             ],
             [
              1,
              "#f0f921"
             ]
            ],
            "type": "heatmapgl"
           }
          ],
          "histogram": [
           {
            "marker": {
             "pattern": {
              "fillmode": "overlay",
              "size": 10,
              "solidity": 0.2
             }
            },
            "type": "histogram"
           }
          ],
          "histogram2d": [
           {
            "colorbar": {
             "outlinewidth": 0,
             "ticks": ""
            },
            "colorscale": [
             [
              0,
              "#0d0887"
             ],
             [
              0.1111111111111111,
              "#46039f"
             ],
             [
              0.2222222222222222,
              "#7201a8"
             ],
             [
              0.3333333333333333,
              "#9c179e"
             ],
             [
              0.4444444444444444,
              "#bd3786"
             ],
             [
              0.5555555555555556,
              "#d8576b"
             ],
             [
              0.6666666666666666,
              "#ed7953"
             ],
             [
              0.7777777777777778,
              "#fb9f3a"
             ],
             [
              0.8888888888888888,
              "#fdca26"
             ],
             [
              1,
              "#f0f921"
             ]
            ],
            "type": "histogram2d"
           }
          ],
          "histogram2dcontour": [
           {
            "colorbar": {
             "outlinewidth": 0,
             "ticks": ""
            },
            "colorscale": [
             [
              0,
              "#0d0887"
             ],
             [
              0.1111111111111111,
              "#46039f"
             ],
             [
              0.2222222222222222,
              "#7201a8"
             ],
             [
              0.3333333333333333,
              "#9c179e"
             ],
             [
              0.4444444444444444,
              "#bd3786"
             ],
             [
              0.5555555555555556,
              "#d8576b"
             ],
             [
              0.6666666666666666,
              "#ed7953"
             ],
             [
              0.7777777777777778,
              "#fb9f3a"
             ],
             [
              0.8888888888888888,
              "#fdca26"
             ],
             [
              1,
              "#f0f921"
             ]
            ],
            "type": "histogram2dcontour"
           }
          ],
          "mesh3d": [
           {
            "colorbar": {
             "outlinewidth": 0,
             "ticks": ""
            },
            "type": "mesh3d"
           }
          ],
          "parcoords": [
           {
            "line": {
             "colorbar": {
              "outlinewidth": 0,
              "ticks": ""
             }
            },
            "type": "parcoords"
           }
          ],
          "pie": [
           {
            "automargin": true,
            "type": "pie"
           }
          ],
          "scatter": [
           {
            "fillpattern": {
             "fillmode": "overlay",
             "size": 10,
             "solidity": 0.2
            },
            "type": "scatter"
           }
          ],
          "scatter3d": [
           {
            "line": {
             "colorbar": {
              "outlinewidth": 0,
              "ticks": ""
             }
            },
            "marker": {
             "colorbar": {
              "outlinewidth": 0,
              "ticks": ""
             }
            },
            "type": "scatter3d"
           }
          ],
          "scattercarpet": [
           {
            "marker": {
             "colorbar": {
              "outlinewidth": 0,
              "ticks": ""
             }
            },
            "type": "scattercarpet"
           }
          ],
          "scattergeo": [
           {
            "marker": {
             "colorbar": {
              "outlinewidth": 0,
              "ticks": ""
             }
            },
            "type": "scattergeo"
           }
          ],
          "scattergl": [
           {
            "marker": {
             "colorbar": {
              "outlinewidth": 0,
              "ticks": ""
             }
            },
            "type": "scattergl"
           }
          ],
          "scattermapbox": [
           {
            "marker": {
             "colorbar": {
              "outlinewidth": 0,
              "ticks": ""
             }
            },
            "type": "scattermapbox"
           }
          ],
          "scatterpolar": [
           {
            "marker": {
             "colorbar": {
              "outlinewidth": 0,
              "ticks": ""
             }
            },
            "type": "scatterpolar"
           }
          ],
          "scatterpolargl": [
           {
            "marker": {
             "colorbar": {
              "outlinewidth": 0,
              "ticks": ""
             }
            },
            "type": "scatterpolargl"
           }
          ],
          "scatterternary": [
           {
            "marker": {
             "colorbar": {
              "outlinewidth": 0,
              "ticks": ""
             }
            },
            "type": "scatterternary"
           }
          ],
          "surface": [
           {
            "colorbar": {
             "outlinewidth": 0,
             "ticks": ""
            },
            "colorscale": [
             [
              0,
              "#0d0887"
             ],
             [
              0.1111111111111111,
              "#46039f"
             ],
             [
              0.2222222222222222,
              "#7201a8"
             ],
             [
              0.3333333333333333,
              "#9c179e"
             ],
             [
              0.4444444444444444,
              "#bd3786"
             ],
             [
              0.5555555555555556,
              "#d8576b"
             ],
             [
              0.6666666666666666,
              "#ed7953"
             ],
             [
              0.7777777777777778,
              "#fb9f3a"
             ],
             [
              0.8888888888888888,
              "#fdca26"
             ],
             [
              1,
              "#f0f921"
             ]
            ],
            "type": "surface"
           }
          ],
          "table": [
           {
            "cells": {
             "fill": {
              "color": "#EBF0F8"
             },
             "line": {
              "color": "white"
             }
            },
            "header": {
             "fill": {
              "color": "#C8D4E3"
             },
             "line": {
              "color": "white"
             }
            },
            "type": "table"
           }
          ]
         },
         "layout": {
          "annotationdefaults": {
           "arrowcolor": "#2a3f5f",
           "arrowhead": 0,
           "arrowwidth": 1
          },
          "autotypenumbers": "strict",
          "coloraxis": {
           "colorbar": {
            "outlinewidth": 0,
            "ticks": ""
           }
          },
          "colorscale": {
           "diverging": [
            [
             0,
             "#8e0152"
            ],
            [
             0.1,
             "#c51b7d"
            ],
            [
             0.2,
             "#de77ae"
            ],
            [
             0.3,
             "#f1b6da"
            ],
            [
             0.4,
             "#fde0ef"
            ],
            [
             0.5,
             "#f7f7f7"
            ],
            [
             0.6,
             "#e6f5d0"
            ],
            [
             0.7,
             "#b8e186"
            ],
            [
             0.8,
             "#7fbc41"
            ],
            [
             0.9,
             "#4d9221"
            ],
            [
             1,
             "#276419"
            ]
           ],
           "sequential": [
            [
             0,
             "#0d0887"
            ],
            [
             0.1111111111111111,
             "#46039f"
            ],
            [
             0.2222222222222222,
             "#7201a8"
            ],
            [
             0.3333333333333333,
             "#9c179e"
            ],
            [
             0.4444444444444444,
             "#bd3786"
            ],
            [
             0.5555555555555556,
             "#d8576b"
            ],
            [
             0.6666666666666666,
             "#ed7953"
            ],
            [
             0.7777777777777778,
             "#fb9f3a"
            ],
            [
             0.8888888888888888,
             "#fdca26"
            ],
            [
             1,
             "#f0f921"
            ]
           ],
           "sequentialminus": [
            [
             0,
             "#0d0887"
            ],
            [
             0.1111111111111111,
             "#46039f"
            ],
            [
             0.2222222222222222,
             "#7201a8"
            ],
            [
             0.3333333333333333,
             "#9c179e"
            ],
            [
             0.4444444444444444,
             "#bd3786"
            ],
            [
             0.5555555555555556,
             "#d8576b"
            ],
            [
             0.6666666666666666,
             "#ed7953"
            ],
            [
             0.7777777777777778,
             "#fb9f3a"
            ],
            [
             0.8888888888888888,
             "#fdca26"
            ],
            [
             1,
             "#f0f921"
            ]
           ]
          },
          "colorway": [
           "#636efa",
           "#EF553B",
           "#00cc96",
           "#ab63fa",
           "#FFA15A",
           "#19d3f3",
           "#FF6692",
           "#B6E880",
           "#FF97FF",
           "#FECB52"
          ],
          "font": {
           "color": "#2a3f5f"
          },
          "geo": {
           "bgcolor": "white",
           "lakecolor": "white",
           "landcolor": "#E5ECF6",
           "showlakes": true,
           "showland": true,
           "subunitcolor": "white"
          },
          "hoverlabel": {
           "align": "left"
          },
          "hovermode": "closest",
          "mapbox": {
           "style": "light"
          },
          "paper_bgcolor": "white",
          "plot_bgcolor": "#E5ECF6",
          "polar": {
           "angularaxis": {
            "gridcolor": "white",
            "linecolor": "white",
            "ticks": ""
           },
           "bgcolor": "#E5ECF6",
           "radialaxis": {
            "gridcolor": "white",
            "linecolor": "white",
            "ticks": ""
           }
          },
          "scene": {
           "xaxis": {
            "backgroundcolor": "#E5ECF6",
            "gridcolor": "white",
            "gridwidth": 2,
            "linecolor": "white",
            "showbackground": true,
            "ticks": "",
            "zerolinecolor": "white"
           },
           "yaxis": {
            "backgroundcolor": "#E5ECF6",
            "gridcolor": "white",
            "gridwidth": 2,
            "linecolor": "white",
            "showbackground": true,
            "ticks": "",
            "zerolinecolor": "white"
           },
           "zaxis": {
            "backgroundcolor": "#E5ECF6",
            "gridcolor": "white",
            "gridwidth": 2,
            "linecolor": "white",
            "showbackground": true,
            "ticks": "",
            "zerolinecolor": "white"
           }
          },
          "shapedefaults": {
           "line": {
            "color": "#2a3f5f"
           }
          },
          "ternary": {
           "aaxis": {
            "gridcolor": "white",
            "linecolor": "white",
            "ticks": ""
           },
           "baxis": {
            "gridcolor": "white",
            "linecolor": "white",
            "ticks": ""
           },
           "bgcolor": "#E5ECF6",
           "caxis": {
            "gridcolor": "white",
            "linecolor": "white",
            "ticks": ""
           }
          },
          "title": {
           "x": 0.05
          },
          "xaxis": {
           "automargin": true,
           "gridcolor": "white",
           "linecolor": "white",
           "ticks": "",
           "title": {
            "standoff": 15
           },
           "zerolinecolor": "white",
           "zerolinewidth": 2
          },
          "yaxis": {
           "automargin": true,
           "gridcolor": "white",
           "linecolor": "white",
           "ticks": "",
           "title": {
            "standoff": 15
           },
           "zerolinecolor": "white",
           "zerolinewidth": 2
          }
         }
        },
        "title": {
         "text": "Behavior Cluster 2"
        }
       }
      },
      "text/html": [
       "<div>                            <div id=\"9c60de5f-6018-4ee2-bd52-0f482d518075\" class=\"plotly-graph-div\" style=\"height:525px; width:100%;\"></div>            <script type=\"text/javascript\">                require([\"plotly\"], function(Plotly) {                    window.PLOTLYENV=window.PLOTLYENV || {};                                    if (document.getElementById(\"9c60de5f-6018-4ee2-bd52-0f482d518075\")) {                    Plotly.newPlot(                        \"9c60de5f-6018-4ee2-bd52-0f482d518075\",                        [{\"fill\":\"toself\",\"fillcolor\":\"gold\",\"line\":{\"color\":\"goldenrod\"},\"opacity\":0.8,\"r\":[-0.3011477312162773,-0.07980011062507321,0.19164428033885852,-0.12820446319782391,-0.19049371002396254,0.7501678196659124,0.5034246575342466,0.726027397260274],\"theta\":[\"income\",\"total_saved\",\"total_debt\",\"avg_trans_amt\",\"total_trans_amt\",\"total_no_transactions\",\"savings_acct\",\"credit_acct\"],\"type\":\"scatterpolar\"}],                        {\"template\":{\"data\":{\"histogram2dcontour\":[{\"type\":\"histogram2dcontour\",\"colorbar\":{\"outlinewidth\":0,\"ticks\":\"\"},\"colorscale\":[[0.0,\"#0d0887\"],[0.1111111111111111,\"#46039f\"],[0.2222222222222222,\"#7201a8\"],[0.3333333333333333,\"#9c179e\"],[0.4444444444444444,\"#bd3786\"],[0.5555555555555556,\"#d8576b\"],[0.6666666666666666,\"#ed7953\"],[0.7777777777777778,\"#fb9f3a\"],[0.8888888888888888,\"#fdca26\"],[1.0,\"#f0f921\"]]}],\"choropleth\":[{\"type\":\"choropleth\",\"colorbar\":{\"outlinewidth\":0,\"ticks\":\"\"}}],\"histogram2d\":[{\"type\":\"histogram2d\",\"colorbar\":{\"outlinewidth\":0,\"ticks\":\"\"},\"colorscale\":[[0.0,\"#0d0887\"],[0.1111111111111111,\"#46039f\"],[0.2222222222222222,\"#7201a8\"],[0.3333333333333333,\"#9c179e\"],[0.4444444444444444,\"#bd3786\"],[0.5555555555555556,\"#d8576b\"],[0.6666666666666666,\"#ed7953\"],[0.7777777777777778,\"#fb9f3a\"],[0.8888888888888888,\"#fdca26\"],[1.0,\"#f0f921\"]]}],\"heatmap\":[{\"type\":\"heatmap\",\"colorbar\":{\"outlinewidth\":0,\"ticks\":\"\"},\"colorscale\":[[0.0,\"#0d0887\"],[0.1111111111111111,\"#46039f\"],[0.2222222222222222,\"#7201a8\"],[0.3333333333333333,\"#9c179e\"],[0.4444444444444444,\"#bd3786\"],[0.5555555555555556,\"#d8576b\"],[0.6666666666666666,\"#ed7953\"],[0.7777777777777778,\"#fb9f3a\"],[0.8888888888888888,\"#fdca26\"],[1.0,\"#f0f921\"]]}],\"heatmapgl\":[{\"type\":\"heatmapgl\",\"colorbar\":{\"outlinewidth\":0,\"ticks\":\"\"},\"colorscale\":[[0.0,\"#0d0887\"],[0.1111111111111111,\"#46039f\"],[0.2222222222222222,\"#7201a8\"],[0.3333333333333333,\"#9c179e\"],[0.4444444444444444,\"#bd3786\"],[0.5555555555555556,\"#d8576b\"],[0.6666666666666666,\"#ed7953\"],[0.7777777777777778,\"#fb9f3a\"],[0.8888888888888888,\"#fdca26\"],[1.0,\"#f0f921\"]]}],\"contourcarpet\":[{\"type\":\"contourcarpet\",\"colorbar\":{\"outlinewidth\":0,\"ticks\":\"\"}}],\"contour\":[{\"type\":\"contour\",\"colorbar\":{\"outlinewidth\":0,\"ticks\":\"\"},\"colorscale\":[[0.0,\"#0d0887\"],[0.1111111111111111,\"#46039f\"],[0.2222222222222222,\"#7201a8\"],[0.3333333333333333,\"#9c179e\"],[0.4444444444444444,\"#bd3786\"],[0.5555555555555556,\"#d8576b\"],[0.6666666666666666,\"#ed7953\"],[0.7777777777777778,\"#fb9f3a\"],[0.8888888888888888,\"#fdca26\"],[1.0,\"#f0f921\"]]}],\"surface\":[{\"type\":\"surface\",\"colorbar\":{\"outlinewidth\":0,\"ticks\":\"\"},\"colorscale\":[[0.0,\"#0d0887\"],[0.1111111111111111,\"#46039f\"],[0.2222222222222222,\"#7201a8\"],[0.3333333333333333,\"#9c179e\"],[0.4444444444444444,\"#bd3786\"],[0.5555555555555556,\"#d8576b\"],[0.6666666666666666,\"#ed7953\"],[0.7777777777777778,\"#fb9f3a\"],[0.8888888888888888,\"#fdca26\"],[1.0,\"#f0f921\"]]}],\"mesh3d\":[{\"type\":\"mesh3d\",\"colorbar\":{\"outlinewidth\":0,\"ticks\":\"\"}}],\"scatter\":[{\"fillpattern\":{\"fillmode\":\"overlay\",\"size\":10,\"solidity\":0.2},\"type\":\"scatter\"}],\"parcoords\":[{\"type\":\"parcoords\",\"line\":{\"colorbar\":{\"outlinewidth\":0,\"ticks\":\"\"}}}],\"scatterpolargl\":[{\"type\":\"scatterpolargl\",\"marker\":{\"colorbar\":{\"outlinewidth\":0,\"ticks\":\"\"}}}],\"bar\":[{\"error_x\":{\"color\":\"#2a3f5f\"},\"error_y\":{\"color\":\"#2a3f5f\"},\"marker\":{\"line\":{\"color\":\"#E5ECF6\",\"width\":0.5},\"pattern\":{\"fillmode\":\"overlay\",\"size\":10,\"solidity\":0.2}},\"type\":\"bar\"}],\"scattergeo\":[{\"type\":\"scattergeo\",\"marker\":{\"colorbar\":{\"outlinewidth\":0,\"ticks\":\"\"}}}],\"scatterpolar\":[{\"type\":\"scatterpolar\",\"marker\":{\"colorbar\":{\"outlinewidth\":0,\"ticks\":\"\"}}}],\"histogram\":[{\"marker\":{\"pattern\":{\"fillmode\":\"overlay\",\"size\":10,\"solidity\":0.2}},\"type\":\"histogram\"}],\"scattergl\":[{\"type\":\"scattergl\",\"marker\":{\"colorbar\":{\"outlinewidth\":0,\"ticks\":\"\"}}}],\"scatter3d\":[{\"type\":\"scatter3d\",\"line\":{\"colorbar\":{\"outlinewidth\":0,\"ticks\":\"\"}},\"marker\":{\"colorbar\":{\"outlinewidth\":0,\"ticks\":\"\"}}}],\"scattermapbox\":[{\"type\":\"scattermapbox\",\"marker\":{\"colorbar\":{\"outlinewidth\":0,\"ticks\":\"\"}}}],\"scatterternary\":[{\"type\":\"scatterternary\",\"marker\":{\"colorbar\":{\"outlinewidth\":0,\"ticks\":\"\"}}}],\"scattercarpet\":[{\"type\":\"scattercarpet\",\"marker\":{\"colorbar\":{\"outlinewidth\":0,\"ticks\":\"\"}}}],\"carpet\":[{\"aaxis\":{\"endlinecolor\":\"#2a3f5f\",\"gridcolor\":\"white\",\"linecolor\":\"white\",\"minorgridcolor\":\"white\",\"startlinecolor\":\"#2a3f5f\"},\"baxis\":{\"endlinecolor\":\"#2a3f5f\",\"gridcolor\":\"white\",\"linecolor\":\"white\",\"minorgridcolor\":\"white\",\"startlinecolor\":\"#2a3f5f\"},\"type\":\"carpet\"}],\"table\":[{\"cells\":{\"fill\":{\"color\":\"#EBF0F8\"},\"line\":{\"color\":\"white\"}},\"header\":{\"fill\":{\"color\":\"#C8D4E3\"},\"line\":{\"color\":\"white\"}},\"type\":\"table\"}],\"barpolar\":[{\"marker\":{\"line\":{\"color\":\"#E5ECF6\",\"width\":0.5},\"pattern\":{\"fillmode\":\"overlay\",\"size\":10,\"solidity\":0.2}},\"type\":\"barpolar\"}],\"pie\":[{\"automargin\":true,\"type\":\"pie\"}]},\"layout\":{\"autotypenumbers\":\"strict\",\"colorway\":[\"#636efa\",\"#EF553B\",\"#00cc96\",\"#ab63fa\",\"#FFA15A\",\"#19d3f3\",\"#FF6692\",\"#B6E880\",\"#FF97FF\",\"#FECB52\"],\"font\":{\"color\":\"#2a3f5f\"},\"hovermode\":\"closest\",\"hoverlabel\":{\"align\":\"left\"},\"paper_bgcolor\":\"white\",\"plot_bgcolor\":\"#E5ECF6\",\"polar\":{\"bgcolor\":\"#E5ECF6\",\"angularaxis\":{\"gridcolor\":\"white\",\"linecolor\":\"white\",\"ticks\":\"\"},\"radialaxis\":{\"gridcolor\":\"white\",\"linecolor\":\"white\",\"ticks\":\"\"}},\"ternary\":{\"bgcolor\":\"#E5ECF6\",\"aaxis\":{\"gridcolor\":\"white\",\"linecolor\":\"white\",\"ticks\":\"\"},\"baxis\":{\"gridcolor\":\"white\",\"linecolor\":\"white\",\"ticks\":\"\"},\"caxis\":{\"gridcolor\":\"white\",\"linecolor\":\"white\",\"ticks\":\"\"}},\"coloraxis\":{\"colorbar\":{\"outlinewidth\":0,\"ticks\":\"\"}},\"colorscale\":{\"sequential\":[[0.0,\"#0d0887\"],[0.1111111111111111,\"#46039f\"],[0.2222222222222222,\"#7201a8\"],[0.3333333333333333,\"#9c179e\"],[0.4444444444444444,\"#bd3786\"],[0.5555555555555556,\"#d8576b\"],[0.6666666666666666,\"#ed7953\"],[0.7777777777777778,\"#fb9f3a\"],[0.8888888888888888,\"#fdca26\"],[1.0,\"#f0f921\"]],\"sequentialminus\":[[0.0,\"#0d0887\"],[0.1111111111111111,\"#46039f\"],[0.2222222222222222,\"#7201a8\"],[0.3333333333333333,\"#9c179e\"],[0.4444444444444444,\"#bd3786\"],[0.5555555555555556,\"#d8576b\"],[0.6666666666666666,\"#ed7953\"],[0.7777777777777778,\"#fb9f3a\"],[0.8888888888888888,\"#fdca26\"],[1.0,\"#f0f921\"]],\"diverging\":[[0,\"#8e0152\"],[0.1,\"#c51b7d\"],[0.2,\"#de77ae\"],[0.3,\"#f1b6da\"],[0.4,\"#fde0ef\"],[0.5,\"#f7f7f7\"],[0.6,\"#e6f5d0\"],[0.7,\"#b8e186\"],[0.8,\"#7fbc41\"],[0.9,\"#4d9221\"],[1,\"#276419\"]]},\"xaxis\":{\"gridcolor\":\"white\",\"linecolor\":\"white\",\"ticks\":\"\",\"title\":{\"standoff\":15},\"zerolinecolor\":\"white\",\"automargin\":true,\"zerolinewidth\":2},\"yaxis\":{\"gridcolor\":\"white\",\"linecolor\":\"white\",\"ticks\":\"\",\"title\":{\"standoff\":15},\"zerolinecolor\":\"white\",\"automargin\":true,\"zerolinewidth\":2},\"scene\":{\"xaxis\":{\"backgroundcolor\":\"#E5ECF6\",\"gridcolor\":\"white\",\"linecolor\":\"white\",\"showbackground\":true,\"ticks\":\"\",\"zerolinecolor\":\"white\",\"gridwidth\":2},\"yaxis\":{\"backgroundcolor\":\"#E5ECF6\",\"gridcolor\":\"white\",\"linecolor\":\"white\",\"showbackground\":true,\"ticks\":\"\",\"zerolinecolor\":\"white\",\"gridwidth\":2},\"zaxis\":{\"backgroundcolor\":\"#E5ECF6\",\"gridcolor\":\"white\",\"linecolor\":\"white\",\"showbackground\":true,\"ticks\":\"\",\"zerolinecolor\":\"white\",\"gridwidth\":2}},\"shapedefaults\":{\"line\":{\"color\":\"#2a3f5f\"}},\"annotationdefaults\":{\"arrowcolor\":\"#2a3f5f\",\"arrowhead\":0,\"arrowwidth\":1},\"geo\":{\"bgcolor\":\"white\",\"landcolor\":\"#E5ECF6\",\"subunitcolor\":\"white\",\"showland\":true,\"showlakes\":true,\"lakecolor\":\"white\"},\"title\":{\"x\":0.05},\"mapbox\":{\"style\":\"light\"}}},\"polar\":{\"radialaxis\":{\"visible\":true,\"range\":[-2,2]}},\"title\":{\"text\":\"Behavior Cluster 2\"}},                        {\"responsive\": true}                    ).then(function(){\n",
       "                            \n",
       "var gd = document.getElementById('9c60de5f-6018-4ee2-bd52-0f482d518075');\n",
       "var x = new MutationObserver(function (mutations, observer) {{\n",
       "        var display = window.getComputedStyle(gd).display;\n",
       "        if (!display || display === 'none') {{\n",
       "            console.log([gd, 'removed!']);\n",
       "            Plotly.purge(gd);\n",
       "            observer.disconnect();\n",
       "        }}\n",
       "}});\n",
       "\n",
       "// Listen for the removal of the full notebook cells\n",
       "var notebookContainer = gd.closest('#notebook-container');\n",
       "if (notebookContainer) {{\n",
       "    x.observe(notebookContainer, {childList: true});\n",
       "}}\n",
       "\n",
       "// Listen for the clearing of the current output cell\n",
       "var outputEl = gd.closest('.output');\n",
       "if (outputEl) {{\n",
       "    x.observe(outputEl, {childList: true});\n",
       "}}\n",
       "\n",
       "                        })                };                });            </script>        </div>"
      ]
     },
     "metadata": {},
     "output_type": "display_data"
    }
   ],
   "source": [
    "fig = go.Figure()\n",
    "\n",
    "fig.add_trace(go.Scatterpolar(r = bhv_scaled2.mean(), theta = bhv_scaled2.columns,fill='toself', fillcolor='gold', line_color='goldenrod', opacity=0.8))\n",
    "\n",
    "fig.update_layout(title = 'Behavior Cluster 2',     \n",
    "    polar=dict(\n",
    "    radialaxis=dict(\n",
    "    visible=True,\n",
    "    range=[-2,2])))\n",
    "\n",
    "fig.show()"
   ]
  },
  {
   "cell_type": "code",
   "execution_count": 38,
   "id": "71f18d4c",
   "metadata": {},
   "outputs": [
    {
     "data": {
      "text/html": [
       "<div>\n",
       "<style scoped>\n",
       "    .dataframe tbody tr th:only-of-type {\n",
       "        vertical-align: middle;\n",
       "    }\n",
       "\n",
       "    .dataframe tbody tr th {\n",
       "        vertical-align: top;\n",
       "    }\n",
       "\n",
       "    .dataframe thead th {\n",
       "        text-align: right;\n",
       "    }\n",
       "</style>\n",
       "<table border=\"1\" class=\"dataframe\">\n",
       "  <thead>\n",
       "    <tr style=\"text-align: right;\">\n",
       "      <th></th>\n",
       "      <th>income</th>\n",
       "      <th>total_saved</th>\n",
       "      <th>total_debt</th>\n",
       "      <th>avg_trans_amt</th>\n",
       "      <th>total_trans_amt</th>\n",
       "      <th>total_no_transactions</th>\n",
       "      <th>savings_acct_active</th>\n",
       "      <th>credit_acct_active</th>\n",
       "    </tr>\n",
       "  </thead>\n",
       "  <tbody>\n",
       "    <tr>\n",
       "      <th>count</th>\n",
       "      <td>72.000000</td>\n",
       "      <td>72.000000</td>\n",
       "      <td>72.000000</td>\n",
       "      <td>72.000000</td>\n",
       "      <td>72.000000</td>\n",
       "      <td>72.000000</td>\n",
       "      <td>72.000000</td>\n",
       "      <td>72.000000</td>\n",
       "    </tr>\n",
       "    <tr>\n",
       "      <th>mean</th>\n",
       "      <td>55298.250000</td>\n",
       "      <td>61.573472</td>\n",
       "      <td>1776.833611</td>\n",
       "      <td>-55.587875</td>\n",
       "      <td>-5683.670417</td>\n",
       "      <td>114.333333</td>\n",
       "      <td>0.444444</td>\n",
       "      <td>0.666667</td>\n",
       "    </tr>\n",
       "    <tr>\n",
       "      <th>std</th>\n",
       "      <td>28416.760375</td>\n",
       "      <td>698.196060</td>\n",
       "      <td>2592.073946</td>\n",
       "      <td>31.324276</td>\n",
       "      <td>2806.441017</td>\n",
       "      <td>45.966307</td>\n",
       "      <td>0.500391</td>\n",
       "      <td>0.474713</td>\n",
       "    </tr>\n",
       "    <tr>\n",
       "      <th>min</th>\n",
       "      <td>11944.000000</td>\n",
       "      <td>-2382.800000</td>\n",
       "      <td>-4781.230000</td>\n",
       "      <td>-189.325862</td>\n",
       "      <td>-13384.540000</td>\n",
       "      <td>18.000000</td>\n",
       "      <td>0.000000</td>\n",
       "      <td>0.000000</td>\n",
       "    </tr>\n",
       "    <tr>\n",
       "      <th>25%</th>\n",
       "      <td>37419.500000</td>\n",
       "      <td>0.000000</td>\n",
       "      <td>0.000000</td>\n",
       "      <td>-67.389281</td>\n",
       "      <td>-7119.665000</td>\n",
       "      <td>85.500000</td>\n",
       "      <td>0.000000</td>\n",
       "      <td>0.000000</td>\n",
       "    </tr>\n",
       "    <tr>\n",
       "      <th>50%</th>\n",
       "      <td>45111.000000</td>\n",
       "      <td>0.000000</td>\n",
       "      <td>1252.175000</td>\n",
       "      <td>-47.330601</td>\n",
       "      <td>-5398.230000</td>\n",
       "      <td>121.000000</td>\n",
       "      <td>0.000000</td>\n",
       "      <td>1.000000</td>\n",
       "    </tr>\n",
       "    <tr>\n",
       "      <th>75%</th>\n",
       "      <td>61858.000000</td>\n",
       "      <td>23.520000</td>\n",
       "      <td>2780.315000</td>\n",
       "      <td>-37.206553</td>\n",
       "      <td>-3964.975000</td>\n",
       "      <td>146.250000</td>\n",
       "      <td>1.000000</td>\n",
       "      <td>1.000000</td>\n",
       "    </tr>\n",
       "    <tr>\n",
       "      <th>max</th>\n",
       "      <td>144157.000000</td>\n",
       "      <td>3472.810000</td>\n",
       "      <td>9500.000000</td>\n",
       "      <td>-4.963410</td>\n",
       "      <td>-696.400000</td>\n",
       "      <td>243.000000</td>\n",
       "      <td>1.000000</td>\n",
       "      <td>1.000000</td>\n",
       "    </tr>\n",
       "  </tbody>\n",
       "</table>\n",
       "</div>"
      ],
      "text/plain": [
       "              income  total_saved   total_debt  avg_trans_amt  \\\n",
       "count      72.000000    72.000000    72.000000      72.000000   \n",
       "mean    55298.250000    61.573472  1776.833611     -55.587875   \n",
       "std     28416.760375   698.196060  2592.073946      31.324276   \n",
       "min     11944.000000 -2382.800000 -4781.230000    -189.325862   \n",
       "25%     37419.500000     0.000000     0.000000     -67.389281   \n",
       "50%     45111.000000     0.000000  1252.175000     -47.330601   \n",
       "75%     61858.000000    23.520000  2780.315000     -37.206553   \n",
       "max    144157.000000  3472.810000  9500.000000      -4.963410   \n",
       "\n",
       "       total_trans_amt  total_no_transactions  savings_acct_active  \\\n",
       "count        72.000000              72.000000            72.000000   \n",
       "mean      -5683.670417             114.333333             0.444444   \n",
       "std        2806.441017              45.966307             0.500391   \n",
       "min      -13384.540000              18.000000             0.000000   \n",
       "25%       -7119.665000              85.500000             0.000000   \n",
       "50%       -5398.230000             121.000000             0.000000   \n",
       "75%       -3964.975000             146.250000             1.000000   \n",
       "max        -696.400000             243.000000             1.000000   \n",
       "\n",
       "       credit_acct_active  \n",
       "count           72.000000  \n",
       "mean             0.666667  \n",
       "std              0.474713  \n",
       "min              0.000000  \n",
       "25%              0.000000  \n",
       "50%              1.000000  \n",
       "75%              1.000000  \n",
       "max              1.000000  "
      ]
     },
     "execution_count": 38,
     "metadata": {},
     "output_type": "execute_result"
    }
   ],
   "source": [
    "bhv_df_c3.describe()"
   ]
  },
  {
   "cell_type": "code",
   "execution_count": 39,
   "id": "00061429",
   "metadata": {},
   "outputs": [
    {
     "data": {
      "text/html": [
       "<div>\n",
       "<style scoped>\n",
       "    .dataframe tbody tr th:only-of-type {\n",
       "        vertical-align: middle;\n",
       "    }\n",
       "\n",
       "    .dataframe tbody tr th {\n",
       "        vertical-align: top;\n",
       "    }\n",
       "\n",
       "    .dataframe thead th {\n",
       "        text-align: right;\n",
       "    }\n",
       "</style>\n",
       "<table border=\"1\" class=\"dataframe\">\n",
       "  <thead>\n",
       "    <tr style=\"text-align: right;\">\n",
       "      <th></th>\n",
       "      <th>income</th>\n",
       "      <th>total_saved</th>\n",
       "      <th>total_debt</th>\n",
       "      <th>avg_trans_amt</th>\n",
       "      <th>total_trans_amt</th>\n",
       "      <th>total_no_transactions</th>\n",
       "      <th>savings_acct</th>\n",
       "      <th>credit_acct</th>\n",
       "    </tr>\n",
       "  </thead>\n",
       "  <tbody>\n",
       "    <tr>\n",
       "      <th>count</th>\n",
       "      <td>72.000000</td>\n",
       "      <td>72.000000</td>\n",
       "      <td>72.000000</td>\n",
       "      <td>72.000000</td>\n",
       "      <td>72.000000</td>\n",
       "      <td>72.000000</td>\n",
       "      <td>72.000000</td>\n",
       "      <td>72.000000</td>\n",
       "    </tr>\n",
       "    <tr>\n",
       "      <th>mean</th>\n",
       "      <td>1.449746</td>\n",
       "      <td>-0.208742</td>\n",
       "      <td>1.009573</td>\n",
       "      <td>-1.662291</td>\n",
       "      <td>-1.760303</td>\n",
       "      <td>-0.046930</td>\n",
       "      <td>0.541667</td>\n",
       "      <td>0.611111</td>\n",
       "    </tr>\n",
       "    <tr>\n",
       "      <th>std</th>\n",
       "      <td>1.279568</td>\n",
       "      <td>0.799629</td>\n",
       "      <td>1.513409</td>\n",
       "      <td>1.052154</td>\n",
       "      <td>1.037964</td>\n",
       "      <td>0.814483</td>\n",
       "      <td>0.501757</td>\n",
       "      <td>0.490919</td>\n",
       "    </tr>\n",
       "    <tr>\n",
       "      <th>min</th>\n",
       "      <td>-0.502436</td>\n",
       "      <td>-3.008230</td>\n",
       "      <td>-2.819419</td>\n",
       "      <td>-6.154429</td>\n",
       "      <td>-4.608474</td>\n",
       "      <td>-1.753874</td>\n",
       "      <td>0.000000</td>\n",
       "      <td>0.000000</td>\n",
       "    </tr>\n",
       "    <tr>\n",
       "      <th>25%</th>\n",
       "      <td>0.644691</td>\n",
       "      <td>-0.279261</td>\n",
       "      <td>-0.027849</td>\n",
       "      <td>-2.058689</td>\n",
       "      <td>-2.291407</td>\n",
       "      <td>-0.557832</td>\n",
       "      <td>0.000000</td>\n",
       "      <td>0.000000</td>\n",
       "    </tr>\n",
       "    <tr>\n",
       "      <th>50%</th>\n",
       "      <td>0.991028</td>\n",
       "      <td>-0.279261</td>\n",
       "      <td>0.703246</td>\n",
       "      <td>-1.384936</td>\n",
       "      <td>-1.654733</td>\n",
       "      <td>0.071197</td>\n",
       "      <td>1.000000</td>\n",
       "      <td>1.000000</td>\n",
       "    </tr>\n",
       "    <tr>\n",
       "      <th>75%</th>\n",
       "      <td>1.745122</td>\n",
       "      <td>-0.252324</td>\n",
       "      <td>1.595466</td>\n",
       "      <td>-1.044879</td>\n",
       "      <td>-1.124643</td>\n",
       "      <td>0.518605</td>\n",
       "      <td>1.000000</td>\n",
       "      <td>1.000000</td>\n",
       "    </tr>\n",
       "    <tr>\n",
       "      <th>max</th>\n",
       "      <td>5.450933</td>\n",
       "      <td>3.698073</td>\n",
       "      <td>5.518823</td>\n",
       "      <td>0.038139</td>\n",
       "      <td>0.084241</td>\n",
       "      <td>2.232932</td>\n",
       "      <td>1.000000</td>\n",
       "      <td>1.000000</td>\n",
       "    </tr>\n",
       "  </tbody>\n",
       "</table>\n",
       "</div>"
      ],
      "text/plain": [
       "          income  total_saved  total_debt  avg_trans_amt  total_trans_amt  \\\n",
       "count  72.000000    72.000000   72.000000      72.000000        72.000000   \n",
       "mean    1.449746    -0.208742    1.009573      -1.662291        -1.760303   \n",
       "std     1.279568     0.799629    1.513409       1.052154         1.037964   \n",
       "min    -0.502436    -3.008230   -2.819419      -6.154429        -4.608474   \n",
       "25%     0.644691    -0.279261   -0.027849      -2.058689        -2.291407   \n",
       "50%     0.991028    -0.279261    0.703246      -1.384936        -1.654733   \n",
       "75%     1.745122    -0.252324    1.595466      -1.044879        -1.124643   \n",
       "max     5.450933     3.698073    5.518823       0.038139         0.084241   \n",
       "\n",
       "       total_no_transactions  savings_acct  credit_acct  \n",
       "count              72.000000     72.000000    72.000000  \n",
       "mean               -0.046930      0.541667     0.611111  \n",
       "std                 0.814483      0.501757     0.490919  \n",
       "min                -1.753874      0.000000     0.000000  \n",
       "25%                -0.557832      0.000000     0.000000  \n",
       "50%                 0.071197      1.000000     1.000000  \n",
       "75%                 0.518605      1.000000     1.000000  \n",
       "max                 2.232932      1.000000     1.000000  "
      ]
     },
     "execution_count": 39,
     "metadata": {},
     "output_type": "execute_result"
    }
   ],
   "source": [
    "bhv_scaled3.describe()"
   ]
  },
  {
   "cell_type": "code",
   "execution_count": 51,
   "id": "cd7c9212",
   "metadata": {},
   "outputs": [
    {
     "data": {
      "application/vnd.plotly.v1+json": {
       "config": {
        "plotlyServerURL": "https://plot.ly"
       },
       "data": [
        {
         "fill": "toself",
         "fillcolor": "palegreen",
         "line": {
          "color": "seagreen"
         },
         "opacity": 0.8,
         "r": [
          1.4497459878465364,
          -0.20874243341456478,
          1.0095729943027563,
          -1.662290747995593,
          -1.7603032919243373,
          -0.04693031947987282,
          0.5416666666666666,
          0.6111111111111112
         ],
         "theta": [
          "income",
          "total_saved",
          "total_debt",
          "avg_trans_amt",
          "total_trans_amt",
          "total_no_transactions",
          "savings_acct",
          "credit_acct"
         ],
         "type": "scatterpolar"
        }
       ],
       "layout": {
        "polar": {
         "radialaxis": {
          "range": [
           -2,
           2
          ],
          "visible": true
         }
        },
        "template": {
         "data": {
          "bar": [
           {
            "error_x": {
             "color": "#2a3f5f"
            },
            "error_y": {
             "color": "#2a3f5f"
            },
            "marker": {
             "line": {
              "color": "#E5ECF6",
              "width": 0.5
             },
             "pattern": {
              "fillmode": "overlay",
              "size": 10,
              "solidity": 0.2
             }
            },
            "type": "bar"
           }
          ],
          "barpolar": [
           {
            "marker": {
             "line": {
              "color": "#E5ECF6",
              "width": 0.5
             },
             "pattern": {
              "fillmode": "overlay",
              "size": 10,
              "solidity": 0.2
             }
            },
            "type": "barpolar"
           }
          ],
          "carpet": [
           {
            "aaxis": {
             "endlinecolor": "#2a3f5f",
             "gridcolor": "white",
             "linecolor": "white",
             "minorgridcolor": "white",
             "startlinecolor": "#2a3f5f"
            },
            "baxis": {
             "endlinecolor": "#2a3f5f",
             "gridcolor": "white",
             "linecolor": "white",
             "minorgridcolor": "white",
             "startlinecolor": "#2a3f5f"
            },
            "type": "carpet"
           }
          ],
          "choropleth": [
           {
            "colorbar": {
             "outlinewidth": 0,
             "ticks": ""
            },
            "type": "choropleth"
           }
          ],
          "contour": [
           {
            "colorbar": {
             "outlinewidth": 0,
             "ticks": ""
            },
            "colorscale": [
             [
              0,
              "#0d0887"
             ],
             [
              0.1111111111111111,
              "#46039f"
             ],
             [
              0.2222222222222222,
              "#7201a8"
             ],
             [
              0.3333333333333333,
              "#9c179e"
             ],
             [
              0.4444444444444444,
              "#bd3786"
             ],
             [
              0.5555555555555556,
              "#d8576b"
             ],
             [
              0.6666666666666666,
              "#ed7953"
             ],
             [
              0.7777777777777778,
              "#fb9f3a"
             ],
             [
              0.8888888888888888,
              "#fdca26"
             ],
             [
              1,
              "#f0f921"
             ]
            ],
            "type": "contour"
           }
          ],
          "contourcarpet": [
           {
            "colorbar": {
             "outlinewidth": 0,
             "ticks": ""
            },
            "type": "contourcarpet"
           }
          ],
          "heatmap": [
           {
            "colorbar": {
             "outlinewidth": 0,
             "ticks": ""
            },
            "colorscale": [
             [
              0,
              "#0d0887"
             ],
             [
              0.1111111111111111,
              "#46039f"
             ],
             [
              0.2222222222222222,
              "#7201a8"
             ],
             [
              0.3333333333333333,
              "#9c179e"
             ],
             [
              0.4444444444444444,
              "#bd3786"
             ],
             [
              0.5555555555555556,
              "#d8576b"
             ],
             [
              0.6666666666666666,
              "#ed7953"
             ],
             [
              0.7777777777777778,
              "#fb9f3a"
             ],
             [
              0.8888888888888888,
              "#fdca26"
             ],
             [
              1,
              "#f0f921"
             ]
            ],
            "type": "heatmap"
           }
          ],
          "heatmapgl": [
           {
            "colorbar": {
             "outlinewidth": 0,
             "ticks": ""
            },
            "colorscale": [
             [
              0,
              "#0d0887"
             ],
             [
              0.1111111111111111,
              "#46039f"
             ],
             [
              0.2222222222222222,
              "#7201a8"
             ],
             [
              0.3333333333333333,
              "#9c179e"
             ],
             [
              0.4444444444444444,
              "#bd3786"
             ],
             [
              0.5555555555555556,
              "#d8576b"
             ],
             [
              0.6666666666666666,
              "#ed7953"
             ],
             [
              0.7777777777777778,
              "#fb9f3a"
             ],
             [
              0.8888888888888888,
              "#fdca26"
             ],
             [
              1,
              "#f0f921"
             ]
            ],
            "type": "heatmapgl"
           }
          ],
          "histogram": [
           {
            "marker": {
             "pattern": {
              "fillmode": "overlay",
              "size": 10,
              "solidity": 0.2
             }
            },
            "type": "histogram"
           }
          ],
          "histogram2d": [
           {
            "colorbar": {
             "outlinewidth": 0,
             "ticks": ""
            },
            "colorscale": [
             [
              0,
              "#0d0887"
             ],
             [
              0.1111111111111111,
              "#46039f"
             ],
             [
              0.2222222222222222,
              "#7201a8"
             ],
             [
              0.3333333333333333,
              "#9c179e"
             ],
             [
              0.4444444444444444,
              "#bd3786"
             ],
             [
              0.5555555555555556,
              "#d8576b"
             ],
             [
              0.6666666666666666,
              "#ed7953"
             ],
             [
              0.7777777777777778,
              "#fb9f3a"
             ],
             [
              0.8888888888888888,
              "#fdca26"
             ],
             [
              1,
              "#f0f921"
             ]
            ],
            "type": "histogram2d"
           }
          ],
          "histogram2dcontour": [
           {
            "colorbar": {
             "outlinewidth": 0,
             "ticks": ""
            },
            "colorscale": [
             [
              0,
              "#0d0887"
             ],
             [
              0.1111111111111111,
              "#46039f"
             ],
             [
              0.2222222222222222,
              "#7201a8"
             ],
             [
              0.3333333333333333,
              "#9c179e"
             ],
             [
              0.4444444444444444,
              "#bd3786"
             ],
             [
              0.5555555555555556,
              "#d8576b"
             ],
             [
              0.6666666666666666,
              "#ed7953"
             ],
             [
              0.7777777777777778,
              "#fb9f3a"
             ],
             [
              0.8888888888888888,
              "#fdca26"
             ],
             [
              1,
              "#f0f921"
             ]
            ],
            "type": "histogram2dcontour"
           }
          ],
          "mesh3d": [
           {
            "colorbar": {
             "outlinewidth": 0,
             "ticks": ""
            },
            "type": "mesh3d"
           }
          ],
          "parcoords": [
           {
            "line": {
             "colorbar": {
              "outlinewidth": 0,
              "ticks": ""
             }
            },
            "type": "parcoords"
           }
          ],
          "pie": [
           {
            "automargin": true,
            "type": "pie"
           }
          ],
          "scatter": [
           {
            "fillpattern": {
             "fillmode": "overlay",
             "size": 10,
             "solidity": 0.2
            },
            "type": "scatter"
           }
          ],
          "scatter3d": [
           {
            "line": {
             "colorbar": {
              "outlinewidth": 0,
              "ticks": ""
             }
            },
            "marker": {
             "colorbar": {
              "outlinewidth": 0,
              "ticks": ""
             }
            },
            "type": "scatter3d"
           }
          ],
          "scattercarpet": [
           {
            "marker": {
             "colorbar": {
              "outlinewidth": 0,
              "ticks": ""
             }
            },
            "type": "scattercarpet"
           }
          ],
          "scattergeo": [
           {
            "marker": {
             "colorbar": {
              "outlinewidth": 0,
              "ticks": ""
             }
            },
            "type": "scattergeo"
           }
          ],
          "scattergl": [
           {
            "marker": {
             "colorbar": {
              "outlinewidth": 0,
              "ticks": ""
             }
            },
            "type": "scattergl"
           }
          ],
          "scattermapbox": [
           {
            "marker": {
             "colorbar": {
              "outlinewidth": 0,
              "ticks": ""
             }
            },
            "type": "scattermapbox"
           }
          ],
          "scatterpolar": [
           {
            "marker": {
             "colorbar": {
              "outlinewidth": 0,
              "ticks": ""
             }
            },
            "type": "scatterpolar"
           }
          ],
          "scatterpolargl": [
           {
            "marker": {
             "colorbar": {
              "outlinewidth": 0,
              "ticks": ""
             }
            },
            "type": "scatterpolargl"
           }
          ],
          "scatterternary": [
           {
            "marker": {
             "colorbar": {
              "outlinewidth": 0,
              "ticks": ""
             }
            },
            "type": "scatterternary"
           }
          ],
          "surface": [
           {
            "colorbar": {
             "outlinewidth": 0,
             "ticks": ""
            },
            "colorscale": [
             [
              0,
              "#0d0887"
             ],
             [
              0.1111111111111111,
              "#46039f"
             ],
             [
              0.2222222222222222,
              "#7201a8"
             ],
             [
              0.3333333333333333,
              "#9c179e"
             ],
             [
              0.4444444444444444,
              "#bd3786"
             ],
             [
              0.5555555555555556,
              "#d8576b"
             ],
             [
              0.6666666666666666,
              "#ed7953"
             ],
             [
              0.7777777777777778,
              "#fb9f3a"
             ],
             [
              0.8888888888888888,
              "#fdca26"
             ],
             [
              1,
              "#f0f921"
             ]
            ],
            "type": "surface"
           }
          ],
          "table": [
           {
            "cells": {
             "fill": {
              "color": "#EBF0F8"
             },
             "line": {
              "color": "white"
             }
            },
            "header": {
             "fill": {
              "color": "#C8D4E3"
             },
             "line": {
              "color": "white"
             }
            },
            "type": "table"
           }
          ]
         },
         "layout": {
          "annotationdefaults": {
           "arrowcolor": "#2a3f5f",
           "arrowhead": 0,
           "arrowwidth": 1
          },
          "autotypenumbers": "strict",
          "coloraxis": {
           "colorbar": {
            "outlinewidth": 0,
            "ticks": ""
           }
          },
          "colorscale": {
           "diverging": [
            [
             0,
             "#8e0152"
            ],
            [
             0.1,
             "#c51b7d"
            ],
            [
             0.2,
             "#de77ae"
            ],
            [
             0.3,
             "#f1b6da"
            ],
            [
             0.4,
             "#fde0ef"
            ],
            [
             0.5,
             "#f7f7f7"
            ],
            [
             0.6,
             "#e6f5d0"
            ],
            [
             0.7,
             "#b8e186"
            ],
            [
             0.8,
             "#7fbc41"
            ],
            [
             0.9,
             "#4d9221"
            ],
            [
             1,
             "#276419"
            ]
           ],
           "sequential": [
            [
             0,
             "#0d0887"
            ],
            [
             0.1111111111111111,
             "#46039f"
            ],
            [
             0.2222222222222222,
             "#7201a8"
            ],
            [
             0.3333333333333333,
             "#9c179e"
            ],
            [
             0.4444444444444444,
             "#bd3786"
            ],
            [
             0.5555555555555556,
             "#d8576b"
            ],
            [
             0.6666666666666666,
             "#ed7953"
            ],
            [
             0.7777777777777778,
             "#fb9f3a"
            ],
            [
             0.8888888888888888,
             "#fdca26"
            ],
            [
             1,
             "#f0f921"
            ]
           ],
           "sequentialminus": [
            [
             0,
             "#0d0887"
            ],
            [
             0.1111111111111111,
             "#46039f"
            ],
            [
             0.2222222222222222,
             "#7201a8"
            ],
            [
             0.3333333333333333,
             "#9c179e"
            ],
            [
             0.4444444444444444,
             "#bd3786"
            ],
            [
             0.5555555555555556,
             "#d8576b"
            ],
            [
             0.6666666666666666,
             "#ed7953"
            ],
            [
             0.7777777777777778,
             "#fb9f3a"
            ],
            [
             0.8888888888888888,
             "#fdca26"
            ],
            [
             1,
             "#f0f921"
            ]
           ]
          },
          "colorway": [
           "#636efa",
           "#EF553B",
           "#00cc96",
           "#ab63fa",
           "#FFA15A",
           "#19d3f3",
           "#FF6692",
           "#B6E880",
           "#FF97FF",
           "#FECB52"
          ],
          "font": {
           "color": "#2a3f5f"
          },
          "geo": {
           "bgcolor": "white",
           "lakecolor": "white",
           "landcolor": "#E5ECF6",
           "showlakes": true,
           "showland": true,
           "subunitcolor": "white"
          },
          "hoverlabel": {
           "align": "left"
          },
          "hovermode": "closest",
          "mapbox": {
           "style": "light"
          },
          "paper_bgcolor": "white",
          "plot_bgcolor": "#E5ECF6",
          "polar": {
           "angularaxis": {
            "gridcolor": "white",
            "linecolor": "white",
            "ticks": ""
           },
           "bgcolor": "#E5ECF6",
           "radialaxis": {
            "gridcolor": "white",
            "linecolor": "white",
            "ticks": ""
           }
          },
          "scene": {
           "xaxis": {
            "backgroundcolor": "#E5ECF6",
            "gridcolor": "white",
            "gridwidth": 2,
            "linecolor": "white",
            "showbackground": true,
            "ticks": "",
            "zerolinecolor": "white"
           },
           "yaxis": {
            "backgroundcolor": "#E5ECF6",
            "gridcolor": "white",
            "gridwidth": 2,
            "linecolor": "white",
            "showbackground": true,
            "ticks": "",
            "zerolinecolor": "white"
           },
           "zaxis": {
            "backgroundcolor": "#E5ECF6",
            "gridcolor": "white",
            "gridwidth": 2,
            "linecolor": "white",
            "showbackground": true,
            "ticks": "",
            "zerolinecolor": "white"
           }
          },
          "shapedefaults": {
           "line": {
            "color": "#2a3f5f"
           }
          },
          "ternary": {
           "aaxis": {
            "gridcolor": "white",
            "linecolor": "white",
            "ticks": ""
           },
           "baxis": {
            "gridcolor": "white",
            "linecolor": "white",
            "ticks": ""
           },
           "bgcolor": "#E5ECF6",
           "caxis": {
            "gridcolor": "white",
            "linecolor": "white",
            "ticks": ""
           }
          },
          "title": {
           "x": 0.05
          },
          "xaxis": {
           "automargin": true,
           "gridcolor": "white",
           "linecolor": "white",
           "ticks": "",
           "title": {
            "standoff": 15
           },
           "zerolinecolor": "white",
           "zerolinewidth": 2
          },
          "yaxis": {
           "automargin": true,
           "gridcolor": "white",
           "linecolor": "white",
           "ticks": "",
           "title": {
            "standoff": 15
           },
           "zerolinecolor": "white",
           "zerolinewidth": 2
          }
         }
        },
        "title": {
         "text": "Behavior Cluster 3"
        }
       }
      },
      "text/html": [
       "<div>                            <div id=\"213f79a4-5f41-44f0-a565-bda5b17978b1\" class=\"plotly-graph-div\" style=\"height:525px; width:100%;\"></div>            <script type=\"text/javascript\">                require([\"plotly\"], function(Plotly) {                    window.PLOTLYENV=window.PLOTLYENV || {};                                    if (document.getElementById(\"213f79a4-5f41-44f0-a565-bda5b17978b1\")) {                    Plotly.newPlot(                        \"213f79a4-5f41-44f0-a565-bda5b17978b1\",                        [{\"fill\":\"toself\",\"fillcolor\":\"palegreen\",\"line\":{\"color\":\"seagreen\"},\"opacity\":0.8,\"r\":[1.4497459878465364,-0.20874243341456478,1.0095729943027563,-1.662290747995593,-1.7603032919243373,-0.04693031947987282,0.5416666666666666,0.6111111111111112],\"theta\":[\"income\",\"total_saved\",\"total_debt\",\"avg_trans_amt\",\"total_trans_amt\",\"total_no_transactions\",\"savings_acct\",\"credit_acct\"],\"type\":\"scatterpolar\"}],                        {\"template\":{\"data\":{\"histogram2dcontour\":[{\"type\":\"histogram2dcontour\",\"colorbar\":{\"outlinewidth\":0,\"ticks\":\"\"},\"colorscale\":[[0.0,\"#0d0887\"],[0.1111111111111111,\"#46039f\"],[0.2222222222222222,\"#7201a8\"],[0.3333333333333333,\"#9c179e\"],[0.4444444444444444,\"#bd3786\"],[0.5555555555555556,\"#d8576b\"],[0.6666666666666666,\"#ed7953\"],[0.7777777777777778,\"#fb9f3a\"],[0.8888888888888888,\"#fdca26\"],[1.0,\"#f0f921\"]]}],\"choropleth\":[{\"type\":\"choropleth\",\"colorbar\":{\"outlinewidth\":0,\"ticks\":\"\"}}],\"histogram2d\":[{\"type\":\"histogram2d\",\"colorbar\":{\"outlinewidth\":0,\"ticks\":\"\"},\"colorscale\":[[0.0,\"#0d0887\"],[0.1111111111111111,\"#46039f\"],[0.2222222222222222,\"#7201a8\"],[0.3333333333333333,\"#9c179e\"],[0.4444444444444444,\"#bd3786\"],[0.5555555555555556,\"#d8576b\"],[0.6666666666666666,\"#ed7953\"],[0.7777777777777778,\"#fb9f3a\"],[0.8888888888888888,\"#fdca26\"],[1.0,\"#f0f921\"]]}],\"heatmap\":[{\"type\":\"heatmap\",\"colorbar\":{\"outlinewidth\":0,\"ticks\":\"\"},\"colorscale\":[[0.0,\"#0d0887\"],[0.1111111111111111,\"#46039f\"],[0.2222222222222222,\"#7201a8\"],[0.3333333333333333,\"#9c179e\"],[0.4444444444444444,\"#bd3786\"],[0.5555555555555556,\"#d8576b\"],[0.6666666666666666,\"#ed7953\"],[0.7777777777777778,\"#fb9f3a\"],[0.8888888888888888,\"#fdca26\"],[1.0,\"#f0f921\"]]}],\"heatmapgl\":[{\"type\":\"heatmapgl\",\"colorbar\":{\"outlinewidth\":0,\"ticks\":\"\"},\"colorscale\":[[0.0,\"#0d0887\"],[0.1111111111111111,\"#46039f\"],[0.2222222222222222,\"#7201a8\"],[0.3333333333333333,\"#9c179e\"],[0.4444444444444444,\"#bd3786\"],[0.5555555555555556,\"#d8576b\"],[0.6666666666666666,\"#ed7953\"],[0.7777777777777778,\"#fb9f3a\"],[0.8888888888888888,\"#fdca26\"],[1.0,\"#f0f921\"]]}],\"contourcarpet\":[{\"type\":\"contourcarpet\",\"colorbar\":{\"outlinewidth\":0,\"ticks\":\"\"}}],\"contour\":[{\"type\":\"contour\",\"colorbar\":{\"outlinewidth\":0,\"ticks\":\"\"},\"colorscale\":[[0.0,\"#0d0887\"],[0.1111111111111111,\"#46039f\"],[0.2222222222222222,\"#7201a8\"],[0.3333333333333333,\"#9c179e\"],[0.4444444444444444,\"#bd3786\"],[0.5555555555555556,\"#d8576b\"],[0.6666666666666666,\"#ed7953\"],[0.7777777777777778,\"#fb9f3a\"],[0.8888888888888888,\"#fdca26\"],[1.0,\"#f0f921\"]]}],\"surface\":[{\"type\":\"surface\",\"colorbar\":{\"outlinewidth\":0,\"ticks\":\"\"},\"colorscale\":[[0.0,\"#0d0887\"],[0.1111111111111111,\"#46039f\"],[0.2222222222222222,\"#7201a8\"],[0.3333333333333333,\"#9c179e\"],[0.4444444444444444,\"#bd3786\"],[0.5555555555555556,\"#d8576b\"],[0.6666666666666666,\"#ed7953\"],[0.7777777777777778,\"#fb9f3a\"],[0.8888888888888888,\"#fdca26\"],[1.0,\"#f0f921\"]]}],\"mesh3d\":[{\"type\":\"mesh3d\",\"colorbar\":{\"outlinewidth\":0,\"ticks\":\"\"}}],\"scatter\":[{\"fillpattern\":{\"fillmode\":\"overlay\",\"size\":10,\"solidity\":0.2},\"type\":\"scatter\"}],\"parcoords\":[{\"type\":\"parcoords\",\"line\":{\"colorbar\":{\"outlinewidth\":0,\"ticks\":\"\"}}}],\"scatterpolargl\":[{\"type\":\"scatterpolargl\",\"marker\":{\"colorbar\":{\"outlinewidth\":0,\"ticks\":\"\"}}}],\"bar\":[{\"error_x\":{\"color\":\"#2a3f5f\"},\"error_y\":{\"color\":\"#2a3f5f\"},\"marker\":{\"line\":{\"color\":\"#E5ECF6\",\"width\":0.5},\"pattern\":{\"fillmode\":\"overlay\",\"size\":10,\"solidity\":0.2}},\"type\":\"bar\"}],\"scattergeo\":[{\"type\":\"scattergeo\",\"marker\":{\"colorbar\":{\"outlinewidth\":0,\"ticks\":\"\"}}}],\"scatterpolar\":[{\"type\":\"scatterpolar\",\"marker\":{\"colorbar\":{\"outlinewidth\":0,\"ticks\":\"\"}}}],\"histogram\":[{\"marker\":{\"pattern\":{\"fillmode\":\"overlay\",\"size\":10,\"solidity\":0.2}},\"type\":\"histogram\"}],\"scattergl\":[{\"type\":\"scattergl\",\"marker\":{\"colorbar\":{\"outlinewidth\":0,\"ticks\":\"\"}}}],\"scatter3d\":[{\"type\":\"scatter3d\",\"line\":{\"colorbar\":{\"outlinewidth\":0,\"ticks\":\"\"}},\"marker\":{\"colorbar\":{\"outlinewidth\":0,\"ticks\":\"\"}}}],\"scattermapbox\":[{\"type\":\"scattermapbox\",\"marker\":{\"colorbar\":{\"outlinewidth\":0,\"ticks\":\"\"}}}],\"scatterternary\":[{\"type\":\"scatterternary\",\"marker\":{\"colorbar\":{\"outlinewidth\":0,\"ticks\":\"\"}}}],\"scattercarpet\":[{\"type\":\"scattercarpet\",\"marker\":{\"colorbar\":{\"outlinewidth\":0,\"ticks\":\"\"}}}],\"carpet\":[{\"aaxis\":{\"endlinecolor\":\"#2a3f5f\",\"gridcolor\":\"white\",\"linecolor\":\"white\",\"minorgridcolor\":\"white\",\"startlinecolor\":\"#2a3f5f\"},\"baxis\":{\"endlinecolor\":\"#2a3f5f\",\"gridcolor\":\"white\",\"linecolor\":\"white\",\"minorgridcolor\":\"white\",\"startlinecolor\":\"#2a3f5f\"},\"type\":\"carpet\"}],\"table\":[{\"cells\":{\"fill\":{\"color\":\"#EBF0F8\"},\"line\":{\"color\":\"white\"}},\"header\":{\"fill\":{\"color\":\"#C8D4E3\"},\"line\":{\"color\":\"white\"}},\"type\":\"table\"}],\"barpolar\":[{\"marker\":{\"line\":{\"color\":\"#E5ECF6\",\"width\":0.5},\"pattern\":{\"fillmode\":\"overlay\",\"size\":10,\"solidity\":0.2}},\"type\":\"barpolar\"}],\"pie\":[{\"automargin\":true,\"type\":\"pie\"}]},\"layout\":{\"autotypenumbers\":\"strict\",\"colorway\":[\"#636efa\",\"#EF553B\",\"#00cc96\",\"#ab63fa\",\"#FFA15A\",\"#19d3f3\",\"#FF6692\",\"#B6E880\",\"#FF97FF\",\"#FECB52\"],\"font\":{\"color\":\"#2a3f5f\"},\"hovermode\":\"closest\",\"hoverlabel\":{\"align\":\"left\"},\"paper_bgcolor\":\"white\",\"plot_bgcolor\":\"#E5ECF6\",\"polar\":{\"bgcolor\":\"#E5ECF6\",\"angularaxis\":{\"gridcolor\":\"white\",\"linecolor\":\"white\",\"ticks\":\"\"},\"radialaxis\":{\"gridcolor\":\"white\",\"linecolor\":\"white\",\"ticks\":\"\"}},\"ternary\":{\"bgcolor\":\"#E5ECF6\",\"aaxis\":{\"gridcolor\":\"white\",\"linecolor\":\"white\",\"ticks\":\"\"},\"baxis\":{\"gridcolor\":\"white\",\"linecolor\":\"white\",\"ticks\":\"\"},\"caxis\":{\"gridcolor\":\"white\",\"linecolor\":\"white\",\"ticks\":\"\"}},\"coloraxis\":{\"colorbar\":{\"outlinewidth\":0,\"ticks\":\"\"}},\"colorscale\":{\"sequential\":[[0.0,\"#0d0887\"],[0.1111111111111111,\"#46039f\"],[0.2222222222222222,\"#7201a8\"],[0.3333333333333333,\"#9c179e\"],[0.4444444444444444,\"#bd3786\"],[0.5555555555555556,\"#d8576b\"],[0.6666666666666666,\"#ed7953\"],[0.7777777777777778,\"#fb9f3a\"],[0.8888888888888888,\"#fdca26\"],[1.0,\"#f0f921\"]],\"sequentialminus\":[[0.0,\"#0d0887\"],[0.1111111111111111,\"#46039f\"],[0.2222222222222222,\"#7201a8\"],[0.3333333333333333,\"#9c179e\"],[0.4444444444444444,\"#bd3786\"],[0.5555555555555556,\"#d8576b\"],[0.6666666666666666,\"#ed7953\"],[0.7777777777777778,\"#fb9f3a\"],[0.8888888888888888,\"#fdca26\"],[1.0,\"#f0f921\"]],\"diverging\":[[0,\"#8e0152\"],[0.1,\"#c51b7d\"],[0.2,\"#de77ae\"],[0.3,\"#f1b6da\"],[0.4,\"#fde0ef\"],[0.5,\"#f7f7f7\"],[0.6,\"#e6f5d0\"],[0.7,\"#b8e186\"],[0.8,\"#7fbc41\"],[0.9,\"#4d9221\"],[1,\"#276419\"]]},\"xaxis\":{\"gridcolor\":\"white\",\"linecolor\":\"white\",\"ticks\":\"\",\"title\":{\"standoff\":15},\"zerolinecolor\":\"white\",\"automargin\":true,\"zerolinewidth\":2},\"yaxis\":{\"gridcolor\":\"white\",\"linecolor\":\"white\",\"ticks\":\"\",\"title\":{\"standoff\":15},\"zerolinecolor\":\"white\",\"automargin\":true,\"zerolinewidth\":2},\"scene\":{\"xaxis\":{\"backgroundcolor\":\"#E5ECF6\",\"gridcolor\":\"white\",\"linecolor\":\"white\",\"showbackground\":true,\"ticks\":\"\",\"zerolinecolor\":\"white\",\"gridwidth\":2},\"yaxis\":{\"backgroundcolor\":\"#E5ECF6\",\"gridcolor\":\"white\",\"linecolor\":\"white\",\"showbackground\":true,\"ticks\":\"\",\"zerolinecolor\":\"white\",\"gridwidth\":2},\"zaxis\":{\"backgroundcolor\":\"#E5ECF6\",\"gridcolor\":\"white\",\"linecolor\":\"white\",\"showbackground\":true,\"ticks\":\"\",\"zerolinecolor\":\"white\",\"gridwidth\":2}},\"shapedefaults\":{\"line\":{\"color\":\"#2a3f5f\"}},\"annotationdefaults\":{\"arrowcolor\":\"#2a3f5f\",\"arrowhead\":0,\"arrowwidth\":1},\"geo\":{\"bgcolor\":\"white\",\"landcolor\":\"#E5ECF6\",\"subunitcolor\":\"white\",\"showland\":true,\"showlakes\":true,\"lakecolor\":\"white\"},\"title\":{\"x\":0.05},\"mapbox\":{\"style\":\"light\"}}},\"polar\":{\"radialaxis\":{\"visible\":true,\"range\":[-2,2]}},\"title\":{\"text\":\"Behavior Cluster 3\"}},                        {\"responsive\": true}                    ).then(function(){\n",
       "                            \n",
       "var gd = document.getElementById('213f79a4-5f41-44f0-a565-bda5b17978b1');\n",
       "var x = new MutationObserver(function (mutations, observer) {{\n",
       "        var display = window.getComputedStyle(gd).display;\n",
       "        if (!display || display === 'none') {{\n",
       "            console.log([gd, 'removed!']);\n",
       "            Plotly.purge(gd);\n",
       "            observer.disconnect();\n",
       "        }}\n",
       "}});\n",
       "\n",
       "// Listen for the removal of the full notebook cells\n",
       "var notebookContainer = gd.closest('#notebook-container');\n",
       "if (notebookContainer) {{\n",
       "    x.observe(notebookContainer, {childList: true});\n",
       "}}\n",
       "\n",
       "// Listen for the clearing of the current output cell\n",
       "var outputEl = gd.closest('.output');\n",
       "if (outputEl) {{\n",
       "    x.observe(outputEl, {childList: true});\n",
       "}}\n",
       "\n",
       "                        })                };                });            </script>        </div>"
      ]
     },
     "metadata": {},
     "output_type": "display_data"
    }
   ],
   "source": [
    "fig = go.Figure()\n",
    "\n",
    "fig.add_trace(go.Scatterpolar(r = bhv_scaled3.mean(), theta = bhv_scaled3.columns,fill='toself', fillcolor='palegreen', line_color='seagreen', opacity=0.8))\n",
    "\n",
    "fig.update_layout(title = 'Behavior Cluster 3',     \n",
    "    polar=dict(\n",
    "    radialaxis=dict(\n",
    "    visible=True,\n",
    "    range=[-2,2])))\n",
    "\n",
    "fig.show()"
   ]
  },
  {
   "cell_type": "code",
   "execution_count": 41,
   "id": "3ca9e2a3",
   "metadata": {},
   "outputs": [
    {
     "data": {
      "text/html": [
       "<div>\n",
       "<style scoped>\n",
       "    .dataframe tbody tr th:only-of-type {\n",
       "        vertical-align: middle;\n",
       "    }\n",
       "\n",
       "    .dataframe tbody tr th {\n",
       "        vertical-align: top;\n",
       "    }\n",
       "\n",
       "    .dataframe thead th {\n",
       "        text-align: right;\n",
       "    }\n",
       "</style>\n",
       "<table border=\"1\" class=\"dataframe\">\n",
       "  <thead>\n",
       "    <tr style=\"text-align: right;\">\n",
       "      <th></th>\n",
       "      <th>income</th>\n",
       "      <th>total_saved</th>\n",
       "      <th>total_debt</th>\n",
       "      <th>avg_trans_amt</th>\n",
       "      <th>total_trans_amt</th>\n",
       "      <th>total_no_transactions</th>\n",
       "      <th>savings_acct_active</th>\n",
       "      <th>credit_acct_active</th>\n",
       "    </tr>\n",
       "  </thead>\n",
       "  <tbody>\n",
       "    <tr>\n",
       "      <th>count</th>\n",
       "      <td>67.000000</td>\n",
       "      <td>67.000000</td>\n",
       "      <td>67.000000</td>\n",
       "      <td>67.000000</td>\n",
       "      <td>67.000000</td>\n",
       "      <td>67.000000</td>\n",
       "      <td>67.000000</td>\n",
       "      <td>67.000000</td>\n",
       "    </tr>\n",
       "    <tr>\n",
       "      <th>mean</th>\n",
       "      <td>46285.462687</td>\n",
       "      <td>237.352090</td>\n",
       "      <td>-2874.306866</td>\n",
       "      <td>31.453509</td>\n",
       "      <td>2495.797761</td>\n",
       "      <td>114.000000</td>\n",
       "      <td>0.567164</td>\n",
       "      <td>0.522388</td>\n",
       "    </tr>\n",
       "    <tr>\n",
       "      <th>std</th>\n",
       "      <td>20445.740549</td>\n",
       "      <td>579.055281</td>\n",
       "      <td>1983.557027</td>\n",
       "      <td>32.132482</td>\n",
       "      <td>2008.035061</td>\n",
       "      <td>56.160215</td>\n",
       "      <td>0.499208</td>\n",
       "      <td>0.503268</td>\n",
       "    </tr>\n",
       "    <tr>\n",
       "      <th>min</th>\n",
       "      <td>0.000000</td>\n",
       "      <td>-463.300000</td>\n",
       "      <td>-9633.490000</td>\n",
       "      <td>-39.950219</td>\n",
       "      <td>-5473.180000</td>\n",
       "      <td>22.000000</td>\n",
       "      <td>0.000000</td>\n",
       "      <td>0.000000</td>\n",
       "    </tr>\n",
       "    <tr>\n",
       "      <th>25%</th>\n",
       "      <td>31275.000000</td>\n",
       "      <td>0.000000</td>\n",
       "      <td>-3648.195000</td>\n",
       "      <td>11.261512</td>\n",
       "      <td>1539.390000</td>\n",
       "      <td>65.500000</td>\n",
       "      <td>0.000000</td>\n",
       "      <td>0.000000</td>\n",
       "    </tr>\n",
       "    <tr>\n",
       "      <th>50%</th>\n",
       "      <td>46461.000000</td>\n",
       "      <td>2.360000</td>\n",
       "      <td>-2343.320000</td>\n",
       "      <td>23.960000</td>\n",
       "      <td>2097.160000</td>\n",
       "      <td>120.000000</td>\n",
       "      <td>1.000000</td>\n",
       "      <td>1.000000</td>\n",
       "    </tr>\n",
       "    <tr>\n",
       "      <th>75%</th>\n",
       "      <td>57667.500000</td>\n",
       "      <td>228.125000</td>\n",
       "      <td>-1655.390000</td>\n",
       "      <td>40.892831</td>\n",
       "      <td>3264.705000</td>\n",
       "      <td>147.000000</td>\n",
       "      <td>1.000000</td>\n",
       "      <td>1.000000</td>\n",
       "    </tr>\n",
       "    <tr>\n",
       "      <th>max</th>\n",
       "      <td>98566.000000</td>\n",
       "      <td>2595.780000</td>\n",
       "      <td>293.440000</td>\n",
       "      <td>173.709583</td>\n",
       "      <td>9133.170000</td>\n",
       "      <td>263.000000</td>\n",
       "      <td>1.000000</td>\n",
       "      <td>1.000000</td>\n",
       "    </tr>\n",
       "  </tbody>\n",
       "</table>\n",
       "</div>"
      ],
      "text/plain": [
       "             income  total_saved   total_debt  avg_trans_amt  total_trans_amt  \\\n",
       "count     67.000000    67.000000    67.000000      67.000000        67.000000   \n",
       "mean   46285.462687   237.352090 -2874.306866      31.453509      2495.797761   \n",
       "std    20445.740549   579.055281  1983.557027      32.132482      2008.035061   \n",
       "min        0.000000  -463.300000 -9633.490000     -39.950219     -5473.180000   \n",
       "25%    31275.000000     0.000000 -3648.195000      11.261512      1539.390000   \n",
       "50%    46461.000000     2.360000 -2343.320000      23.960000      2097.160000   \n",
       "75%    57667.500000   228.125000 -1655.390000      40.892831      3264.705000   \n",
       "max    98566.000000  2595.780000   293.440000     173.709583      9133.170000   \n",
       "\n",
       "       total_no_transactions  savings_acct_active  credit_acct_active  \n",
       "count              67.000000            67.000000           67.000000  \n",
       "mean              114.000000             0.567164            0.522388  \n",
       "std                56.160215             0.499208            0.503268  \n",
       "min                22.000000             0.000000            0.000000  \n",
       "25%                65.500000             0.000000            0.000000  \n",
       "50%               120.000000             1.000000            1.000000  \n",
       "75%               147.000000             1.000000            1.000000  \n",
       "max               263.000000             1.000000            1.000000  "
      ]
     },
     "execution_count": 41,
     "metadata": {},
     "output_type": "execute_result"
    }
   ],
   "source": [
    "bhv_df_c4.describe()"
   ]
  },
  {
   "cell_type": "code",
   "execution_count": 42,
   "id": "bb36758e",
   "metadata": {
    "scrolled": false
   },
   "outputs": [
    {
     "data": {
      "text/html": [
       "<div>\n",
       "<style scoped>\n",
       "    .dataframe tbody tr th:only-of-type {\n",
       "        vertical-align: middle;\n",
       "    }\n",
       "\n",
       "    .dataframe tbody tr th {\n",
       "        vertical-align: top;\n",
       "    }\n",
       "\n",
       "    .dataframe thead th {\n",
       "        text-align: right;\n",
       "    }\n",
       "</style>\n",
       "<table border=\"1\" class=\"dataframe\">\n",
       "  <thead>\n",
       "    <tr style=\"text-align: right;\">\n",
       "      <th></th>\n",
       "      <th>income</th>\n",
       "      <th>total_saved</th>\n",
       "      <th>total_debt</th>\n",
       "      <th>avg_trans_amt</th>\n",
       "      <th>total_trans_amt</th>\n",
       "      <th>total_no_transactions</th>\n",
       "      <th>savings_acct</th>\n",
       "      <th>credit_acct</th>\n",
       "    </tr>\n",
       "  </thead>\n",
       "  <tbody>\n",
       "    <tr>\n",
       "      <th>count</th>\n",
       "      <td>67.000000</td>\n",
       "      <td>67.000000</td>\n",
       "      <td>67.000000</td>\n",
       "      <td>67.000000</td>\n",
       "      <td>67.000000</td>\n",
       "      <td>67.000000</td>\n",
       "      <td>67.000000</td>\n",
       "      <td>67.000000</td>\n",
       "    </tr>\n",
       "    <tr>\n",
       "      <th>mean</th>\n",
       "      <td>1.043913</td>\n",
       "      <td>-0.007427</td>\n",
       "      <td>-1.706043</td>\n",
       "      <td>1.261351</td>\n",
       "      <td>1.264878</td>\n",
       "      <td>-0.052837</td>\n",
       "      <td>0.671642</td>\n",
       "      <td>0.626866</td>\n",
       "    </tr>\n",
       "    <tr>\n",
       "      <th>std</th>\n",
       "      <td>0.920644</td>\n",
       "      <td>0.663179</td>\n",
       "      <td>1.158120</td>\n",
       "      <td>1.079301</td>\n",
       "      <td>0.742673</td>\n",
       "      <td>0.995110</td>\n",
       "      <td>0.473160</td>\n",
       "      <td>0.487288</td>\n",
       "    </tr>\n",
       "    <tr>\n",
       "      <th>min</th>\n",
       "      <td>-1.040258</td>\n",
       "      <td>-0.809869</td>\n",
       "      <td>-5.652461</td>\n",
       "      <td>-1.137036</td>\n",
       "      <td>-1.682453</td>\n",
       "      <td>-1.682997</td>\n",
       "      <td>0.000000</td>\n",
       "      <td>0.000000</td>\n",
       "    </tr>\n",
       "    <tr>\n",
       "      <th>25%</th>\n",
       "      <td>0.368012</td>\n",
       "      <td>-0.279261</td>\n",
       "      <td>-2.157885</td>\n",
       "      <td>0.583120</td>\n",
       "      <td>0.911150</td>\n",
       "      <td>-0.912215</td>\n",
       "      <td>0.000000</td>\n",
       "      <td>0.000000</td>\n",
       "    </tr>\n",
       "    <tr>\n",
       "      <th>50%</th>\n",
       "      <td>1.051817</td>\n",
       "      <td>-0.276558</td>\n",
       "      <td>-1.396021</td>\n",
       "      <td>1.009650</td>\n",
       "      <td>1.117441</td>\n",
       "      <td>0.053478</td>\n",
       "      <td>1.000000</td>\n",
       "      <td>1.000000</td>\n",
       "    </tr>\n",
       "    <tr>\n",
       "      <th>75%</th>\n",
       "      <td>1.556430</td>\n",
       "      <td>-0.017995</td>\n",
       "      <td>-0.994366</td>\n",
       "      <td>1.578409</td>\n",
       "      <td>1.549258</td>\n",
       "      <td>0.531895</td>\n",
       "      <td>1.000000</td>\n",
       "      <td>1.000000</td>\n",
       "    </tr>\n",
       "    <tr>\n",
       "      <th>max</th>\n",
       "      <td>3.398033</td>\n",
       "      <td>2.693629</td>\n",
       "      <td>0.143478</td>\n",
       "      <td>6.039604</td>\n",
       "      <td>3.719713</td>\n",
       "      <td>2.587314</td>\n",
       "      <td>1.000000</td>\n",
       "      <td>1.000000</td>\n",
       "    </tr>\n",
       "  </tbody>\n",
       "</table>\n",
       "</div>"
      ],
      "text/plain": [
       "          income  total_saved  total_debt  avg_trans_amt  total_trans_amt  \\\n",
       "count  67.000000    67.000000   67.000000      67.000000        67.000000   \n",
       "mean    1.043913    -0.007427   -1.706043       1.261351         1.264878   \n",
       "std     0.920644     0.663179    1.158120       1.079301         0.742673   \n",
       "min    -1.040258    -0.809869   -5.652461      -1.137036        -1.682453   \n",
       "25%     0.368012    -0.279261   -2.157885       0.583120         0.911150   \n",
       "50%     1.051817    -0.276558   -1.396021       1.009650         1.117441   \n",
       "75%     1.556430    -0.017995   -0.994366       1.578409         1.549258   \n",
       "max     3.398033     2.693629    0.143478       6.039604         3.719713   \n",
       "\n",
       "       total_no_transactions  savings_acct  credit_acct  \n",
       "count              67.000000     67.000000    67.000000  \n",
       "mean               -0.052837      0.671642     0.626866  \n",
       "std                 0.995110      0.473160     0.487288  \n",
       "min                -1.682997      0.000000     0.000000  \n",
       "25%                -0.912215      0.000000     0.000000  \n",
       "50%                 0.053478      1.000000     1.000000  \n",
       "75%                 0.531895      1.000000     1.000000  \n",
       "max                 2.587314      1.000000     1.000000  "
      ]
     },
     "execution_count": 42,
     "metadata": {},
     "output_type": "execute_result"
    }
   ],
   "source": [
    "bhv_scaled4.describe()"
   ]
  },
  {
   "cell_type": "code",
   "execution_count": 52,
   "id": "25c60185",
   "metadata": {},
   "outputs": [
    {
     "data": {
      "application/vnd.plotly.v1+json": {
       "config": {
        "plotlyServerURL": "https://plot.ly"
       },
       "data": [
        {
         "fill": "toself",
         "fillcolor": "orchid",
         "line": {
          "color": "mediumpurple"
         },
         "opacity": 0.8,
         "r": [
          1.043912592384737,
          -0.007426991166792474,
          -1.706042916423346,
          1.2613506339110037,
          1.2648776036973997,
          -0.05283669795655379,
          0.6716417910447762,
          0.6268656716417911
         ],
         "theta": [
          "income",
          "total_saved",
          "total_debt",
          "avg_trans_amt",
          "total_trans_amt",
          "total_no_transactions",
          "savings_acct",
          "credit_acct"
         ],
         "type": "scatterpolar"
        }
       ],
       "layout": {
        "polar": {
         "radialaxis": {
          "range": [
           -2,
           2
          ],
          "visible": true
         }
        },
        "template": {
         "data": {
          "bar": [
           {
            "error_x": {
             "color": "#2a3f5f"
            },
            "error_y": {
             "color": "#2a3f5f"
            },
            "marker": {
             "line": {
              "color": "#E5ECF6",
              "width": 0.5
             },
             "pattern": {
              "fillmode": "overlay",
              "size": 10,
              "solidity": 0.2
             }
            },
            "type": "bar"
           }
          ],
          "barpolar": [
           {
            "marker": {
             "line": {
              "color": "#E5ECF6",
              "width": 0.5
             },
             "pattern": {
              "fillmode": "overlay",
              "size": 10,
              "solidity": 0.2
             }
            },
            "type": "barpolar"
           }
          ],
          "carpet": [
           {
            "aaxis": {
             "endlinecolor": "#2a3f5f",
             "gridcolor": "white",
             "linecolor": "white",
             "minorgridcolor": "white",
             "startlinecolor": "#2a3f5f"
            },
            "baxis": {
             "endlinecolor": "#2a3f5f",
             "gridcolor": "white",
             "linecolor": "white",
             "minorgridcolor": "white",
             "startlinecolor": "#2a3f5f"
            },
            "type": "carpet"
           }
          ],
          "choropleth": [
           {
            "colorbar": {
             "outlinewidth": 0,
             "ticks": ""
            },
            "type": "choropleth"
           }
          ],
          "contour": [
           {
            "colorbar": {
             "outlinewidth": 0,
             "ticks": ""
            },
            "colorscale": [
             [
              0,
              "#0d0887"
             ],
             [
              0.1111111111111111,
              "#46039f"
             ],
             [
              0.2222222222222222,
              "#7201a8"
             ],
             [
              0.3333333333333333,
              "#9c179e"
             ],
             [
              0.4444444444444444,
              "#bd3786"
             ],
             [
              0.5555555555555556,
              "#d8576b"
             ],
             [
              0.6666666666666666,
              "#ed7953"
             ],
             [
              0.7777777777777778,
              "#fb9f3a"
             ],
             [
              0.8888888888888888,
              "#fdca26"
             ],
             [
              1,
              "#f0f921"
             ]
            ],
            "type": "contour"
           }
          ],
          "contourcarpet": [
           {
            "colorbar": {
             "outlinewidth": 0,
             "ticks": ""
            },
            "type": "contourcarpet"
           }
          ],
          "heatmap": [
           {
            "colorbar": {
             "outlinewidth": 0,
             "ticks": ""
            },
            "colorscale": [
             [
              0,
              "#0d0887"
             ],
             [
              0.1111111111111111,
              "#46039f"
             ],
             [
              0.2222222222222222,
              "#7201a8"
             ],
             [
              0.3333333333333333,
              "#9c179e"
             ],
             [
              0.4444444444444444,
              "#bd3786"
             ],
             [
              0.5555555555555556,
              "#d8576b"
             ],
             [
              0.6666666666666666,
              "#ed7953"
             ],
             [
              0.7777777777777778,
              "#fb9f3a"
             ],
             [
              0.8888888888888888,
              "#fdca26"
             ],
             [
              1,
              "#f0f921"
             ]
            ],
            "type": "heatmap"
           }
          ],
          "heatmapgl": [
           {
            "colorbar": {
             "outlinewidth": 0,
             "ticks": ""
            },
            "colorscale": [
             [
              0,
              "#0d0887"
             ],
             [
              0.1111111111111111,
              "#46039f"
             ],
             [
              0.2222222222222222,
              "#7201a8"
             ],
             [
              0.3333333333333333,
              "#9c179e"
             ],
             [
              0.4444444444444444,
              "#bd3786"
             ],
             [
              0.5555555555555556,
              "#d8576b"
             ],
             [
              0.6666666666666666,
              "#ed7953"
             ],
             [
              0.7777777777777778,
              "#fb9f3a"
             ],
             [
              0.8888888888888888,
              "#fdca26"
             ],
             [
              1,
              "#f0f921"
             ]
            ],
            "type": "heatmapgl"
           }
          ],
          "histogram": [
           {
            "marker": {
             "pattern": {
              "fillmode": "overlay",
              "size": 10,
              "solidity": 0.2
             }
            },
            "type": "histogram"
           }
          ],
          "histogram2d": [
           {
            "colorbar": {
             "outlinewidth": 0,
             "ticks": ""
            },
            "colorscale": [
             [
              0,
              "#0d0887"
             ],
             [
              0.1111111111111111,
              "#46039f"
             ],
             [
              0.2222222222222222,
              "#7201a8"
             ],
             [
              0.3333333333333333,
              "#9c179e"
             ],
             [
              0.4444444444444444,
              "#bd3786"
             ],
             [
              0.5555555555555556,
              "#d8576b"
             ],
             [
              0.6666666666666666,
              "#ed7953"
             ],
             [
              0.7777777777777778,
              "#fb9f3a"
             ],
             [
              0.8888888888888888,
              "#fdca26"
             ],
             [
              1,
              "#f0f921"
             ]
            ],
            "type": "histogram2d"
           }
          ],
          "histogram2dcontour": [
           {
            "colorbar": {
             "outlinewidth": 0,
             "ticks": ""
            },
            "colorscale": [
             [
              0,
              "#0d0887"
             ],
             [
              0.1111111111111111,
              "#46039f"
             ],
             [
              0.2222222222222222,
              "#7201a8"
             ],
             [
              0.3333333333333333,
              "#9c179e"
             ],
             [
              0.4444444444444444,
              "#bd3786"
             ],
             [
              0.5555555555555556,
              "#d8576b"
             ],
             [
              0.6666666666666666,
              "#ed7953"
             ],
             [
              0.7777777777777778,
              "#fb9f3a"
             ],
             [
              0.8888888888888888,
              "#fdca26"
             ],
             [
              1,
              "#f0f921"
             ]
            ],
            "type": "histogram2dcontour"
           }
          ],
          "mesh3d": [
           {
            "colorbar": {
             "outlinewidth": 0,
             "ticks": ""
            },
            "type": "mesh3d"
           }
          ],
          "parcoords": [
           {
            "line": {
             "colorbar": {
              "outlinewidth": 0,
              "ticks": ""
             }
            },
            "type": "parcoords"
           }
          ],
          "pie": [
           {
            "automargin": true,
            "type": "pie"
           }
          ],
          "scatter": [
           {
            "fillpattern": {
             "fillmode": "overlay",
             "size": 10,
             "solidity": 0.2
            },
            "type": "scatter"
           }
          ],
          "scatter3d": [
           {
            "line": {
             "colorbar": {
              "outlinewidth": 0,
              "ticks": ""
             }
            },
            "marker": {
             "colorbar": {
              "outlinewidth": 0,
              "ticks": ""
             }
            },
            "type": "scatter3d"
           }
          ],
          "scattercarpet": [
           {
            "marker": {
             "colorbar": {
              "outlinewidth": 0,
              "ticks": ""
             }
            },
            "type": "scattercarpet"
           }
          ],
          "scattergeo": [
           {
            "marker": {
             "colorbar": {
              "outlinewidth": 0,
              "ticks": ""
             }
            },
            "type": "scattergeo"
           }
          ],
          "scattergl": [
           {
            "marker": {
             "colorbar": {
              "outlinewidth": 0,
              "ticks": ""
             }
            },
            "type": "scattergl"
           }
          ],
          "scattermapbox": [
           {
            "marker": {
             "colorbar": {
              "outlinewidth": 0,
              "ticks": ""
             }
            },
            "type": "scattermapbox"
           }
          ],
          "scatterpolar": [
           {
            "marker": {
             "colorbar": {
              "outlinewidth": 0,
              "ticks": ""
             }
            },
            "type": "scatterpolar"
           }
          ],
          "scatterpolargl": [
           {
            "marker": {
             "colorbar": {
              "outlinewidth": 0,
              "ticks": ""
             }
            },
            "type": "scatterpolargl"
           }
          ],
          "scatterternary": [
           {
            "marker": {
             "colorbar": {
              "outlinewidth": 0,
              "ticks": ""
             }
            },
            "type": "scatterternary"
           }
          ],
          "surface": [
           {
            "colorbar": {
             "outlinewidth": 0,
             "ticks": ""
            },
            "colorscale": [
             [
              0,
              "#0d0887"
             ],
             [
              0.1111111111111111,
              "#46039f"
             ],
             [
              0.2222222222222222,
              "#7201a8"
             ],
             [
              0.3333333333333333,
              "#9c179e"
             ],
             [
              0.4444444444444444,
              "#bd3786"
             ],
             [
              0.5555555555555556,
              "#d8576b"
             ],
             [
              0.6666666666666666,
              "#ed7953"
             ],
             [
              0.7777777777777778,
              "#fb9f3a"
             ],
             [
              0.8888888888888888,
              "#fdca26"
             ],
             [
              1,
              "#f0f921"
             ]
            ],
            "type": "surface"
           }
          ],
          "table": [
           {
            "cells": {
             "fill": {
              "color": "#EBF0F8"
             },
             "line": {
              "color": "white"
             }
            },
            "header": {
             "fill": {
              "color": "#C8D4E3"
             },
             "line": {
              "color": "white"
             }
            },
            "type": "table"
           }
          ]
         },
         "layout": {
          "annotationdefaults": {
           "arrowcolor": "#2a3f5f",
           "arrowhead": 0,
           "arrowwidth": 1
          },
          "autotypenumbers": "strict",
          "coloraxis": {
           "colorbar": {
            "outlinewidth": 0,
            "ticks": ""
           }
          },
          "colorscale": {
           "diverging": [
            [
             0,
             "#8e0152"
            ],
            [
             0.1,
             "#c51b7d"
            ],
            [
             0.2,
             "#de77ae"
            ],
            [
             0.3,
             "#f1b6da"
            ],
            [
             0.4,
             "#fde0ef"
            ],
            [
             0.5,
             "#f7f7f7"
            ],
            [
             0.6,
             "#e6f5d0"
            ],
            [
             0.7,
             "#b8e186"
            ],
            [
             0.8,
             "#7fbc41"
            ],
            [
             0.9,
             "#4d9221"
            ],
            [
             1,
             "#276419"
            ]
           ],
           "sequential": [
            [
             0,
             "#0d0887"
            ],
            [
             0.1111111111111111,
             "#46039f"
            ],
            [
             0.2222222222222222,
             "#7201a8"
            ],
            [
             0.3333333333333333,
             "#9c179e"
            ],
            [
             0.4444444444444444,
             "#bd3786"
            ],
            [
             0.5555555555555556,
             "#d8576b"
            ],
            [
             0.6666666666666666,
             "#ed7953"
            ],
            [
             0.7777777777777778,
             "#fb9f3a"
            ],
            [
             0.8888888888888888,
             "#fdca26"
            ],
            [
             1,
             "#f0f921"
            ]
           ],
           "sequentialminus": [
            [
             0,
             "#0d0887"
            ],
            [
             0.1111111111111111,
             "#46039f"
            ],
            [
             0.2222222222222222,
             "#7201a8"
            ],
            [
             0.3333333333333333,
             "#9c179e"
            ],
            [
             0.4444444444444444,
             "#bd3786"
            ],
            [
             0.5555555555555556,
             "#d8576b"
            ],
            [
             0.6666666666666666,
             "#ed7953"
            ],
            [
             0.7777777777777778,
             "#fb9f3a"
            ],
            [
             0.8888888888888888,
             "#fdca26"
            ],
            [
             1,
             "#f0f921"
            ]
           ]
          },
          "colorway": [
           "#636efa",
           "#EF553B",
           "#00cc96",
           "#ab63fa",
           "#FFA15A",
           "#19d3f3",
           "#FF6692",
           "#B6E880",
           "#FF97FF",
           "#FECB52"
          ],
          "font": {
           "color": "#2a3f5f"
          },
          "geo": {
           "bgcolor": "white",
           "lakecolor": "white",
           "landcolor": "#E5ECF6",
           "showlakes": true,
           "showland": true,
           "subunitcolor": "white"
          },
          "hoverlabel": {
           "align": "left"
          },
          "hovermode": "closest",
          "mapbox": {
           "style": "light"
          },
          "paper_bgcolor": "white",
          "plot_bgcolor": "#E5ECF6",
          "polar": {
           "angularaxis": {
            "gridcolor": "white",
            "linecolor": "white",
            "ticks": ""
           },
           "bgcolor": "#E5ECF6",
           "radialaxis": {
            "gridcolor": "white",
            "linecolor": "white",
            "ticks": ""
           }
          },
          "scene": {
           "xaxis": {
            "backgroundcolor": "#E5ECF6",
            "gridcolor": "white",
            "gridwidth": 2,
            "linecolor": "white",
            "showbackground": true,
            "ticks": "",
            "zerolinecolor": "white"
           },
           "yaxis": {
            "backgroundcolor": "#E5ECF6",
            "gridcolor": "white",
            "gridwidth": 2,
            "linecolor": "white",
            "showbackground": true,
            "ticks": "",
            "zerolinecolor": "white"
           },
           "zaxis": {
            "backgroundcolor": "#E5ECF6",
            "gridcolor": "white",
            "gridwidth": 2,
            "linecolor": "white",
            "showbackground": true,
            "ticks": "",
            "zerolinecolor": "white"
           }
          },
          "shapedefaults": {
           "line": {
            "color": "#2a3f5f"
           }
          },
          "ternary": {
           "aaxis": {
            "gridcolor": "white",
            "linecolor": "white",
            "ticks": ""
           },
           "baxis": {
            "gridcolor": "white",
            "linecolor": "white",
            "ticks": ""
           },
           "bgcolor": "#E5ECF6",
           "caxis": {
            "gridcolor": "white",
            "linecolor": "white",
            "ticks": ""
           }
          },
          "title": {
           "x": 0.05
          },
          "xaxis": {
           "automargin": true,
           "gridcolor": "white",
           "linecolor": "white",
           "ticks": "",
           "title": {
            "standoff": 15
           },
           "zerolinecolor": "white",
           "zerolinewidth": 2
          },
          "yaxis": {
           "automargin": true,
           "gridcolor": "white",
           "linecolor": "white",
           "ticks": "",
           "title": {
            "standoff": 15
           },
           "zerolinecolor": "white",
           "zerolinewidth": 2
          }
         }
        },
        "title": {
         "text": "Behavior Cluster 4"
        }
       }
      },
      "text/html": [
       "<div>                            <div id=\"eb5f7314-3692-4e94-bcb2-14a914ba944f\" class=\"plotly-graph-div\" style=\"height:525px; width:100%;\"></div>            <script type=\"text/javascript\">                require([\"plotly\"], function(Plotly) {                    window.PLOTLYENV=window.PLOTLYENV || {};                                    if (document.getElementById(\"eb5f7314-3692-4e94-bcb2-14a914ba944f\")) {                    Plotly.newPlot(                        \"eb5f7314-3692-4e94-bcb2-14a914ba944f\",                        [{\"fill\":\"toself\",\"fillcolor\":\"orchid\",\"line\":{\"color\":\"mediumpurple\"},\"opacity\":0.8,\"r\":[1.043912592384737,-0.007426991166792474,-1.706042916423346,1.2613506339110037,1.2648776036973997,-0.05283669795655379,0.6716417910447762,0.6268656716417911],\"theta\":[\"income\",\"total_saved\",\"total_debt\",\"avg_trans_amt\",\"total_trans_amt\",\"total_no_transactions\",\"savings_acct\",\"credit_acct\"],\"type\":\"scatterpolar\"}],                        {\"template\":{\"data\":{\"histogram2dcontour\":[{\"type\":\"histogram2dcontour\",\"colorbar\":{\"outlinewidth\":0,\"ticks\":\"\"},\"colorscale\":[[0.0,\"#0d0887\"],[0.1111111111111111,\"#46039f\"],[0.2222222222222222,\"#7201a8\"],[0.3333333333333333,\"#9c179e\"],[0.4444444444444444,\"#bd3786\"],[0.5555555555555556,\"#d8576b\"],[0.6666666666666666,\"#ed7953\"],[0.7777777777777778,\"#fb9f3a\"],[0.8888888888888888,\"#fdca26\"],[1.0,\"#f0f921\"]]}],\"choropleth\":[{\"type\":\"choropleth\",\"colorbar\":{\"outlinewidth\":0,\"ticks\":\"\"}}],\"histogram2d\":[{\"type\":\"histogram2d\",\"colorbar\":{\"outlinewidth\":0,\"ticks\":\"\"},\"colorscale\":[[0.0,\"#0d0887\"],[0.1111111111111111,\"#46039f\"],[0.2222222222222222,\"#7201a8\"],[0.3333333333333333,\"#9c179e\"],[0.4444444444444444,\"#bd3786\"],[0.5555555555555556,\"#d8576b\"],[0.6666666666666666,\"#ed7953\"],[0.7777777777777778,\"#fb9f3a\"],[0.8888888888888888,\"#fdca26\"],[1.0,\"#f0f921\"]]}],\"heatmap\":[{\"type\":\"heatmap\",\"colorbar\":{\"outlinewidth\":0,\"ticks\":\"\"},\"colorscale\":[[0.0,\"#0d0887\"],[0.1111111111111111,\"#46039f\"],[0.2222222222222222,\"#7201a8\"],[0.3333333333333333,\"#9c179e\"],[0.4444444444444444,\"#bd3786\"],[0.5555555555555556,\"#d8576b\"],[0.6666666666666666,\"#ed7953\"],[0.7777777777777778,\"#fb9f3a\"],[0.8888888888888888,\"#fdca26\"],[1.0,\"#f0f921\"]]}],\"heatmapgl\":[{\"type\":\"heatmapgl\",\"colorbar\":{\"outlinewidth\":0,\"ticks\":\"\"},\"colorscale\":[[0.0,\"#0d0887\"],[0.1111111111111111,\"#46039f\"],[0.2222222222222222,\"#7201a8\"],[0.3333333333333333,\"#9c179e\"],[0.4444444444444444,\"#bd3786\"],[0.5555555555555556,\"#d8576b\"],[0.6666666666666666,\"#ed7953\"],[0.7777777777777778,\"#fb9f3a\"],[0.8888888888888888,\"#fdca26\"],[1.0,\"#f0f921\"]]}],\"contourcarpet\":[{\"type\":\"contourcarpet\",\"colorbar\":{\"outlinewidth\":0,\"ticks\":\"\"}}],\"contour\":[{\"type\":\"contour\",\"colorbar\":{\"outlinewidth\":0,\"ticks\":\"\"},\"colorscale\":[[0.0,\"#0d0887\"],[0.1111111111111111,\"#46039f\"],[0.2222222222222222,\"#7201a8\"],[0.3333333333333333,\"#9c179e\"],[0.4444444444444444,\"#bd3786\"],[0.5555555555555556,\"#d8576b\"],[0.6666666666666666,\"#ed7953\"],[0.7777777777777778,\"#fb9f3a\"],[0.8888888888888888,\"#fdca26\"],[1.0,\"#f0f921\"]]}],\"surface\":[{\"type\":\"surface\",\"colorbar\":{\"outlinewidth\":0,\"ticks\":\"\"},\"colorscale\":[[0.0,\"#0d0887\"],[0.1111111111111111,\"#46039f\"],[0.2222222222222222,\"#7201a8\"],[0.3333333333333333,\"#9c179e\"],[0.4444444444444444,\"#bd3786\"],[0.5555555555555556,\"#d8576b\"],[0.6666666666666666,\"#ed7953\"],[0.7777777777777778,\"#fb9f3a\"],[0.8888888888888888,\"#fdca26\"],[1.0,\"#f0f921\"]]}],\"mesh3d\":[{\"type\":\"mesh3d\",\"colorbar\":{\"outlinewidth\":0,\"ticks\":\"\"}}],\"scatter\":[{\"fillpattern\":{\"fillmode\":\"overlay\",\"size\":10,\"solidity\":0.2},\"type\":\"scatter\"}],\"parcoords\":[{\"type\":\"parcoords\",\"line\":{\"colorbar\":{\"outlinewidth\":0,\"ticks\":\"\"}}}],\"scatterpolargl\":[{\"type\":\"scatterpolargl\",\"marker\":{\"colorbar\":{\"outlinewidth\":0,\"ticks\":\"\"}}}],\"bar\":[{\"error_x\":{\"color\":\"#2a3f5f\"},\"error_y\":{\"color\":\"#2a3f5f\"},\"marker\":{\"line\":{\"color\":\"#E5ECF6\",\"width\":0.5},\"pattern\":{\"fillmode\":\"overlay\",\"size\":10,\"solidity\":0.2}},\"type\":\"bar\"}],\"scattergeo\":[{\"type\":\"scattergeo\",\"marker\":{\"colorbar\":{\"outlinewidth\":0,\"ticks\":\"\"}}}],\"scatterpolar\":[{\"type\":\"scatterpolar\",\"marker\":{\"colorbar\":{\"outlinewidth\":0,\"ticks\":\"\"}}}],\"histogram\":[{\"marker\":{\"pattern\":{\"fillmode\":\"overlay\",\"size\":10,\"solidity\":0.2}},\"type\":\"histogram\"}],\"scattergl\":[{\"type\":\"scattergl\",\"marker\":{\"colorbar\":{\"outlinewidth\":0,\"ticks\":\"\"}}}],\"scatter3d\":[{\"type\":\"scatter3d\",\"line\":{\"colorbar\":{\"outlinewidth\":0,\"ticks\":\"\"}},\"marker\":{\"colorbar\":{\"outlinewidth\":0,\"ticks\":\"\"}}}],\"scattermapbox\":[{\"type\":\"scattermapbox\",\"marker\":{\"colorbar\":{\"outlinewidth\":0,\"ticks\":\"\"}}}],\"scatterternary\":[{\"type\":\"scatterternary\",\"marker\":{\"colorbar\":{\"outlinewidth\":0,\"ticks\":\"\"}}}],\"scattercarpet\":[{\"type\":\"scattercarpet\",\"marker\":{\"colorbar\":{\"outlinewidth\":0,\"ticks\":\"\"}}}],\"carpet\":[{\"aaxis\":{\"endlinecolor\":\"#2a3f5f\",\"gridcolor\":\"white\",\"linecolor\":\"white\",\"minorgridcolor\":\"white\",\"startlinecolor\":\"#2a3f5f\"},\"baxis\":{\"endlinecolor\":\"#2a3f5f\",\"gridcolor\":\"white\",\"linecolor\":\"white\",\"minorgridcolor\":\"white\",\"startlinecolor\":\"#2a3f5f\"},\"type\":\"carpet\"}],\"table\":[{\"cells\":{\"fill\":{\"color\":\"#EBF0F8\"},\"line\":{\"color\":\"white\"}},\"header\":{\"fill\":{\"color\":\"#C8D4E3\"},\"line\":{\"color\":\"white\"}},\"type\":\"table\"}],\"barpolar\":[{\"marker\":{\"line\":{\"color\":\"#E5ECF6\",\"width\":0.5},\"pattern\":{\"fillmode\":\"overlay\",\"size\":10,\"solidity\":0.2}},\"type\":\"barpolar\"}],\"pie\":[{\"automargin\":true,\"type\":\"pie\"}]},\"layout\":{\"autotypenumbers\":\"strict\",\"colorway\":[\"#636efa\",\"#EF553B\",\"#00cc96\",\"#ab63fa\",\"#FFA15A\",\"#19d3f3\",\"#FF6692\",\"#B6E880\",\"#FF97FF\",\"#FECB52\"],\"font\":{\"color\":\"#2a3f5f\"},\"hovermode\":\"closest\",\"hoverlabel\":{\"align\":\"left\"},\"paper_bgcolor\":\"white\",\"plot_bgcolor\":\"#E5ECF6\",\"polar\":{\"bgcolor\":\"#E5ECF6\",\"angularaxis\":{\"gridcolor\":\"white\",\"linecolor\":\"white\",\"ticks\":\"\"},\"radialaxis\":{\"gridcolor\":\"white\",\"linecolor\":\"white\",\"ticks\":\"\"}},\"ternary\":{\"bgcolor\":\"#E5ECF6\",\"aaxis\":{\"gridcolor\":\"white\",\"linecolor\":\"white\",\"ticks\":\"\"},\"baxis\":{\"gridcolor\":\"white\",\"linecolor\":\"white\",\"ticks\":\"\"},\"caxis\":{\"gridcolor\":\"white\",\"linecolor\":\"white\",\"ticks\":\"\"}},\"coloraxis\":{\"colorbar\":{\"outlinewidth\":0,\"ticks\":\"\"}},\"colorscale\":{\"sequential\":[[0.0,\"#0d0887\"],[0.1111111111111111,\"#46039f\"],[0.2222222222222222,\"#7201a8\"],[0.3333333333333333,\"#9c179e\"],[0.4444444444444444,\"#bd3786\"],[0.5555555555555556,\"#d8576b\"],[0.6666666666666666,\"#ed7953\"],[0.7777777777777778,\"#fb9f3a\"],[0.8888888888888888,\"#fdca26\"],[1.0,\"#f0f921\"]],\"sequentialminus\":[[0.0,\"#0d0887\"],[0.1111111111111111,\"#46039f\"],[0.2222222222222222,\"#7201a8\"],[0.3333333333333333,\"#9c179e\"],[0.4444444444444444,\"#bd3786\"],[0.5555555555555556,\"#d8576b\"],[0.6666666666666666,\"#ed7953\"],[0.7777777777777778,\"#fb9f3a\"],[0.8888888888888888,\"#fdca26\"],[1.0,\"#f0f921\"]],\"diverging\":[[0,\"#8e0152\"],[0.1,\"#c51b7d\"],[0.2,\"#de77ae\"],[0.3,\"#f1b6da\"],[0.4,\"#fde0ef\"],[0.5,\"#f7f7f7\"],[0.6,\"#e6f5d0\"],[0.7,\"#b8e186\"],[0.8,\"#7fbc41\"],[0.9,\"#4d9221\"],[1,\"#276419\"]]},\"xaxis\":{\"gridcolor\":\"white\",\"linecolor\":\"white\",\"ticks\":\"\",\"title\":{\"standoff\":15},\"zerolinecolor\":\"white\",\"automargin\":true,\"zerolinewidth\":2},\"yaxis\":{\"gridcolor\":\"white\",\"linecolor\":\"white\",\"ticks\":\"\",\"title\":{\"standoff\":15},\"zerolinecolor\":\"white\",\"automargin\":true,\"zerolinewidth\":2},\"scene\":{\"xaxis\":{\"backgroundcolor\":\"#E5ECF6\",\"gridcolor\":\"white\",\"linecolor\":\"white\",\"showbackground\":true,\"ticks\":\"\",\"zerolinecolor\":\"white\",\"gridwidth\":2},\"yaxis\":{\"backgroundcolor\":\"#E5ECF6\",\"gridcolor\":\"white\",\"linecolor\":\"white\",\"showbackground\":true,\"ticks\":\"\",\"zerolinecolor\":\"white\",\"gridwidth\":2},\"zaxis\":{\"backgroundcolor\":\"#E5ECF6\",\"gridcolor\":\"white\",\"linecolor\":\"white\",\"showbackground\":true,\"ticks\":\"\",\"zerolinecolor\":\"white\",\"gridwidth\":2}},\"shapedefaults\":{\"line\":{\"color\":\"#2a3f5f\"}},\"annotationdefaults\":{\"arrowcolor\":\"#2a3f5f\",\"arrowhead\":0,\"arrowwidth\":1},\"geo\":{\"bgcolor\":\"white\",\"landcolor\":\"#E5ECF6\",\"subunitcolor\":\"white\",\"showland\":true,\"showlakes\":true,\"lakecolor\":\"white\"},\"title\":{\"x\":0.05},\"mapbox\":{\"style\":\"light\"}}},\"polar\":{\"radialaxis\":{\"visible\":true,\"range\":[-2,2]}},\"title\":{\"text\":\"Behavior Cluster 4\"}},                        {\"responsive\": true}                    ).then(function(){\n",
       "                            \n",
       "var gd = document.getElementById('eb5f7314-3692-4e94-bcb2-14a914ba944f');\n",
       "var x = new MutationObserver(function (mutations, observer) {{\n",
       "        var display = window.getComputedStyle(gd).display;\n",
       "        if (!display || display === 'none') {{\n",
       "            console.log([gd, 'removed!']);\n",
       "            Plotly.purge(gd);\n",
       "            observer.disconnect();\n",
       "        }}\n",
       "}});\n",
       "\n",
       "// Listen for the removal of the full notebook cells\n",
       "var notebookContainer = gd.closest('#notebook-container');\n",
       "if (notebookContainer) {{\n",
       "    x.observe(notebookContainer, {childList: true});\n",
       "}}\n",
       "\n",
       "// Listen for the clearing of the current output cell\n",
       "var outputEl = gd.closest('.output');\n",
       "if (outputEl) {{\n",
       "    x.observe(outputEl, {childList: true});\n",
       "}}\n",
       "\n",
       "                        })                };                });            </script>        </div>"
      ]
     },
     "metadata": {},
     "output_type": "display_data"
    }
   ],
   "source": [
    "fig = go.Figure()\n",
    "\n",
    "fig.add_trace(go.Scatterpolar(r = bhv_scaled4.mean(), theta = bhv_scaled4.columns,fill='toself', fillcolor='orchid', line_color='mediumpurple', opacity=0.8))\n",
    "\n",
    "fig.update_layout(title = 'Behavior Cluster 4',     \n",
    "    polar=dict(\n",
    "    radialaxis=dict(\n",
    "    visible=True,\n",
    "    range=[-2,2])))\n",
    "\n",
    "fig.show()"
   ]
  },
  {
   "cell_type": "code",
   "execution_count": 44,
   "id": "32bef340",
   "metadata": {},
   "outputs": [
    {
     "data": {
      "application/vnd.plotly.v1+json": {
       "config": {
        "plotlyServerURL": "https://plot.ly"
       },
       "data": [
        {
         "fill": "toself",
         "fillcolor": "deepskyblue",
         "line": {
          "color": "dodgerblue"
         },
         "name": "Behavior cluster 0",
         "opacity": 0.5,
         "r": [
          -0.4604131971179326,
          -0.055168266555339164,
          -0.02343288231167745,
          0.2611256796995471,
          0.3628548844712335,
          -0.9599140460650538,
          0.6294642857142857,
          0.5357142857142857
         ],
         "theta": [
          "income",
          "total_saved",
          "total_debt",
          "avg_trans_amt",
          "total_trans_amt",
          "total_no_transactions",
          "savings_acct",
          "credit_acct"
         ],
         "type": "scatterpolar"
        },
        {
         "fill": "toself",
         "fillcolor": "coral",
         "line": {
          "color": "lightcoral"
         },
         "name": "Behavior cluster 1",
         "opacity": 0.5,
         "r": [
          2.0929798568552207,
          6.39829845311763,
          -1.1369430513206478,
          1.7647490480889378,
          2.0424633470334115,
          0.36134809272070356,
          0.375,
          0.375
         ],
         "theta": [
          "income",
          "total_saved",
          "total_debt",
          "avg_trans_amt",
          "total_trans_amt",
          "total_no_transactions",
          "savings_acct",
          "credit_acct"
         ],
         "type": "scatterpolar"
        },
        {
         "fill": "toself",
         "fillcolor": "gold",
         "line": {
          "color": "goldenrod"
         },
         "name": "Behavior cluster 2",
         "opacity": 0.5,
         "r": [
          -0.3011477312162773,
          -0.07980011062507321,
          0.19164428033885852,
          -0.12820446319782391,
          -0.19049371002396254,
          0.7501678196659124,
          0.5034246575342466,
          0.726027397260274
         ],
         "theta": [
          "income",
          "total_saved",
          "total_debt",
          "avg_trans_amt",
          "total_trans_amt",
          "total_no_transactions",
          "savings_acct",
          "credit_acct"
         ],
         "type": "scatterpolar"
        },
        {
         "fill": "toself",
         "fillcolor": "palegreen",
         "line": {
          "color": "seagreen"
         },
         "name": "Behavior cluster 3",
         "opacity": 0.5,
         "r": [
          1.4497459878465364,
          -0.20874243341456478,
          1.0095729943027563,
          -1.662290747995593,
          -1.7603032919243373,
          -0.04693031947987282,
          0.5416666666666666,
          0.6111111111111112
         ],
         "theta": [
          "income",
          "total_saved",
          "total_debt",
          "avg_trans_amt",
          "total_trans_amt",
          "total_no_transactions",
          "savings_acct",
          "credit_acct"
         ],
         "type": "scatterpolar"
        },
        {
         "fill": "toself",
         "fillcolor": "orchid",
         "line": {
          "color": "mediumpurple"
         },
         "name": "Behavior cluster 4",
         "opacity": 0.5,
         "r": [
          1.043912592384737,
          -0.007426991166792474,
          -1.706042916423346,
          1.2613506339110037,
          1.2648776036973997,
          -0.05283669795655379,
          0.6716417910447762,
          0.6268656716417911
         ],
         "theta": [
          "income",
          "total_saved",
          "total_debt",
          "avg_trans_amt",
          "total_trans_amt",
          "total_no_transactions",
          "savings_acct",
          "credit_acct"
         ],
         "type": "scatterpolar"
        }
       ],
       "layout": {
        "showlegend": true,
        "template": {
         "data": {
          "bar": [
           {
            "error_x": {
             "color": "#2a3f5f"
            },
            "error_y": {
             "color": "#2a3f5f"
            },
            "marker": {
             "line": {
              "color": "#E5ECF6",
              "width": 0.5
             },
             "pattern": {
              "fillmode": "overlay",
              "size": 10,
              "solidity": 0.2
             }
            },
            "type": "bar"
           }
          ],
          "barpolar": [
           {
            "marker": {
             "line": {
              "color": "#E5ECF6",
              "width": 0.5
             },
             "pattern": {
              "fillmode": "overlay",
              "size": 10,
              "solidity": 0.2
             }
            },
            "type": "barpolar"
           }
          ],
          "carpet": [
           {
            "aaxis": {
             "endlinecolor": "#2a3f5f",
             "gridcolor": "white",
             "linecolor": "white",
             "minorgridcolor": "white",
             "startlinecolor": "#2a3f5f"
            },
            "baxis": {
             "endlinecolor": "#2a3f5f",
             "gridcolor": "white",
             "linecolor": "white",
             "minorgridcolor": "white",
             "startlinecolor": "#2a3f5f"
            },
            "type": "carpet"
           }
          ],
          "choropleth": [
           {
            "colorbar": {
             "outlinewidth": 0,
             "ticks": ""
            },
            "type": "choropleth"
           }
          ],
          "contour": [
           {
            "colorbar": {
             "outlinewidth": 0,
             "ticks": ""
            },
            "colorscale": [
             [
              0,
              "#0d0887"
             ],
             [
              0.1111111111111111,
              "#46039f"
             ],
             [
              0.2222222222222222,
              "#7201a8"
             ],
             [
              0.3333333333333333,
              "#9c179e"
             ],
             [
              0.4444444444444444,
              "#bd3786"
             ],
             [
              0.5555555555555556,
              "#d8576b"
             ],
             [
              0.6666666666666666,
              "#ed7953"
             ],
             [
              0.7777777777777778,
              "#fb9f3a"
             ],
             [
              0.8888888888888888,
              "#fdca26"
             ],
             [
              1,
              "#f0f921"
             ]
            ],
            "type": "contour"
           }
          ],
          "contourcarpet": [
           {
            "colorbar": {
             "outlinewidth": 0,
             "ticks": ""
            },
            "type": "contourcarpet"
           }
          ],
          "heatmap": [
           {
            "colorbar": {
             "outlinewidth": 0,
             "ticks": ""
            },
            "colorscale": [
             [
              0,
              "#0d0887"
             ],
             [
              0.1111111111111111,
              "#46039f"
             ],
             [
              0.2222222222222222,
              "#7201a8"
             ],
             [
              0.3333333333333333,
              "#9c179e"
             ],
             [
              0.4444444444444444,
              "#bd3786"
             ],
             [
              0.5555555555555556,
              "#d8576b"
             ],
             [
              0.6666666666666666,
              "#ed7953"
             ],
             [
              0.7777777777777778,
              "#fb9f3a"
             ],
             [
              0.8888888888888888,
              "#fdca26"
             ],
             [
              1,
              "#f0f921"
             ]
            ],
            "type": "heatmap"
           }
          ],
          "heatmapgl": [
           {
            "colorbar": {
             "outlinewidth": 0,
             "ticks": ""
            },
            "colorscale": [
             [
              0,
              "#0d0887"
             ],
             [
              0.1111111111111111,
              "#46039f"
             ],
             [
              0.2222222222222222,
              "#7201a8"
             ],
             [
              0.3333333333333333,
              "#9c179e"
             ],
             [
              0.4444444444444444,
              "#bd3786"
             ],
             [
              0.5555555555555556,
              "#d8576b"
             ],
             [
              0.6666666666666666,
              "#ed7953"
             ],
             [
              0.7777777777777778,
              "#fb9f3a"
             ],
             [
              0.8888888888888888,
              "#fdca26"
             ],
             [
              1,
              "#f0f921"
             ]
            ],
            "type": "heatmapgl"
           }
          ],
          "histogram": [
           {
            "marker": {
             "pattern": {
              "fillmode": "overlay",
              "size": 10,
              "solidity": 0.2
             }
            },
            "type": "histogram"
           }
          ],
          "histogram2d": [
           {
            "colorbar": {
             "outlinewidth": 0,
             "ticks": ""
            },
            "colorscale": [
             [
              0,
              "#0d0887"
             ],
             [
              0.1111111111111111,
              "#46039f"
             ],
             [
              0.2222222222222222,
              "#7201a8"
             ],
             [
              0.3333333333333333,
              "#9c179e"
             ],
             [
              0.4444444444444444,
              "#bd3786"
             ],
             [
              0.5555555555555556,
              "#d8576b"
             ],
             [
              0.6666666666666666,
              "#ed7953"
             ],
             [
              0.7777777777777778,
              "#fb9f3a"
             ],
             [
              0.8888888888888888,
              "#fdca26"
             ],
             [
              1,
              "#f0f921"
             ]
            ],
            "type": "histogram2d"
           }
          ],
          "histogram2dcontour": [
           {
            "colorbar": {
             "outlinewidth": 0,
             "ticks": ""
            },
            "colorscale": [
             [
              0,
              "#0d0887"
             ],
             [
              0.1111111111111111,
              "#46039f"
             ],
             [
              0.2222222222222222,
              "#7201a8"
             ],
             [
              0.3333333333333333,
              "#9c179e"
             ],
             [
              0.4444444444444444,
              "#bd3786"
             ],
             [
              0.5555555555555556,
              "#d8576b"
             ],
             [
              0.6666666666666666,
              "#ed7953"
             ],
             [
              0.7777777777777778,
              "#fb9f3a"
             ],
             [
              0.8888888888888888,
              "#fdca26"
             ],
             [
              1,
              "#f0f921"
             ]
            ],
            "type": "histogram2dcontour"
           }
          ],
          "mesh3d": [
           {
            "colorbar": {
             "outlinewidth": 0,
             "ticks": ""
            },
            "type": "mesh3d"
           }
          ],
          "parcoords": [
           {
            "line": {
             "colorbar": {
              "outlinewidth": 0,
              "ticks": ""
             }
            },
            "type": "parcoords"
           }
          ],
          "pie": [
           {
            "automargin": true,
            "type": "pie"
           }
          ],
          "scatter": [
           {
            "fillpattern": {
             "fillmode": "overlay",
             "size": 10,
             "solidity": 0.2
            },
            "type": "scatter"
           }
          ],
          "scatter3d": [
           {
            "line": {
             "colorbar": {
              "outlinewidth": 0,
              "ticks": ""
             }
            },
            "marker": {
             "colorbar": {
              "outlinewidth": 0,
              "ticks": ""
             }
            },
            "type": "scatter3d"
           }
          ],
          "scattercarpet": [
           {
            "marker": {
             "colorbar": {
              "outlinewidth": 0,
              "ticks": ""
             }
            },
            "type": "scattercarpet"
           }
          ],
          "scattergeo": [
           {
            "marker": {
             "colorbar": {
              "outlinewidth": 0,
              "ticks": ""
             }
            },
            "type": "scattergeo"
           }
          ],
          "scattergl": [
           {
            "marker": {
             "colorbar": {
              "outlinewidth": 0,
              "ticks": ""
             }
            },
            "type": "scattergl"
           }
          ],
          "scattermapbox": [
           {
            "marker": {
             "colorbar": {
              "outlinewidth": 0,
              "ticks": ""
             }
            },
            "type": "scattermapbox"
           }
          ],
          "scatterpolar": [
           {
            "marker": {
             "colorbar": {
              "outlinewidth": 0,
              "ticks": ""
             }
            },
            "type": "scatterpolar"
           }
          ],
          "scatterpolargl": [
           {
            "marker": {
             "colorbar": {
              "outlinewidth": 0,
              "ticks": ""
             }
            },
            "type": "scatterpolargl"
           }
          ],
          "scatterternary": [
           {
            "marker": {
             "colorbar": {
              "outlinewidth": 0,
              "ticks": ""
             }
            },
            "type": "scatterternary"
           }
          ],
          "surface": [
           {
            "colorbar": {
             "outlinewidth": 0,
             "ticks": ""
            },
            "colorscale": [
             [
              0,
              "#0d0887"
             ],
             [
              0.1111111111111111,
              "#46039f"
             ],
             [
              0.2222222222222222,
              "#7201a8"
             ],
             [
              0.3333333333333333,
              "#9c179e"
             ],
             [
              0.4444444444444444,
              "#bd3786"
             ],
             [
              0.5555555555555556,
              "#d8576b"
             ],
             [
              0.6666666666666666,
              "#ed7953"
             ],
             [
              0.7777777777777778,
              "#fb9f3a"
             ],
             [
              0.8888888888888888,
              "#fdca26"
             ],
             [
              1,
              "#f0f921"
             ]
            ],
            "type": "surface"
           }
          ],
          "table": [
           {
            "cells": {
             "fill": {
              "color": "#EBF0F8"
             },
             "line": {
              "color": "white"
             }
            },
            "header": {
             "fill": {
              "color": "#C8D4E3"
             },
             "line": {
              "color": "white"
             }
            },
            "type": "table"
           }
          ]
         },
         "layout": {
          "annotationdefaults": {
           "arrowcolor": "#2a3f5f",
           "arrowhead": 0,
           "arrowwidth": 1
          },
          "autotypenumbers": "strict",
          "coloraxis": {
           "colorbar": {
            "outlinewidth": 0,
            "ticks": ""
           }
          },
          "colorscale": {
           "diverging": [
            [
             0,
             "#8e0152"
            ],
            [
             0.1,
             "#c51b7d"
            ],
            [
             0.2,
             "#de77ae"
            ],
            [
             0.3,
             "#f1b6da"
            ],
            [
             0.4,
             "#fde0ef"
            ],
            [
             0.5,
             "#f7f7f7"
            ],
            [
             0.6,
             "#e6f5d0"
            ],
            [
             0.7,
             "#b8e186"
            ],
            [
             0.8,
             "#7fbc41"
            ],
            [
             0.9,
             "#4d9221"
            ],
            [
             1,
             "#276419"
            ]
           ],
           "sequential": [
            [
             0,
             "#0d0887"
            ],
            [
             0.1111111111111111,
             "#46039f"
            ],
            [
             0.2222222222222222,
             "#7201a8"
            ],
            [
             0.3333333333333333,
             "#9c179e"
            ],
            [
             0.4444444444444444,
             "#bd3786"
            ],
            [
             0.5555555555555556,
             "#d8576b"
            ],
            [
             0.6666666666666666,
             "#ed7953"
            ],
            [
             0.7777777777777778,
             "#fb9f3a"
            ],
            [
             0.8888888888888888,
             "#fdca26"
            ],
            [
             1,
             "#f0f921"
            ]
           ],
           "sequentialminus": [
            [
             0,
             "#0d0887"
            ],
            [
             0.1111111111111111,
             "#46039f"
            ],
            [
             0.2222222222222222,
             "#7201a8"
            ],
            [
             0.3333333333333333,
             "#9c179e"
            ],
            [
             0.4444444444444444,
             "#bd3786"
            ],
            [
             0.5555555555555556,
             "#d8576b"
            ],
            [
             0.6666666666666666,
             "#ed7953"
            ],
            [
             0.7777777777777778,
             "#fb9f3a"
            ],
            [
             0.8888888888888888,
             "#fdca26"
            ],
            [
             1,
             "#f0f921"
            ]
           ]
          },
          "colorway": [
           "#636efa",
           "#EF553B",
           "#00cc96",
           "#ab63fa",
           "#FFA15A",
           "#19d3f3",
           "#FF6692",
           "#B6E880",
           "#FF97FF",
           "#FECB52"
          ],
          "font": {
           "color": "#2a3f5f"
          },
          "geo": {
           "bgcolor": "white",
           "lakecolor": "white",
           "landcolor": "#E5ECF6",
           "showlakes": true,
           "showland": true,
           "subunitcolor": "white"
          },
          "hoverlabel": {
           "align": "left"
          },
          "hovermode": "closest",
          "mapbox": {
           "style": "light"
          },
          "paper_bgcolor": "white",
          "plot_bgcolor": "#E5ECF6",
          "polar": {
           "angularaxis": {
            "gridcolor": "white",
            "linecolor": "white",
            "ticks": ""
           },
           "bgcolor": "#E5ECF6",
           "radialaxis": {
            "gridcolor": "white",
            "linecolor": "white",
            "ticks": ""
           }
          },
          "scene": {
           "xaxis": {
            "backgroundcolor": "#E5ECF6",
            "gridcolor": "white",
            "gridwidth": 2,
            "linecolor": "white",
            "showbackground": true,
            "ticks": "",
            "zerolinecolor": "white"
           },
           "yaxis": {
            "backgroundcolor": "#E5ECF6",
            "gridcolor": "white",
            "gridwidth": 2,
            "linecolor": "white",
            "showbackground": true,
            "ticks": "",
            "zerolinecolor": "white"
           },
           "zaxis": {
            "backgroundcolor": "#E5ECF6",
            "gridcolor": "white",
            "gridwidth": 2,
            "linecolor": "white",
            "showbackground": true,
            "ticks": "",
            "zerolinecolor": "white"
           }
          },
          "shapedefaults": {
           "line": {
            "color": "#2a3f5f"
           }
          },
          "ternary": {
           "aaxis": {
            "gridcolor": "white",
            "linecolor": "white",
            "ticks": ""
           },
           "baxis": {
            "gridcolor": "white",
            "linecolor": "white",
            "ticks": ""
           },
           "bgcolor": "#E5ECF6",
           "caxis": {
            "gridcolor": "white",
            "linecolor": "white",
            "ticks": ""
           }
          },
          "title": {
           "x": 0.05
          },
          "xaxis": {
           "automargin": true,
           "gridcolor": "white",
           "linecolor": "white",
           "ticks": "",
           "title": {
            "standoff": 15
           },
           "zerolinecolor": "white",
           "zerolinewidth": 2
          },
          "yaxis": {
           "automargin": true,
           "gridcolor": "white",
           "linecolor": "white",
           "ticks": "",
           "title": {
            "standoff": 15
           },
           "zerolinecolor": "white",
           "zerolinewidth": 2
          }
         }
        },
        "title": {
         "text": "All Behavior Clusters mean"
        }
       }
      },
      "text/html": [
       "<div>                            <div id=\"8e7f5047-3a2c-456c-8d4c-b6c51c332adf\" class=\"plotly-graph-div\" style=\"height:525px; width:100%;\"></div>            <script type=\"text/javascript\">                require([\"plotly\"], function(Plotly) {                    window.PLOTLYENV=window.PLOTLYENV || {};                                    if (document.getElementById(\"8e7f5047-3a2c-456c-8d4c-b6c51c332adf\")) {                    Plotly.newPlot(                        \"8e7f5047-3a2c-456c-8d4c-b6c51c332adf\",                        [{\"fill\":\"toself\",\"fillcolor\":\"deepskyblue\",\"line\":{\"color\":\"dodgerblue\"},\"name\":\"Behavior cluster 0\",\"opacity\":0.5,\"r\":[-0.4604131971179326,-0.055168266555339164,-0.02343288231167745,0.2611256796995471,0.3628548844712335,-0.9599140460650538,0.6294642857142857,0.5357142857142857],\"theta\":[\"income\",\"total_saved\",\"total_debt\",\"avg_trans_amt\",\"total_trans_amt\",\"total_no_transactions\",\"savings_acct\",\"credit_acct\"],\"type\":\"scatterpolar\"},{\"fill\":\"toself\",\"fillcolor\":\"coral\",\"line\":{\"color\":\"lightcoral\"},\"name\":\"Behavior cluster 1\",\"opacity\":0.5,\"r\":[2.0929798568552207,6.39829845311763,-1.1369430513206478,1.7647490480889378,2.0424633470334115,0.36134809272070356,0.375,0.375],\"theta\":[\"income\",\"total_saved\",\"total_debt\",\"avg_trans_amt\",\"total_trans_amt\",\"total_no_transactions\",\"savings_acct\",\"credit_acct\"],\"type\":\"scatterpolar\"},{\"fill\":\"toself\",\"fillcolor\":\"gold\",\"line\":{\"color\":\"goldenrod\"},\"name\":\"Behavior cluster 2\",\"opacity\":0.5,\"r\":[-0.3011477312162773,-0.07980011062507321,0.19164428033885852,-0.12820446319782391,-0.19049371002396254,0.7501678196659124,0.5034246575342466,0.726027397260274],\"theta\":[\"income\",\"total_saved\",\"total_debt\",\"avg_trans_amt\",\"total_trans_amt\",\"total_no_transactions\",\"savings_acct\",\"credit_acct\"],\"type\":\"scatterpolar\"},{\"fill\":\"toself\",\"fillcolor\":\"palegreen\",\"line\":{\"color\":\"seagreen\"},\"name\":\"Behavior cluster 3\",\"opacity\":0.5,\"r\":[1.4497459878465364,-0.20874243341456478,1.0095729943027563,-1.662290747995593,-1.7603032919243373,-0.04693031947987282,0.5416666666666666,0.6111111111111112],\"theta\":[\"income\",\"total_saved\",\"total_debt\",\"avg_trans_amt\",\"total_trans_amt\",\"total_no_transactions\",\"savings_acct\",\"credit_acct\"],\"type\":\"scatterpolar\"},{\"fill\":\"toself\",\"fillcolor\":\"orchid\",\"line\":{\"color\":\"mediumpurple\"},\"name\":\"Behavior cluster 4\",\"opacity\":0.5,\"r\":[1.043912592384737,-0.007426991166792474,-1.706042916423346,1.2613506339110037,1.2648776036973997,-0.05283669795655379,0.6716417910447762,0.6268656716417911],\"theta\":[\"income\",\"total_saved\",\"total_debt\",\"avg_trans_amt\",\"total_trans_amt\",\"total_no_transactions\",\"savings_acct\",\"credit_acct\"],\"type\":\"scatterpolar\"}],                        {\"template\":{\"data\":{\"histogram2dcontour\":[{\"type\":\"histogram2dcontour\",\"colorbar\":{\"outlinewidth\":0,\"ticks\":\"\"},\"colorscale\":[[0.0,\"#0d0887\"],[0.1111111111111111,\"#46039f\"],[0.2222222222222222,\"#7201a8\"],[0.3333333333333333,\"#9c179e\"],[0.4444444444444444,\"#bd3786\"],[0.5555555555555556,\"#d8576b\"],[0.6666666666666666,\"#ed7953\"],[0.7777777777777778,\"#fb9f3a\"],[0.8888888888888888,\"#fdca26\"],[1.0,\"#f0f921\"]]}],\"choropleth\":[{\"type\":\"choropleth\",\"colorbar\":{\"outlinewidth\":0,\"ticks\":\"\"}}],\"histogram2d\":[{\"type\":\"histogram2d\",\"colorbar\":{\"outlinewidth\":0,\"ticks\":\"\"},\"colorscale\":[[0.0,\"#0d0887\"],[0.1111111111111111,\"#46039f\"],[0.2222222222222222,\"#7201a8\"],[0.3333333333333333,\"#9c179e\"],[0.4444444444444444,\"#bd3786\"],[0.5555555555555556,\"#d8576b\"],[0.6666666666666666,\"#ed7953\"],[0.7777777777777778,\"#fb9f3a\"],[0.8888888888888888,\"#fdca26\"],[1.0,\"#f0f921\"]]}],\"heatmap\":[{\"type\":\"heatmap\",\"colorbar\":{\"outlinewidth\":0,\"ticks\":\"\"},\"colorscale\":[[0.0,\"#0d0887\"],[0.1111111111111111,\"#46039f\"],[0.2222222222222222,\"#7201a8\"],[0.3333333333333333,\"#9c179e\"],[0.4444444444444444,\"#bd3786\"],[0.5555555555555556,\"#d8576b\"],[0.6666666666666666,\"#ed7953\"],[0.7777777777777778,\"#fb9f3a\"],[0.8888888888888888,\"#fdca26\"],[1.0,\"#f0f921\"]]}],\"heatmapgl\":[{\"type\":\"heatmapgl\",\"colorbar\":{\"outlinewidth\":0,\"ticks\":\"\"},\"colorscale\":[[0.0,\"#0d0887\"],[0.1111111111111111,\"#46039f\"],[0.2222222222222222,\"#7201a8\"],[0.3333333333333333,\"#9c179e\"],[0.4444444444444444,\"#bd3786\"],[0.5555555555555556,\"#d8576b\"],[0.6666666666666666,\"#ed7953\"],[0.7777777777777778,\"#fb9f3a\"],[0.8888888888888888,\"#fdca26\"],[1.0,\"#f0f921\"]]}],\"contourcarpet\":[{\"type\":\"contourcarpet\",\"colorbar\":{\"outlinewidth\":0,\"ticks\":\"\"}}],\"contour\":[{\"type\":\"contour\",\"colorbar\":{\"outlinewidth\":0,\"ticks\":\"\"},\"colorscale\":[[0.0,\"#0d0887\"],[0.1111111111111111,\"#46039f\"],[0.2222222222222222,\"#7201a8\"],[0.3333333333333333,\"#9c179e\"],[0.4444444444444444,\"#bd3786\"],[0.5555555555555556,\"#d8576b\"],[0.6666666666666666,\"#ed7953\"],[0.7777777777777778,\"#fb9f3a\"],[0.8888888888888888,\"#fdca26\"],[1.0,\"#f0f921\"]]}],\"surface\":[{\"type\":\"surface\",\"colorbar\":{\"outlinewidth\":0,\"ticks\":\"\"},\"colorscale\":[[0.0,\"#0d0887\"],[0.1111111111111111,\"#46039f\"],[0.2222222222222222,\"#7201a8\"],[0.3333333333333333,\"#9c179e\"],[0.4444444444444444,\"#bd3786\"],[0.5555555555555556,\"#d8576b\"],[0.6666666666666666,\"#ed7953\"],[0.7777777777777778,\"#fb9f3a\"],[0.8888888888888888,\"#fdca26\"],[1.0,\"#f0f921\"]]}],\"mesh3d\":[{\"type\":\"mesh3d\",\"colorbar\":{\"outlinewidth\":0,\"ticks\":\"\"}}],\"scatter\":[{\"fillpattern\":{\"fillmode\":\"overlay\",\"size\":10,\"solidity\":0.2},\"type\":\"scatter\"}],\"parcoords\":[{\"type\":\"parcoords\",\"line\":{\"colorbar\":{\"outlinewidth\":0,\"ticks\":\"\"}}}],\"scatterpolargl\":[{\"type\":\"scatterpolargl\",\"marker\":{\"colorbar\":{\"outlinewidth\":0,\"ticks\":\"\"}}}],\"bar\":[{\"error_x\":{\"color\":\"#2a3f5f\"},\"error_y\":{\"color\":\"#2a3f5f\"},\"marker\":{\"line\":{\"color\":\"#E5ECF6\",\"width\":0.5},\"pattern\":{\"fillmode\":\"overlay\",\"size\":10,\"solidity\":0.2}},\"type\":\"bar\"}],\"scattergeo\":[{\"type\":\"scattergeo\",\"marker\":{\"colorbar\":{\"outlinewidth\":0,\"ticks\":\"\"}}}],\"scatterpolar\":[{\"type\":\"scatterpolar\",\"marker\":{\"colorbar\":{\"outlinewidth\":0,\"ticks\":\"\"}}}],\"histogram\":[{\"marker\":{\"pattern\":{\"fillmode\":\"overlay\",\"size\":10,\"solidity\":0.2}},\"type\":\"histogram\"}],\"scattergl\":[{\"type\":\"scattergl\",\"marker\":{\"colorbar\":{\"outlinewidth\":0,\"ticks\":\"\"}}}],\"scatter3d\":[{\"type\":\"scatter3d\",\"line\":{\"colorbar\":{\"outlinewidth\":0,\"ticks\":\"\"}},\"marker\":{\"colorbar\":{\"outlinewidth\":0,\"ticks\":\"\"}}}],\"scattermapbox\":[{\"type\":\"scattermapbox\",\"marker\":{\"colorbar\":{\"outlinewidth\":0,\"ticks\":\"\"}}}],\"scatterternary\":[{\"type\":\"scatterternary\",\"marker\":{\"colorbar\":{\"outlinewidth\":0,\"ticks\":\"\"}}}],\"scattercarpet\":[{\"type\":\"scattercarpet\",\"marker\":{\"colorbar\":{\"outlinewidth\":0,\"ticks\":\"\"}}}],\"carpet\":[{\"aaxis\":{\"endlinecolor\":\"#2a3f5f\",\"gridcolor\":\"white\",\"linecolor\":\"white\",\"minorgridcolor\":\"white\",\"startlinecolor\":\"#2a3f5f\"},\"baxis\":{\"endlinecolor\":\"#2a3f5f\",\"gridcolor\":\"white\",\"linecolor\":\"white\",\"minorgridcolor\":\"white\",\"startlinecolor\":\"#2a3f5f\"},\"type\":\"carpet\"}],\"table\":[{\"cells\":{\"fill\":{\"color\":\"#EBF0F8\"},\"line\":{\"color\":\"white\"}},\"header\":{\"fill\":{\"color\":\"#C8D4E3\"},\"line\":{\"color\":\"white\"}},\"type\":\"table\"}],\"barpolar\":[{\"marker\":{\"line\":{\"color\":\"#E5ECF6\",\"width\":0.5},\"pattern\":{\"fillmode\":\"overlay\",\"size\":10,\"solidity\":0.2}},\"type\":\"barpolar\"}],\"pie\":[{\"automargin\":true,\"type\":\"pie\"}]},\"layout\":{\"autotypenumbers\":\"strict\",\"colorway\":[\"#636efa\",\"#EF553B\",\"#00cc96\",\"#ab63fa\",\"#FFA15A\",\"#19d3f3\",\"#FF6692\",\"#B6E880\",\"#FF97FF\",\"#FECB52\"],\"font\":{\"color\":\"#2a3f5f\"},\"hovermode\":\"closest\",\"hoverlabel\":{\"align\":\"left\"},\"paper_bgcolor\":\"white\",\"plot_bgcolor\":\"#E5ECF6\",\"polar\":{\"bgcolor\":\"#E5ECF6\",\"angularaxis\":{\"gridcolor\":\"white\",\"linecolor\":\"white\",\"ticks\":\"\"},\"radialaxis\":{\"gridcolor\":\"white\",\"linecolor\":\"white\",\"ticks\":\"\"}},\"ternary\":{\"bgcolor\":\"#E5ECF6\",\"aaxis\":{\"gridcolor\":\"white\",\"linecolor\":\"white\",\"ticks\":\"\"},\"baxis\":{\"gridcolor\":\"white\",\"linecolor\":\"white\",\"ticks\":\"\"},\"caxis\":{\"gridcolor\":\"white\",\"linecolor\":\"white\",\"ticks\":\"\"}},\"coloraxis\":{\"colorbar\":{\"outlinewidth\":0,\"ticks\":\"\"}},\"colorscale\":{\"sequential\":[[0.0,\"#0d0887\"],[0.1111111111111111,\"#46039f\"],[0.2222222222222222,\"#7201a8\"],[0.3333333333333333,\"#9c179e\"],[0.4444444444444444,\"#bd3786\"],[0.5555555555555556,\"#d8576b\"],[0.6666666666666666,\"#ed7953\"],[0.7777777777777778,\"#fb9f3a\"],[0.8888888888888888,\"#fdca26\"],[1.0,\"#f0f921\"]],\"sequentialminus\":[[0.0,\"#0d0887\"],[0.1111111111111111,\"#46039f\"],[0.2222222222222222,\"#7201a8\"],[0.3333333333333333,\"#9c179e\"],[0.4444444444444444,\"#bd3786\"],[0.5555555555555556,\"#d8576b\"],[0.6666666666666666,\"#ed7953\"],[0.7777777777777778,\"#fb9f3a\"],[0.8888888888888888,\"#fdca26\"],[1.0,\"#f0f921\"]],\"diverging\":[[0,\"#8e0152\"],[0.1,\"#c51b7d\"],[0.2,\"#de77ae\"],[0.3,\"#f1b6da\"],[0.4,\"#fde0ef\"],[0.5,\"#f7f7f7\"],[0.6,\"#e6f5d0\"],[0.7,\"#b8e186\"],[0.8,\"#7fbc41\"],[0.9,\"#4d9221\"],[1,\"#276419\"]]},\"xaxis\":{\"gridcolor\":\"white\",\"linecolor\":\"white\",\"ticks\":\"\",\"title\":{\"standoff\":15},\"zerolinecolor\":\"white\",\"automargin\":true,\"zerolinewidth\":2},\"yaxis\":{\"gridcolor\":\"white\",\"linecolor\":\"white\",\"ticks\":\"\",\"title\":{\"standoff\":15},\"zerolinecolor\":\"white\",\"automargin\":true,\"zerolinewidth\":2},\"scene\":{\"xaxis\":{\"backgroundcolor\":\"#E5ECF6\",\"gridcolor\":\"white\",\"linecolor\":\"white\",\"showbackground\":true,\"ticks\":\"\",\"zerolinecolor\":\"white\",\"gridwidth\":2},\"yaxis\":{\"backgroundcolor\":\"#E5ECF6\",\"gridcolor\":\"white\",\"linecolor\":\"white\",\"showbackground\":true,\"ticks\":\"\",\"zerolinecolor\":\"white\",\"gridwidth\":2},\"zaxis\":{\"backgroundcolor\":\"#E5ECF6\",\"gridcolor\":\"white\",\"linecolor\":\"white\",\"showbackground\":true,\"ticks\":\"\",\"zerolinecolor\":\"white\",\"gridwidth\":2}},\"shapedefaults\":{\"line\":{\"color\":\"#2a3f5f\"}},\"annotationdefaults\":{\"arrowcolor\":\"#2a3f5f\",\"arrowhead\":0,\"arrowwidth\":1},\"geo\":{\"bgcolor\":\"white\",\"landcolor\":\"#E5ECF6\",\"subunitcolor\":\"white\",\"showland\":true,\"showlakes\":true,\"lakecolor\":\"white\"},\"title\":{\"x\":0.05},\"mapbox\":{\"style\":\"light\"}}},\"title\":{\"text\":\"All Behavior Clusters mean\"},\"showlegend\":true},                        {\"responsive\": true}                    ).then(function(){\n",
       "                            \n",
       "var gd = document.getElementById('8e7f5047-3a2c-456c-8d4c-b6c51c332adf');\n",
       "var x = new MutationObserver(function (mutations, observer) {{\n",
       "        var display = window.getComputedStyle(gd).display;\n",
       "        if (!display || display === 'none') {{\n",
       "            console.log([gd, 'removed!']);\n",
       "            Plotly.purge(gd);\n",
       "            observer.disconnect();\n",
       "        }}\n",
       "}});\n",
       "\n",
       "// Listen for the removal of the full notebook cells\n",
       "var notebookContainer = gd.closest('#notebook-container');\n",
       "if (notebookContainer) {{\n",
       "    x.observe(notebookContainer, {childList: true});\n",
       "}}\n",
       "\n",
       "// Listen for the clearing of the current output cell\n",
       "var outputEl = gd.closest('.output');\n",
       "if (outputEl) {{\n",
       "    x.observe(outputEl, {childList: true});\n",
       "}}\n",
       "\n",
       "                        })                };                });            </script>        </div>"
      ]
     },
     "metadata": {},
     "output_type": "display_data"
    }
   ],
   "source": [
    "fig = go.Figure()\n",
    "\n",
    "fig.add_trace(go.Scatterpolar(r = bhv_scaled0.mean(), theta = bhv_scaled0.columns,fill='toself', name='Behavior cluster 0', fillcolor='deepskyblue', line_color='dodgerblue', opacity=0.5))\n",
    "fig.add_trace(go.Scatterpolar(r = bhv_scaled1.mean(), theta = bhv_scaled1.columns,fill='toself', name='Behavior cluster 1', fillcolor='coral', line_color='lightcoral', opacity=0.5))\n",
    "fig.add_trace(go.Scatterpolar(r = bhv_scaled2.mean(), theta = bhv_scaled2.columns,fill='toself', name='Behavior cluster 2', fillcolor='gold', line_color='goldenrod', opacity=0.5))\n",
    "fig.add_trace(go.Scatterpolar(r = bhv_scaled3.mean(), theta = bhv_scaled3.columns,fill='toself', name='Behavior cluster 3', fillcolor='palegreen', line_color='seagreen', opacity=0.5))\n",
    "fig.add_trace(go.Scatterpolar(r = bhv_scaled4.mean(), theta = bhv_scaled4.columns,fill='toself', name='Behavior cluster 4', fillcolor='orchid', line_color='mediumpurple', opacity=0.5))\n",
    "\n",
    "fig.update_layout(title = 'All Behavior Clusters mean', showlegend=True)\n",
    "\n",
    "fig.show()"
   ]
  },
  {
   "cell_type": "code",
   "execution_count": 62,
   "id": "fa6fb992",
   "metadata": {},
   "outputs": [
    {
     "data": {
      "application/vnd.plotly.v1+json": {
       "config": {
        "plotlyServerURL": "https://plot.ly"
       },
       "data": [
        {
         "fill": "toself",
         "fillcolor": "deepskyblue",
         "line": {
          "color": "dodgerblue"
         },
         "name": "Behavior cluster 0",
         "opacity": 0.5,
         "r": [
          -0.4604131971179326,
          -0.055168266555339164,
          -0.02343288231167745,
          0.2611256796995471,
          0.3628548844712335,
          -0.9599140460650538,
          0.6294642857142857,
          0.5357142857142857
         ],
         "theta": [
          "income",
          "total_saved",
          "total_debt",
          "avg_trans_amt",
          "total_trans_amt",
          "total_no_transactions",
          "savings_acct",
          "credit_acct"
         ],
         "type": "scatterpolar"
        },
        {
         "fill": "toself",
         "fillcolor": "gold",
         "line": {
          "color": "goldenrod"
         },
         "name": "Behavior cluster 2",
         "opacity": 0.5,
         "r": [
          -0.3011477312162773,
          -0.07980011062507321,
          0.19164428033885852,
          -0.12820446319782391,
          -0.19049371002396254,
          0.7501678196659124,
          0.5034246575342466,
          0.726027397260274
         ],
         "theta": [
          "income",
          "total_saved",
          "total_debt",
          "avg_trans_amt",
          "total_trans_amt",
          "total_no_transactions",
          "savings_acct",
          "credit_acct"
         ],
         "type": "scatterpolar"
        },
        {
         "fill": "toself",
         "fillcolor": "palegreen",
         "line": {
          "color": "seagreen"
         },
         "name": "Behavior cluster 3",
         "opacity": 0.5,
         "r": [
          1.4497459878465364,
          -0.20874243341456478,
          1.0095729943027563,
          -1.662290747995593,
          -1.7603032919243373,
          -0.04693031947987282,
          0.5416666666666666,
          0.6111111111111112
         ],
         "theta": [
          "income",
          "total_saved",
          "total_debt",
          "avg_trans_amt",
          "total_trans_amt",
          "total_no_transactions",
          "savings_acct",
          "credit_acct"
         ],
         "type": "scatterpolar"
        },
        {
         "fill": "toself",
         "fillcolor": "orchid",
         "line": {
          "color": "mediumpurple"
         },
         "name": "Behavior cluster 4",
         "opacity": 0.5,
         "r": [
          1.043912592384737,
          -0.007426991166792474,
          -1.706042916423346,
          1.2613506339110037,
          1.2648776036973997,
          -0.05283669795655379,
          0.6716417910447762,
          0.6268656716417911
         ],
         "theta": [
          "income",
          "total_saved",
          "total_debt",
          "avg_trans_amt",
          "total_trans_amt",
          "total_no_transactions",
          "savings_acct",
          "credit_acct"
         ],
         "type": "scatterpolar"
        }
       ],
       "layout": {
        "showlegend": true,
        "template": {
         "data": {
          "bar": [
           {
            "error_x": {
             "color": "#2a3f5f"
            },
            "error_y": {
             "color": "#2a3f5f"
            },
            "marker": {
             "line": {
              "color": "#E5ECF6",
              "width": 0.5
             },
             "pattern": {
              "fillmode": "overlay",
              "size": 10,
              "solidity": 0.2
             }
            },
            "type": "bar"
           }
          ],
          "barpolar": [
           {
            "marker": {
             "line": {
              "color": "#E5ECF6",
              "width": 0.5
             },
             "pattern": {
              "fillmode": "overlay",
              "size": 10,
              "solidity": 0.2
             }
            },
            "type": "barpolar"
           }
          ],
          "carpet": [
           {
            "aaxis": {
             "endlinecolor": "#2a3f5f",
             "gridcolor": "white",
             "linecolor": "white",
             "minorgridcolor": "white",
             "startlinecolor": "#2a3f5f"
            },
            "baxis": {
             "endlinecolor": "#2a3f5f",
             "gridcolor": "white",
             "linecolor": "white",
             "minorgridcolor": "white",
             "startlinecolor": "#2a3f5f"
            },
            "type": "carpet"
           }
          ],
          "choropleth": [
           {
            "colorbar": {
             "outlinewidth": 0,
             "ticks": ""
            },
            "type": "choropleth"
           }
          ],
          "contour": [
           {
            "colorbar": {
             "outlinewidth": 0,
             "ticks": ""
            },
            "colorscale": [
             [
              0,
              "#0d0887"
             ],
             [
              0.1111111111111111,
              "#46039f"
             ],
             [
              0.2222222222222222,
              "#7201a8"
             ],
             [
              0.3333333333333333,
              "#9c179e"
             ],
             [
              0.4444444444444444,
              "#bd3786"
             ],
             [
              0.5555555555555556,
              "#d8576b"
             ],
             [
              0.6666666666666666,
              "#ed7953"
             ],
             [
              0.7777777777777778,
              "#fb9f3a"
             ],
             [
              0.8888888888888888,
              "#fdca26"
             ],
             [
              1,
              "#f0f921"
             ]
            ],
            "type": "contour"
           }
          ],
          "contourcarpet": [
           {
            "colorbar": {
             "outlinewidth": 0,
             "ticks": ""
            },
            "type": "contourcarpet"
           }
          ],
          "heatmap": [
           {
            "colorbar": {
             "outlinewidth": 0,
             "ticks": ""
            },
            "colorscale": [
             [
              0,
              "#0d0887"
             ],
             [
              0.1111111111111111,
              "#46039f"
             ],
             [
              0.2222222222222222,
              "#7201a8"
             ],
             [
              0.3333333333333333,
              "#9c179e"
             ],
             [
              0.4444444444444444,
              "#bd3786"
             ],
             [
              0.5555555555555556,
              "#d8576b"
             ],
             [
              0.6666666666666666,
              "#ed7953"
             ],
             [
              0.7777777777777778,
              "#fb9f3a"
             ],
             [
              0.8888888888888888,
              "#fdca26"
             ],
             [
              1,
              "#f0f921"
             ]
            ],
            "type": "heatmap"
           }
          ],
          "heatmapgl": [
           {
            "colorbar": {
             "outlinewidth": 0,
             "ticks": ""
            },
            "colorscale": [
             [
              0,
              "#0d0887"
             ],
             [
              0.1111111111111111,
              "#46039f"
             ],
             [
              0.2222222222222222,
              "#7201a8"
             ],
             [
              0.3333333333333333,
              "#9c179e"
             ],
             [
              0.4444444444444444,
              "#bd3786"
             ],
             [
              0.5555555555555556,
              "#d8576b"
             ],
             [
              0.6666666666666666,
              "#ed7953"
             ],
             [
              0.7777777777777778,
              "#fb9f3a"
             ],
             [
              0.8888888888888888,
              "#fdca26"
             ],
             [
              1,
              "#f0f921"
             ]
            ],
            "type": "heatmapgl"
           }
          ],
          "histogram": [
           {
            "marker": {
             "pattern": {
              "fillmode": "overlay",
              "size": 10,
              "solidity": 0.2
             }
            },
            "type": "histogram"
           }
          ],
          "histogram2d": [
           {
            "colorbar": {
             "outlinewidth": 0,
             "ticks": ""
            },
            "colorscale": [
             [
              0,
              "#0d0887"
             ],
             [
              0.1111111111111111,
              "#46039f"
             ],
             [
              0.2222222222222222,
              "#7201a8"
             ],
             [
              0.3333333333333333,
              "#9c179e"
             ],
             [
              0.4444444444444444,
              "#bd3786"
             ],
             [
              0.5555555555555556,
              "#d8576b"
             ],
             [
              0.6666666666666666,
              "#ed7953"
             ],
             [
              0.7777777777777778,
              "#fb9f3a"
             ],
             [
              0.8888888888888888,
              "#fdca26"
             ],
             [
              1,
              "#f0f921"
             ]
            ],
            "type": "histogram2d"
           }
          ],
          "histogram2dcontour": [
           {
            "colorbar": {
             "outlinewidth": 0,
             "ticks": ""
            },
            "colorscale": [
             [
              0,
              "#0d0887"
             ],
             [
              0.1111111111111111,
              "#46039f"
             ],
             [
              0.2222222222222222,
              "#7201a8"
             ],
             [
              0.3333333333333333,
              "#9c179e"
             ],
             [
              0.4444444444444444,
              "#bd3786"
             ],
             [
              0.5555555555555556,
              "#d8576b"
             ],
             [
              0.6666666666666666,
              "#ed7953"
             ],
             [
              0.7777777777777778,
              "#fb9f3a"
             ],
             [
              0.8888888888888888,
              "#fdca26"
             ],
             [
              1,
              "#f0f921"
             ]
            ],
            "type": "histogram2dcontour"
           }
          ],
          "mesh3d": [
           {
            "colorbar": {
             "outlinewidth": 0,
             "ticks": ""
            },
            "type": "mesh3d"
           }
          ],
          "parcoords": [
           {
            "line": {
             "colorbar": {
              "outlinewidth": 0,
              "ticks": ""
             }
            },
            "type": "parcoords"
           }
          ],
          "pie": [
           {
            "automargin": true,
            "type": "pie"
           }
          ],
          "scatter": [
           {
            "fillpattern": {
             "fillmode": "overlay",
             "size": 10,
             "solidity": 0.2
            },
            "type": "scatter"
           }
          ],
          "scatter3d": [
           {
            "line": {
             "colorbar": {
              "outlinewidth": 0,
              "ticks": ""
             }
            },
            "marker": {
             "colorbar": {
              "outlinewidth": 0,
              "ticks": ""
             }
            },
            "type": "scatter3d"
           }
          ],
          "scattercarpet": [
           {
            "marker": {
             "colorbar": {
              "outlinewidth": 0,
              "ticks": ""
             }
            },
            "type": "scattercarpet"
           }
          ],
          "scattergeo": [
           {
            "marker": {
             "colorbar": {
              "outlinewidth": 0,
              "ticks": ""
             }
            },
            "type": "scattergeo"
           }
          ],
          "scattergl": [
           {
            "marker": {
             "colorbar": {
              "outlinewidth": 0,
              "ticks": ""
             }
            },
            "type": "scattergl"
           }
          ],
          "scattermapbox": [
           {
            "marker": {
             "colorbar": {
              "outlinewidth": 0,
              "ticks": ""
             }
            },
            "type": "scattermapbox"
           }
          ],
          "scatterpolar": [
           {
            "marker": {
             "colorbar": {
              "outlinewidth": 0,
              "ticks": ""
             }
            },
            "type": "scatterpolar"
           }
          ],
          "scatterpolargl": [
           {
            "marker": {
             "colorbar": {
              "outlinewidth": 0,
              "ticks": ""
             }
            },
            "type": "scatterpolargl"
           }
          ],
          "scatterternary": [
           {
            "marker": {
             "colorbar": {
              "outlinewidth": 0,
              "ticks": ""
             }
            },
            "type": "scatterternary"
           }
          ],
          "surface": [
           {
            "colorbar": {
             "outlinewidth": 0,
             "ticks": ""
            },
            "colorscale": [
             [
              0,
              "#0d0887"
             ],
             [
              0.1111111111111111,
              "#46039f"
             ],
             [
              0.2222222222222222,
              "#7201a8"
             ],
             [
              0.3333333333333333,
              "#9c179e"
             ],
             [
              0.4444444444444444,
              "#bd3786"
             ],
             [
              0.5555555555555556,
              "#d8576b"
             ],
             [
              0.6666666666666666,
              "#ed7953"
             ],
             [
              0.7777777777777778,
              "#fb9f3a"
             ],
             [
              0.8888888888888888,
              "#fdca26"
             ],
             [
              1,
              "#f0f921"
             ]
            ],
            "type": "surface"
           }
          ],
          "table": [
           {
            "cells": {
             "fill": {
              "color": "#EBF0F8"
             },
             "line": {
              "color": "white"
             }
            },
            "header": {
             "fill": {
              "color": "#C8D4E3"
             },
             "line": {
              "color": "white"
             }
            },
            "type": "table"
           }
          ]
         },
         "layout": {
          "annotationdefaults": {
           "arrowcolor": "#2a3f5f",
           "arrowhead": 0,
           "arrowwidth": 1
          },
          "autotypenumbers": "strict",
          "coloraxis": {
           "colorbar": {
            "outlinewidth": 0,
            "ticks": ""
           }
          },
          "colorscale": {
           "diverging": [
            [
             0,
             "#8e0152"
            ],
            [
             0.1,
             "#c51b7d"
            ],
            [
             0.2,
             "#de77ae"
            ],
            [
             0.3,
             "#f1b6da"
            ],
            [
             0.4,
             "#fde0ef"
            ],
            [
             0.5,
             "#f7f7f7"
            ],
            [
             0.6,
             "#e6f5d0"
            ],
            [
             0.7,
             "#b8e186"
            ],
            [
             0.8,
             "#7fbc41"
            ],
            [
             0.9,
             "#4d9221"
            ],
            [
             1,
             "#276419"
            ]
           ],
           "sequential": [
            [
             0,
             "#0d0887"
            ],
            [
             0.1111111111111111,
             "#46039f"
            ],
            [
             0.2222222222222222,
             "#7201a8"
            ],
            [
             0.3333333333333333,
             "#9c179e"
            ],
            [
             0.4444444444444444,
             "#bd3786"
            ],
            [
             0.5555555555555556,
             "#d8576b"
            ],
            [
             0.6666666666666666,
             "#ed7953"
            ],
            [
             0.7777777777777778,
             "#fb9f3a"
            ],
            [
             0.8888888888888888,
             "#fdca26"
            ],
            [
             1,
             "#f0f921"
            ]
           ],
           "sequentialminus": [
            [
             0,
             "#0d0887"
            ],
            [
             0.1111111111111111,
             "#46039f"
            ],
            [
             0.2222222222222222,
             "#7201a8"
            ],
            [
             0.3333333333333333,
             "#9c179e"
            ],
            [
             0.4444444444444444,
             "#bd3786"
            ],
            [
             0.5555555555555556,
             "#d8576b"
            ],
            [
             0.6666666666666666,
             "#ed7953"
            ],
            [
             0.7777777777777778,
             "#fb9f3a"
            ],
            [
             0.8888888888888888,
             "#fdca26"
            ],
            [
             1,
             "#f0f921"
            ]
           ]
          },
          "colorway": [
           "#636efa",
           "#EF553B",
           "#00cc96",
           "#ab63fa",
           "#FFA15A",
           "#19d3f3",
           "#FF6692",
           "#B6E880",
           "#FF97FF",
           "#FECB52"
          ],
          "font": {
           "color": "#2a3f5f"
          },
          "geo": {
           "bgcolor": "white",
           "lakecolor": "white",
           "landcolor": "#E5ECF6",
           "showlakes": true,
           "showland": true,
           "subunitcolor": "white"
          },
          "hoverlabel": {
           "align": "left"
          },
          "hovermode": "closest",
          "mapbox": {
           "style": "light"
          },
          "paper_bgcolor": "white",
          "plot_bgcolor": "#E5ECF6",
          "polar": {
           "angularaxis": {
            "gridcolor": "white",
            "linecolor": "white",
            "ticks": ""
           },
           "bgcolor": "#E5ECF6",
           "radialaxis": {
            "gridcolor": "white",
            "linecolor": "white",
            "ticks": ""
           }
          },
          "scene": {
           "xaxis": {
            "backgroundcolor": "#E5ECF6",
            "gridcolor": "white",
            "gridwidth": 2,
            "linecolor": "white",
            "showbackground": true,
            "ticks": "",
            "zerolinecolor": "white"
           },
           "yaxis": {
            "backgroundcolor": "#E5ECF6",
            "gridcolor": "white",
            "gridwidth": 2,
            "linecolor": "white",
            "showbackground": true,
            "ticks": "",
            "zerolinecolor": "white"
           },
           "zaxis": {
            "backgroundcolor": "#E5ECF6",
            "gridcolor": "white",
            "gridwidth": 2,
            "linecolor": "white",
            "showbackground": true,
            "ticks": "",
            "zerolinecolor": "white"
           }
          },
          "shapedefaults": {
           "line": {
            "color": "#2a3f5f"
           }
          },
          "ternary": {
           "aaxis": {
            "gridcolor": "white",
            "linecolor": "white",
            "ticks": ""
           },
           "baxis": {
            "gridcolor": "white",
            "linecolor": "white",
            "ticks": ""
           },
           "bgcolor": "#E5ECF6",
           "caxis": {
            "gridcolor": "white",
            "linecolor": "white",
            "ticks": ""
           }
          },
          "title": {
           "x": 0.05
          },
          "xaxis": {
           "automargin": true,
           "gridcolor": "white",
           "linecolor": "white",
           "ticks": "",
           "title": {
            "standoff": 15
           },
           "zerolinecolor": "white",
           "zerolinewidth": 2
          },
          "yaxis": {
           "automargin": true,
           "gridcolor": "white",
           "linecolor": "white",
           "ticks": "",
           "title": {
            "standoff": 15
           },
           "zerolinecolor": "white",
           "zerolinewidth": 2
          }
         }
        },
        "title": {
         "text": "Behavior Clusters (Outliers Removed)"
        }
       }
      },
      "text/html": [
       "<div>                            <div id=\"159ef6d0-e8f5-4b39-bee5-6736ad8b1a20\" class=\"plotly-graph-div\" style=\"height:525px; width:100%;\"></div>            <script type=\"text/javascript\">                require([\"plotly\"], function(Plotly) {                    window.PLOTLYENV=window.PLOTLYENV || {};                                    if (document.getElementById(\"159ef6d0-e8f5-4b39-bee5-6736ad8b1a20\")) {                    Plotly.newPlot(                        \"159ef6d0-e8f5-4b39-bee5-6736ad8b1a20\",                        [{\"fill\":\"toself\",\"fillcolor\":\"deepskyblue\",\"line\":{\"color\":\"dodgerblue\"},\"name\":\"Behavior cluster 0\",\"opacity\":0.5,\"r\":[-0.4604131971179326,-0.055168266555339164,-0.02343288231167745,0.2611256796995471,0.3628548844712335,-0.9599140460650538,0.6294642857142857,0.5357142857142857],\"theta\":[\"income\",\"total_saved\",\"total_debt\",\"avg_trans_amt\",\"total_trans_amt\",\"total_no_transactions\",\"savings_acct\",\"credit_acct\"],\"type\":\"scatterpolar\"},{\"fill\":\"toself\",\"fillcolor\":\"gold\",\"line\":{\"color\":\"goldenrod\"},\"name\":\"Behavior cluster 2\",\"opacity\":0.5,\"r\":[-0.3011477312162773,-0.07980011062507321,0.19164428033885852,-0.12820446319782391,-0.19049371002396254,0.7501678196659124,0.5034246575342466,0.726027397260274],\"theta\":[\"income\",\"total_saved\",\"total_debt\",\"avg_trans_amt\",\"total_trans_amt\",\"total_no_transactions\",\"savings_acct\",\"credit_acct\"],\"type\":\"scatterpolar\"},{\"fill\":\"toself\",\"fillcolor\":\"palegreen\",\"line\":{\"color\":\"seagreen\"},\"name\":\"Behavior cluster 3\",\"opacity\":0.5,\"r\":[1.4497459878465364,-0.20874243341456478,1.0095729943027563,-1.662290747995593,-1.7603032919243373,-0.04693031947987282,0.5416666666666666,0.6111111111111112],\"theta\":[\"income\",\"total_saved\",\"total_debt\",\"avg_trans_amt\",\"total_trans_amt\",\"total_no_transactions\",\"savings_acct\",\"credit_acct\"],\"type\":\"scatterpolar\"},{\"fill\":\"toself\",\"fillcolor\":\"orchid\",\"line\":{\"color\":\"mediumpurple\"},\"name\":\"Behavior cluster 4\",\"opacity\":0.5,\"r\":[1.043912592384737,-0.007426991166792474,-1.706042916423346,1.2613506339110037,1.2648776036973997,-0.05283669795655379,0.6716417910447762,0.6268656716417911],\"theta\":[\"income\",\"total_saved\",\"total_debt\",\"avg_trans_amt\",\"total_trans_amt\",\"total_no_transactions\",\"savings_acct\",\"credit_acct\"],\"type\":\"scatterpolar\"}],                        {\"template\":{\"data\":{\"histogram2dcontour\":[{\"type\":\"histogram2dcontour\",\"colorbar\":{\"outlinewidth\":0,\"ticks\":\"\"},\"colorscale\":[[0.0,\"#0d0887\"],[0.1111111111111111,\"#46039f\"],[0.2222222222222222,\"#7201a8\"],[0.3333333333333333,\"#9c179e\"],[0.4444444444444444,\"#bd3786\"],[0.5555555555555556,\"#d8576b\"],[0.6666666666666666,\"#ed7953\"],[0.7777777777777778,\"#fb9f3a\"],[0.8888888888888888,\"#fdca26\"],[1.0,\"#f0f921\"]]}],\"choropleth\":[{\"type\":\"choropleth\",\"colorbar\":{\"outlinewidth\":0,\"ticks\":\"\"}}],\"histogram2d\":[{\"type\":\"histogram2d\",\"colorbar\":{\"outlinewidth\":0,\"ticks\":\"\"},\"colorscale\":[[0.0,\"#0d0887\"],[0.1111111111111111,\"#46039f\"],[0.2222222222222222,\"#7201a8\"],[0.3333333333333333,\"#9c179e\"],[0.4444444444444444,\"#bd3786\"],[0.5555555555555556,\"#d8576b\"],[0.6666666666666666,\"#ed7953\"],[0.7777777777777778,\"#fb9f3a\"],[0.8888888888888888,\"#fdca26\"],[1.0,\"#f0f921\"]]}],\"heatmap\":[{\"type\":\"heatmap\",\"colorbar\":{\"outlinewidth\":0,\"ticks\":\"\"},\"colorscale\":[[0.0,\"#0d0887\"],[0.1111111111111111,\"#46039f\"],[0.2222222222222222,\"#7201a8\"],[0.3333333333333333,\"#9c179e\"],[0.4444444444444444,\"#bd3786\"],[0.5555555555555556,\"#d8576b\"],[0.6666666666666666,\"#ed7953\"],[0.7777777777777778,\"#fb9f3a\"],[0.8888888888888888,\"#fdca26\"],[1.0,\"#f0f921\"]]}],\"heatmapgl\":[{\"type\":\"heatmapgl\",\"colorbar\":{\"outlinewidth\":0,\"ticks\":\"\"},\"colorscale\":[[0.0,\"#0d0887\"],[0.1111111111111111,\"#46039f\"],[0.2222222222222222,\"#7201a8\"],[0.3333333333333333,\"#9c179e\"],[0.4444444444444444,\"#bd3786\"],[0.5555555555555556,\"#d8576b\"],[0.6666666666666666,\"#ed7953\"],[0.7777777777777778,\"#fb9f3a\"],[0.8888888888888888,\"#fdca26\"],[1.0,\"#f0f921\"]]}],\"contourcarpet\":[{\"type\":\"contourcarpet\",\"colorbar\":{\"outlinewidth\":0,\"ticks\":\"\"}}],\"contour\":[{\"type\":\"contour\",\"colorbar\":{\"outlinewidth\":0,\"ticks\":\"\"},\"colorscale\":[[0.0,\"#0d0887\"],[0.1111111111111111,\"#46039f\"],[0.2222222222222222,\"#7201a8\"],[0.3333333333333333,\"#9c179e\"],[0.4444444444444444,\"#bd3786\"],[0.5555555555555556,\"#d8576b\"],[0.6666666666666666,\"#ed7953\"],[0.7777777777777778,\"#fb9f3a\"],[0.8888888888888888,\"#fdca26\"],[1.0,\"#f0f921\"]]}],\"surface\":[{\"type\":\"surface\",\"colorbar\":{\"outlinewidth\":0,\"ticks\":\"\"},\"colorscale\":[[0.0,\"#0d0887\"],[0.1111111111111111,\"#46039f\"],[0.2222222222222222,\"#7201a8\"],[0.3333333333333333,\"#9c179e\"],[0.4444444444444444,\"#bd3786\"],[0.5555555555555556,\"#d8576b\"],[0.6666666666666666,\"#ed7953\"],[0.7777777777777778,\"#fb9f3a\"],[0.8888888888888888,\"#fdca26\"],[1.0,\"#f0f921\"]]}],\"mesh3d\":[{\"type\":\"mesh3d\",\"colorbar\":{\"outlinewidth\":0,\"ticks\":\"\"}}],\"scatter\":[{\"fillpattern\":{\"fillmode\":\"overlay\",\"size\":10,\"solidity\":0.2},\"type\":\"scatter\"}],\"parcoords\":[{\"type\":\"parcoords\",\"line\":{\"colorbar\":{\"outlinewidth\":0,\"ticks\":\"\"}}}],\"scatterpolargl\":[{\"type\":\"scatterpolargl\",\"marker\":{\"colorbar\":{\"outlinewidth\":0,\"ticks\":\"\"}}}],\"bar\":[{\"error_x\":{\"color\":\"#2a3f5f\"},\"error_y\":{\"color\":\"#2a3f5f\"},\"marker\":{\"line\":{\"color\":\"#E5ECF6\",\"width\":0.5},\"pattern\":{\"fillmode\":\"overlay\",\"size\":10,\"solidity\":0.2}},\"type\":\"bar\"}],\"scattergeo\":[{\"type\":\"scattergeo\",\"marker\":{\"colorbar\":{\"outlinewidth\":0,\"ticks\":\"\"}}}],\"scatterpolar\":[{\"type\":\"scatterpolar\",\"marker\":{\"colorbar\":{\"outlinewidth\":0,\"ticks\":\"\"}}}],\"histogram\":[{\"marker\":{\"pattern\":{\"fillmode\":\"overlay\",\"size\":10,\"solidity\":0.2}},\"type\":\"histogram\"}],\"scattergl\":[{\"type\":\"scattergl\",\"marker\":{\"colorbar\":{\"outlinewidth\":0,\"ticks\":\"\"}}}],\"scatter3d\":[{\"type\":\"scatter3d\",\"line\":{\"colorbar\":{\"outlinewidth\":0,\"ticks\":\"\"}},\"marker\":{\"colorbar\":{\"outlinewidth\":0,\"ticks\":\"\"}}}],\"scattermapbox\":[{\"type\":\"scattermapbox\",\"marker\":{\"colorbar\":{\"outlinewidth\":0,\"ticks\":\"\"}}}],\"scatterternary\":[{\"type\":\"scatterternary\",\"marker\":{\"colorbar\":{\"outlinewidth\":0,\"ticks\":\"\"}}}],\"scattercarpet\":[{\"type\":\"scattercarpet\",\"marker\":{\"colorbar\":{\"outlinewidth\":0,\"ticks\":\"\"}}}],\"carpet\":[{\"aaxis\":{\"endlinecolor\":\"#2a3f5f\",\"gridcolor\":\"white\",\"linecolor\":\"white\",\"minorgridcolor\":\"white\",\"startlinecolor\":\"#2a3f5f\"},\"baxis\":{\"endlinecolor\":\"#2a3f5f\",\"gridcolor\":\"white\",\"linecolor\":\"white\",\"minorgridcolor\":\"white\",\"startlinecolor\":\"#2a3f5f\"},\"type\":\"carpet\"}],\"table\":[{\"cells\":{\"fill\":{\"color\":\"#EBF0F8\"},\"line\":{\"color\":\"white\"}},\"header\":{\"fill\":{\"color\":\"#C8D4E3\"},\"line\":{\"color\":\"white\"}},\"type\":\"table\"}],\"barpolar\":[{\"marker\":{\"line\":{\"color\":\"#E5ECF6\",\"width\":0.5},\"pattern\":{\"fillmode\":\"overlay\",\"size\":10,\"solidity\":0.2}},\"type\":\"barpolar\"}],\"pie\":[{\"automargin\":true,\"type\":\"pie\"}]},\"layout\":{\"autotypenumbers\":\"strict\",\"colorway\":[\"#636efa\",\"#EF553B\",\"#00cc96\",\"#ab63fa\",\"#FFA15A\",\"#19d3f3\",\"#FF6692\",\"#B6E880\",\"#FF97FF\",\"#FECB52\"],\"font\":{\"color\":\"#2a3f5f\"},\"hovermode\":\"closest\",\"hoverlabel\":{\"align\":\"left\"},\"paper_bgcolor\":\"white\",\"plot_bgcolor\":\"#E5ECF6\",\"polar\":{\"bgcolor\":\"#E5ECF6\",\"angularaxis\":{\"gridcolor\":\"white\",\"linecolor\":\"white\",\"ticks\":\"\"},\"radialaxis\":{\"gridcolor\":\"white\",\"linecolor\":\"white\",\"ticks\":\"\"}},\"ternary\":{\"bgcolor\":\"#E5ECF6\",\"aaxis\":{\"gridcolor\":\"white\",\"linecolor\":\"white\",\"ticks\":\"\"},\"baxis\":{\"gridcolor\":\"white\",\"linecolor\":\"white\",\"ticks\":\"\"},\"caxis\":{\"gridcolor\":\"white\",\"linecolor\":\"white\",\"ticks\":\"\"}},\"coloraxis\":{\"colorbar\":{\"outlinewidth\":0,\"ticks\":\"\"}},\"colorscale\":{\"sequential\":[[0.0,\"#0d0887\"],[0.1111111111111111,\"#46039f\"],[0.2222222222222222,\"#7201a8\"],[0.3333333333333333,\"#9c179e\"],[0.4444444444444444,\"#bd3786\"],[0.5555555555555556,\"#d8576b\"],[0.6666666666666666,\"#ed7953\"],[0.7777777777777778,\"#fb9f3a\"],[0.8888888888888888,\"#fdca26\"],[1.0,\"#f0f921\"]],\"sequentialminus\":[[0.0,\"#0d0887\"],[0.1111111111111111,\"#46039f\"],[0.2222222222222222,\"#7201a8\"],[0.3333333333333333,\"#9c179e\"],[0.4444444444444444,\"#bd3786\"],[0.5555555555555556,\"#d8576b\"],[0.6666666666666666,\"#ed7953\"],[0.7777777777777778,\"#fb9f3a\"],[0.8888888888888888,\"#fdca26\"],[1.0,\"#f0f921\"]],\"diverging\":[[0,\"#8e0152\"],[0.1,\"#c51b7d\"],[0.2,\"#de77ae\"],[0.3,\"#f1b6da\"],[0.4,\"#fde0ef\"],[0.5,\"#f7f7f7\"],[0.6,\"#e6f5d0\"],[0.7,\"#b8e186\"],[0.8,\"#7fbc41\"],[0.9,\"#4d9221\"],[1,\"#276419\"]]},\"xaxis\":{\"gridcolor\":\"white\",\"linecolor\":\"white\",\"ticks\":\"\",\"title\":{\"standoff\":15},\"zerolinecolor\":\"white\",\"automargin\":true,\"zerolinewidth\":2},\"yaxis\":{\"gridcolor\":\"white\",\"linecolor\":\"white\",\"ticks\":\"\",\"title\":{\"standoff\":15},\"zerolinecolor\":\"white\",\"automargin\":true,\"zerolinewidth\":2},\"scene\":{\"xaxis\":{\"backgroundcolor\":\"#E5ECF6\",\"gridcolor\":\"white\",\"linecolor\":\"white\",\"showbackground\":true,\"ticks\":\"\",\"zerolinecolor\":\"white\",\"gridwidth\":2},\"yaxis\":{\"backgroundcolor\":\"#E5ECF6\",\"gridcolor\":\"white\",\"linecolor\":\"white\",\"showbackground\":true,\"ticks\":\"\",\"zerolinecolor\":\"white\",\"gridwidth\":2},\"zaxis\":{\"backgroundcolor\":\"#E5ECF6\",\"gridcolor\":\"white\",\"linecolor\":\"white\",\"showbackground\":true,\"ticks\":\"\",\"zerolinecolor\":\"white\",\"gridwidth\":2}},\"shapedefaults\":{\"line\":{\"color\":\"#2a3f5f\"}},\"annotationdefaults\":{\"arrowcolor\":\"#2a3f5f\",\"arrowhead\":0,\"arrowwidth\":1},\"geo\":{\"bgcolor\":\"white\",\"landcolor\":\"#E5ECF6\",\"subunitcolor\":\"white\",\"showland\":true,\"showlakes\":true,\"lakecolor\":\"white\"},\"title\":{\"x\":0.05},\"mapbox\":{\"style\":\"light\"}}},\"title\":{\"text\":\"Behavior Clusters (Outliers Removed)\"},\"showlegend\":true},                        {\"responsive\": true}                    ).then(function(){\n",
       "                            \n",
       "var gd = document.getElementById('159ef6d0-e8f5-4b39-bee5-6736ad8b1a20');\n",
       "var x = new MutationObserver(function (mutations, observer) {{\n",
       "        var display = window.getComputedStyle(gd).display;\n",
       "        if (!display || display === 'none') {{\n",
       "            console.log([gd, 'removed!']);\n",
       "            Plotly.purge(gd);\n",
       "            observer.disconnect();\n",
       "        }}\n",
       "}});\n",
       "\n",
       "// Listen for the removal of the full notebook cells\n",
       "var notebookContainer = gd.closest('#notebook-container');\n",
       "if (notebookContainer) {{\n",
       "    x.observe(notebookContainer, {childList: true});\n",
       "}}\n",
       "\n",
       "// Listen for the clearing of the current output cell\n",
       "var outputEl = gd.closest('.output');\n",
       "if (outputEl) {{\n",
       "    x.observe(outputEl, {childList: true});\n",
       "}}\n",
       "\n",
       "                        })                };                });            </script>        </div>"
      ]
     },
     "metadata": {},
     "output_type": "display_data"
    }
   ],
   "source": [
    "# outliers removed\n",
    "\n",
    "fig = go.Figure()\n",
    "\n",
    "fig.add_trace(go.Scatterpolar(r = bhv_scaled0.mean(), theta = bhv_scaled0.columns,fill='toself', name='Behavior cluster 0', fillcolor='deepskyblue', line_color='dodgerblue', opacity=0.5))\n",
    "#fig.add_trace(go.Scatterpolar(r = bhv_scaled1.mean(), theta = bhv_scaled1.columns,fill='toself', name='Behavior cluster 1', fillcolor='coral', line_color='lightcoral', opacity=0.5))\n",
    "fig.add_trace(go.Scatterpolar(r = bhv_scaled2.mean(), theta = bhv_scaled2.columns,fill='toself', name='Behavior cluster 2', fillcolor='gold', line_color='goldenrod', opacity=0.5))\n",
    "fig.add_trace(go.Scatterpolar(r = bhv_scaled3.mean(), theta = bhv_scaled3.columns,fill='toself', name='Behavior cluster 3', fillcolor='palegreen', line_color='seagreen', opacity=0.5))\n",
    "fig.add_trace(go.Scatterpolar(r = bhv_scaled4.mean(), theta = bhv_scaled4.columns,fill='toself', name='Behavior cluster 4', fillcolor='orchid', line_color='mediumpurple', opacity=0.5))\n",
    "\n",
    "fig.update_layout(title = 'Behavior Clusters (Outliers Removed)', showlegend=True)\n",
    "\n",
    "fig.show()"
   ]
  },
  {
   "cell_type": "code",
   "execution_count": null,
   "id": "9266d6e3",
   "metadata": {},
   "outputs": [],
   "source": []
  }
 ],
 "metadata": {
  "kernelspec": {
   "display_name": "Python 3 (ipykernel)",
   "language": "python",
   "name": "python3"
  },
  "language_info": {
   "codemirror_mode": {
    "name": "ipython",
    "version": 3
   },
   "file_extension": ".py",
   "mimetype": "text/x-python",
   "name": "python",
   "nbconvert_exporter": "python",
   "pygments_lexer": "ipython3",
   "version": "3.9.13"
  }
 },
 "nbformat": 4,
 "nbformat_minor": 5
}

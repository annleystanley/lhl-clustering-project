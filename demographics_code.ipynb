{
 "cells": [
  {
   "cell_type": "code",
   "execution_count": 1,
   "id": "2c390983",
   "metadata": {},
   "outputs": [],
   "source": [
    "import pandas as pd\n",
    "import matplotlib.pyplot as plt\n",
    "import seaborn as sns\n",
    "import plotly.express as px\n",
    "import numpy as np\n",
    "from scipy import stats\n",
    "import plotly.graph_objects as go\n",
    "from sklearn.preprocessing import MinMaxScaler\n",
    "from sklearn.cluster import KMeans\n",
    "from sklearn.preprocessing import StandardScaler\n",
    "from sklearn.decomposition import PCA"
   ]
  },
  {
   "cell_type": "code",
   "execution_count": 5,
   "id": "746ebffa",
   "metadata": {},
   "outputs": [
    {
     "data": {
      "text/html": [
       "<div>\n",
       "<style scoped>\n",
       "    .dataframe tbody tr th:only-of-type {\n",
       "        vertical-align: middle;\n",
       "    }\n",
       "\n",
       "    .dataframe tbody tr th {\n",
       "        vertical-align: top;\n",
       "    }\n",
       "\n",
       "    .dataframe thead th {\n",
       "        text-align: right;\n",
       "    }\n",
       "</style>\n",
       "<table border=\"1\" class=\"dataframe\">\n",
       "  <thead>\n",
       "    <tr style=\"text-align: right;\">\n",
       "      <th></th>\n",
       "      <th>cust_id</th>\n",
       "      <th>income</th>\n",
       "      <th>age</th>\n",
       "      <th>years_with_bank</th>\n",
       "      <th>nbr_children</th>\n",
       "      <th>gender</th>\n",
       "      <th>marital_status</th>\n",
       "      <th>name_prefix</th>\n",
       "      <th>first_name</th>\n",
       "      <th>last_name</th>\n",
       "      <th>street_nbr</th>\n",
       "      <th>street_name</th>\n",
       "      <th>postal_code</th>\n",
       "      <th>city_name</th>\n",
       "      <th>state_code</th>\n",
       "    </tr>\n",
       "  </thead>\n",
       "  <tbody>\n",
       "    <tr>\n",
       "      <th>0</th>\n",
       "      <td>1362691</td>\n",
       "      <td>26150</td>\n",
       "      <td>46</td>\n",
       "      <td>5</td>\n",
       "      <td>1</td>\n",
       "      <td>M</td>\n",
       "      <td>2</td>\n",
       "      <td></td>\n",
       "      <td>Donald                                        ...</td>\n",
       "      <td>Marek                                         ...</td>\n",
       "      <td>8298</td>\n",
       "      <td>Second                                        ...</td>\n",
       "      <td>89194</td>\n",
       "      <td>Las Vegas</td>\n",
       "      <td>NV</td>\n",
       "    </tr>\n",
       "    <tr>\n",
       "      <th>1</th>\n",
       "      <td>1362487</td>\n",
       "      <td>6605</td>\n",
       "      <td>71</td>\n",
       "      <td>1</td>\n",
       "      <td>0</td>\n",
       "      <td>M</td>\n",
       "      <td>2</td>\n",
       "      <td></td>\n",
       "      <td>ChingDyi                                      ...</td>\n",
       "      <td>Moussavi                                      ...</td>\n",
       "      <td>10603</td>\n",
       "      <td>Daffodil                                      ...</td>\n",
       "      <td>90159</td>\n",
       "      <td>Los Angeles</td>\n",
       "      <td>CA</td>\n",
       "    </tr>\n",
       "    <tr>\n",
       "      <th>2</th>\n",
       "      <td>1363160</td>\n",
       "      <td>18548</td>\n",
       "      <td>38</td>\n",
       "      <td>8</td>\n",
       "      <td>0</td>\n",
       "      <td>F</td>\n",
       "      <td>1</td>\n",
       "      <td></td>\n",
       "      <td>Rosa                                          ...</td>\n",
       "      <td>Johnston                                      ...</td>\n",
       "      <td>8817</td>\n",
       "      <td>Figueroa                                      ...</td>\n",
       "      <td>90024</td>\n",
       "      <td>Los Angeles</td>\n",
       "      <td>CA</td>\n",
       "    </tr>\n",
       "    <tr>\n",
       "      <th>3</th>\n",
       "      <td>1362752</td>\n",
       "      <td>47668</td>\n",
       "      <td>54</td>\n",
       "      <td>3</td>\n",
       "      <td>0</td>\n",
       "      <td>F</td>\n",
       "      <td>1</td>\n",
       "      <td></td>\n",
       "      <td>Lisa                                          ...</td>\n",
       "      <td>Martin                                        ...</td>\n",
       "      <td>676</td>\n",
       "      <td>Humble                                        ...</td>\n",
       "      <td>90172</td>\n",
       "      <td>Los Angeles</td>\n",
       "      <td>CA</td>\n",
       "    </tr>\n",
       "    <tr>\n",
       "      <th>4</th>\n",
       "      <td>1362548</td>\n",
       "      <td>44554</td>\n",
       "      <td>59</td>\n",
       "      <td>9</td>\n",
       "      <td>2</td>\n",
       "      <td>F</td>\n",
       "      <td>4</td>\n",
       "      <td></td>\n",
       "      <td>Barbara                                       ...</td>\n",
       "      <td>O'Malley                                      ...</td>\n",
       "      <td>6578</td>\n",
       "      <td>C                                             ...</td>\n",
       "      <td>10138</td>\n",
       "      <td>New York City</td>\n",
       "      <td>NY</td>\n",
       "    </tr>\n",
       "  </tbody>\n",
       "</table>\n",
       "</div>"
      ],
      "text/plain": [
       "   cust_id  income  age  years_with_bank  nbr_children gender  marital_status  \\\n",
       "0  1362691   26150   46                5             1     M                2   \n",
       "1  1362487    6605   71                1             0     M                2   \n",
       "2  1363160   18548   38                8             0     F                1   \n",
       "3  1362752   47668   54                3             0     F                1   \n",
       "4  1362548   44554   59                9             2     F                4   \n",
       "\n",
       "  name_prefix                                         first_name  \\\n",
       "0              Donald                                        ...   \n",
       "1              ChingDyi                                      ...   \n",
       "2              Rosa                                          ...   \n",
       "3              Lisa                                          ...   \n",
       "4              Barbara                                       ...   \n",
       "\n",
       "                                           last_name  street_nbr  \\\n",
       "0  Marek                                         ...        8298   \n",
       "1  Moussavi                                      ...       10603   \n",
       "2  Johnston                                      ...        8817   \n",
       "3  Martin                                        ...         676   \n",
       "4  O'Malley                                      ...        6578   \n",
       "\n",
       "                                         street_name  postal_code  \\\n",
       "0  Second                                        ...        89194   \n",
       "1  Daffodil                                      ...        90159   \n",
       "2  Figueroa                                      ...        90024   \n",
       "3  Humble                                        ...        90172   \n",
       "4  C                                             ...        10138   \n",
       "\n",
       "                                  city_name state_code  \n",
       "0  Las Vegas                                      NV    \n",
       "1  Los Angeles                                    CA    \n",
       "2  Los Angeles                                    CA    \n",
       "3  Los Angeles                                    CA    \n",
       "4  New York City                                  NY    "
      ]
     },
     "execution_count": 5,
     "metadata": {},
     "output_type": "execute_result"
    }
   ],
   "source": [
    "# importing csv\n",
    "customers_df = pd.read_csv('twm_customer.csv', delimiter=';')\n",
    "customers_df.head()"
   ]
  },
  {
   "cell_type": "code",
   "execution_count": 3,
   "id": "5ae11403",
   "metadata": {},
   "outputs": [],
   "source": [
    "# changing marital status to a category\n",
    "customers_df['marital_status'] = customers_df['marital_status'].astype('category')"
   ]
  },
  {
   "cell_type": "code",
   "execution_count": 4,
   "id": "09ac3829",
   "metadata": {},
   "outputs": [
    {
     "data": {
      "text/html": [
       "<div>\n",
       "<style scoped>\n",
       "    .dataframe tbody tr th:only-of-type {\n",
       "        vertical-align: middle;\n",
       "    }\n",
       "\n",
       "    .dataframe tbody tr th {\n",
       "        vertical-align: top;\n",
       "    }\n",
       "\n",
       "    .dataframe thead th {\n",
       "        text-align: right;\n",
       "    }\n",
       "</style>\n",
       "<table border=\"1\" class=\"dataframe\">\n",
       "  <thead>\n",
       "    <tr style=\"text-align: right;\">\n",
       "      <th></th>\n",
       "      <th>cust_id</th>\n",
       "      <th>income</th>\n",
       "      <th>age</th>\n",
       "      <th>years_with_bank</th>\n",
       "      <th>nbr_children</th>\n",
       "      <th>street_nbr</th>\n",
       "      <th>postal_code</th>\n",
       "    </tr>\n",
       "  </thead>\n",
       "  <tbody>\n",
       "    <tr>\n",
       "      <th>count</th>\n",
       "      <td>7.470000e+02</td>\n",
       "      <td>747.000000</td>\n",
       "      <td>747.000000</td>\n",
       "      <td>747.000000</td>\n",
       "      <td>747.000000</td>\n",
       "      <td>747.000000</td>\n",
       "      <td>747.000000</td>\n",
       "    </tr>\n",
       "    <tr>\n",
       "      <th>mean</th>\n",
       "      <td>1.362991e+06</td>\n",
       "      <td>22728.281124</td>\n",
       "      <td>42.479250</td>\n",
       "      <td>3.907631</td>\n",
       "      <td>0.714859</td>\n",
       "      <td>8523.109772</td>\n",
       "      <td>59502.690763</td>\n",
       "    </tr>\n",
       "    <tr>\n",
       "      <th>std</th>\n",
       "      <td>2.925255e+02</td>\n",
       "      <td>22207.221405</td>\n",
       "      <td>19.114879</td>\n",
       "      <td>2.675634</td>\n",
       "      <td>1.103410</td>\n",
       "      <td>5219.488263</td>\n",
       "      <td>31205.926508</td>\n",
       "    </tr>\n",
       "    <tr>\n",
       "      <th>min</th>\n",
       "      <td>1.362480e+06</td>\n",
       "      <td>0.000000</td>\n",
       "      <td>13.000000</td>\n",
       "      <td>0.000000</td>\n",
       "      <td>0.000000</td>\n",
       "      <td>196.000000</td>\n",
       "      <td>2149.000000</td>\n",
       "    </tr>\n",
       "    <tr>\n",
       "      <th>25%</th>\n",
       "      <td>1.362732e+06</td>\n",
       "      <td>7118.500000</td>\n",
       "      <td>28.000000</td>\n",
       "      <td>2.000000</td>\n",
       "      <td>0.000000</td>\n",
       "      <td>4295.500000</td>\n",
       "      <td>33145.000000</td>\n",
       "    </tr>\n",
       "    <tr>\n",
       "      <th>50%</th>\n",
       "      <td>1.362993e+06</td>\n",
       "      <td>17242.000000</td>\n",
       "      <td>42.000000</td>\n",
       "      <td>4.000000</td>\n",
       "      <td>0.000000</td>\n",
       "      <td>8001.000000</td>\n",
       "      <td>64132.000000</td>\n",
       "    </tr>\n",
       "    <tr>\n",
       "      <th>75%</th>\n",
       "      <td>1.363244e+06</td>\n",
       "      <td>31338.000000</td>\n",
       "      <td>56.000000</td>\n",
       "      <td>6.000000</td>\n",
       "      <td>1.000000</td>\n",
       "      <td>12039.000000</td>\n",
       "      <td>90082.000000</td>\n",
       "    </tr>\n",
       "    <tr>\n",
       "      <th>max</th>\n",
       "      <td>1.363495e+06</td>\n",
       "      <td>144157.000000</td>\n",
       "      <td>89.000000</td>\n",
       "      <td>9.000000</td>\n",
       "      <td>5.000000</td>\n",
       "      <td>19940.000000</td>\n",
       "      <td>98186.000000</td>\n",
       "    </tr>\n",
       "  </tbody>\n",
       "</table>\n",
       "</div>"
      ],
      "text/plain": [
       "            cust_id         income         age  years_with_bank  nbr_children  \\\n",
       "count  7.470000e+02     747.000000  747.000000       747.000000    747.000000   \n",
       "mean   1.362991e+06   22728.281124   42.479250         3.907631      0.714859   \n",
       "std    2.925255e+02   22207.221405   19.114879         2.675634      1.103410   \n",
       "min    1.362480e+06       0.000000   13.000000         0.000000      0.000000   \n",
       "25%    1.362732e+06    7118.500000   28.000000         2.000000      0.000000   \n",
       "50%    1.362993e+06   17242.000000   42.000000         4.000000      0.000000   \n",
       "75%    1.363244e+06   31338.000000   56.000000         6.000000      1.000000   \n",
       "max    1.363495e+06  144157.000000   89.000000         9.000000      5.000000   \n",
       "\n",
       "         street_nbr   postal_code  \n",
       "count    747.000000    747.000000  \n",
       "mean    8523.109772  59502.690763  \n",
       "std     5219.488263  31205.926508  \n",
       "min      196.000000   2149.000000  \n",
       "25%     4295.500000  33145.000000  \n",
       "50%     8001.000000  64132.000000  \n",
       "75%    12039.000000  90082.000000  \n",
       "max    19940.000000  98186.000000  "
      ]
     },
     "execution_count": 4,
     "metadata": {},
     "output_type": "execute_result"
    }
   ],
   "source": [
    "customers_df.describe()"
   ]
  },
  {
   "cell_type": "code",
   "execution_count": 5,
   "id": "ae9a80cb",
   "metadata": {},
   "outputs": [
    {
     "data": {
      "text/html": [
       "<div>\n",
       "<style scoped>\n",
       "    .dataframe tbody tr th:only-of-type {\n",
       "        vertical-align: middle;\n",
       "    }\n",
       "\n",
       "    .dataframe tbody tr th {\n",
       "        vertical-align: top;\n",
       "    }\n",
       "\n",
       "    .dataframe thead th {\n",
       "        text-align: right;\n",
       "    }\n",
       "</style>\n",
       "<table border=\"1\" class=\"dataframe\">\n",
       "  <thead>\n",
       "    <tr style=\"text-align: right;\">\n",
       "      <th></th>\n",
       "      <th>cust_id</th>\n",
       "      <th>income</th>\n",
       "      <th>age</th>\n",
       "      <th>years_with_bank</th>\n",
       "      <th>nbr_children</th>\n",
       "      <th>street_nbr</th>\n",
       "      <th>postal_code</th>\n",
       "    </tr>\n",
       "  </thead>\n",
       "  <tbody>\n",
       "    <tr>\n",
       "      <th>cust_id</th>\n",
       "      <td>1.000000</td>\n",
       "      <td>-0.015280</td>\n",
       "      <td>-0.047987</td>\n",
       "      <td>-0.004047</td>\n",
       "      <td>-0.008359</td>\n",
       "      <td>-0.144411</td>\n",
       "      <td>-0.000395</td>\n",
       "    </tr>\n",
       "    <tr>\n",
       "      <th>income</th>\n",
       "      <td>-0.015280</td>\n",
       "      <td>1.000000</td>\n",
       "      <td>0.244919</td>\n",
       "      <td>0.040604</td>\n",
       "      <td>0.283352</td>\n",
       "      <td>0.025865</td>\n",
       "      <td>-0.031459</td>\n",
       "    </tr>\n",
       "    <tr>\n",
       "      <th>age</th>\n",
       "      <td>-0.047987</td>\n",
       "      <td>0.244919</td>\n",
       "      <td>1.000000</td>\n",
       "      <td>0.181478</td>\n",
       "      <td>-0.057195</td>\n",
       "      <td>-0.024608</td>\n",
       "      <td>-0.075745</td>\n",
       "    </tr>\n",
       "    <tr>\n",
       "      <th>years_with_bank</th>\n",
       "      <td>-0.004047</td>\n",
       "      <td>0.040604</td>\n",
       "      <td>0.181478</td>\n",
       "      <td>1.000000</td>\n",
       "      <td>-0.034814</td>\n",
       "      <td>0.019084</td>\n",
       "      <td>0.035959</td>\n",
       "    </tr>\n",
       "    <tr>\n",
       "      <th>nbr_children</th>\n",
       "      <td>-0.008359</td>\n",
       "      <td>0.283352</td>\n",
       "      <td>-0.057195</td>\n",
       "      <td>-0.034814</td>\n",
       "      <td>1.000000</td>\n",
       "      <td>0.025480</td>\n",
       "      <td>0.081031</td>\n",
       "    </tr>\n",
       "    <tr>\n",
       "      <th>street_nbr</th>\n",
       "      <td>-0.144411</td>\n",
       "      <td>0.025865</td>\n",
       "      <td>-0.024608</td>\n",
       "      <td>0.019084</td>\n",
       "      <td>0.025480</td>\n",
       "      <td>1.000000</td>\n",
       "      <td>-0.046444</td>\n",
       "    </tr>\n",
       "    <tr>\n",
       "      <th>postal_code</th>\n",
       "      <td>-0.000395</td>\n",
       "      <td>-0.031459</td>\n",
       "      <td>-0.075745</td>\n",
       "      <td>0.035959</td>\n",
       "      <td>0.081031</td>\n",
       "      <td>-0.046444</td>\n",
       "      <td>1.000000</td>\n",
       "    </tr>\n",
       "  </tbody>\n",
       "</table>\n",
       "</div>"
      ],
      "text/plain": [
       "                  cust_id    income       age  years_with_bank  nbr_children  \\\n",
       "cust_id          1.000000 -0.015280 -0.047987        -0.004047     -0.008359   \n",
       "income          -0.015280  1.000000  0.244919         0.040604      0.283352   \n",
       "age             -0.047987  0.244919  1.000000         0.181478     -0.057195   \n",
       "years_with_bank -0.004047  0.040604  0.181478         1.000000     -0.034814   \n",
       "nbr_children    -0.008359  0.283352 -0.057195        -0.034814      1.000000   \n",
       "street_nbr      -0.144411  0.025865 -0.024608         0.019084      0.025480   \n",
       "postal_code     -0.000395 -0.031459 -0.075745         0.035959      0.081031   \n",
       "\n",
       "                 street_nbr  postal_code  \n",
       "cust_id           -0.144411    -0.000395  \n",
       "income             0.025865    -0.031459  \n",
       "age               -0.024608    -0.075745  \n",
       "years_with_bank    0.019084     0.035959  \n",
       "nbr_children       0.025480     0.081031  \n",
       "street_nbr         1.000000    -0.046444  \n",
       "postal_code       -0.046444     1.000000  "
      ]
     },
     "execution_count": 5,
     "metadata": {},
     "output_type": "execute_result"
    }
   ],
   "source": [
    "customers_df.corr()"
   ]
  },
  {
   "cell_type": "code",
   "execution_count": 9,
   "id": "1644e4f7",
   "metadata": {},
   "outputs": [
    {
     "name": "stdout",
     "output_type": "stream",
     "text": [
      "<class 'pandas.core.frame.DataFrame'>\n",
      "RangeIndex: 747 entries, 0 to 746\n",
      "Data columns (total 15 columns):\n",
      " #   Column           Non-Null Count  Dtype   \n",
      "---  ------           --------------  -----   \n",
      " 0   cust_id          747 non-null    int64   \n",
      " 1   income           747 non-null    int64   \n",
      " 2   age              747 non-null    int64   \n",
      " 3   years_with_bank  747 non-null    int64   \n",
      " 4   nbr_children     747 non-null    int64   \n",
      " 5   gender           747 non-null    int64   \n",
      " 6   marital_status   747 non-null    category\n",
      " 7   name_prefix      747 non-null    object  \n",
      " 8   first_name       747 non-null    object  \n",
      " 9   last_name        747 non-null    object  \n",
      " 10  street_nbr       747 non-null    int64   \n",
      " 11  street_name      747 non-null    object  \n",
      " 12  postal_code      747 non-null    int64   \n",
      " 13  city_name        747 non-null    object  \n",
      " 14  state_code       747 non-null    object  \n",
      "dtypes: category(1), int64(8), object(6)\n",
      "memory usage: 82.8+ KB\n"
     ]
    }
   ],
   "source": [
    "customers_df.info()"
   ]
  },
  {
   "cell_type": "code",
   "execution_count": 7,
   "id": "2e819499",
   "metadata": {},
   "outputs": [],
   "source": [
    "# getting dummy values for marital status\n",
    "demographics_df = customers_df[['income', 'age', 'nbr_children', 'marital_status']]\n",
    "demographics_df = pd.get_dummies(demographics_df , prefix='marital_status', columns=['marital_status'])"
   ]
  },
  {
   "cell_type": "code",
   "execution_count": 8,
   "id": "1f3db573",
   "metadata": {},
   "outputs": [
    {
     "data": {
      "text/html": [
       "<div>\n",
       "<style scoped>\n",
       "    .dataframe tbody tr th:only-of-type {\n",
       "        vertical-align: middle;\n",
       "    }\n",
       "\n",
       "    .dataframe tbody tr th {\n",
       "        vertical-align: top;\n",
       "    }\n",
       "\n",
       "    .dataframe thead th {\n",
       "        text-align: right;\n",
       "    }\n",
       "</style>\n",
       "<table border=\"1\" class=\"dataframe\">\n",
       "  <thead>\n",
       "    <tr style=\"text-align: right;\">\n",
       "      <th></th>\n",
       "      <th>income</th>\n",
       "      <th>age</th>\n",
       "      <th>nbr_children</th>\n",
       "      <th>marital_status_1</th>\n",
       "      <th>marital_status_2</th>\n",
       "      <th>marital_status_3</th>\n",
       "      <th>marital_status_4</th>\n",
       "    </tr>\n",
       "  </thead>\n",
       "  <tbody>\n",
       "    <tr>\n",
       "      <th>0</th>\n",
       "      <td>26150</td>\n",
       "      <td>46</td>\n",
       "      <td>1</td>\n",
       "      <td>0</td>\n",
       "      <td>1</td>\n",
       "      <td>0</td>\n",
       "      <td>0</td>\n",
       "    </tr>\n",
       "    <tr>\n",
       "      <th>1</th>\n",
       "      <td>6605</td>\n",
       "      <td>71</td>\n",
       "      <td>0</td>\n",
       "      <td>0</td>\n",
       "      <td>1</td>\n",
       "      <td>0</td>\n",
       "      <td>0</td>\n",
       "    </tr>\n",
       "    <tr>\n",
       "      <th>2</th>\n",
       "      <td>18548</td>\n",
       "      <td>38</td>\n",
       "      <td>0</td>\n",
       "      <td>1</td>\n",
       "      <td>0</td>\n",
       "      <td>0</td>\n",
       "      <td>0</td>\n",
       "    </tr>\n",
       "    <tr>\n",
       "      <th>3</th>\n",
       "      <td>47668</td>\n",
       "      <td>54</td>\n",
       "      <td>0</td>\n",
       "      <td>1</td>\n",
       "      <td>0</td>\n",
       "      <td>0</td>\n",
       "      <td>0</td>\n",
       "    </tr>\n",
       "    <tr>\n",
       "      <th>4</th>\n",
       "      <td>44554</td>\n",
       "      <td>59</td>\n",
       "      <td>2</td>\n",
       "      <td>0</td>\n",
       "      <td>0</td>\n",
       "      <td>0</td>\n",
       "      <td>1</td>\n",
       "    </tr>\n",
       "  </tbody>\n",
       "</table>\n",
       "</div>"
      ],
      "text/plain": [
       "   income  age  nbr_children  marital_status_1  marital_status_2  \\\n",
       "0   26150   46             1                 0                 1   \n",
       "1    6605   71             0                 0                 1   \n",
       "2   18548   38             0                 1                 0   \n",
       "3   47668   54             0                 1                 0   \n",
       "4   44554   59             2                 0                 0   \n",
       "\n",
       "   marital_status_3  marital_status_4  \n",
       "0                 0                 0  \n",
       "1                 0                 0  \n",
       "2                 0                 0  \n",
       "3                 0                 0  \n",
       "4                 0                 1  "
      ]
     },
     "execution_count": 8,
     "metadata": {},
     "output_type": "execute_result"
    }
   ],
   "source": [
    "demographics_df.head()"
   ]
  },
  {
   "cell_type": "code",
   "execution_count": 9,
   "id": "24288eb9",
   "metadata": {
    "scrolled": true
   },
   "outputs": [
    {
     "data": {
      "text/html": [
       "<div>\n",
       "<style scoped>\n",
       "    .dataframe tbody tr th:only-of-type {\n",
       "        vertical-align: middle;\n",
       "    }\n",
       "\n",
       "    .dataframe tbody tr th {\n",
       "        vertical-align: top;\n",
       "    }\n",
       "\n",
       "    .dataframe thead th {\n",
       "        text-align: right;\n",
       "    }\n",
       "</style>\n",
       "<table border=\"1\" class=\"dataframe\">\n",
       "  <thead>\n",
       "    <tr style=\"text-align: right;\">\n",
       "      <th></th>\n",
       "      <th>income</th>\n",
       "      <th>age</th>\n",
       "      <th>nbr_children</th>\n",
       "      <th>marital_status_1</th>\n",
       "      <th>marital_status_2</th>\n",
       "      <th>marital_status_3</th>\n",
       "      <th>marital_status_4</th>\n",
       "    </tr>\n",
       "  </thead>\n",
       "  <tbody>\n",
       "    <tr>\n",
       "      <th>income</th>\n",
       "      <td>1.000000</td>\n",
       "      <td>0.244919</td>\n",
       "      <td>0.283352</td>\n",
       "      <td>-0.295303</td>\n",
       "      <td>0.164599</td>\n",
       "      <td>0.174053</td>\n",
       "      <td>0.060656</td>\n",
       "    </tr>\n",
       "    <tr>\n",
       "      <th>age</th>\n",
       "      <td>0.244919</td>\n",
       "      <td>1.000000</td>\n",
       "      <td>-0.057195</td>\n",
       "      <td>-0.502998</td>\n",
       "      <td>0.412111</td>\n",
       "      <td>0.054015</td>\n",
       "      <td>0.081631</td>\n",
       "    </tr>\n",
       "    <tr>\n",
       "      <th>nbr_children</th>\n",
       "      <td>0.283352</td>\n",
       "      <td>-0.057195</td>\n",
       "      <td>1.000000</td>\n",
       "      <td>-0.496271</td>\n",
       "      <td>0.256925</td>\n",
       "      <td>0.151931</td>\n",
       "      <td>0.253954</td>\n",
       "    </tr>\n",
       "    <tr>\n",
       "      <th>marital_status_1</th>\n",
       "      <td>-0.295303</td>\n",
       "      <td>-0.502998</td>\n",
       "      <td>-0.496271</td>\n",
       "      <td>1.000000</td>\n",
       "      <td>-0.724575</td>\n",
       "      <td>-0.200598</td>\n",
       "      <td>-0.246149</td>\n",
       "    </tr>\n",
       "    <tr>\n",
       "      <th>marital_status_2</th>\n",
       "      <td>0.164599</td>\n",
       "      <td>0.412111</td>\n",
       "      <td>0.256925</td>\n",
       "      <td>-0.724575</td>\n",
       "      <td>1.000000</td>\n",
       "      <td>-0.248040</td>\n",
       "      <td>-0.304364</td>\n",
       "    </tr>\n",
       "    <tr>\n",
       "      <th>marital_status_3</th>\n",
       "      <td>0.174053</td>\n",
       "      <td>0.054015</td>\n",
       "      <td>0.151931</td>\n",
       "      <td>-0.200598</td>\n",
       "      <td>-0.248040</td>\n",
       "      <td>1.000000</td>\n",
       "      <td>-0.084263</td>\n",
       "    </tr>\n",
       "    <tr>\n",
       "      <th>marital_status_4</th>\n",
       "      <td>0.060656</td>\n",
       "      <td>0.081631</td>\n",
       "      <td>0.253954</td>\n",
       "      <td>-0.246149</td>\n",
       "      <td>-0.304364</td>\n",
       "      <td>-0.084263</td>\n",
       "      <td>1.000000</td>\n",
       "    </tr>\n",
       "  </tbody>\n",
       "</table>\n",
       "</div>"
      ],
      "text/plain": [
       "                    income       age  nbr_children  marital_status_1  \\\n",
       "income            1.000000  0.244919      0.283352         -0.295303   \n",
       "age               0.244919  1.000000     -0.057195         -0.502998   \n",
       "nbr_children      0.283352 -0.057195      1.000000         -0.496271   \n",
       "marital_status_1 -0.295303 -0.502998     -0.496271          1.000000   \n",
       "marital_status_2  0.164599  0.412111      0.256925         -0.724575   \n",
       "marital_status_3  0.174053  0.054015      0.151931         -0.200598   \n",
       "marital_status_4  0.060656  0.081631      0.253954         -0.246149   \n",
       "\n",
       "                  marital_status_2  marital_status_3  marital_status_4  \n",
       "income                    0.164599          0.174053          0.060656  \n",
       "age                       0.412111          0.054015          0.081631  \n",
       "nbr_children              0.256925          0.151931          0.253954  \n",
       "marital_status_1         -0.724575         -0.200598         -0.246149  \n",
       "marital_status_2          1.000000         -0.248040         -0.304364  \n",
       "marital_status_3         -0.248040          1.000000         -0.084263  \n",
       "marital_status_4         -0.304364         -0.084263          1.000000  "
      ]
     },
     "execution_count": 9,
     "metadata": {},
     "output_type": "execute_result"
    }
   ],
   "source": [
    "demographics_df.corr()"
   ]
  },
  {
   "cell_type": "code",
   "execution_count": 38,
   "id": "5d31c7f1",
   "metadata": {},
   "outputs": [],
   "source": [
    "# exporting this as a csv \n",
    "demographics_df.to_csv('customers_data.csv',index=False)"
   ]
  },
  {
   "cell_type": "markdown",
   "id": "4ac47a0a",
   "metadata": {},
   "source": [
    "## Scaling"
   ]
  },
  {
   "cell_type": "code",
   "execution_count": 11,
   "id": "0026cbba",
   "metadata": {},
   "outputs": [],
   "source": [
    "s_scaler = StandardScaler()\n",
    "n_scaler = MinMaxScaler()"
   ]
  },
  {
   "cell_type": "code",
   "execution_count": 60,
   "id": "819a7c4a",
   "metadata": {},
   "outputs": [],
   "source": [
    "df_norm = pd.DataFrame(n_scaler.fit_transform(demographics_df), columns=demographics_df.columns)"
   ]
  },
  {
   "cell_type": "code",
   "execution_count": 62,
   "id": "babd85b3",
   "metadata": {},
   "outputs": [],
   "source": [
    "df_norm.drop('cluster', axis=1, inplace=True)"
   ]
  },
  {
   "cell_type": "code",
   "execution_count": 63,
   "id": "a076aa6c",
   "metadata": {},
   "outputs": [
    {
     "data": {
      "text/html": [
       "<div>\n",
       "<style scoped>\n",
       "    .dataframe tbody tr th:only-of-type {\n",
       "        vertical-align: middle;\n",
       "    }\n",
       "\n",
       "    .dataframe tbody tr th {\n",
       "        vertical-align: top;\n",
       "    }\n",
       "\n",
       "    .dataframe thead th {\n",
       "        text-align: right;\n",
       "    }\n",
       "</style>\n",
       "<table border=\"1\" class=\"dataframe\">\n",
       "  <thead>\n",
       "    <tr style=\"text-align: right;\">\n",
       "      <th></th>\n",
       "      <th>income</th>\n",
       "      <th>age</th>\n",
       "      <th>nbr_children</th>\n",
       "      <th>marital_status_1</th>\n",
       "      <th>marital_status_2</th>\n",
       "      <th>marital_status_3</th>\n",
       "      <th>marital_status_4</th>\n",
       "    </tr>\n",
       "  </thead>\n",
       "  <tbody>\n",
       "    <tr>\n",
       "      <th>0</th>\n",
       "      <td>0.181399</td>\n",
       "      <td>0.434211</td>\n",
       "      <td>0.2</td>\n",
       "      <td>0.0</td>\n",
       "      <td>1.0</td>\n",
       "      <td>0.0</td>\n",
       "      <td>0.0</td>\n",
       "    </tr>\n",
       "    <tr>\n",
       "      <th>1</th>\n",
       "      <td>0.045818</td>\n",
       "      <td>0.763158</td>\n",
       "      <td>0.0</td>\n",
       "      <td>0.0</td>\n",
       "      <td>1.0</td>\n",
       "      <td>0.0</td>\n",
       "      <td>0.0</td>\n",
       "    </tr>\n",
       "    <tr>\n",
       "      <th>2</th>\n",
       "      <td>0.128665</td>\n",
       "      <td>0.328947</td>\n",
       "      <td>0.0</td>\n",
       "      <td>1.0</td>\n",
       "      <td>0.0</td>\n",
       "      <td>0.0</td>\n",
       "      <td>0.0</td>\n",
       "    </tr>\n",
       "    <tr>\n",
       "      <th>3</th>\n",
       "      <td>0.330667</td>\n",
       "      <td>0.539474</td>\n",
       "      <td>0.0</td>\n",
       "      <td>1.0</td>\n",
       "      <td>0.0</td>\n",
       "      <td>0.0</td>\n",
       "      <td>0.0</td>\n",
       "    </tr>\n",
       "    <tr>\n",
       "      <th>4</th>\n",
       "      <td>0.309066</td>\n",
       "      <td>0.605263</td>\n",
       "      <td>0.4</td>\n",
       "      <td>0.0</td>\n",
       "      <td>0.0</td>\n",
       "      <td>0.0</td>\n",
       "      <td>1.0</td>\n",
       "    </tr>\n",
       "    <tr>\n",
       "      <th>...</th>\n",
       "      <td>...</td>\n",
       "      <td>...</td>\n",
       "      <td>...</td>\n",
       "      <td>...</td>\n",
       "      <td>...</td>\n",
       "      <td>...</td>\n",
       "      <td>...</td>\n",
       "    </tr>\n",
       "    <tr>\n",
       "      <th>742</th>\n",
       "      <td>0.102631</td>\n",
       "      <td>0.302632</td>\n",
       "      <td>0.2</td>\n",
       "      <td>0.0</td>\n",
       "      <td>0.0</td>\n",
       "      <td>0.0</td>\n",
       "      <td>1.0</td>\n",
       "    </tr>\n",
       "    <tr>\n",
       "      <th>743</th>\n",
       "      <td>0.183043</td>\n",
       "      <td>0.565789</td>\n",
       "      <td>0.2</td>\n",
       "      <td>0.0</td>\n",
       "      <td>1.0</td>\n",
       "      <td>0.0</td>\n",
       "      <td>0.0</td>\n",
       "    </tr>\n",
       "    <tr>\n",
       "      <th>744</th>\n",
       "      <td>0.425231</td>\n",
       "      <td>0.486842</td>\n",
       "      <td>0.4</td>\n",
       "      <td>0.0</td>\n",
       "      <td>1.0</td>\n",
       "      <td>0.0</td>\n",
       "      <td>0.0</td>\n",
       "    </tr>\n",
       "    <tr>\n",
       "      <th>745</th>\n",
       "      <td>0.104747</td>\n",
       "      <td>0.315789</td>\n",
       "      <td>0.0</td>\n",
       "      <td>0.0</td>\n",
       "      <td>1.0</td>\n",
       "      <td>0.0</td>\n",
       "      <td>0.0</td>\n",
       "    </tr>\n",
       "    <tr>\n",
       "      <th>746</th>\n",
       "      <td>0.123997</td>\n",
       "      <td>0.065789</td>\n",
       "      <td>0.0</td>\n",
       "      <td>1.0</td>\n",
       "      <td>0.0</td>\n",
       "      <td>0.0</td>\n",
       "      <td>0.0</td>\n",
       "    </tr>\n",
       "  </tbody>\n",
       "</table>\n",
       "<p>747 rows × 7 columns</p>\n",
       "</div>"
      ],
      "text/plain": [
       "       income       age  nbr_children  marital_status_1  marital_status_2  \\\n",
       "0    0.181399  0.434211           0.2               0.0               1.0   \n",
       "1    0.045818  0.763158           0.0               0.0               1.0   \n",
       "2    0.128665  0.328947           0.0               1.0               0.0   \n",
       "3    0.330667  0.539474           0.0               1.0               0.0   \n",
       "4    0.309066  0.605263           0.4               0.0               0.0   \n",
       "..        ...       ...           ...               ...               ...   \n",
       "742  0.102631  0.302632           0.2               0.0               0.0   \n",
       "743  0.183043  0.565789           0.2               0.0               1.0   \n",
       "744  0.425231  0.486842           0.4               0.0               1.0   \n",
       "745  0.104747  0.315789           0.0               0.0               1.0   \n",
       "746  0.123997  0.065789           0.0               1.0               0.0   \n",
       "\n",
       "     marital_status_3  marital_status_4  \n",
       "0                 0.0               0.0  \n",
       "1                 0.0               0.0  \n",
       "2                 0.0               0.0  \n",
       "3                 0.0               0.0  \n",
       "4                 0.0               1.0  \n",
       "..                ...               ...  \n",
       "742               0.0               1.0  \n",
       "743               0.0               0.0  \n",
       "744               0.0               0.0  \n",
       "745               0.0               0.0  \n",
       "746               0.0               0.0  \n",
       "\n",
       "[747 rows x 7 columns]"
      ]
     },
     "execution_count": 63,
     "metadata": {},
     "output_type": "execute_result"
    }
   ],
   "source": [
    "df_norm"
   ]
  },
  {
   "cell_type": "code",
   "execution_count": 13,
   "id": "828d3cad",
   "metadata": {},
   "outputs": [],
   "source": [
    "df_scaled = pd.DataFrame(s_scaler.fit_transform(demographics_df), columns=demographics_df.columns)"
   ]
  },
  {
   "cell_type": "code",
   "execution_count": 14,
   "id": "f5ddb7f1",
   "metadata": {},
   "outputs": [
    {
     "data": {
      "text/plain": [
       "(747, 7)"
      ]
     },
     "execution_count": 14,
     "metadata": {},
     "output_type": "execute_result"
    }
   ],
   "source": [
    "df_scaled.shape"
   ]
  },
  {
   "cell_type": "markdown",
   "id": "6c7541a8",
   "metadata": {},
   "source": [
    "## Elbow Rule"
   ]
  },
  {
   "cell_type": "code",
   "execution_count": 64,
   "id": "4a29dc3c",
   "metadata": {},
   "outputs": [
    {
     "name": "stderr",
     "output_type": "stream",
     "text": [
      "C:\\Users\\phini\\anaconda3\\lib\\site-packages\\sklearn\\cluster\\_kmeans.py:1036: UserWarning:\n",
      "\n",
      "KMeans is known to have a memory leak on Windows with MKL, when there are less chunks than available threads. You can avoid it by setting the environment variable OMP_NUM_THREADS=3.\n",
      "\n"
     ]
    },
    {
     "data": {
      "image/png": "[encoded data removed]",
      "text/plain": [
       "<Figure size 1200x800 with 1 Axes>"
      ]
     },
     "metadata": {},
     "output_type": "display_data"
    }
   ],
   "source": [
    "# calculating distortion for kmeans\n",
    "distortions = []\n",
    "for i in range (1,11):\n",
    "    km = KMeans(n_clusters = i,\n",
    "               n_init=10)\n",
    "    km.fit(df_norm)\n",
    "    distortions.append(km.inertia_)\n",
    "plt.rcParams[\"figure.figsize\"] = (12,8)    \n",
    "plt.plot(range(1,11), distortions, marker='o')\n",
    "plt.xlabel('Number of Clusters')\n",
    "plt.ylabel('Distortion')\n",
    "plt.show()"
   ]
  },
  {
   "cell_type": "code",
   "execution_count": 23,
   "id": "1a21989e",
   "metadata": {},
   "outputs": [],
   "source": [
    "# 3 clusters?"
   ]
  },
  {
   "cell_type": "markdown",
   "id": "449fc0f9",
   "metadata": {},
   "source": [
    "## PCA & Clustering"
   ]
  },
  {
   "cell_type": "code",
   "execution_count": 65,
   "id": "4d4d2237",
   "metadata": {},
   "outputs": [
    {
     "data": {
      "image/png": "[encoded data removed]",
      "text/plain": [
       "<Figure size 1200x800 with 1 Axes>"
      ]
     },
     "metadata": {},
     "output_type": "display_data"
    }
   ],
   "source": [
    "#scree plot\n",
    "pca = PCA()\n",
    "#\n",
    "# Determine transformed features\n",
    "#\n",
    "data_pca = pca.fit_transform(df_norm)\n",
    "#\n",
    "# Determine explained variance using explained_variance_ration_ attribute\n",
    "#\n",
    "exp_var_pca = pca.explained_variance_ratio_\n",
    "#\n",
    "# Cumulative sum of eigenvalues; This will be used to create step plot\n",
    "# for visualizing the variance explained by each principal component.\n",
    "#\n",
    "cum_sum_eigenvalues = np.cumsum(exp_var_pca)\n",
    "#\n",
    "# Create the visualization plot\n",
    "#\n",
    "plt.bar(range(0,len(exp_var_pca)), exp_var_pca, alpha=0.5, align='center', label='Individual explained variance')\n",
    "plt.step(range(0,len(cum_sum_eigenvalues)), cum_sum_eigenvalues, where='mid',label='Cumulative explained variance')\n",
    "plt.ylabel('Explained variance ratio')\n",
    "plt.xlabel('Principal component index')\n",
    "plt.legend(loc='best')\n",
    "plt.tight_layout()\n",
    "plt.show()"
   ]
  },
  {
   "cell_type": "code",
   "execution_count": 17,
   "id": "9b8f5883",
   "metadata": {},
   "outputs": [],
   "source": [
    "def apply_pca(df, components):\n",
    "    columns = []\n",
    "    for i in range(components):\n",
    "        columns.append(f'column {i + 1}')\n",
    "    pca = PCA(n_components=components)\n",
    "    result = pca.fit_transform(df)\n",
    "    pca_df = pd.DataFrame(data = result, columns=columns)\n",
    "    return pca_df"
   ]
  },
  {
   "cell_type": "code",
   "execution_count": 66,
   "id": "dcd2c020",
   "metadata": {},
   "outputs": [],
   "source": [
    "pca_scaled = apply_pca(df_norm, 5)"
   ]
  },
  {
   "cell_type": "code",
   "execution_count": 67,
   "id": "6eecabea",
   "metadata": {},
   "outputs": [
    {
     "data": {
      "text/html": [
       "<div>\n",
       "<style scoped>\n",
       "    .dataframe tbody tr th:only-of-type {\n",
       "        vertical-align: middle;\n",
       "    }\n",
       "\n",
       "    .dataframe tbody tr th {\n",
       "        vertical-align: top;\n",
       "    }\n",
       "\n",
       "    .dataframe thead th {\n",
       "        text-align: right;\n",
       "    }\n",
       "</style>\n",
       "<table border=\"1\" class=\"dataframe\">\n",
       "  <thead>\n",
       "    <tr style=\"text-align: right;\">\n",
       "      <th></th>\n",
       "      <th>column 1</th>\n",
       "      <th>column 2</th>\n",
       "      <th>column 3</th>\n",
       "      <th>column 4</th>\n",
       "      <th>column 5</th>\n",
       "    </tr>\n",
       "  </thead>\n",
       "  <tbody>\n",
       "    <tr>\n",
       "      <th>0</th>\n",
       "      <td>-0.634831</td>\n",
       "      <td>-0.157556</td>\n",
       "      <td>-0.023256</td>\n",
       "      <td>-0.060934</td>\n",
       "      <td>-0.029020</td>\n",
       "    </tr>\n",
       "    <tr>\n",
       "      <th>1</th>\n",
       "      <td>-0.665072</td>\n",
       "      <td>-0.190669</td>\n",
       "      <td>-0.034232</td>\n",
       "      <td>0.318263</td>\n",
       "      <td>-0.104147</td>\n",
       "    </tr>\n",
       "    <tr>\n",
       "      <th>2</th>\n",
       "      <td>0.785222</td>\n",
       "      <td>-0.162886</td>\n",
       "      <td>-0.017249</td>\n",
       "      <td>0.090198</td>\n",
       "      <td>0.079743</td>\n",
       "    </tr>\n",
       "    <tr>\n",
       "      <th>3</th>\n",
       "      <td>0.729543</td>\n",
       "      <td>-0.130807</td>\n",
       "      <td>0.008872</td>\n",
       "      <td>0.263123</td>\n",
       "      <td>0.294862</td>\n",
       "    </tr>\n",
       "    <tr>\n",
       "      <th>4</th>\n",
       "      <td>-0.003515</td>\n",
       "      <td>1.052794</td>\n",
       "      <td>-0.419164</td>\n",
       "      <td>0.110128</td>\n",
       "      <td>0.159195</td>\n",
       "    </tr>\n",
       "    <tr>\n",
       "      <th>...</th>\n",
       "      <td>...</td>\n",
       "      <td>...</td>\n",
       "      <td>...</td>\n",
       "      <td>...</td>\n",
       "      <td>...</td>\n",
       "    </tr>\n",
       "    <tr>\n",
       "      <th>742</th>\n",
       "      <td>0.099083</td>\n",
       "      <td>0.966946</td>\n",
       "      <td>-0.453935</td>\n",
       "      <td>-0.021044</td>\n",
       "      <td>-0.204379</td>\n",
       "    </tr>\n",
       "    <tr>\n",
       "      <th>743</th>\n",
       "      <td>-0.661667</td>\n",
       "      <td>-0.147636</td>\n",
       "      <td>-0.019637</td>\n",
       "      <td>0.045187</td>\n",
       "      <td>0.022325</td>\n",
       "    </tr>\n",
       "    <tr>\n",
       "      <th>744</th>\n",
       "      <td>-0.689028</td>\n",
       "      <td>-0.087262</td>\n",
       "      <td>0.008769</td>\n",
       "      <td>-0.130755</td>\n",
       "      <td>0.264023</td>\n",
       "    </tr>\n",
       "    <tr>\n",
       "      <th>745</th>\n",
       "      <td>-0.577951</td>\n",
       "      <td>-0.219152</td>\n",
       "      <td>-0.039961</td>\n",
       "      <td>-0.041534</td>\n",
       "      <td>-0.235690</td>\n",
       "    </tr>\n",
       "    <tr>\n",
       "      <th>746</th>\n",
       "      <td>0.838984</td>\n",
       "      <td>-0.182838</td>\n",
       "      <td>-0.024629</td>\n",
       "      <td>-0.122065</td>\n",
       "      <td>-0.023867</td>\n",
       "    </tr>\n",
       "  </tbody>\n",
       "</table>\n",
       "<p>747 rows × 5 columns</p>\n",
       "</div>"
      ],
      "text/plain": [
       "     column 1  column 2  column 3  column 4  column 5\n",
       "0   -0.634831 -0.157556 -0.023256 -0.060934 -0.029020\n",
       "1   -0.665072 -0.190669 -0.034232  0.318263 -0.104147\n",
       "2    0.785222 -0.162886 -0.017249  0.090198  0.079743\n",
       "3    0.729543 -0.130807  0.008872  0.263123  0.294862\n",
       "4   -0.003515  1.052794 -0.419164  0.110128  0.159195\n",
       "..        ...       ...       ...       ...       ...\n",
       "742  0.099083  0.966946 -0.453935 -0.021044 -0.204379\n",
       "743 -0.661667 -0.147636 -0.019637  0.045187  0.022325\n",
       "744 -0.689028 -0.087262  0.008769 -0.130755  0.264023\n",
       "745 -0.577951 -0.219152 -0.039961 -0.041534 -0.235690\n",
       "746  0.838984 -0.182838 -0.024629 -0.122065 -0.023867\n",
       "\n",
       "[747 rows x 5 columns]"
      ]
     },
     "execution_count": 67,
     "metadata": {},
     "output_type": "execute_result"
    }
   ],
   "source": [
    "pca_scaled"
   ]
  },
  {
   "cell_type": "code",
   "execution_count": 68,
   "id": "f027269c",
   "metadata": {},
   "outputs": [],
   "source": [
    "km = KMeans(n_clusters=4, init='k-means++')\n",
    "\n",
    "y_km = km.fit_predict(pca_scaled)"
   ]
  },
  {
   "cell_type": "code",
   "execution_count": 24,
   "id": "e0b3f02f",
   "metadata": {},
   "outputs": [],
   "source": [
    "#create plotting function (take it from compass)\n",
    "def plot_clusters(X,y_res, plt_cluster_centers = False):\n",
    "    X_centroids = []\n",
    "    Y_centroids = []\n",
    "\n",
    "    for cluster in set(y_res):\n",
    "        x = X[y_res == cluster,0]\n",
    "        y = X[y_res == cluster,1]\n",
    "        X_centroids.append(np.mean(x))\n",
    "        Y_centroids.append(np.mean(y))\n",
    "\n",
    "        plt.scatter(x,\n",
    "                    y,\n",
    "                    s=50,\n",
    "                    marker='s',\n",
    "                    label=f'cluster {cluster}')\n",
    "\n",
    "    if plt_cluster_centers:\n",
    "        plt.scatter(X_centroids,\n",
    "                    Y_centroids,\n",
    "                    marker='*',\n",
    "                    c='red',\n",
    "                    s=250,\n",
    "                    label='centroids')\n",
    "    plt.legend()\n",
    "    plt.grid()\n",
    "    plt.show()"
   ]
  },
  {
   "cell_type": "code",
   "execution_count": 69,
   "id": "39909bac",
   "metadata": {},
   "outputs": [
    {
     "data": {
      "image/png": "[encoded data removed]",
      "text/plain": [
       "<Figure size 1200x800 with 1 Axes>"
      ]
     },
     "metadata": {},
     "output_type": "display_data"
    }
   ],
   "source": [
    "plot_clusters(np.array(pca_scaled), y_km)"
   ]
  },
  {
   "cell_type": "code",
   "execution_count": 70,
   "id": "38bf1dfd",
   "metadata": {},
   "outputs": [],
   "source": [
    "demographics_df['cluster'] = y_km"
   ]
  },
  {
   "cell_type": "code",
   "execution_count": 71,
   "id": "b1f787f9",
   "metadata": {},
   "outputs": [],
   "source": [
    "df_c0 = demographics_df[demographics_df['cluster']==0].drop('cluster', axis=1)\n",
    "df_c1 = demographics_df[demographics_df['cluster']==1].drop('cluster', axis=1)\n",
    "df_c2 = demographics_df[demographics_df['cluster']==2].drop('cluster', axis=1)\n",
    "df_c3 = demographics_df[demographics_df['cluster']==3].drop('cluster', axis=1)"
   ]
  },
  {
   "cell_type": "code",
   "execution_count": 72,
   "id": "8580d768",
   "metadata": {},
   "outputs": [
    {
     "data": {
      "text/html": [
       "<div>\n",
       "<style scoped>\n",
       "    .dataframe tbody tr th:only-of-type {\n",
       "        vertical-align: middle;\n",
       "    }\n",
       "\n",
       "    .dataframe tbody tr th {\n",
       "        vertical-align: top;\n",
       "    }\n",
       "\n",
       "    .dataframe thead th {\n",
       "        text-align: right;\n",
       "    }\n",
       "</style>\n",
       "<table border=\"1\" class=\"dataframe\">\n",
       "  <thead>\n",
       "    <tr style=\"text-align: right;\">\n",
       "      <th></th>\n",
       "      <th>income</th>\n",
       "      <th>age</th>\n",
       "      <th>nbr_children</th>\n",
       "      <th>marital_status_1</th>\n",
       "      <th>marital_status_2</th>\n",
       "      <th>marital_status_3</th>\n",
       "      <th>marital_status_4</th>\n",
       "    </tr>\n",
       "  </thead>\n",
       "  <tbody>\n",
       "    <tr>\n",
       "      <th>count</th>\n",
       "      <td>276.000000</td>\n",
       "      <td>276.000000</td>\n",
       "      <td>276.0</td>\n",
       "      <td>276.0</td>\n",
       "      <td>276.0</td>\n",
       "      <td>276.0</td>\n",
       "      <td>276.0</td>\n",
       "    </tr>\n",
       "    <tr>\n",
       "      <th>mean</th>\n",
       "      <td>14167.228261</td>\n",
       "      <td>29.927536</td>\n",
       "      <td>0.0</td>\n",
       "      <td>1.0</td>\n",
       "      <td>0.0</td>\n",
       "      <td>0.0</td>\n",
       "      <td>0.0</td>\n",
       "    </tr>\n",
       "    <tr>\n",
       "      <th>std</th>\n",
       "      <td>18417.884618</td>\n",
       "      <td>17.284838</td>\n",
       "      <td>0.0</td>\n",
       "      <td>0.0</td>\n",
       "      <td>0.0</td>\n",
       "      <td>0.0</td>\n",
       "      <td>0.0</td>\n",
       "    </tr>\n",
       "    <tr>\n",
       "      <th>min</th>\n",
       "      <td>0.000000</td>\n",
       "      <td>13.000000</td>\n",
       "      <td>0.0</td>\n",
       "      <td>1.0</td>\n",
       "      <td>0.0</td>\n",
       "      <td>0.0</td>\n",
       "      <td>0.0</td>\n",
       "    </tr>\n",
       "    <tr>\n",
       "      <th>25%</th>\n",
       "      <td>0.000000</td>\n",
       "      <td>16.000000</td>\n",
       "      <td>0.0</td>\n",
       "      <td>1.0</td>\n",
       "      <td>0.0</td>\n",
       "      <td>0.0</td>\n",
       "      <td>0.0</td>\n",
       "    </tr>\n",
       "    <tr>\n",
       "      <th>50%</th>\n",
       "      <td>7622.000000</td>\n",
       "      <td>19.000000</td>\n",
       "      <td>0.0</td>\n",
       "      <td>1.0</td>\n",
       "      <td>0.0</td>\n",
       "      <td>0.0</td>\n",
       "      <td>0.0</td>\n",
       "    </tr>\n",
       "    <tr>\n",
       "      <th>75%</th>\n",
       "      <td>21743.000000</td>\n",
       "      <td>42.250000</td>\n",
       "      <td>0.0</td>\n",
       "      <td>1.0</td>\n",
       "      <td>0.0</td>\n",
       "      <td>0.0</td>\n",
       "      <td>0.0</td>\n",
       "    </tr>\n",
       "    <tr>\n",
       "      <th>max</th>\n",
       "      <td>111004.000000</td>\n",
       "      <td>84.000000</td>\n",
       "      <td>0.0</td>\n",
       "      <td>1.0</td>\n",
       "      <td>0.0</td>\n",
       "      <td>0.0</td>\n",
       "      <td>0.0</td>\n",
       "    </tr>\n",
       "  </tbody>\n",
       "</table>\n",
       "</div>"
      ],
      "text/plain": [
       "              income         age  nbr_children  marital_status_1  \\\n",
       "count     276.000000  276.000000         276.0             276.0   \n",
       "mean    14167.228261   29.927536           0.0               1.0   \n",
       "std     18417.884618   17.284838           0.0               0.0   \n",
       "min         0.000000   13.000000           0.0               1.0   \n",
       "25%         0.000000   16.000000           0.0               1.0   \n",
       "50%      7622.000000   19.000000           0.0               1.0   \n",
       "75%     21743.000000   42.250000           0.0               1.0   \n",
       "max    111004.000000   84.000000           0.0               1.0   \n",
       "\n",
       "       marital_status_2  marital_status_3  marital_status_4  \n",
       "count             276.0             276.0             276.0  \n",
       "mean                0.0               0.0               0.0  \n",
       "std                 0.0               0.0               0.0  \n",
       "min                 0.0               0.0               0.0  \n",
       "25%                 0.0               0.0               0.0  \n",
       "50%                 0.0               0.0               0.0  \n",
       "75%                 0.0               0.0               0.0  \n",
       "max                 0.0               0.0               0.0  "
      ]
     },
     "execution_count": 72,
     "metadata": {},
     "output_type": "execute_result"
    }
   ],
   "source": [
    "df_c0.describe()"
   ]
  },
  {
   "cell_type": "code",
   "execution_count": 73,
   "id": "8e87216e",
   "metadata": {},
   "outputs": [
    {
     "data": {
      "text/html": [
       "<div>\n",
       "<style scoped>\n",
       "    .dataframe tbody tr th:only-of-type {\n",
       "        vertical-align: middle;\n",
       "    }\n",
       "\n",
       "    .dataframe tbody tr th {\n",
       "        vertical-align: top;\n",
       "    }\n",
       "\n",
       "    .dataframe thead th {\n",
       "        text-align: right;\n",
       "    }\n",
       "</style>\n",
       "<table border=\"1\" class=\"dataframe\">\n",
       "  <thead>\n",
       "    <tr style=\"text-align: right;\">\n",
       "      <th></th>\n",
       "      <th>income</th>\n",
       "      <th>age</th>\n",
       "      <th>nbr_children</th>\n",
       "      <th>marital_status_1</th>\n",
       "      <th>marital_status_2</th>\n",
       "      <th>marital_status_3</th>\n",
       "      <th>marital_status_4</th>\n",
       "    </tr>\n",
       "  </thead>\n",
       "  <tbody>\n",
       "    <tr>\n",
       "      <th>count</th>\n",
       "      <td>353.000000</td>\n",
       "      <td>353.000000</td>\n",
       "      <td>353.000000</td>\n",
       "      <td>353.0</td>\n",
       "      <td>353.0</td>\n",
       "      <td>353.0</td>\n",
       "      <td>353.0</td>\n",
       "    </tr>\n",
       "    <tr>\n",
       "      <th>mean</th>\n",
       "      <td>26587.439093</td>\n",
       "      <td>50.796034</td>\n",
       "      <td>1.014164</td>\n",
       "      <td>0.0</td>\n",
       "      <td>1.0</td>\n",
       "      <td>0.0</td>\n",
       "      <td>0.0</td>\n",
       "    </tr>\n",
       "    <tr>\n",
       "      <th>std</th>\n",
       "      <td>21137.340173</td>\n",
       "      <td>16.091475</td>\n",
       "      <td>1.136843</td>\n",
       "      <td>0.0</td>\n",
       "      <td>0.0</td>\n",
       "      <td>0.0</td>\n",
       "      <td>0.0</td>\n",
       "    </tr>\n",
       "    <tr>\n",
       "      <th>min</th>\n",
       "      <td>1039.000000</td>\n",
       "      <td>21.000000</td>\n",
       "      <td>0.000000</td>\n",
       "      <td>0.0</td>\n",
       "      <td>1.0</td>\n",
       "      <td>0.0</td>\n",
       "      <td>0.0</td>\n",
       "    </tr>\n",
       "    <tr>\n",
       "      <th>25%</th>\n",
       "      <td>11375.000000</td>\n",
       "      <td>37.000000</td>\n",
       "      <td>0.000000</td>\n",
       "      <td>0.0</td>\n",
       "      <td>1.0</td>\n",
       "      <td>0.0</td>\n",
       "      <td>0.0</td>\n",
       "    </tr>\n",
       "    <tr>\n",
       "      <th>50%</th>\n",
       "      <td>21384.000000</td>\n",
       "      <td>52.000000</td>\n",
       "      <td>1.000000</td>\n",
       "      <td>0.0</td>\n",
       "      <td>1.0</td>\n",
       "      <td>0.0</td>\n",
       "      <td>0.0</td>\n",
       "    </tr>\n",
       "    <tr>\n",
       "      <th>75%</th>\n",
       "      <td>36259.000000</td>\n",
       "      <td>61.000000</td>\n",
       "      <td>2.000000</td>\n",
       "      <td>0.0</td>\n",
       "      <td>1.0</td>\n",
       "      <td>0.0</td>\n",
       "      <td>0.0</td>\n",
       "    </tr>\n",
       "    <tr>\n",
       "      <th>max</th>\n",
       "      <td>144157.000000</td>\n",
       "      <td>89.000000</td>\n",
       "      <td>5.000000</td>\n",
       "      <td>0.0</td>\n",
       "      <td>1.0</td>\n",
       "      <td>0.0</td>\n",
       "      <td>0.0</td>\n",
       "    </tr>\n",
       "  </tbody>\n",
       "</table>\n",
       "</div>"
      ],
      "text/plain": [
       "              income         age  nbr_children  marital_status_1  \\\n",
       "count     353.000000  353.000000    353.000000             353.0   \n",
       "mean    26587.439093   50.796034      1.014164               0.0   \n",
       "std     21137.340173   16.091475      1.136843               0.0   \n",
       "min      1039.000000   21.000000      0.000000               0.0   \n",
       "25%     11375.000000   37.000000      0.000000               0.0   \n",
       "50%     21384.000000   52.000000      1.000000               0.0   \n",
       "75%     36259.000000   61.000000      2.000000               0.0   \n",
       "max    144157.000000   89.000000      5.000000               0.0   \n",
       "\n",
       "       marital_status_2  marital_status_3  marital_status_4  \n",
       "count             353.0             353.0             353.0  \n",
       "mean                1.0               0.0               0.0  \n",
       "std                 0.0               0.0               0.0  \n",
       "min                 1.0               0.0               0.0  \n",
       "25%                 1.0               0.0               0.0  \n",
       "50%                 1.0               0.0               0.0  \n",
       "75%                 1.0               0.0               0.0  \n",
       "max                 1.0               0.0               0.0  "
      ]
     },
     "execution_count": 73,
     "metadata": {},
     "output_type": "execute_result"
    }
   ],
   "source": [
    "df_c1.describe()"
   ]
  },
  {
   "cell_type": "code",
   "execution_count": 74,
   "id": "1de63c6c",
   "metadata": {},
   "outputs": [
    {
     "data": {
      "text/html": [
       "<div>\n",
       "<style scoped>\n",
       "    .dataframe tbody tr th:only-of-type {\n",
       "        vertical-align: middle;\n",
       "    }\n",
       "\n",
       "    .dataframe tbody tr th {\n",
       "        vertical-align: top;\n",
       "    }\n",
       "\n",
       "    .dataframe thead th {\n",
       "        text-align: right;\n",
       "    }\n",
       "</style>\n",
       "<table border=\"1\" class=\"dataframe\">\n",
       "  <thead>\n",
       "    <tr style=\"text-align: right;\">\n",
       "      <th></th>\n",
       "      <th>income</th>\n",
       "      <th>age</th>\n",
       "      <th>nbr_children</th>\n",
       "      <th>marital_status_1</th>\n",
       "      <th>marital_status_2</th>\n",
       "      <th>marital_status_3</th>\n",
       "      <th>marital_status_4</th>\n",
       "    </tr>\n",
       "  </thead>\n",
       "  <tbody>\n",
       "    <tr>\n",
       "      <th>count</th>\n",
       "      <td>70.000000</td>\n",
       "      <td>70.000000</td>\n",
       "      <td>70.000000</td>\n",
       "      <td>70.0</td>\n",
       "      <td>70.0</td>\n",
       "      <td>70.0</td>\n",
       "      <td>70.0</td>\n",
       "    </tr>\n",
       "    <tr>\n",
       "      <th>mean</th>\n",
       "      <td>26914.528571</td>\n",
       "      <td>47.328571</td>\n",
       "      <td>1.585714</td>\n",
       "      <td>0.0</td>\n",
       "      <td>0.0</td>\n",
       "      <td>0.0</td>\n",
       "      <td>1.0</td>\n",
       "    </tr>\n",
       "    <tr>\n",
       "      <th>std</th>\n",
       "      <td>21243.254798</td>\n",
       "      <td>16.346538</td>\n",
       "      <td>1.388283</td>\n",
       "      <td>0.0</td>\n",
       "      <td>0.0</td>\n",
       "      <td>0.0</td>\n",
       "      <td>0.0</td>\n",
       "    </tr>\n",
       "    <tr>\n",
       "      <th>min</th>\n",
       "      <td>2772.000000</td>\n",
       "      <td>22.000000</td>\n",
       "      <td>0.000000</td>\n",
       "      <td>0.0</td>\n",
       "      <td>0.0</td>\n",
       "      <td>0.0</td>\n",
       "      <td>1.0</td>\n",
       "    </tr>\n",
       "    <tr>\n",
       "      <th>25%</th>\n",
       "      <td>11999.000000</td>\n",
       "      <td>35.000000</td>\n",
       "      <td>0.250000</td>\n",
       "      <td>0.0</td>\n",
       "      <td>0.0</td>\n",
       "      <td>0.0</td>\n",
       "      <td>1.0</td>\n",
       "    </tr>\n",
       "    <tr>\n",
       "      <th>50%</th>\n",
       "      <td>19587.000000</td>\n",
       "      <td>42.500000</td>\n",
       "      <td>1.000000</td>\n",
       "      <td>0.0</td>\n",
       "      <td>0.0</td>\n",
       "      <td>0.0</td>\n",
       "      <td>1.0</td>\n",
       "    </tr>\n",
       "    <tr>\n",
       "      <th>75%</th>\n",
       "      <td>36611.750000</td>\n",
       "      <td>58.000000</td>\n",
       "      <td>2.000000</td>\n",
       "      <td>0.0</td>\n",
       "      <td>0.0</td>\n",
       "      <td>0.0</td>\n",
       "      <td>1.0</td>\n",
       "    </tr>\n",
       "    <tr>\n",
       "      <th>max</th>\n",
       "      <td>90248.000000</td>\n",
       "      <td>88.000000</td>\n",
       "      <td>5.000000</td>\n",
       "      <td>0.0</td>\n",
       "      <td>0.0</td>\n",
       "      <td>0.0</td>\n",
       "      <td>1.0</td>\n",
       "    </tr>\n",
       "  </tbody>\n",
       "</table>\n",
       "</div>"
      ],
      "text/plain": [
       "             income        age  nbr_children  marital_status_1  \\\n",
       "count     70.000000  70.000000     70.000000              70.0   \n",
       "mean   26914.528571  47.328571      1.585714               0.0   \n",
       "std    21243.254798  16.346538      1.388283               0.0   \n",
       "min     2772.000000  22.000000      0.000000               0.0   \n",
       "25%    11999.000000  35.000000      0.250000               0.0   \n",
       "50%    19587.000000  42.500000      1.000000               0.0   \n",
       "75%    36611.750000  58.000000      2.000000               0.0   \n",
       "max    90248.000000  88.000000      5.000000               0.0   \n",
       "\n",
       "       marital_status_2  marital_status_3  marital_status_4  \n",
       "count              70.0              70.0              70.0  \n",
       "mean                0.0               0.0               1.0  \n",
       "std                 0.0               0.0               0.0  \n",
       "min                 0.0               0.0               1.0  \n",
       "25%                 0.0               0.0               1.0  \n",
       "50%                 0.0               0.0               1.0  \n",
       "75%                 0.0               0.0               1.0  \n",
       "max                 0.0               0.0               1.0  "
      ]
     },
     "execution_count": 74,
     "metadata": {},
     "output_type": "execute_result"
    }
   ],
   "source": [
    "df_c2.describe()"
   ]
  },
  {
   "cell_type": "code",
   "execution_count": 75,
   "id": "0d4492b8",
   "metadata": {},
   "outputs": [
    {
     "data": {
      "text/html": [
       "<div>\n",
       "<style scoped>\n",
       "    .dataframe tbody tr th:only-of-type {\n",
       "        vertical-align: middle;\n",
       "    }\n",
       "\n",
       "    .dataframe tbody tr th {\n",
       "        vertical-align: top;\n",
       "    }\n",
       "\n",
       "    .dataframe thead th {\n",
       "        text-align: right;\n",
       "    }\n",
       "</style>\n",
       "<table border=\"1\" class=\"dataframe\">\n",
       "  <thead>\n",
       "    <tr style=\"text-align: right;\">\n",
       "      <th></th>\n",
       "      <th>income</th>\n",
       "      <th>age</th>\n",
       "      <th>nbr_children</th>\n",
       "      <th>marital_status_1</th>\n",
       "      <th>marital_status_2</th>\n",
       "      <th>marital_status_3</th>\n",
       "      <th>marital_status_4</th>\n",
       "    </tr>\n",
       "  </thead>\n",
       "  <tbody>\n",
       "    <tr>\n",
       "      <th>count</th>\n",
       "      <td>48.0000</td>\n",
       "      <td>48.000000</td>\n",
       "      <td>48.000000</td>\n",
       "      <td>48.0</td>\n",
       "      <td>48.0</td>\n",
       "      <td>48.0</td>\n",
       "      <td>48.0</td>\n",
       "    </tr>\n",
       "    <tr>\n",
       "      <th>mean</th>\n",
       "      <td>37468.5000</td>\n",
       "      <td>46.416667</td>\n",
       "      <td>1.354167</td>\n",
       "      <td>0.0</td>\n",
       "      <td>0.0</td>\n",
       "      <td>1.0</td>\n",
       "      <td>0.0</td>\n",
       "    </tr>\n",
       "    <tr>\n",
       "      <th>std</th>\n",
       "      <td>32309.6858</td>\n",
       "      <td>14.974920</td>\n",
       "      <td>1.263052</td>\n",
       "      <td>0.0</td>\n",
       "      <td>0.0</td>\n",
       "      <td>0.0</td>\n",
       "      <td>0.0</td>\n",
       "    </tr>\n",
       "    <tr>\n",
       "      <th>min</th>\n",
       "      <td>3303.0000</td>\n",
       "      <td>23.000000</td>\n",
       "      <td>0.000000</td>\n",
       "      <td>0.0</td>\n",
       "      <td>0.0</td>\n",
       "      <td>1.0</td>\n",
       "      <td>0.0</td>\n",
       "    </tr>\n",
       "    <tr>\n",
       "      <th>25%</th>\n",
       "      <td>16327.0000</td>\n",
       "      <td>33.000000</td>\n",
       "      <td>0.000000</td>\n",
       "      <td>0.0</td>\n",
       "      <td>0.0</td>\n",
       "      <td>1.0</td>\n",
       "      <td>0.0</td>\n",
       "    </tr>\n",
       "    <tr>\n",
       "      <th>50%</th>\n",
       "      <td>27910.5000</td>\n",
       "      <td>46.000000</td>\n",
       "      <td>1.000000</td>\n",
       "      <td>0.0</td>\n",
       "      <td>0.0</td>\n",
       "      <td>1.0</td>\n",
       "      <td>0.0</td>\n",
       "    </tr>\n",
       "    <tr>\n",
       "      <th>75%</th>\n",
       "      <td>45899.7500</td>\n",
       "      <td>56.000000</td>\n",
       "      <td>2.000000</td>\n",
       "      <td>0.0</td>\n",
       "      <td>0.0</td>\n",
       "      <td>1.0</td>\n",
       "      <td>0.0</td>\n",
       "    </tr>\n",
       "    <tr>\n",
       "      <th>max</th>\n",
       "      <td>142274.0000</td>\n",
       "      <td>78.000000</td>\n",
       "      <td>5.000000</td>\n",
       "      <td>0.0</td>\n",
       "      <td>0.0</td>\n",
       "      <td>1.0</td>\n",
       "      <td>0.0</td>\n",
       "    </tr>\n",
       "  </tbody>\n",
       "</table>\n",
       "</div>"
      ],
      "text/plain": [
       "            income        age  nbr_children  marital_status_1  \\\n",
       "count      48.0000  48.000000     48.000000              48.0   \n",
       "mean    37468.5000  46.416667      1.354167               0.0   \n",
       "std     32309.6858  14.974920      1.263052               0.0   \n",
       "min      3303.0000  23.000000      0.000000               0.0   \n",
       "25%     16327.0000  33.000000      0.000000               0.0   \n",
       "50%     27910.5000  46.000000      1.000000               0.0   \n",
       "75%     45899.7500  56.000000      2.000000               0.0   \n",
       "max    142274.0000  78.000000      5.000000               0.0   \n",
       "\n",
       "       marital_status_2  marital_status_3  marital_status_4  \n",
       "count              48.0              48.0              48.0  \n",
       "mean                0.0               1.0               0.0  \n",
       "std                 0.0               0.0               0.0  \n",
       "min                 0.0               1.0               0.0  \n",
       "25%                 0.0               1.0               0.0  \n",
       "50%                 0.0               1.0               0.0  \n",
       "75%                 0.0               1.0               0.0  \n",
       "max                 0.0               1.0               0.0  "
      ]
     },
     "execution_count": 75,
     "metadata": {},
     "output_type": "execute_result"
    }
   ],
   "source": [
    "df_c3.describe()"
   ]
  },
  {
   "cell_type": "markdown",
   "id": "065aecce",
   "metadata": {},
   "source": [
    "## Radar Charts"
   ]
  },
  {
   "cell_type": "code",
   "execution_count": 76,
   "id": "c1cb0064",
   "metadata": {},
   "outputs": [],
   "source": [
    "df_normal = pd.DataFrame(n_scaler.fit_transform(demographics_df), columns=demographics_df.columns)\n",
    "df_normal['cluster'] = y_km"
   ]
  },
  {
   "cell_type": "code",
   "execution_count": 77,
   "id": "9330955e",
   "metadata": {},
   "outputs": [],
   "source": [
    "df_normal_zero = df_normal[df_normal['cluster']==0].drop('cluster', axis=1)\n",
    "df_normal_one = df_normal[df_normal['cluster']==1].drop('cluster', axis=1)\n",
    "df_normal_two = df_normal[df_normal['cluster']==2].drop('cluster', axis=1)\n",
    "df_normal_three = df_normal[df_normal['cluster']==3].drop('cluster', axis=1)"
   ]
  },
  {
   "cell_type": "code",
   "execution_count": 78,
   "id": "d628044f",
   "metadata": {},
   "outputs": [
    {
     "data": {
      "application/vnd.plotly.v1+json": {
       "config": {
        "plotlyServerURL": "https://plot.ly"
       },
       "data": [
        {
         "fill": "toself",
         "r": [
          0.09827638103504908,
          0.22273073989321154,
          0,
          1,
          0,
          0,
          0
         ],
         "theta": [
          "income",
          "age",
          "nbr_children",
          "marital_status_1",
          "marital_status_2",
          "marital_status_3",
          "marital_status_4"
         ],
         "type": "scatterpolar"
        }
       ],
       "layout": {
        "template": {
         "data": {
          "bar": [
           {
            "error_x": {
             "color": "#2a3f5f"
            },
            "error_y": {
             "color": "#2a3f5f"
            },
            "marker": {
             "line": {
              "color": "#E5ECF6",
              "width": 0.5
             },
             "pattern": {
              "fillmode": "overlay",
              "size": 10,
              "solidity": 0.2
             }
            },
            "type": "bar"
           }
          ],
          "barpolar": [
           {
            "marker": {
             "line": {
              "color": "#E5ECF6",
              "width": 0.5
             },
             "pattern": {
              "fillmode": "overlay",
              "size": 10,
              "solidity": 0.2
             }
            },
            "type": "barpolar"
           }
          ],
          "carpet": [
           {
            "aaxis": {
             "endlinecolor": "#2a3f5f",
             "gridcolor": "white",
             "linecolor": "white",
             "minorgridcolor": "white",
             "startlinecolor": "#2a3f5f"
            },
            "baxis": {
             "endlinecolor": "#2a3f5f",
             "gridcolor": "white",
             "linecolor": "white",
             "minorgridcolor": "white",
             "startlinecolor": "#2a3f5f"
            },
            "type": "carpet"
           }
          ],
          "choropleth": [
           {
            "colorbar": {
             "outlinewidth": 0,
             "ticks": ""
            },
            "type": "choropleth"
           }
          ],
          "contour": [
           {
            "colorbar": {
             "outlinewidth": 0,
             "ticks": ""
            },
            "colorscale": [
             [
              0,
              "#0d0887"
             ],
             [
              0.1111111111111111,
              "#46039f"
             ],
             [
              0.2222222222222222,
              "#7201a8"
             ],
             [
              0.3333333333333333,
              "#9c179e"
             ],
             [
              0.4444444444444444,
              "#bd3786"
             ],
             [
              0.5555555555555556,
              "#d8576b"
             ],
             [
              0.6666666666666666,
              "#ed7953"
             ],
             [
              0.7777777777777778,
              "#fb9f3a"
             ],
             [
              0.8888888888888888,
              "#fdca26"
             ],
             [
              1,
              "#f0f921"
             ]
            ],
            "type": "contour"
           }
          ],
          "contourcarpet": [
           {
            "colorbar": {
             "outlinewidth": 0,
             "ticks": ""
            },
            "type": "contourcarpet"
           }
          ],
          "heatmap": [
           {
            "colorbar": {
             "outlinewidth": 0,
             "ticks": ""
            },
            "colorscale": [
             [
              0,
              "#0d0887"
             ],
             [
              0.1111111111111111,
              "#46039f"
             ],
             [
              0.2222222222222222,
              "#7201a8"
             ],
             [
              0.3333333333333333,
              "#9c179e"
             ],
             [
              0.4444444444444444,
              "#bd3786"
             ],
             [
              0.5555555555555556,
              "#d8576b"
             ],
             [
              0.6666666666666666,
              "#ed7953"
             ],
             [
              0.7777777777777778,
              "#fb9f3a"
             ],
             [
              0.8888888888888888,
              "#fdca26"
             ],
             [
              1,
              "#f0f921"
             ]
            ],
            "type": "heatmap"
           }
          ],
          "heatmapgl": [
           {
            "colorbar": {
             "outlinewidth": 0,
             "ticks": ""
            },
            "colorscale": [
             [
              0,
              "#0d0887"
             ],
             [
              0.1111111111111111,
              "#46039f"
             ],
             [
              0.2222222222222222,
              "#7201a8"
             ],
             [
              0.3333333333333333,
              "#9c179e"
             ],
             [
              0.4444444444444444,
              "#bd3786"
             ],
             [
              0.5555555555555556,
              "#d8576b"
             ],
             [
              0.6666666666666666,
              "#ed7953"
             ],
             [
              0.7777777777777778,
              "#fb9f3a"
             ],
             [
              0.8888888888888888,
              "#fdca26"
             ],
             [
              1,
              "#f0f921"
             ]
            ],
            "type": "heatmapgl"
           }
          ],
          "histogram": [
           {
            "marker": {
             "pattern": {
              "fillmode": "overlay",
              "size": 10,
              "solidity": 0.2
             }
            },
            "type": "histogram"
           }
          ],
          "histogram2d": [
           {
            "colorbar": {
             "outlinewidth": 0,
             "ticks": ""
            },
            "colorscale": [
             [
              0,
              "#0d0887"
             ],
             [
              0.1111111111111111,
              "#46039f"
             ],
             [
              0.2222222222222222,
              "#7201a8"
             ],
             [
              0.3333333333333333,
              "#9c179e"
             ],
             [
              0.4444444444444444,
              "#bd3786"
             ],
             [
              0.5555555555555556,
              "#d8576b"
             ],
             [
              0.6666666666666666,
              "#ed7953"
             ],
             [
              0.7777777777777778,
              "#fb9f3a"
             ],
             [
              0.8888888888888888,
              "#fdca26"
             ],
             [
              1,
              "#f0f921"
             ]
            ],
            "type": "histogram2d"
           }
          ],
          "histogram2dcontour": [
           {
            "colorbar": {
             "outlinewidth": 0,
             "ticks": ""
            },
            "colorscale": [
             [
              0,
              "#0d0887"
             ],
             [
              0.1111111111111111,
              "#46039f"
             ],
             [
              0.2222222222222222,
              "#7201a8"
             ],
             [
              0.3333333333333333,
              "#9c179e"
             ],
             [
              0.4444444444444444,
              "#bd3786"
             ],
             [
              0.5555555555555556,
              "#d8576b"
             ],
             [
              0.6666666666666666,
              "#ed7953"
             ],
             [
              0.7777777777777778,
              "#fb9f3a"
             ],
             [
              0.8888888888888888,
              "#fdca26"
             ],
             [
              1,
              "#f0f921"
             ]
            ],
            "type": "histogram2dcontour"
           }
          ],
          "mesh3d": [
           {
            "colorbar": {
             "outlinewidth": 0,
             "ticks": ""
            },
            "type": "mesh3d"
           }
          ],
          "parcoords": [
           {
            "line": {
             "colorbar": {
              "outlinewidth": 0,
              "ticks": ""
             }
            },
            "type": "parcoords"
           }
          ],
          "pie": [
           {
            "automargin": true,
            "type": "pie"
           }
          ],
          "scatter": [
           {
            "fillpattern": {
             "fillmode": "overlay",
             "size": 10,
             "solidity": 0.2
            },
            "type": "scatter"
           }
          ],
          "scatter3d": [
           {
            "line": {
             "colorbar": {
              "outlinewidth": 0,
              "ticks": ""
             }
            },
            "marker": {
             "colorbar": {
              "outlinewidth": 0,
              "ticks": ""
             }
            },
            "type": "scatter3d"
           }
          ],
          "scattercarpet": [
           {
            "marker": {
             "colorbar": {
              "outlinewidth": 0,
              "ticks": ""
             }
            },
            "type": "scattercarpet"
           }
          ],
          "scattergeo": [
           {
            "marker": {
             "colorbar": {
              "outlinewidth": 0,
              "ticks": ""
             }
            },
            "type": "scattergeo"
           }
          ],
          "scattergl": [
           {
            "marker": {
             "colorbar": {
              "outlinewidth": 0,
              "ticks": ""
             }
            },
            "type": "scattergl"
           }
          ],
          "scattermapbox": [
           {
            "marker": {
             "colorbar": {
              "outlinewidth": 0,
              "ticks": ""
             }
            },
            "type": "scattermapbox"
           }
          ],
          "scatterpolar": [
           {
            "marker": {
             "colorbar": {
              "outlinewidth": 0,
              "ticks": ""
             }
            },
            "type": "scatterpolar"
           }
          ],
          "scatterpolargl": [
           {
            "marker": {
             "colorbar": {
              "outlinewidth": 0,
              "ticks": ""
             }
            },
            "type": "scatterpolargl"
           }
          ],
          "scatterternary": [
           {
            "marker": {
             "colorbar": {
              "outlinewidth": 0,
              "ticks": ""
             }
            },
            "type": "scatterternary"
           }
          ],
          "surface": [
           {
            "colorbar": {
             "outlinewidth": 0,
             "ticks": ""
            },
            "colorscale": [
             [
              0,
              "#0d0887"
             ],
             [
              0.1111111111111111,
              "#46039f"
             ],
             [
              0.2222222222222222,
              "#7201a8"
             ],
             [
              0.3333333333333333,
              "#9c179e"
             ],
             [
              0.4444444444444444,
              "#bd3786"
             ],
             [
              0.5555555555555556,
              "#d8576b"
             ],
             [
              0.6666666666666666,
              "#ed7953"
             ],
             [
              0.7777777777777778,
              "#fb9f3a"
             ],
             [
              0.8888888888888888,
              "#fdca26"
             ],
             [
              1,
              "#f0f921"
             ]
            ],
            "type": "surface"
           }
          ],
          "table": [
           {
            "cells": {
             "fill": {
              "color": "#EBF0F8"
             },
             "line": {
              "color": "white"
             }
            },
            "header": {
             "fill": {
              "color": "#C8D4E3"
             },
             "line": {
              "color": "white"
             }
            },
            "type": "table"
           }
          ]
         },
         "layout": {
          "annotationdefaults": {
           "arrowcolor": "#2a3f5f",
           "arrowhead": 0,
           "arrowwidth": 1
          },
          "autotypenumbers": "strict",
          "coloraxis": {
           "colorbar": {
            "outlinewidth": 0,
            "ticks": ""
           }
          },
          "colorscale": {
           "diverging": [
            [
             0,
             "#8e0152"
            ],
            [
             0.1,
             "#c51b7d"
            ],
            [
             0.2,
             "#de77ae"
            ],
            [
             0.3,
             "#f1b6da"
            ],
            [
             0.4,
             "#fde0ef"
            ],
            [
             0.5,
             "#f7f7f7"
            ],
            [
             0.6,
             "#e6f5d0"
            ],
            [
             0.7,
             "#b8e186"
            ],
            [
             0.8,
             "#7fbc41"
            ],
            [
             0.9,
             "#4d9221"
            ],
            [
             1,
             "#276419"
            ]
           ],
           "sequential": [
            [
             0,
             "#0d0887"
            ],
            [
             0.1111111111111111,
             "#46039f"
            ],
            [
             0.2222222222222222,
             "#7201a8"
            ],
            [
             0.3333333333333333,
             "#9c179e"
            ],
            [
             0.4444444444444444,
             "#bd3786"
            ],
            [
             0.5555555555555556,
             "#d8576b"
            ],
            [
             0.6666666666666666,
             "#ed7953"
            ],
            [
             0.7777777777777778,
             "#fb9f3a"
            ],
            [
             0.8888888888888888,
             "#fdca26"
            ],
            [
             1,
             "#f0f921"
            ]
           ],
           "sequentialminus": [
            [
             0,
             "#0d0887"
            ],
            [
             0.1111111111111111,
             "#46039f"
            ],
            [
             0.2222222222222222,
             "#7201a8"
            ],
            [
             0.3333333333333333,
             "#9c179e"
            ],
            [
             0.4444444444444444,
             "#bd3786"
            ],
            [
             0.5555555555555556,
             "#d8576b"
            ],
            [
             0.6666666666666666,
             "#ed7953"
            ],
            [
             0.7777777777777778,
             "#fb9f3a"
            ],
            [
             0.8888888888888888,
             "#fdca26"
            ],
            [
             1,
             "#f0f921"
            ]
           ]
          },
          "colorway": [
           "#636efa",
           "#EF553B",
           "#00cc96",
           "#ab63fa",
           "#FFA15A",
           "#19d3f3",
           "#FF6692",
           "#B6E880",
           "#FF97FF",
           "#FECB52"
          ],
          "font": {
           "color": "#2a3f5f"
          },
          "geo": {
           "bgcolor": "white",
           "lakecolor": "white",
           "landcolor": "#E5ECF6",
           "showlakes": true,
           "showland": true,
           "subunitcolor": "white"
          },
          "hoverlabel": {
           "align": "left"
          },
          "hovermode": "closest",
          "mapbox": {
           "style": "light"
          },
          "paper_bgcolor": "white",
          "plot_bgcolor": "#E5ECF6",
          "polar": {
           "angularaxis": {
            "gridcolor": "white",
            "linecolor": "white",
            "ticks": ""
           },
           "bgcolor": "#E5ECF6",
           "radialaxis": {
            "gridcolor": "white",
            "linecolor": "white",
            "ticks": ""
           }
          },
          "scene": {
           "xaxis": {
            "backgroundcolor": "#E5ECF6",
            "gridcolor": "white",
            "gridwidth": 2,
            "linecolor": "white",
            "showbackground": true,
            "ticks": "",
            "zerolinecolor": "white"
           },
           "yaxis": {
            "backgroundcolor": "#E5ECF6",
            "gridcolor": "white",
            "gridwidth": 2,
            "linecolor": "white",
            "showbackground": true,
            "ticks": "",
            "zerolinecolor": "white"
           },
           "zaxis": {
            "backgroundcolor": "#E5ECF6",
            "gridcolor": "white",
            "gridwidth": 2,
            "linecolor": "white",
            "showbackground": true,
            "ticks": "",
            "zerolinecolor": "white"
           }
          },
          "shapedefaults": {
           "line": {
            "color": "#2a3f5f"
           }
          },
          "ternary": {
           "aaxis": {
            "gridcolor": "white",
            "linecolor": "white",
            "ticks": ""
           },
           "baxis": {
            "gridcolor": "white",
            "linecolor": "white",
            "ticks": ""
           },
           "bgcolor": "#E5ECF6",
           "caxis": {
            "gridcolor": "white",
            "linecolor": "white",
            "ticks": ""
           }
          },
          "title": {
           "x": 0.05
          },
          "xaxis": {
           "automargin": true,
           "gridcolor": "white",
           "linecolor": "white",
           "ticks": "",
           "title": {
            "standoff": 15
           },
           "zerolinecolor": "white",
           "zerolinewidth": 2
          },
          "yaxis": {
           "automargin": true,
           "gridcolor": "white",
           "linecolor": "white",
           "ticks": "",
           "title": {
            "standoff": 15
           },
           "zerolinecolor": "white",
           "zerolinewidth": 2
          }
         }
        },
        "title": {
         "text": "Demographics Cluster 0"
        }
       }
      },
      "text/html": [
       "<div>                            <div id=\"0e1ff9e3-6ca7-473e-96e0-820b0adf4c5a\" class=\"plotly-graph-div\" style=\"height:525px; width:100%;\"></div>            <script type=\"text/javascript\">                require([\"plotly\"], function(Plotly) {                    window.PLOTLYENV=window.PLOTLYENV || {};                                    if (document.getElementById(\"0e1ff9e3-6ca7-473e-96e0-820b0adf4c5a\")) {                    Plotly.newPlot(                        \"0e1ff9e3-6ca7-473e-96e0-820b0adf4c5a\",                        [{\"fill\":\"toself\",\"r\":[0.09827638103504908,0.22273073989321154,0.0,1.0,0.0,0.0,0.0],\"theta\":[\"income\",\"age\",\"nbr_children\",\"marital_status_1\",\"marital_status_2\",\"marital_status_3\",\"marital_status_4\"],\"type\":\"scatterpolar\"}],                        {\"template\":{\"data\":{\"histogram2dcontour\":[{\"type\":\"histogram2dcontour\",\"colorbar\":{\"outlinewidth\":0,\"ticks\":\"\"},\"colorscale\":[[0.0,\"#0d0887\"],[0.1111111111111111,\"#46039f\"],[0.2222222222222222,\"#7201a8\"],[0.3333333333333333,\"#9c179e\"],[0.4444444444444444,\"#bd3786\"],[0.5555555555555556,\"#d8576b\"],[0.6666666666666666,\"#ed7953\"],[0.7777777777777778,\"#fb9f3a\"],[0.8888888888888888,\"#fdca26\"],[1.0,\"#f0f921\"]]}],\"choropleth\":[{\"type\":\"choropleth\",\"colorbar\":{\"outlinewidth\":0,\"ticks\":\"\"}}],\"histogram2d\":[{\"type\":\"histogram2d\",\"colorbar\":{\"outlinewidth\":0,\"ticks\":\"\"},\"colorscale\":[[0.0,\"#0d0887\"],[0.1111111111111111,\"#46039f\"],[0.2222222222222222,\"#7201a8\"],[0.3333333333333333,\"#9c179e\"],[0.4444444444444444,\"#bd3786\"],[0.5555555555555556,\"#d8576b\"],[0.6666666666666666,\"#ed7953\"],[0.7777777777777778,\"#fb9f3a\"],[0.8888888888888888,\"#fdca26\"],[1.0,\"#f0f921\"]]}],\"heatmap\":[{\"type\":\"heatmap\",\"colorbar\":{\"outlinewidth\":0,\"ticks\":\"\"},\"colorscale\":[[0.0,\"#0d0887\"],[0.1111111111111111,\"#46039f\"],[0.2222222222222222,\"#7201a8\"],[0.3333333333333333,\"#9c179e\"],[0.4444444444444444,\"#bd3786\"],[0.5555555555555556,\"#d8576b\"],[0.6666666666666666,\"#ed7953\"],[0.7777777777777778,\"#fb9f3a\"],[0.8888888888888888,\"#fdca26\"],[1.0,\"#f0f921\"]]}],\"heatmapgl\":[{\"type\":\"heatmapgl\",\"colorbar\":{\"outlinewidth\":0,\"ticks\":\"\"},\"colorscale\":[[0.0,\"#0d0887\"],[0.1111111111111111,\"#46039f\"],[0.2222222222222222,\"#7201a8\"],[0.3333333333333333,\"#9c179e\"],[0.4444444444444444,\"#bd3786\"],[0.5555555555555556,\"#d8576b\"],[0.6666666666666666,\"#ed7953\"],[0.7777777777777778,\"#fb9f3a\"],[0.8888888888888888,\"#fdca26\"],[1.0,\"#f0f921\"]]}],\"contourcarpet\":[{\"type\":\"contourcarpet\",\"colorbar\":{\"outlinewidth\":0,\"ticks\":\"\"}}],\"contour\":[{\"type\":\"contour\",\"colorbar\":{\"outlinewidth\":0,\"ticks\":\"\"},\"colorscale\":[[0.0,\"#0d0887\"],[0.1111111111111111,\"#46039f\"],[0.2222222222222222,\"#7201a8\"],[0.3333333333333333,\"#9c179e\"],[0.4444444444444444,\"#bd3786\"],[0.5555555555555556,\"#d8576b\"],[0.6666666666666666,\"#ed7953\"],[0.7777777777777778,\"#fb9f3a\"],[0.8888888888888888,\"#fdca26\"],[1.0,\"#f0f921\"]]}],\"surface\":[{\"type\":\"surface\",\"colorbar\":{\"outlinewidth\":0,\"ticks\":\"\"},\"colorscale\":[[0.0,\"#0d0887\"],[0.1111111111111111,\"#46039f\"],[0.2222222222222222,\"#7201a8\"],[0.3333333333333333,\"#9c179e\"],[0.4444444444444444,\"#bd3786\"],[0.5555555555555556,\"#d8576b\"],[0.6666666666666666,\"#ed7953\"],[0.7777777777777778,\"#fb9f3a\"],[0.8888888888888888,\"#fdca26\"],[1.0,\"#f0f921\"]]}],\"mesh3d\":[{\"type\":\"mesh3d\",\"colorbar\":{\"outlinewidth\":0,\"ticks\":\"\"}}],\"scatter\":[{\"fillpattern\":{\"fillmode\":\"overlay\",\"size\":10,\"solidity\":0.2},\"type\":\"scatter\"}],\"parcoords\":[{\"type\":\"parcoords\",\"line\":{\"colorbar\":{\"outlinewidth\":0,\"ticks\":\"\"}}}],\"scatterpolargl\":[{\"type\":\"scatterpolargl\",\"marker\":{\"colorbar\":{\"outlinewidth\":0,\"ticks\":\"\"}}}],\"bar\":[{\"error_x\":{\"color\":\"#2a3f5f\"},\"error_y\":{\"color\":\"#2a3f5f\"},\"marker\":{\"line\":{\"color\":\"#E5ECF6\",\"width\":0.5},\"pattern\":{\"fillmode\":\"overlay\",\"size\":10,\"solidity\":0.2}},\"type\":\"bar\"}],\"scattergeo\":[{\"type\":\"scattergeo\",\"marker\":{\"colorbar\":{\"outlinewidth\":0,\"ticks\":\"\"}}}],\"scatterpolar\":[{\"type\":\"scatterpolar\",\"marker\":{\"colorbar\":{\"outlinewidth\":0,\"ticks\":\"\"}}}],\"histogram\":[{\"marker\":{\"pattern\":{\"fillmode\":\"overlay\",\"size\":10,\"solidity\":0.2}},\"type\":\"histogram\"}],\"scattergl\":[{\"type\":\"scattergl\",\"marker\":{\"colorbar\":{\"outlinewidth\":0,\"ticks\":\"\"}}}],\"scatter3d\":[{\"type\":\"scatter3d\",\"line\":{\"colorbar\":{\"outlinewidth\":0,\"ticks\":\"\"}},\"marker\":{\"colorbar\":{\"outlinewidth\":0,\"ticks\":\"\"}}}],\"scattermapbox\":[{\"type\":\"scattermapbox\",\"marker\":{\"colorbar\":{\"outlinewidth\":0,\"ticks\":\"\"}}}],\"scatterternary\":[{\"type\":\"scatterternary\",\"marker\":{\"colorbar\":{\"outlinewidth\":0,\"ticks\":\"\"}}}],\"scattercarpet\":[{\"type\":\"scattercarpet\",\"marker\":{\"colorbar\":{\"outlinewidth\":0,\"ticks\":\"\"}}}],\"carpet\":[{\"aaxis\":{\"endlinecolor\":\"#2a3f5f\",\"gridcolor\":\"white\",\"linecolor\":\"white\",\"minorgridcolor\":\"white\",\"startlinecolor\":\"#2a3f5f\"},\"baxis\":{\"endlinecolor\":\"#2a3f5f\",\"gridcolor\":\"white\",\"linecolor\":\"white\",\"minorgridcolor\":\"white\",\"startlinecolor\":\"#2a3f5f\"},\"type\":\"carpet\"}],\"table\":[{\"cells\":{\"fill\":{\"color\":\"#EBF0F8\"},\"line\":{\"color\":\"white\"}},\"header\":{\"fill\":{\"color\":\"#C8D4E3\"},\"line\":{\"color\":\"white\"}},\"type\":\"table\"}],\"barpolar\":[{\"marker\":{\"line\":{\"color\":\"#E5ECF6\",\"width\":0.5},\"pattern\":{\"fillmode\":\"overlay\",\"size\":10,\"solidity\":0.2}},\"type\":\"barpolar\"}],\"pie\":[{\"automargin\":true,\"type\":\"pie\"}]},\"layout\":{\"autotypenumbers\":\"strict\",\"colorway\":[\"#636efa\",\"#EF553B\",\"#00cc96\",\"#ab63fa\",\"#FFA15A\",\"#19d3f3\",\"#FF6692\",\"#B6E880\",\"#FF97FF\",\"#FECB52\"],\"font\":{\"color\":\"#2a3f5f\"},\"hovermode\":\"closest\",\"hoverlabel\":{\"align\":\"left\"},\"paper_bgcolor\":\"white\",\"plot_bgcolor\":\"#E5ECF6\",\"polar\":{\"bgcolor\":\"#E5ECF6\",\"angularaxis\":{\"gridcolor\":\"white\",\"linecolor\":\"white\",\"ticks\":\"\"},\"radialaxis\":{\"gridcolor\":\"white\",\"linecolor\":\"white\",\"ticks\":\"\"}},\"ternary\":{\"bgcolor\":\"#E5ECF6\",\"aaxis\":{\"gridcolor\":\"white\",\"linecolor\":\"white\",\"ticks\":\"\"},\"baxis\":{\"gridcolor\":\"white\",\"linecolor\":\"white\",\"ticks\":\"\"},\"caxis\":{\"gridcolor\":\"white\",\"linecolor\":\"white\",\"ticks\":\"\"}},\"coloraxis\":{\"colorbar\":{\"outlinewidth\":0,\"ticks\":\"\"}},\"colorscale\":{\"sequential\":[[0.0,\"#0d0887\"],[0.1111111111111111,\"#46039f\"],[0.2222222222222222,\"#7201a8\"],[0.3333333333333333,\"#9c179e\"],[0.4444444444444444,\"#bd3786\"],[0.5555555555555556,\"#d8576b\"],[0.6666666666666666,\"#ed7953\"],[0.7777777777777778,\"#fb9f3a\"],[0.8888888888888888,\"#fdca26\"],[1.0,\"#f0f921\"]],\"sequentialminus\":[[0.0,\"#0d0887\"],[0.1111111111111111,\"#46039f\"],[0.2222222222222222,\"#7201a8\"],[0.3333333333333333,\"#9c179e\"],[0.4444444444444444,\"#bd3786\"],[0.5555555555555556,\"#d8576b\"],[0.6666666666666666,\"#ed7953\"],[0.7777777777777778,\"#fb9f3a\"],[0.8888888888888888,\"#fdca26\"],[1.0,\"#f0f921\"]],\"diverging\":[[0,\"#8e0152\"],[0.1,\"#c51b7d\"],[0.2,\"#de77ae\"],[0.3,\"#f1b6da\"],[0.4,\"#fde0ef\"],[0.5,\"#f7f7f7\"],[0.6,\"#e6f5d0\"],[0.7,\"#b8e186\"],[0.8,\"#7fbc41\"],[0.9,\"#4d9221\"],[1,\"#276419\"]]},\"xaxis\":{\"gridcolor\":\"white\",\"linecolor\":\"white\",\"ticks\":\"\",\"title\":{\"standoff\":15},\"zerolinecolor\":\"white\",\"automargin\":true,\"zerolinewidth\":2},\"yaxis\":{\"gridcolor\":\"white\",\"linecolor\":\"white\",\"ticks\":\"\",\"title\":{\"standoff\":15},\"zerolinecolor\":\"white\",\"automargin\":true,\"zerolinewidth\":2},\"scene\":{\"xaxis\":{\"backgroundcolor\":\"#E5ECF6\",\"gridcolor\":\"white\",\"linecolor\":\"white\",\"showbackground\":true,\"ticks\":\"\",\"zerolinecolor\":\"white\",\"gridwidth\":2},\"yaxis\":{\"backgroundcolor\":\"#E5ECF6\",\"gridcolor\":\"white\",\"linecolor\":\"white\",\"showbackground\":true,\"ticks\":\"\",\"zerolinecolor\":\"white\",\"gridwidth\":2},\"zaxis\":{\"backgroundcolor\":\"#E5ECF6\",\"gridcolor\":\"white\",\"linecolor\":\"white\",\"showbackground\":true,\"ticks\":\"\",\"zerolinecolor\":\"white\",\"gridwidth\":2}},\"shapedefaults\":{\"line\":{\"color\":\"#2a3f5f\"}},\"annotationdefaults\":{\"arrowcolor\":\"#2a3f5f\",\"arrowhead\":0,\"arrowwidth\":1},\"geo\":{\"bgcolor\":\"white\",\"landcolor\":\"#E5ECF6\",\"subunitcolor\":\"white\",\"showland\":true,\"showlakes\":true,\"lakecolor\":\"white\"},\"title\":{\"x\":0.05},\"mapbox\":{\"style\":\"light\"}}},\"title\":{\"text\":\"Demographics Cluster 0\"}},                        {\"responsive\": true}                    ).then(function(){\n",
       "                            \n",
       "var gd = document.getElementById('0e1ff9e3-6ca7-473e-96e0-820b0adf4c5a');\n",
       "var x = new MutationObserver(function (mutations, observer) {{\n",
       "        var display = window.getComputedStyle(gd).display;\n",
       "        if (!display || display === 'none') {{\n",
       "            console.log([gd, 'removed!']);\n",
       "            Plotly.purge(gd);\n",
       "            observer.disconnect();\n",
       "        }}\n",
       "}});\n",
       "\n",
       "// Listen for the removal of the full notebook cells\n",
       "var notebookContainer = gd.closest('#notebook-container');\n",
       "if (notebookContainer) {{\n",
       "    x.observe(notebookContainer, {childList: true});\n",
       "}}\n",
       "\n",
       "// Listen for the clearing of the current output cell\n",
       "var outputEl = gd.closest('.output');\n",
       "if (outputEl) {{\n",
       "    x.observe(outputEl, {childList: true});\n",
       "}}\n",
       "\n",
       "                        })                };                });            </script>        </div>"
      ]
     },
     "metadata": {},
     "output_type": "display_data"
    }
   ],
   "source": [
    "fig = go.Figure()\n",
    "\n",
    "fig.add_trace(go.Scatterpolar(r = df_normal_zero.mean(), theta = df_normal_zero.columns,fill='toself'))\n",
    "\n",
    "fig.update_layout(title = 'Demographics Cluster 0')\n",
    "\n",
    "fig.show()"
   ]
  },
  {
   "cell_type": "code",
   "execution_count": 79,
   "id": "2ed83fd4",
   "metadata": {},
   "outputs": [
    {
     "data": {
      "application/vnd.plotly.v1+json": {
       "config": {
        "plotlyServerURL": "https://plot.ly"
       },
       "data": [
        {
         "fill": "toself",
         "r": [
          0.18443390951174357,
          0.49731623676755615,
          0.20283286118980193,
          0,
          1,
          0,
          0
         ],
         "theta": [
          "income",
          "age",
          "nbr_children",
          "marital_status_1",
          "marital_status_2",
          "marital_status_3",
          "marital_status_4"
         ],
         "type": "scatterpolar"
        }
       ],
       "layout": {
        "template": {
         "data": {
          "bar": [
           {
            "error_x": {
             "color": "#2a3f5f"
            },
            "error_y": {
             "color": "#2a3f5f"
            },
            "marker": {
             "line": {
              "color": "#E5ECF6",
              "width": 0.5
             },
             "pattern": {
              "fillmode": "overlay",
              "size": 10,
              "solidity": 0.2
             }
            },
            "type": "bar"
           }
          ],
          "barpolar": [
           {
            "marker": {
             "line": {
              "color": "#E5ECF6",
              "width": 0.5
             },
             "pattern": {
              "fillmode": "overlay",
              "size": 10,
              "solidity": 0.2
             }
            },
            "type": "barpolar"
           }
          ],
          "carpet": [
           {
            "aaxis": {
             "endlinecolor": "#2a3f5f",
             "gridcolor": "white",
             "linecolor": "white",
             "minorgridcolor": "white",
             "startlinecolor": "#2a3f5f"
            },
            "baxis": {
             "endlinecolor": "#2a3f5f",
             "gridcolor": "white",
             "linecolor": "white",
             "minorgridcolor": "white",
             "startlinecolor": "#2a3f5f"
            },
            "type": "carpet"
           }
          ],
          "choropleth": [
           {
            "colorbar": {
             "outlinewidth": 0,
             "ticks": ""
            },
            "type": "choropleth"
           }
          ],
          "contour": [
           {
            "colorbar": {
             "outlinewidth": 0,
             "ticks": ""
            },
            "colorscale": [
             [
              0,
              "#0d0887"
             ],
             [
              0.1111111111111111,
              "#46039f"
             ],
             [
              0.2222222222222222,
              "#7201a8"
             ],
             [
              0.3333333333333333,
              "#9c179e"
             ],
             [
              0.4444444444444444,
              "#bd3786"
             ],
             [
              0.5555555555555556,
              "#d8576b"
             ],
             [
              0.6666666666666666,
              "#ed7953"
             ],
             [
              0.7777777777777778,
              "#fb9f3a"
             ],
             [
              0.8888888888888888,
              "#fdca26"
             ],
             [
              1,
              "#f0f921"
             ]
            ],
            "type": "contour"
           }
          ],
          "contourcarpet": [
           {
            "colorbar": {
             "outlinewidth": 0,
             "ticks": ""
            },
            "type": "contourcarpet"
           }
          ],
          "heatmap": [
           {
            "colorbar": {
             "outlinewidth": 0,
             "ticks": ""
            },
            "colorscale": [
             [
              0,
              "#0d0887"
             ],
             [
              0.1111111111111111,
              "#46039f"
             ],
             [
              0.2222222222222222,
              "#7201a8"
             ],
             [
              0.3333333333333333,
              "#9c179e"
             ],
             [
              0.4444444444444444,
              "#bd3786"
             ],
             [
              0.5555555555555556,
              "#d8576b"
             ],
             [
              0.6666666666666666,
              "#ed7953"
             ],
             [
              0.7777777777777778,
              "#fb9f3a"
             ],
             [
              0.8888888888888888,
              "#fdca26"
             ],
             [
              1,
              "#f0f921"
             ]
            ],
            "type": "heatmap"
           }
          ],
          "heatmapgl": [
           {
            "colorbar": {
             "outlinewidth": 0,
             "ticks": ""
            },
            "colorscale": [
             [
              0,
              "#0d0887"
             ],
             [
              0.1111111111111111,
              "#46039f"
             ],
             [
              0.2222222222222222,
              "#7201a8"
             ],
             [
              0.3333333333333333,
              "#9c179e"
             ],
             [
              0.4444444444444444,
              "#bd3786"
             ],
             [
              0.5555555555555556,
              "#d8576b"
             ],
             [
              0.6666666666666666,
              "#ed7953"
             ],
             [
              0.7777777777777778,
              "#fb9f3a"
             ],
             [
              0.8888888888888888,
              "#fdca26"
             ],
             [
              1,
              "#f0f921"
             ]
            ],
            "type": "heatmapgl"
           }
          ],
          "histogram": [
           {
            "marker": {
             "pattern": {
              "fillmode": "overlay",
              "size": 10,
              "solidity": 0.2
             }
            },
            "type": "histogram"
           }
          ],
          "histogram2d": [
           {
            "colorbar": {
             "outlinewidth": 0,
             "ticks": ""
            },
            "colorscale": [
             [
              0,
              "#0d0887"
             ],
             [
              0.1111111111111111,
              "#46039f"
             ],
             [
              0.2222222222222222,
              "#7201a8"
             ],
             [
              0.3333333333333333,
              "#9c179e"
             ],
             [
              0.4444444444444444,
              "#bd3786"
             ],
             [
              0.5555555555555556,
              "#d8576b"
             ],
             [
              0.6666666666666666,
              "#ed7953"
             ],
             [
              0.7777777777777778,
              "#fb9f3a"
             ],
             [
              0.8888888888888888,
              "#fdca26"
             ],
             [
              1,
              "#f0f921"
             ]
            ],
            "type": "histogram2d"
           }
          ],
          "histogram2dcontour": [
           {
            "colorbar": {
             "outlinewidth": 0,
             "ticks": ""
            },
            "colorscale": [
             [
              0,
              "#0d0887"
             ],
             [
              0.1111111111111111,
              "#46039f"
             ],
             [
              0.2222222222222222,
              "#7201a8"
             ],
             [
              0.3333333333333333,
              "#9c179e"
             ],
             [
              0.4444444444444444,
              "#bd3786"
             ],
             [
              0.5555555555555556,
              "#d8576b"
             ],
             [
              0.6666666666666666,
              "#ed7953"
             ],
             [
              0.7777777777777778,
              "#fb9f3a"
             ],
             [
              0.8888888888888888,
              "#fdca26"
             ],
             [
              1,
              "#f0f921"
             ]
            ],
            "type": "histogram2dcontour"
           }
          ],
          "mesh3d": [
           {
            "colorbar": {
             "outlinewidth": 0,
             "ticks": ""
            },
            "type": "mesh3d"
           }
          ],
          "parcoords": [
           {
            "line": {
             "colorbar": {
              "outlinewidth": 0,
              "ticks": ""
             }
            },
            "type": "parcoords"
           }
          ],
          "pie": [
           {
            "automargin": true,
            "type": "pie"
           }
          ],
          "scatter": [
           {
            "fillpattern": {
             "fillmode": "overlay",
             "size": 10,
             "solidity": 0.2
            },
            "type": "scatter"
           }
          ],
          "scatter3d": [
           {
            "line": {
             "colorbar": {
              "outlinewidth": 0,
              "ticks": ""
             }
            },
            "marker": {
             "colorbar": {
              "outlinewidth": 0,
              "ticks": ""
             }
            },
            "type": "scatter3d"
           }
          ],
          "scattercarpet": [
           {
            "marker": {
             "colorbar": {
              "outlinewidth": 0,
              "ticks": ""
             }
            },
            "type": "scattercarpet"
           }
          ],
          "scattergeo": [
           {
            "marker": {
             "colorbar": {
              "outlinewidth": 0,
              "ticks": ""
             }
            },
            "type": "scattergeo"
           }
          ],
          "scattergl": [
           {
            "marker": {
             "colorbar": {
              "outlinewidth": 0,
              "ticks": ""
             }
            },
            "type": "scattergl"
           }
          ],
          "scattermapbox": [
           {
            "marker": {
             "colorbar": {
              "outlinewidth": 0,
              "ticks": ""
             }
            },
            "type": "scattermapbox"
           }
          ],
          "scatterpolar": [
           {
            "marker": {
             "colorbar": {
              "outlinewidth": 0,
              "ticks": ""
             }
            },
            "type": "scatterpolar"
           }
          ],
          "scatterpolargl": [
           {
            "marker": {
             "colorbar": {
              "outlinewidth": 0,
              "ticks": ""
             }
            },
            "type": "scatterpolargl"
           }
          ],
          "scatterternary": [
           {
            "marker": {
             "colorbar": {
              "outlinewidth": 0,
              "ticks": ""
             }
            },
            "type": "scatterternary"
           }
          ],
          "surface": [
           {
            "colorbar": {
             "outlinewidth": 0,
             "ticks": ""
            },
            "colorscale": [
             [
              0,
              "#0d0887"
             ],
             [
              0.1111111111111111,
              "#46039f"
             ],
             [
              0.2222222222222222,
              "#7201a8"
             ],
             [
              0.3333333333333333,
              "#9c179e"
             ],
             [
              0.4444444444444444,
              "#bd3786"
             ],
             [
              0.5555555555555556,
              "#d8576b"
             ],
             [
              0.6666666666666666,
              "#ed7953"
             ],
             [
              0.7777777777777778,
              "#fb9f3a"
             ],
             [
              0.8888888888888888,
              "#fdca26"
             ],
             [
              1,
              "#f0f921"
             ]
            ],
            "type": "surface"
           }
          ],
          "table": [
           {
            "cells": {
             "fill": {
              "color": "#EBF0F8"
             },
             "line": {
              "color": "white"
             }
            },
            "header": {
             "fill": {
              "color": "#C8D4E3"
             },
             "line": {
              "color": "white"
             }
            },
            "type": "table"
           }
          ]
         },
         "layout": {
          "annotationdefaults": {
           "arrowcolor": "#2a3f5f",
           "arrowhead": 0,
           "arrowwidth": 1
          },
          "autotypenumbers": "strict",
          "coloraxis": {
           "colorbar": {
            "outlinewidth": 0,
            "ticks": ""
           }
          },
          "colorscale": {
           "diverging": [
            [
             0,
             "#8e0152"
            ],
            [
             0.1,
             "#c51b7d"
            ],
            [
             0.2,
             "#de77ae"
            ],
            [
             0.3,
             "#f1b6da"
            ],
            [
             0.4,
             "#fde0ef"
            ],
            [
             0.5,
             "#f7f7f7"
            ],
            [
             0.6,
             "#e6f5d0"
            ],
            [
             0.7,
             "#b8e186"
            ],
            [
             0.8,
             "#7fbc41"
            ],
            [
             0.9,
             "#4d9221"
            ],
            [
             1,
             "#276419"
            ]
           ],
           "sequential": [
            [
             0,
             "#0d0887"
            ],
            [
             0.1111111111111111,
             "#46039f"
            ],
            [
             0.2222222222222222,
             "#7201a8"
            ],
            [
             0.3333333333333333,
             "#9c179e"
            ],
            [
             0.4444444444444444,
             "#bd3786"
            ],
            [
             0.5555555555555556,
             "#d8576b"
            ],
            [
             0.6666666666666666,
             "#ed7953"
            ],
            [
             0.7777777777777778,
             "#fb9f3a"
            ],
            [
             0.8888888888888888,
             "#fdca26"
            ],
            [
             1,
             "#f0f921"
            ]
           ],
           "sequentialminus": [
            [
             0,
             "#0d0887"
            ],
            [
             0.1111111111111111,
             "#46039f"
            ],
            [
             0.2222222222222222,
             "#7201a8"
            ],
            [
             0.3333333333333333,
             "#9c179e"
            ],
            [
             0.4444444444444444,
             "#bd3786"
            ],
            [
             0.5555555555555556,
             "#d8576b"
            ],
            [
             0.6666666666666666,
             "#ed7953"
            ],
            [
             0.7777777777777778,
             "#fb9f3a"
            ],
            [
             0.8888888888888888,
             "#fdca26"
            ],
            [
             1,
             "#f0f921"
            ]
           ]
          },
          "colorway": [
           "#636efa",
           "#EF553B",
           "#00cc96",
           "#ab63fa",
           "#FFA15A",
           "#19d3f3",
           "#FF6692",
           "#B6E880",
           "#FF97FF",
           "#FECB52"
          ],
          "font": {
           "color": "#2a3f5f"
          },
          "geo": {
           "bgcolor": "white",
           "lakecolor": "white",
           "landcolor": "#E5ECF6",
           "showlakes": true,
           "showland": true,
           "subunitcolor": "white"
          },
          "hoverlabel": {
           "align": "left"
          },
          "hovermode": "closest",
          "mapbox": {
           "style": "light"
          },
          "paper_bgcolor": "white",
          "plot_bgcolor": "#E5ECF6",
          "polar": {
           "angularaxis": {
            "gridcolor": "white",
            "linecolor": "white",
            "ticks": ""
           },
           "bgcolor": "#E5ECF6",
           "radialaxis": {
            "gridcolor": "white",
            "linecolor": "white",
            "ticks": ""
           }
          },
          "scene": {
           "xaxis": {
            "backgroundcolor": "#E5ECF6",
            "gridcolor": "white",
            "gridwidth": 2,
            "linecolor": "white",
            "showbackground": true,
            "ticks": "",
            "zerolinecolor": "white"
           },
           "yaxis": {
            "backgroundcolor": "#E5ECF6",
            "gridcolor": "white",
            "gridwidth": 2,
            "linecolor": "white",
            "showbackground": true,
            "ticks": "",
            "zerolinecolor": "white"
           },
           "zaxis": {
            "backgroundcolor": "#E5ECF6",
            "gridcolor": "white",
            "gridwidth": 2,
            "linecolor": "white",
            "showbackground": true,
            "ticks": "",
            "zerolinecolor": "white"
           }
          },
          "shapedefaults": {
           "line": {
            "color": "#2a3f5f"
           }
          },
          "ternary": {
           "aaxis": {
            "gridcolor": "white",
            "linecolor": "white",
            "ticks": ""
           },
           "baxis": {
            "gridcolor": "white",
            "linecolor": "white",
            "ticks": ""
           },
           "bgcolor": "#E5ECF6",
           "caxis": {
            "gridcolor": "white",
            "linecolor": "white",
            "ticks": ""
           }
          },
          "title": {
           "x": 0.05
          },
          "xaxis": {
           "automargin": true,
           "gridcolor": "white",
           "linecolor": "white",
           "ticks": "",
           "title": {
            "standoff": 15
           },
           "zerolinecolor": "white",
           "zerolinewidth": 2
          },
          "yaxis": {
           "automargin": true,
           "gridcolor": "white",
           "linecolor": "white",
           "ticks": "",
           "title": {
            "standoff": 15
           },
           "zerolinecolor": "white",
           "zerolinewidth": 2
          }
         }
        },
        "title": {
         "text": "Demographics Cluster 1"
        }
       }
      },
      "text/html": [
       "<div>                            <div id=\"b034ee18-68e5-44c6-b5d2-feadddd479f9\" class=\"plotly-graph-div\" style=\"height:525px; width:100%;\"></div>            <script type=\"text/javascript\">                require([\"plotly\"], function(Plotly) {                    window.PLOTLYENV=window.PLOTLYENV || {};                                    if (document.getElementById(\"b034ee18-68e5-44c6-b5d2-feadddd479f9\")) {                    Plotly.newPlot(                        \"b034ee18-68e5-44c6-b5d2-feadddd479f9\",                        [{\"fill\":\"toself\",\"r\":[0.18443390951174357,0.49731623676755615,0.20283286118980193,0.0,1.0,0.0,0.0],\"theta\":[\"income\",\"age\",\"nbr_children\",\"marital_status_1\",\"marital_status_2\",\"marital_status_3\",\"marital_status_4\"],\"type\":\"scatterpolar\"}],                        {\"template\":{\"data\":{\"histogram2dcontour\":[{\"type\":\"histogram2dcontour\",\"colorbar\":{\"outlinewidth\":0,\"ticks\":\"\"},\"colorscale\":[[0.0,\"#0d0887\"],[0.1111111111111111,\"#46039f\"],[0.2222222222222222,\"#7201a8\"],[0.3333333333333333,\"#9c179e\"],[0.4444444444444444,\"#bd3786\"],[0.5555555555555556,\"#d8576b\"],[0.6666666666666666,\"#ed7953\"],[0.7777777777777778,\"#fb9f3a\"],[0.8888888888888888,\"#fdca26\"],[1.0,\"#f0f921\"]]}],\"choropleth\":[{\"type\":\"choropleth\",\"colorbar\":{\"outlinewidth\":0,\"ticks\":\"\"}}],\"histogram2d\":[{\"type\":\"histogram2d\",\"colorbar\":{\"outlinewidth\":0,\"ticks\":\"\"},\"colorscale\":[[0.0,\"#0d0887\"],[0.1111111111111111,\"#46039f\"],[0.2222222222222222,\"#7201a8\"],[0.3333333333333333,\"#9c179e\"],[0.4444444444444444,\"#bd3786\"],[0.5555555555555556,\"#d8576b\"],[0.6666666666666666,\"#ed7953\"],[0.7777777777777778,\"#fb9f3a\"],[0.8888888888888888,\"#fdca26\"],[1.0,\"#f0f921\"]]}],\"heatmap\":[{\"type\":\"heatmap\",\"colorbar\":{\"outlinewidth\":0,\"ticks\":\"\"},\"colorscale\":[[0.0,\"#0d0887\"],[0.1111111111111111,\"#46039f\"],[0.2222222222222222,\"#7201a8\"],[0.3333333333333333,\"#9c179e\"],[0.4444444444444444,\"#bd3786\"],[0.5555555555555556,\"#d8576b\"],[0.6666666666666666,\"#ed7953\"],[0.7777777777777778,\"#fb9f3a\"],[0.8888888888888888,\"#fdca26\"],[1.0,\"#f0f921\"]]}],\"heatmapgl\":[{\"type\":\"heatmapgl\",\"colorbar\":{\"outlinewidth\":0,\"ticks\":\"\"},\"colorscale\":[[0.0,\"#0d0887\"],[0.1111111111111111,\"#46039f\"],[0.2222222222222222,\"#7201a8\"],[0.3333333333333333,\"#9c179e\"],[0.4444444444444444,\"#bd3786\"],[0.5555555555555556,\"#d8576b\"],[0.6666666666666666,\"#ed7953\"],[0.7777777777777778,\"#fb9f3a\"],[0.8888888888888888,\"#fdca26\"],[1.0,\"#f0f921\"]]}],\"contourcarpet\":[{\"type\":\"contourcarpet\",\"colorbar\":{\"outlinewidth\":0,\"ticks\":\"\"}}],\"contour\":[{\"type\":\"contour\",\"colorbar\":{\"outlinewidth\":0,\"ticks\":\"\"},\"colorscale\":[[0.0,\"#0d0887\"],[0.1111111111111111,\"#46039f\"],[0.2222222222222222,\"#7201a8\"],[0.3333333333333333,\"#9c179e\"],[0.4444444444444444,\"#bd3786\"],[0.5555555555555556,\"#d8576b\"],[0.6666666666666666,\"#ed7953\"],[0.7777777777777778,\"#fb9f3a\"],[0.8888888888888888,\"#fdca26\"],[1.0,\"#f0f921\"]]}],\"surface\":[{\"type\":\"surface\",\"colorbar\":{\"outlinewidth\":0,\"ticks\":\"\"},\"colorscale\":[[0.0,\"#0d0887\"],[0.1111111111111111,\"#46039f\"],[0.2222222222222222,\"#7201a8\"],[0.3333333333333333,\"#9c179e\"],[0.4444444444444444,\"#bd3786\"],[0.5555555555555556,\"#d8576b\"],[0.6666666666666666,\"#ed7953\"],[0.7777777777777778,\"#fb9f3a\"],[0.8888888888888888,\"#fdca26\"],[1.0,\"#f0f921\"]]}],\"mesh3d\":[{\"type\":\"mesh3d\",\"colorbar\":{\"outlinewidth\":0,\"ticks\":\"\"}}],\"scatter\":[{\"fillpattern\":{\"fillmode\":\"overlay\",\"size\":10,\"solidity\":0.2},\"type\":\"scatter\"}],\"parcoords\":[{\"type\":\"parcoords\",\"line\":{\"colorbar\":{\"outlinewidth\":0,\"ticks\":\"\"}}}],\"scatterpolargl\":[{\"type\":\"scatterpolargl\",\"marker\":{\"colorbar\":{\"outlinewidth\":0,\"ticks\":\"\"}}}],\"bar\":[{\"error_x\":{\"color\":\"#2a3f5f\"},\"error_y\":{\"color\":\"#2a3f5f\"},\"marker\":{\"line\":{\"color\":\"#E5ECF6\",\"width\":0.5},\"pattern\":{\"fillmode\":\"overlay\",\"size\":10,\"solidity\":0.2}},\"type\":\"bar\"}],\"scattergeo\":[{\"type\":\"scattergeo\",\"marker\":{\"colorbar\":{\"outlinewidth\":0,\"ticks\":\"\"}}}],\"scatterpolar\":[{\"type\":\"scatterpolar\",\"marker\":{\"colorbar\":{\"outlinewidth\":0,\"ticks\":\"\"}}}],\"histogram\":[{\"marker\":{\"pattern\":{\"fillmode\":\"overlay\",\"size\":10,\"solidity\":0.2}},\"type\":\"histogram\"}],\"scattergl\":[{\"type\":\"scattergl\",\"marker\":{\"colorbar\":{\"outlinewidth\":0,\"ticks\":\"\"}}}],\"scatter3d\":[{\"type\":\"scatter3d\",\"line\":{\"colorbar\":{\"outlinewidth\":0,\"ticks\":\"\"}},\"marker\":{\"colorbar\":{\"outlinewidth\":0,\"ticks\":\"\"}}}],\"scattermapbox\":[{\"type\":\"scattermapbox\",\"marker\":{\"colorbar\":{\"outlinewidth\":0,\"ticks\":\"\"}}}],\"scatterternary\":[{\"type\":\"scatterternary\",\"marker\":{\"colorbar\":{\"outlinewidth\":0,\"ticks\":\"\"}}}],\"scattercarpet\":[{\"type\":\"scattercarpet\",\"marker\":{\"colorbar\":{\"outlinewidth\":0,\"ticks\":\"\"}}}],\"carpet\":[{\"aaxis\":{\"endlinecolor\":\"#2a3f5f\",\"gridcolor\":\"white\",\"linecolor\":\"white\",\"minorgridcolor\":\"white\",\"startlinecolor\":\"#2a3f5f\"},\"baxis\":{\"endlinecolor\":\"#2a3f5f\",\"gridcolor\":\"white\",\"linecolor\":\"white\",\"minorgridcolor\":\"white\",\"startlinecolor\":\"#2a3f5f\"},\"type\":\"carpet\"}],\"table\":[{\"cells\":{\"fill\":{\"color\":\"#EBF0F8\"},\"line\":{\"color\":\"white\"}},\"header\":{\"fill\":{\"color\":\"#C8D4E3\"},\"line\":{\"color\":\"white\"}},\"type\":\"table\"}],\"barpolar\":[{\"marker\":{\"line\":{\"color\":\"#E5ECF6\",\"width\":0.5},\"pattern\":{\"fillmode\":\"overlay\",\"size\":10,\"solidity\":0.2}},\"type\":\"barpolar\"}],\"pie\":[{\"automargin\":true,\"type\":\"pie\"}]},\"layout\":{\"autotypenumbers\":\"strict\",\"colorway\":[\"#636efa\",\"#EF553B\",\"#00cc96\",\"#ab63fa\",\"#FFA15A\",\"#19d3f3\",\"#FF6692\",\"#B6E880\",\"#FF97FF\",\"#FECB52\"],\"font\":{\"color\":\"#2a3f5f\"},\"hovermode\":\"closest\",\"hoverlabel\":{\"align\":\"left\"},\"paper_bgcolor\":\"white\",\"plot_bgcolor\":\"#E5ECF6\",\"polar\":{\"bgcolor\":\"#E5ECF6\",\"angularaxis\":{\"gridcolor\":\"white\",\"linecolor\":\"white\",\"ticks\":\"\"},\"radialaxis\":{\"gridcolor\":\"white\",\"linecolor\":\"white\",\"ticks\":\"\"}},\"ternary\":{\"bgcolor\":\"#E5ECF6\",\"aaxis\":{\"gridcolor\":\"white\",\"linecolor\":\"white\",\"ticks\":\"\"},\"baxis\":{\"gridcolor\":\"white\",\"linecolor\":\"white\",\"ticks\":\"\"},\"caxis\":{\"gridcolor\":\"white\",\"linecolor\":\"white\",\"ticks\":\"\"}},\"coloraxis\":{\"colorbar\":{\"outlinewidth\":0,\"ticks\":\"\"}},\"colorscale\":{\"sequential\":[[0.0,\"#0d0887\"],[0.1111111111111111,\"#46039f\"],[0.2222222222222222,\"#7201a8\"],[0.3333333333333333,\"#9c179e\"],[0.4444444444444444,\"#bd3786\"],[0.5555555555555556,\"#d8576b\"],[0.6666666666666666,\"#ed7953\"],[0.7777777777777778,\"#fb9f3a\"],[0.8888888888888888,\"#fdca26\"],[1.0,\"#f0f921\"]],\"sequentialminus\":[[0.0,\"#0d0887\"],[0.1111111111111111,\"#46039f\"],[0.2222222222222222,\"#7201a8\"],[0.3333333333333333,\"#9c179e\"],[0.4444444444444444,\"#bd3786\"],[0.5555555555555556,\"#d8576b\"],[0.6666666666666666,\"#ed7953\"],[0.7777777777777778,\"#fb9f3a\"],[0.8888888888888888,\"#fdca26\"],[1.0,\"#f0f921\"]],\"diverging\":[[0,\"#8e0152\"],[0.1,\"#c51b7d\"],[0.2,\"#de77ae\"],[0.3,\"#f1b6da\"],[0.4,\"#fde0ef\"],[0.5,\"#f7f7f7\"],[0.6,\"#e6f5d0\"],[0.7,\"#b8e186\"],[0.8,\"#7fbc41\"],[0.9,\"#4d9221\"],[1,\"#276419\"]]},\"xaxis\":{\"gridcolor\":\"white\",\"linecolor\":\"white\",\"ticks\":\"\",\"title\":{\"standoff\":15},\"zerolinecolor\":\"white\",\"automargin\":true,\"zerolinewidth\":2},\"yaxis\":{\"gridcolor\":\"white\",\"linecolor\":\"white\",\"ticks\":\"\",\"title\":{\"standoff\":15},\"zerolinecolor\":\"white\",\"automargin\":true,\"zerolinewidth\":2},\"scene\":{\"xaxis\":{\"backgroundcolor\":\"#E5ECF6\",\"gridcolor\":\"white\",\"linecolor\":\"white\",\"showbackground\":true,\"ticks\":\"\",\"zerolinecolor\":\"white\",\"gridwidth\":2},\"yaxis\":{\"backgroundcolor\":\"#E5ECF6\",\"gridcolor\":\"white\",\"linecolor\":\"white\",\"showbackground\":true,\"ticks\":\"\",\"zerolinecolor\":\"white\",\"gridwidth\":2},\"zaxis\":{\"backgroundcolor\":\"#E5ECF6\",\"gridcolor\":\"white\",\"linecolor\":\"white\",\"showbackground\":true,\"ticks\":\"\",\"zerolinecolor\":\"white\",\"gridwidth\":2}},\"shapedefaults\":{\"line\":{\"color\":\"#2a3f5f\"}},\"annotationdefaults\":{\"arrowcolor\":\"#2a3f5f\",\"arrowhead\":0,\"arrowwidth\":1},\"geo\":{\"bgcolor\":\"white\",\"landcolor\":\"#E5ECF6\",\"subunitcolor\":\"white\",\"showland\":true,\"showlakes\":true,\"lakecolor\":\"white\"},\"title\":{\"x\":0.05},\"mapbox\":{\"style\":\"light\"}}},\"title\":{\"text\":\"Demographics Cluster 1\"}},                        {\"responsive\": true}                    ).then(function(){\n",
       "                            \n",
       "var gd = document.getElementById('b034ee18-68e5-44c6-b5d2-feadddd479f9');\n",
       "var x = new MutationObserver(function (mutations, observer) {{\n",
       "        var display = window.getComputedStyle(gd).display;\n",
       "        if (!display || display === 'none') {{\n",
       "            console.log([gd, 'removed!']);\n",
       "            Plotly.purge(gd);\n",
       "            observer.disconnect();\n",
       "        }}\n",
       "}});\n",
       "\n",
       "// Listen for the removal of the full notebook cells\n",
       "var notebookContainer = gd.closest('#notebook-container');\n",
       "if (notebookContainer) {{\n",
       "    x.observe(notebookContainer, {childList: true});\n",
       "}}\n",
       "\n",
       "// Listen for the clearing of the current output cell\n",
       "var outputEl = gd.closest('.output');\n",
       "if (outputEl) {{\n",
       "    x.observe(outputEl, {childList: true});\n",
       "}}\n",
       "\n",
       "                        })                };                });            </script>        </div>"
      ]
     },
     "metadata": {},
     "output_type": "display_data"
    }
   ],
   "source": [
    "fig = go.Figure()\n",
    "\n",
    "fig.add_trace(go.Scatterpolar(r = df_normal_one.mean(), theta = df_normal_zero.columns, fill='toself'))\n",
    "\n",
    "fig.update_layout(title = 'Demographics Cluster 1')\n",
    "\n",
    "fig.show()"
   ]
  },
  {
   "cell_type": "code",
   "execution_count": 80,
   "id": "fa18a364",
   "metadata": {},
   "outputs": [
    {
     "data": {
      "application/vnd.plotly.v1+json": {
       "config": {
        "plotlyServerURL": "https://plot.ly"
       },
       "data": [
        {
         "fill": "toself",
         "r": [
          0.1867028904002482,
          0.4516917293233083,
          0.31714285714285706,
          0,
          0,
          0,
          1
         ],
         "theta": [
          "income",
          "age",
          "nbr_children",
          "marital_status_1",
          "marital_status_2",
          "marital_status_3",
          "marital_status_4"
         ],
         "type": "scatterpolar"
        }
       ],
       "layout": {
        "template": {
         "data": {
          "bar": [
           {
            "error_x": {
             "color": "#2a3f5f"
            },
            "error_y": {
             "color": "#2a3f5f"
            },
            "marker": {
             "line": {
              "color": "#E5ECF6",
              "width": 0.5
             },
             "pattern": {
              "fillmode": "overlay",
              "size": 10,
              "solidity": 0.2
             }
            },
            "type": "bar"
           }
          ],
          "barpolar": [
           {
            "marker": {
             "line": {
              "color": "#E5ECF6",
              "width": 0.5
             },
             "pattern": {
              "fillmode": "overlay",
              "size": 10,
              "solidity": 0.2
             }
            },
            "type": "barpolar"
           }
          ],
          "carpet": [
           {
            "aaxis": {
             "endlinecolor": "#2a3f5f",
             "gridcolor": "white",
             "linecolor": "white",
             "minorgridcolor": "white",
             "startlinecolor": "#2a3f5f"
            },
            "baxis": {
             "endlinecolor": "#2a3f5f",
             "gridcolor": "white",
             "linecolor": "white",
             "minorgridcolor": "white",
             "startlinecolor": "#2a3f5f"
            },
            "type": "carpet"
           }
          ],
          "choropleth": [
           {
            "colorbar": {
             "outlinewidth": 0,
             "ticks": ""
            },
            "type": "choropleth"
           }
          ],
          "contour": [
           {
            "colorbar": {
             "outlinewidth": 0,
             "ticks": ""
            },
            "colorscale": [
             [
              0,
              "#0d0887"
             ],
             [
              0.1111111111111111,
              "#46039f"
             ],
             [
              0.2222222222222222,
              "#7201a8"
             ],
             [
              0.3333333333333333,
              "#9c179e"
             ],
             [
              0.4444444444444444,
              "#bd3786"
             ],
             [
              0.5555555555555556,
              "#d8576b"
             ],
             [
              0.6666666666666666,
              "#ed7953"
             ],
             [
              0.7777777777777778,
              "#fb9f3a"
             ],
             [
              0.8888888888888888,
              "#fdca26"
             ],
             [
              1,
              "#f0f921"
             ]
            ],
            "type": "contour"
           }
          ],
          "contourcarpet": [
           {
            "colorbar": {
             "outlinewidth": 0,
             "ticks": ""
            },
            "type": "contourcarpet"
           }
          ],
          "heatmap": [
           {
            "colorbar": {
             "outlinewidth": 0,
             "ticks": ""
            },
            "colorscale": [
             [
              0,
              "#0d0887"
             ],
             [
              0.1111111111111111,
              "#46039f"
             ],
             [
              0.2222222222222222,
              "#7201a8"
             ],
             [
              0.3333333333333333,
              "#9c179e"
             ],
             [
              0.4444444444444444,
              "#bd3786"
             ],
             [
              0.5555555555555556,
              "#d8576b"
             ],
             [
              0.6666666666666666,
              "#ed7953"
             ],
             [
              0.7777777777777778,
              "#fb9f3a"
             ],
             [
              0.8888888888888888,
              "#fdca26"
             ],
             [
              1,
              "#f0f921"
             ]
            ],
            "type": "heatmap"
           }
          ],
          "heatmapgl": [
           {
            "colorbar": {
             "outlinewidth": 0,
             "ticks": ""
            },
            "colorscale": [
             [
              0,
              "#0d0887"
             ],
             [
              0.1111111111111111,
              "#46039f"
             ],
             [
              0.2222222222222222,
              "#7201a8"
             ],
             [
              0.3333333333333333,
              "#9c179e"
             ],
             [
              0.4444444444444444,
              "#bd3786"
             ],
             [
              0.5555555555555556,
              "#d8576b"
             ],
             [
              0.6666666666666666,
              "#ed7953"
             ],
             [
              0.7777777777777778,
              "#fb9f3a"
             ],
             [
              0.8888888888888888,
              "#fdca26"
             ],
             [
              1,
              "#f0f921"
             ]
            ],
            "type": "heatmapgl"
           }
          ],
          "histogram": [
           {
            "marker": {
             "pattern": {
              "fillmode": "overlay",
              "size": 10,
              "solidity": 0.2
             }
            },
            "type": "histogram"
           }
          ],
          "histogram2d": [
           {
            "colorbar": {
             "outlinewidth": 0,
             "ticks": ""
            },
            "colorscale": [
             [
              0,
              "#0d0887"
             ],
             [
              0.1111111111111111,
              "#46039f"
             ],
             [
              0.2222222222222222,
              "#7201a8"
             ],
             [
              0.3333333333333333,
              "#9c179e"
             ],
             [
              0.4444444444444444,
              "#bd3786"
             ],
             [
              0.5555555555555556,
              "#d8576b"
             ],
             [
              0.6666666666666666,
              "#ed7953"
             ],
             [
              0.7777777777777778,
              "#fb9f3a"
             ],
             [
              0.8888888888888888,
              "#fdca26"
             ],
             [
              1,
              "#f0f921"
             ]
            ],
            "type": "histogram2d"
           }
          ],
          "histogram2dcontour": [
           {
            "colorbar": {
             "outlinewidth": 0,
             "ticks": ""
            },
            "colorscale": [
             [
              0,
              "#0d0887"
             ],
             [
              0.1111111111111111,
              "#46039f"
             ],
             [
              0.2222222222222222,
              "#7201a8"
             ],
             [
              0.3333333333333333,
              "#9c179e"
             ],
             [
              0.4444444444444444,
              "#bd3786"
             ],
             [
              0.5555555555555556,
              "#d8576b"
             ],
             [
              0.6666666666666666,
              "#ed7953"
             ],
             [
              0.7777777777777778,
              "#fb9f3a"
             ],
             [
              0.8888888888888888,
              "#fdca26"
             ],
             [
              1,
              "#f0f921"
             ]
            ],
            "type": "histogram2dcontour"
           }
          ],
          "mesh3d": [
           {
            "colorbar": {
             "outlinewidth": 0,
             "ticks": ""
            },
            "type": "mesh3d"
           }
          ],
          "parcoords": [
           {
            "line": {
             "colorbar": {
              "outlinewidth": 0,
              "ticks": ""
             }
            },
            "type": "parcoords"
           }
          ],
          "pie": [
           {
            "automargin": true,
            "type": "pie"
           }
          ],
          "scatter": [
           {
            "fillpattern": {
             "fillmode": "overlay",
             "size": 10,
             "solidity": 0.2
            },
            "type": "scatter"
           }
          ],
          "scatter3d": [
           {
            "line": {
             "colorbar": {
              "outlinewidth": 0,
              "ticks": ""
             }
            },
            "marker": {
             "colorbar": {
              "outlinewidth": 0,
              "ticks": ""
             }
            },
            "type": "scatter3d"
           }
          ],
          "scattercarpet": [
           {
            "marker": {
             "colorbar": {
              "outlinewidth": 0,
              "ticks": ""
             }
            },
            "type": "scattercarpet"
           }
          ],
          "scattergeo": [
           {
            "marker": {
             "colorbar": {
              "outlinewidth": 0,
              "ticks": ""
             }
            },
            "type": "scattergeo"
           }
          ],
          "scattergl": [
           {
            "marker": {
             "colorbar": {
              "outlinewidth": 0,
              "ticks": ""
             }
            },
            "type": "scattergl"
           }
          ],
          "scattermapbox": [
           {
            "marker": {
             "colorbar": {
              "outlinewidth": 0,
              "ticks": ""
             }
            },
            "type": "scattermapbox"
           }
          ],
          "scatterpolar": [
           {
            "marker": {
             "colorbar": {
              "outlinewidth": 0,
              "ticks": ""
             }
            },
            "type": "scatterpolar"
           }
          ],
          "scatterpolargl": [
           {
            "marker": {
             "colorbar": {
              "outlinewidth": 0,
              "ticks": ""
             }
            },
            "type": "scatterpolargl"
           }
          ],
          "scatterternary": [
           {
            "marker": {
             "colorbar": {
              "outlinewidth": 0,
              "ticks": ""
             }
            },
            "type": "scatterternary"
           }
          ],
          "surface": [
           {
            "colorbar": {
             "outlinewidth": 0,
             "ticks": ""
            },
            "colorscale": [
             [
              0,
              "#0d0887"
             ],
             [
              0.1111111111111111,
              "#46039f"
             ],
             [
              0.2222222222222222,
              "#7201a8"
             ],
             [
              0.3333333333333333,
              "#9c179e"
             ],
             [
              0.4444444444444444,
              "#bd3786"
             ],
             [
              0.5555555555555556,
              "#d8576b"
             ],
             [
              0.6666666666666666,
              "#ed7953"
             ],
             [
              0.7777777777777778,
              "#fb9f3a"
             ],
             [
              0.8888888888888888,
              "#fdca26"
             ],
             [
              1,
              "#f0f921"
             ]
            ],
            "type": "surface"
           }
          ],
          "table": [
           {
            "cells": {
             "fill": {
              "color": "#EBF0F8"
             },
             "line": {
              "color": "white"
             }
            },
            "header": {
             "fill": {
              "color": "#C8D4E3"
             },
             "line": {
              "color": "white"
             }
            },
            "type": "table"
           }
          ]
         },
         "layout": {
          "annotationdefaults": {
           "arrowcolor": "#2a3f5f",
           "arrowhead": 0,
           "arrowwidth": 1
          },
          "autotypenumbers": "strict",
          "coloraxis": {
           "colorbar": {
            "outlinewidth": 0,
            "ticks": ""
           }
          },
          "colorscale": {
           "diverging": [
            [
             0,
             "#8e0152"
            ],
            [
             0.1,
             "#c51b7d"
            ],
            [
             0.2,
             "#de77ae"
            ],
            [
             0.3,
             "#f1b6da"
            ],
            [
             0.4,
             "#fde0ef"
            ],
            [
             0.5,
             "#f7f7f7"
            ],
            [
             0.6,
             "#e6f5d0"
            ],
            [
             0.7,
             "#b8e186"
            ],
            [
             0.8,
             "#7fbc41"
            ],
            [
             0.9,
             "#4d9221"
            ],
            [
             1,
             "#276419"
            ]
           ],
           "sequential": [
            [
             0,
             "#0d0887"
            ],
            [
             0.1111111111111111,
             "#46039f"
            ],
            [
             0.2222222222222222,
             "#7201a8"
            ],
            [
             0.3333333333333333,
             "#9c179e"
            ],
            [
             0.4444444444444444,
             "#bd3786"
            ],
            [
             0.5555555555555556,
             "#d8576b"
            ],
            [
             0.6666666666666666,
             "#ed7953"
            ],
            [
             0.7777777777777778,
             "#fb9f3a"
            ],
            [
             0.8888888888888888,
             "#fdca26"
            ],
            [
             1,
             "#f0f921"
            ]
           ],
           "sequentialminus": [
            [
             0,
             "#0d0887"
            ],
            [
             0.1111111111111111,
             "#46039f"
            ],
            [
             0.2222222222222222,
             "#7201a8"
            ],
            [
             0.3333333333333333,
             "#9c179e"
            ],
            [
             0.4444444444444444,
             "#bd3786"
            ],
            [
             0.5555555555555556,
             "#d8576b"
            ],
            [
             0.6666666666666666,
             "#ed7953"
            ],
            [
             0.7777777777777778,
             "#fb9f3a"
            ],
            [
             0.8888888888888888,
             "#fdca26"
            ],
            [
             1,
             "#f0f921"
            ]
           ]
          },
          "colorway": [
           "#636efa",
           "#EF553B",
           "#00cc96",
           "#ab63fa",
           "#FFA15A",
           "#19d3f3",
           "#FF6692",
           "#B6E880",
           "#FF97FF",
           "#FECB52"
          ],
          "font": {
           "color": "#2a3f5f"
          },
          "geo": {
           "bgcolor": "white",
           "lakecolor": "white",
           "landcolor": "#E5ECF6",
           "showlakes": true,
           "showland": true,
           "subunitcolor": "white"
          },
          "hoverlabel": {
           "align": "left"
          },
          "hovermode": "closest",
          "mapbox": {
           "style": "light"
          },
          "paper_bgcolor": "white",
          "plot_bgcolor": "#E5ECF6",
          "polar": {
           "angularaxis": {
            "gridcolor": "white",
            "linecolor": "white",
            "ticks": ""
           },
           "bgcolor": "#E5ECF6",
           "radialaxis": {
            "gridcolor": "white",
            "linecolor": "white",
            "ticks": ""
           }
          },
          "scene": {
           "xaxis": {
            "backgroundcolor": "#E5ECF6",
            "gridcolor": "white",
            "gridwidth": 2,
            "linecolor": "white",
            "showbackground": true,
            "ticks": "",
            "zerolinecolor": "white"
           },
           "yaxis": {
            "backgroundcolor": "#E5ECF6",
            "gridcolor": "white",
            "gridwidth": 2,
            "linecolor": "white",
            "showbackground": true,
            "ticks": "",
            "zerolinecolor": "white"
           },
           "zaxis": {
            "backgroundcolor": "#E5ECF6",
            "gridcolor": "white",
            "gridwidth": 2,
            "linecolor": "white",
            "showbackground": true,
            "ticks": "",
            "zerolinecolor": "white"
           }
          },
          "shapedefaults": {
           "line": {
            "color": "#2a3f5f"
           }
          },
          "ternary": {
           "aaxis": {
            "gridcolor": "white",
            "linecolor": "white",
            "ticks": ""
           },
           "baxis": {
            "gridcolor": "white",
            "linecolor": "white",
            "ticks": ""
           },
           "bgcolor": "#E5ECF6",
           "caxis": {
            "gridcolor": "white",
            "linecolor": "white",
            "ticks": ""
           }
          },
          "title": {
           "x": 0.05
          },
          "xaxis": {
           "automargin": true,
           "gridcolor": "white",
           "linecolor": "white",
           "ticks": "",
           "title": {
            "standoff": 15
           },
           "zerolinecolor": "white",
           "zerolinewidth": 2
          },
          "yaxis": {
           "automargin": true,
           "gridcolor": "white",
           "linecolor": "white",
           "ticks": "",
           "title": {
            "standoff": 15
           },
           "zerolinecolor": "white",
           "zerolinewidth": 2
          }
         }
        },
        "title": {
         "text": "Demographics Cluster 2"
        }
       }
      },
      "text/html": [
       "<div>                            <div id=\"638db882-09d5-419e-b457-7f78bbc00ec0\" class=\"plotly-graph-div\" style=\"height:525px; width:100%;\"></div>            <script type=\"text/javascript\">                require([\"plotly\"], function(Plotly) {                    window.PLOTLYENV=window.PLOTLYENV || {};                                    if (document.getElementById(\"638db882-09d5-419e-b457-7f78bbc00ec0\")) {                    Plotly.newPlot(                        \"638db882-09d5-419e-b457-7f78bbc00ec0\",                        [{\"fill\":\"toself\",\"r\":[0.1867028904002482,0.4516917293233083,0.31714285714285706,0.0,0.0,0.0,1.0],\"theta\":[\"income\",\"age\",\"nbr_children\",\"marital_status_1\",\"marital_status_2\",\"marital_status_3\",\"marital_status_4\"],\"type\":\"scatterpolar\"}],                        {\"template\":{\"data\":{\"histogram2dcontour\":[{\"type\":\"histogram2dcontour\",\"colorbar\":{\"outlinewidth\":0,\"ticks\":\"\"},\"colorscale\":[[0.0,\"#0d0887\"],[0.1111111111111111,\"#46039f\"],[0.2222222222222222,\"#7201a8\"],[0.3333333333333333,\"#9c179e\"],[0.4444444444444444,\"#bd3786\"],[0.5555555555555556,\"#d8576b\"],[0.6666666666666666,\"#ed7953\"],[0.7777777777777778,\"#fb9f3a\"],[0.8888888888888888,\"#fdca26\"],[1.0,\"#f0f921\"]]}],\"choropleth\":[{\"type\":\"choropleth\",\"colorbar\":{\"outlinewidth\":0,\"ticks\":\"\"}}],\"histogram2d\":[{\"type\":\"histogram2d\",\"colorbar\":{\"outlinewidth\":0,\"ticks\":\"\"},\"colorscale\":[[0.0,\"#0d0887\"],[0.1111111111111111,\"#46039f\"],[0.2222222222222222,\"#7201a8\"],[0.3333333333333333,\"#9c179e\"],[0.4444444444444444,\"#bd3786\"],[0.5555555555555556,\"#d8576b\"],[0.6666666666666666,\"#ed7953\"],[0.7777777777777778,\"#fb9f3a\"],[0.8888888888888888,\"#fdca26\"],[1.0,\"#f0f921\"]]}],\"heatmap\":[{\"type\":\"heatmap\",\"colorbar\":{\"outlinewidth\":0,\"ticks\":\"\"},\"colorscale\":[[0.0,\"#0d0887\"],[0.1111111111111111,\"#46039f\"],[0.2222222222222222,\"#7201a8\"],[0.3333333333333333,\"#9c179e\"],[0.4444444444444444,\"#bd3786\"],[0.5555555555555556,\"#d8576b\"],[0.6666666666666666,\"#ed7953\"],[0.7777777777777778,\"#fb9f3a\"],[0.8888888888888888,\"#fdca26\"],[1.0,\"#f0f921\"]]}],\"heatmapgl\":[{\"type\":\"heatmapgl\",\"colorbar\":{\"outlinewidth\":0,\"ticks\":\"\"},\"colorscale\":[[0.0,\"#0d0887\"],[0.1111111111111111,\"#46039f\"],[0.2222222222222222,\"#7201a8\"],[0.3333333333333333,\"#9c179e\"],[0.4444444444444444,\"#bd3786\"],[0.5555555555555556,\"#d8576b\"],[0.6666666666666666,\"#ed7953\"],[0.7777777777777778,\"#fb9f3a\"],[0.8888888888888888,\"#fdca26\"],[1.0,\"#f0f921\"]]}],\"contourcarpet\":[{\"type\":\"contourcarpet\",\"colorbar\":{\"outlinewidth\":0,\"ticks\":\"\"}}],\"contour\":[{\"type\":\"contour\",\"colorbar\":{\"outlinewidth\":0,\"ticks\":\"\"},\"colorscale\":[[0.0,\"#0d0887\"],[0.1111111111111111,\"#46039f\"],[0.2222222222222222,\"#7201a8\"],[0.3333333333333333,\"#9c179e\"],[0.4444444444444444,\"#bd3786\"],[0.5555555555555556,\"#d8576b\"],[0.6666666666666666,\"#ed7953\"],[0.7777777777777778,\"#fb9f3a\"],[0.8888888888888888,\"#fdca26\"],[1.0,\"#f0f921\"]]}],\"surface\":[{\"type\":\"surface\",\"colorbar\":{\"outlinewidth\":0,\"ticks\":\"\"},\"colorscale\":[[0.0,\"#0d0887\"],[0.1111111111111111,\"#46039f\"],[0.2222222222222222,\"#7201a8\"],[0.3333333333333333,\"#9c179e\"],[0.4444444444444444,\"#bd3786\"],[0.5555555555555556,\"#d8576b\"],[0.6666666666666666,\"#ed7953\"],[0.7777777777777778,\"#fb9f3a\"],[0.8888888888888888,\"#fdca26\"],[1.0,\"#f0f921\"]]}],\"mesh3d\":[{\"type\":\"mesh3d\",\"colorbar\":{\"outlinewidth\":0,\"ticks\":\"\"}}],\"scatter\":[{\"fillpattern\":{\"fillmode\":\"overlay\",\"size\":10,\"solidity\":0.2},\"type\":\"scatter\"}],\"parcoords\":[{\"type\":\"parcoords\",\"line\":{\"colorbar\":{\"outlinewidth\":0,\"ticks\":\"\"}}}],\"scatterpolargl\":[{\"type\":\"scatterpolargl\",\"marker\":{\"colorbar\":{\"outlinewidth\":0,\"ticks\":\"\"}}}],\"bar\":[{\"error_x\":{\"color\":\"#2a3f5f\"},\"error_y\":{\"color\":\"#2a3f5f\"},\"marker\":{\"line\":{\"color\":\"#E5ECF6\",\"width\":0.5},\"pattern\":{\"fillmode\":\"overlay\",\"size\":10,\"solidity\":0.2}},\"type\":\"bar\"}],\"scattergeo\":[{\"type\":\"scattergeo\",\"marker\":{\"colorbar\":{\"outlinewidth\":0,\"ticks\":\"\"}}}],\"scatterpolar\":[{\"type\":\"scatterpolar\",\"marker\":{\"colorbar\":{\"outlinewidth\":0,\"ticks\":\"\"}}}],\"histogram\":[{\"marker\":{\"pattern\":{\"fillmode\":\"overlay\",\"size\":10,\"solidity\":0.2}},\"type\":\"histogram\"}],\"scattergl\":[{\"type\":\"scattergl\",\"marker\":{\"colorbar\":{\"outlinewidth\":0,\"ticks\":\"\"}}}],\"scatter3d\":[{\"type\":\"scatter3d\",\"line\":{\"colorbar\":{\"outlinewidth\":0,\"ticks\":\"\"}},\"marker\":{\"colorbar\":{\"outlinewidth\":0,\"ticks\":\"\"}}}],\"scattermapbox\":[{\"type\":\"scattermapbox\",\"marker\":{\"colorbar\":{\"outlinewidth\":0,\"ticks\":\"\"}}}],\"scatterternary\":[{\"type\":\"scatterternary\",\"marker\":{\"colorbar\":{\"outlinewidth\":0,\"ticks\":\"\"}}}],\"scattercarpet\":[{\"type\":\"scattercarpet\",\"marker\":{\"colorbar\":{\"outlinewidth\":0,\"ticks\":\"\"}}}],\"carpet\":[{\"aaxis\":{\"endlinecolor\":\"#2a3f5f\",\"gridcolor\":\"white\",\"linecolor\":\"white\",\"minorgridcolor\":\"white\",\"startlinecolor\":\"#2a3f5f\"},\"baxis\":{\"endlinecolor\":\"#2a3f5f\",\"gridcolor\":\"white\",\"linecolor\":\"white\",\"minorgridcolor\":\"white\",\"startlinecolor\":\"#2a3f5f\"},\"type\":\"carpet\"}],\"table\":[{\"cells\":{\"fill\":{\"color\":\"#EBF0F8\"},\"line\":{\"color\":\"white\"}},\"header\":{\"fill\":{\"color\":\"#C8D4E3\"},\"line\":{\"color\":\"white\"}},\"type\":\"table\"}],\"barpolar\":[{\"marker\":{\"line\":{\"color\":\"#E5ECF6\",\"width\":0.5},\"pattern\":{\"fillmode\":\"overlay\",\"size\":10,\"solidity\":0.2}},\"type\":\"barpolar\"}],\"pie\":[{\"automargin\":true,\"type\":\"pie\"}]},\"layout\":{\"autotypenumbers\":\"strict\",\"colorway\":[\"#636efa\",\"#EF553B\",\"#00cc96\",\"#ab63fa\",\"#FFA15A\",\"#19d3f3\",\"#FF6692\",\"#B6E880\",\"#FF97FF\",\"#FECB52\"],\"font\":{\"color\":\"#2a3f5f\"},\"hovermode\":\"closest\",\"hoverlabel\":{\"align\":\"left\"},\"paper_bgcolor\":\"white\",\"plot_bgcolor\":\"#E5ECF6\",\"polar\":{\"bgcolor\":\"#E5ECF6\",\"angularaxis\":{\"gridcolor\":\"white\",\"linecolor\":\"white\",\"ticks\":\"\"},\"radialaxis\":{\"gridcolor\":\"white\",\"linecolor\":\"white\",\"ticks\":\"\"}},\"ternary\":{\"bgcolor\":\"#E5ECF6\",\"aaxis\":{\"gridcolor\":\"white\",\"linecolor\":\"white\",\"ticks\":\"\"},\"baxis\":{\"gridcolor\":\"white\",\"linecolor\":\"white\",\"ticks\":\"\"},\"caxis\":{\"gridcolor\":\"white\",\"linecolor\":\"white\",\"ticks\":\"\"}},\"coloraxis\":{\"colorbar\":{\"outlinewidth\":0,\"ticks\":\"\"}},\"colorscale\":{\"sequential\":[[0.0,\"#0d0887\"],[0.1111111111111111,\"#46039f\"],[0.2222222222222222,\"#7201a8\"],[0.3333333333333333,\"#9c179e\"],[0.4444444444444444,\"#bd3786\"],[0.5555555555555556,\"#d8576b\"],[0.6666666666666666,\"#ed7953\"],[0.7777777777777778,\"#fb9f3a\"],[0.8888888888888888,\"#fdca26\"],[1.0,\"#f0f921\"]],\"sequentialminus\":[[0.0,\"#0d0887\"],[0.1111111111111111,\"#46039f\"],[0.2222222222222222,\"#7201a8\"],[0.3333333333333333,\"#9c179e\"],[0.4444444444444444,\"#bd3786\"],[0.5555555555555556,\"#d8576b\"],[0.6666666666666666,\"#ed7953\"],[0.7777777777777778,\"#fb9f3a\"],[0.8888888888888888,\"#fdca26\"],[1.0,\"#f0f921\"]],\"diverging\":[[0,\"#8e0152\"],[0.1,\"#c51b7d\"],[0.2,\"#de77ae\"],[0.3,\"#f1b6da\"],[0.4,\"#fde0ef\"],[0.5,\"#f7f7f7\"],[0.6,\"#e6f5d0\"],[0.7,\"#b8e186\"],[0.8,\"#7fbc41\"],[0.9,\"#4d9221\"],[1,\"#276419\"]]},\"xaxis\":{\"gridcolor\":\"white\",\"linecolor\":\"white\",\"ticks\":\"\",\"title\":{\"standoff\":15},\"zerolinecolor\":\"white\",\"automargin\":true,\"zerolinewidth\":2},\"yaxis\":{\"gridcolor\":\"white\",\"linecolor\":\"white\",\"ticks\":\"\",\"title\":{\"standoff\":15},\"zerolinecolor\":\"white\",\"automargin\":true,\"zerolinewidth\":2},\"scene\":{\"xaxis\":{\"backgroundcolor\":\"#E5ECF6\",\"gridcolor\":\"white\",\"linecolor\":\"white\",\"showbackground\":true,\"ticks\":\"\",\"zerolinecolor\":\"white\",\"gridwidth\":2},\"yaxis\":{\"backgroundcolor\":\"#E5ECF6\",\"gridcolor\":\"white\",\"linecolor\":\"white\",\"showbackground\":true,\"ticks\":\"\",\"zerolinecolor\":\"white\",\"gridwidth\":2},\"zaxis\":{\"backgroundcolor\":\"#E5ECF6\",\"gridcolor\":\"white\",\"linecolor\":\"white\",\"showbackground\":true,\"ticks\":\"\",\"zerolinecolor\":\"white\",\"gridwidth\":2}},\"shapedefaults\":{\"line\":{\"color\":\"#2a3f5f\"}},\"annotationdefaults\":{\"arrowcolor\":\"#2a3f5f\",\"arrowhead\":0,\"arrowwidth\":1},\"geo\":{\"bgcolor\":\"white\",\"landcolor\":\"#E5ECF6\",\"subunitcolor\":\"white\",\"showland\":true,\"showlakes\":true,\"lakecolor\":\"white\"},\"title\":{\"x\":0.05},\"mapbox\":{\"style\":\"light\"}}},\"title\":{\"text\":\"Demographics Cluster 2\"}},                        {\"responsive\": true}                    ).then(function(){\n",
       "                            \n",
       "var gd = document.getElementById('638db882-09d5-419e-b457-7f78bbc00ec0');\n",
       "var x = new MutationObserver(function (mutations, observer) {{\n",
       "        var display = window.getComputedStyle(gd).display;\n",
       "        if (!display || display === 'none') {{\n",
       "            console.log([gd, 'removed!']);\n",
       "            Plotly.purge(gd);\n",
       "            observer.disconnect();\n",
       "        }}\n",
       "}});\n",
       "\n",
       "// Listen for the removal of the full notebook cells\n",
       "var notebookContainer = gd.closest('#notebook-container');\n",
       "if (notebookContainer) {{\n",
       "    x.observe(notebookContainer, {childList: true});\n",
       "}}\n",
       "\n",
       "// Listen for the clearing of the current output cell\n",
       "var outputEl = gd.closest('.output');\n",
       "if (outputEl) {{\n",
       "    x.observe(outputEl, {childList: true});\n",
       "}}\n",
       "\n",
       "                        })                };                });            </script>        </div>"
      ]
     },
     "metadata": {},
     "output_type": "display_data"
    }
   ],
   "source": [
    "fig = go.Figure()\n",
    "\n",
    "fig.add_trace(go.Scatterpolar(r = df_normal_two.mean(), theta = df_normal_zero.columns, fill='toself'))\n",
    "\n",
    "fig.update_layout(title = 'Demographics Cluster 2')\n",
    "\n",
    "fig.show()"
   ]
  },
  {
   "cell_type": "code",
   "execution_count": 81,
   "id": "f6a0ce7f",
   "metadata": {},
   "outputs": [
    {
     "data": {
      "application/vnd.plotly.v1+json": {
       "config": {
        "plotlyServerURL": "https://plot.ly"
       },
       "data": [
        {
         "fill": "toself",
         "r": [
          0.2599145376221759,
          0.43969298245614025,
          0.2708333333333334,
          0,
          0,
          1,
          0
         ],
         "theta": [
          "income",
          "age",
          "nbr_children",
          "marital_status_1",
          "marital_status_2",
          "marital_status_3",
          "marital_status_4"
         ],
         "type": "scatterpolar"
        }
       ],
       "layout": {
        "template": {
         "data": {
          "bar": [
           {
            "error_x": {
             "color": "#2a3f5f"
            },
            "error_y": {
             "color": "#2a3f5f"
            },
            "marker": {
             "line": {
              "color": "#E5ECF6",
              "width": 0.5
             },
             "pattern": {
              "fillmode": "overlay",
              "size": 10,
              "solidity": 0.2
             }
            },
            "type": "bar"
           }
          ],
          "barpolar": [
           {
            "marker": {
             "line": {
              "color": "#E5ECF6",
              "width": 0.5
             },
             "pattern": {
              "fillmode": "overlay",
              "size": 10,
              "solidity": 0.2
             }
            },
            "type": "barpolar"
           }
          ],
          "carpet": [
           {
            "aaxis": {
             "endlinecolor": "#2a3f5f",
             "gridcolor": "white",
             "linecolor": "white",
             "minorgridcolor": "white",
             "startlinecolor": "#2a3f5f"
            },
            "baxis": {
             "endlinecolor": "#2a3f5f",
             "gridcolor": "white",
             "linecolor": "white",
             "minorgridcolor": "white",
             "startlinecolor": "#2a3f5f"
            },
            "type": "carpet"
           }
          ],
          "choropleth": [
           {
            "colorbar": {
             "outlinewidth": 0,
             "ticks": ""
            },
            "type": "choropleth"
           }
          ],
          "contour": [
           {
            "colorbar": {
             "outlinewidth": 0,
             "ticks": ""
            },
            "colorscale": [
             [
              0,
              "#0d0887"
             ],
             [
              0.1111111111111111,
              "#46039f"
             ],
             [
              0.2222222222222222,
              "#7201a8"
             ],
             [
              0.3333333333333333,
              "#9c179e"
             ],
             [
              0.4444444444444444,
              "#bd3786"
             ],
             [
              0.5555555555555556,
              "#d8576b"
             ],
             [
              0.6666666666666666,
              "#ed7953"
             ],
             [
              0.7777777777777778,
              "#fb9f3a"
             ],
             [
              0.8888888888888888,
              "#fdca26"
             ],
             [
              1,
              "#f0f921"
             ]
            ],
            "type": "contour"
           }
          ],
          "contourcarpet": [
           {
            "colorbar": {
             "outlinewidth": 0,
             "ticks": ""
            },
            "type": "contourcarpet"
           }
          ],
          "heatmap": [
           {
            "colorbar": {
             "outlinewidth": 0,
             "ticks": ""
            },
            "colorscale": [
             [
              0,
              "#0d0887"
             ],
             [
              0.1111111111111111,
              "#46039f"
             ],
             [
              0.2222222222222222,
              "#7201a8"
             ],
             [
              0.3333333333333333,
              "#9c179e"
             ],
             [
              0.4444444444444444,
              "#bd3786"
             ],
             [
              0.5555555555555556,
              "#d8576b"
             ],
             [
              0.6666666666666666,
              "#ed7953"
             ],
             [
              0.7777777777777778,
              "#fb9f3a"
             ],
             [
              0.8888888888888888,
              "#fdca26"
             ],
             [
              1,
              "#f0f921"
             ]
            ],
            "type": "heatmap"
           }
          ],
          "heatmapgl": [
           {
            "colorbar": {
             "outlinewidth": 0,
             "ticks": ""
            },
            "colorscale": [
             [
              0,
              "#0d0887"
             ],
             [
              0.1111111111111111,
              "#46039f"
             ],
             [
              0.2222222222222222,
              "#7201a8"
             ],
             [
              0.3333333333333333,
              "#9c179e"
             ],
             [
              0.4444444444444444,
              "#bd3786"
             ],
             [
              0.5555555555555556,
              "#d8576b"
             ],
             [
              0.6666666666666666,
              "#ed7953"
             ],
             [
              0.7777777777777778,
              "#fb9f3a"
             ],
             [
              0.8888888888888888,
              "#fdca26"
             ],
             [
              1,
              "#f0f921"
             ]
            ],
            "type": "heatmapgl"
           }
          ],
          "histogram": [
           {
            "marker": {
             "pattern": {
              "fillmode": "overlay",
              "size": 10,
              "solidity": 0.2
             }
            },
            "type": "histogram"
           }
          ],
          "histogram2d": [
           {
            "colorbar": {
             "outlinewidth": 0,
             "ticks": ""
            },
            "colorscale": [
             [
              0,
              "#0d0887"
             ],
             [
              0.1111111111111111,
              "#46039f"
             ],
             [
              0.2222222222222222,
              "#7201a8"
             ],
             [
              0.3333333333333333,
              "#9c179e"
             ],
             [
              0.4444444444444444,
              "#bd3786"
             ],
             [
              0.5555555555555556,
              "#d8576b"
             ],
             [
              0.6666666666666666,
              "#ed7953"
             ],
             [
              0.7777777777777778,
              "#fb9f3a"
             ],
             [
              0.8888888888888888,
              "#fdca26"
             ],
             [
              1,
              "#f0f921"
             ]
            ],
            "type": "histogram2d"
           }
          ],
          "histogram2dcontour": [
           {
            "colorbar": {
             "outlinewidth": 0,
             "ticks": ""
            },
            "colorscale": [
             [
              0,
              "#0d0887"
             ],
             [
              0.1111111111111111,
              "#46039f"
             ],
             [
              0.2222222222222222,
              "#7201a8"
             ],
             [
              0.3333333333333333,
              "#9c179e"
             ],
             [
              0.4444444444444444,
              "#bd3786"
             ],
             [
              0.5555555555555556,
              "#d8576b"
             ],
             [
              0.6666666666666666,
              "#ed7953"
             ],
             [
              0.7777777777777778,
              "#fb9f3a"
             ],
             [
              0.8888888888888888,
              "#fdca26"
             ],
             [
              1,
              "#f0f921"
             ]
            ],
            "type": "histogram2dcontour"
           }
          ],
          "mesh3d": [
           {
            "colorbar": {
             "outlinewidth": 0,
             "ticks": ""
            },
            "type": "mesh3d"
           }
          ],
          "parcoords": [
           {
            "line": {
             "colorbar": {
              "outlinewidth": 0,
              "ticks": ""
             }
            },
            "type": "parcoords"
           }
          ],
          "pie": [
           {
            "automargin": true,
            "type": "pie"
           }
          ],
          "scatter": [
           {
            "fillpattern": {
             "fillmode": "overlay",
             "size": 10,
             "solidity": 0.2
            },
            "type": "scatter"
           }
          ],
          "scatter3d": [
           {
            "line": {
             "colorbar": {
              "outlinewidth": 0,
              "ticks": ""
             }
            },
            "marker": {
             "colorbar": {
              "outlinewidth": 0,
              "ticks": ""
             }
            },
            "type": "scatter3d"
           }
          ],
          "scattercarpet": [
           {
            "marker": {
             "colorbar": {
              "outlinewidth": 0,
              "ticks": ""
             }
            },
            "type": "scattercarpet"
           }
          ],
          "scattergeo": [
           {
            "marker": {
             "colorbar": {
              "outlinewidth": 0,
              "ticks": ""
             }
            },
            "type": "scattergeo"
           }
          ],
          "scattergl": [
           {
            "marker": {
             "colorbar": {
              "outlinewidth": 0,
              "ticks": ""
             }
            },
            "type": "scattergl"
           }
          ],
          "scattermapbox": [
           {
            "marker": {
             "colorbar": {
              "outlinewidth": 0,
              "ticks": ""
             }
            },
            "type": "scattermapbox"
           }
          ],
          "scatterpolar": [
           {
            "marker": {
             "colorbar": {
              "outlinewidth": 0,
              "ticks": ""
             }
            },
            "type": "scatterpolar"
           }
          ],
          "scatterpolargl": [
           {
            "marker": {
             "colorbar": {
              "outlinewidth": 0,
              "ticks": ""
             }
            },
            "type": "scatterpolargl"
           }
          ],
          "scatterternary": [
           {
            "marker": {
             "colorbar": {
              "outlinewidth": 0,
              "ticks": ""
             }
            },
            "type": "scatterternary"
           }
          ],
          "surface": [
           {
            "colorbar": {
             "outlinewidth": 0,
             "ticks": ""
            },
            "colorscale": [
             [
              0,
              "#0d0887"
             ],
             [
              0.1111111111111111,
              "#46039f"
             ],
             [
              0.2222222222222222,
              "#7201a8"
             ],
             [
              0.3333333333333333,
              "#9c179e"
             ],
             [
              0.4444444444444444,
              "#bd3786"
             ],
             [
              0.5555555555555556,
              "#d8576b"
             ],
             [
              0.6666666666666666,
              "#ed7953"
             ],
             [
              0.7777777777777778,
              "#fb9f3a"
             ],
             [
              0.8888888888888888,
              "#fdca26"
             ],
             [
              1,
              "#f0f921"
             ]
            ],
            "type": "surface"
           }
          ],
          "table": [
           {
            "cells": {
             "fill": {
              "color": "#EBF0F8"
             },
             "line": {
              "color": "white"
             }
            },
            "header": {
             "fill": {
              "color": "#C8D4E3"
             },
             "line": {
              "color": "white"
             }
            },
            "type": "table"
           }
          ]
         },
         "layout": {
          "annotationdefaults": {
           "arrowcolor": "#2a3f5f",
           "arrowhead": 0,
           "arrowwidth": 1
          },
          "autotypenumbers": "strict",
          "coloraxis": {
           "colorbar": {
            "outlinewidth": 0,
            "ticks": ""
           }
          },
          "colorscale": {
           "diverging": [
            [
             0,
             "#8e0152"
            ],
            [
             0.1,
             "#c51b7d"
            ],
            [
             0.2,
             "#de77ae"
            ],
            [
             0.3,
             "#f1b6da"
            ],
            [
             0.4,
             "#fde0ef"
            ],
            [
             0.5,
             "#f7f7f7"
            ],
            [
             0.6,
             "#e6f5d0"
            ],
            [
             0.7,
             "#b8e186"
            ],
            [
             0.8,
             "#7fbc41"
            ],
            [
             0.9,
             "#4d9221"
            ],
            [
             1,
             "#276419"
            ]
           ],
           "sequential": [
            [
             0,
             "#0d0887"
            ],
            [
             0.1111111111111111,
             "#46039f"
            ],
            [
             0.2222222222222222,
             "#7201a8"
            ],
            [
             0.3333333333333333,
             "#9c179e"
            ],
            [
             0.4444444444444444,
             "#bd3786"
            ],
            [
             0.5555555555555556,
             "#d8576b"
            ],
            [
             0.6666666666666666,
             "#ed7953"
            ],
            [
             0.7777777777777778,
             "#fb9f3a"
            ],
            [
             0.8888888888888888,
             "#fdca26"
            ],
            [
             1,
             "#f0f921"
            ]
           ],
           "sequentialminus": [
            [
             0,
             "#0d0887"
            ],
            [
             0.1111111111111111,
             "#46039f"
            ],
            [
             0.2222222222222222,
             "#7201a8"
            ],
            [
             0.3333333333333333,
             "#9c179e"
            ],
            [
             0.4444444444444444,
             "#bd3786"
            ],
            [
             0.5555555555555556,
             "#d8576b"
            ],
            [
             0.6666666666666666,
             "#ed7953"
            ],
            [
             0.7777777777777778,
             "#fb9f3a"
            ],
            [
             0.8888888888888888,
             "#fdca26"
            ],
            [
             1,
             "#f0f921"
            ]
           ]
          },
          "colorway": [
           "#636efa",
           "#EF553B",
           "#00cc96",
           "#ab63fa",
           "#FFA15A",
           "#19d3f3",
           "#FF6692",
           "#B6E880",
           "#FF97FF",
           "#FECB52"
          ],
          "font": {
           "color": "#2a3f5f"
          },
          "geo": {
           "bgcolor": "white",
           "lakecolor": "white",
           "landcolor": "#E5ECF6",
           "showlakes": true,
           "showland": true,
           "subunitcolor": "white"
          },
          "hoverlabel": {
           "align": "left"
          },
          "hovermode": "closest",
          "mapbox": {
           "style": "light"
          },
          "paper_bgcolor": "white",
          "plot_bgcolor": "#E5ECF6",
          "polar": {
           "angularaxis": {
            "gridcolor": "white",
            "linecolor": "white",
            "ticks": ""
           },
           "bgcolor": "#E5ECF6",
           "radialaxis": {
            "gridcolor": "white",
            "linecolor": "white",
            "ticks": ""
           }
          },
          "scene": {
           "xaxis": {
            "backgroundcolor": "#E5ECF6",
            "gridcolor": "white",
            "gridwidth": 2,
            "linecolor": "white",
            "showbackground": true,
            "ticks": "",
            "zerolinecolor": "white"
           },
           "yaxis": {
            "backgroundcolor": "#E5ECF6",
            "gridcolor": "white",
            "gridwidth": 2,
            "linecolor": "white",
            "showbackground": true,
            "ticks": "",
            "zerolinecolor": "white"
           },
           "zaxis": {
            "backgroundcolor": "#E5ECF6",
            "gridcolor": "white",
            "gridwidth": 2,
            "linecolor": "white",
            "showbackground": true,
            "ticks": "",
            "zerolinecolor": "white"
           }
          },
          "shapedefaults": {
           "line": {
            "color": "#2a3f5f"
           }
          },
          "ternary": {
           "aaxis": {
            "gridcolor": "white",
            "linecolor": "white",
            "ticks": ""
           },
           "baxis": {
            "gridcolor": "white",
            "linecolor": "white",
            "ticks": ""
           },
           "bgcolor": "#E5ECF6",
           "caxis": {
            "gridcolor": "white",
            "linecolor": "white",
            "ticks": ""
           }
          },
          "title": {
           "x": 0.05
          },
          "xaxis": {
           "automargin": true,
           "gridcolor": "white",
           "linecolor": "white",
           "ticks": "",
           "title": {
            "standoff": 15
           },
           "zerolinecolor": "white",
           "zerolinewidth": 2
          },
          "yaxis": {
           "automargin": true,
           "gridcolor": "white",
           "linecolor": "white",
           "ticks": "",
           "title": {
            "standoff": 15
           },
           "zerolinecolor": "white",
           "zerolinewidth": 2
          }
         }
        },
        "title": {
         "text": "Demographics Cluster 3"
        }
       }
      },
      "text/html": [
       "<div>                            <div id=\"3972a1db-8bf4-43e8-bec3-1300435f4cc1\" class=\"plotly-graph-div\" style=\"height:525px; width:100%;\"></div>            <script type=\"text/javascript\">                require([\"plotly\"], function(Plotly) {                    window.PLOTLYENV=window.PLOTLYENV || {};                                    if (document.getElementById(\"3972a1db-8bf4-43e8-bec3-1300435f4cc1\")) {                    Plotly.newPlot(                        \"3972a1db-8bf4-43e8-bec3-1300435f4cc1\",                        [{\"fill\":\"toself\",\"r\":[0.2599145376221759,0.43969298245614025,0.2708333333333334,0.0,0.0,1.0,0.0],\"theta\":[\"income\",\"age\",\"nbr_children\",\"marital_status_1\",\"marital_status_2\",\"marital_status_3\",\"marital_status_4\"],\"type\":\"scatterpolar\"}],                        {\"template\":{\"data\":{\"histogram2dcontour\":[{\"type\":\"histogram2dcontour\",\"colorbar\":{\"outlinewidth\":0,\"ticks\":\"\"},\"colorscale\":[[0.0,\"#0d0887\"],[0.1111111111111111,\"#46039f\"],[0.2222222222222222,\"#7201a8\"],[0.3333333333333333,\"#9c179e\"],[0.4444444444444444,\"#bd3786\"],[0.5555555555555556,\"#d8576b\"],[0.6666666666666666,\"#ed7953\"],[0.7777777777777778,\"#fb9f3a\"],[0.8888888888888888,\"#fdca26\"],[1.0,\"#f0f921\"]]}],\"choropleth\":[{\"type\":\"choropleth\",\"colorbar\":{\"outlinewidth\":0,\"ticks\":\"\"}}],\"histogram2d\":[{\"type\":\"histogram2d\",\"colorbar\":{\"outlinewidth\":0,\"ticks\":\"\"},\"colorscale\":[[0.0,\"#0d0887\"],[0.1111111111111111,\"#46039f\"],[0.2222222222222222,\"#7201a8\"],[0.3333333333333333,\"#9c179e\"],[0.4444444444444444,\"#bd3786\"],[0.5555555555555556,\"#d8576b\"],[0.6666666666666666,\"#ed7953\"],[0.7777777777777778,\"#fb9f3a\"],[0.8888888888888888,\"#fdca26\"],[1.0,\"#f0f921\"]]}],\"heatmap\":[{\"type\":\"heatmap\",\"colorbar\":{\"outlinewidth\":0,\"ticks\":\"\"},\"colorscale\":[[0.0,\"#0d0887\"],[0.1111111111111111,\"#46039f\"],[0.2222222222222222,\"#7201a8\"],[0.3333333333333333,\"#9c179e\"],[0.4444444444444444,\"#bd3786\"],[0.5555555555555556,\"#d8576b\"],[0.6666666666666666,\"#ed7953\"],[0.7777777777777778,\"#fb9f3a\"],[0.8888888888888888,\"#fdca26\"],[1.0,\"#f0f921\"]]}],\"heatmapgl\":[{\"type\":\"heatmapgl\",\"colorbar\":{\"outlinewidth\":0,\"ticks\":\"\"},\"colorscale\":[[0.0,\"#0d0887\"],[0.1111111111111111,\"#46039f\"],[0.2222222222222222,\"#7201a8\"],[0.3333333333333333,\"#9c179e\"],[0.4444444444444444,\"#bd3786\"],[0.5555555555555556,\"#d8576b\"],[0.6666666666666666,\"#ed7953\"],[0.7777777777777778,\"#fb9f3a\"],[0.8888888888888888,\"#fdca26\"],[1.0,\"#f0f921\"]]}],\"contourcarpet\":[{\"type\":\"contourcarpet\",\"colorbar\":{\"outlinewidth\":0,\"ticks\":\"\"}}],\"contour\":[{\"type\":\"contour\",\"colorbar\":{\"outlinewidth\":0,\"ticks\":\"\"},\"colorscale\":[[0.0,\"#0d0887\"],[0.1111111111111111,\"#46039f\"],[0.2222222222222222,\"#7201a8\"],[0.3333333333333333,\"#9c179e\"],[0.4444444444444444,\"#bd3786\"],[0.5555555555555556,\"#d8576b\"],[0.6666666666666666,\"#ed7953\"],[0.7777777777777778,\"#fb9f3a\"],[0.8888888888888888,\"#fdca26\"],[1.0,\"#f0f921\"]]}],\"surface\":[{\"type\":\"surface\",\"colorbar\":{\"outlinewidth\":0,\"ticks\":\"\"},\"colorscale\":[[0.0,\"#0d0887\"],[0.1111111111111111,\"#46039f\"],[0.2222222222222222,\"#7201a8\"],[0.3333333333333333,\"#9c179e\"],[0.4444444444444444,\"#bd3786\"],[0.5555555555555556,\"#d8576b\"],[0.6666666666666666,\"#ed7953\"],[0.7777777777777778,\"#fb9f3a\"],[0.8888888888888888,\"#fdca26\"],[1.0,\"#f0f921\"]]}],\"mesh3d\":[{\"type\":\"mesh3d\",\"colorbar\":{\"outlinewidth\":0,\"ticks\":\"\"}}],\"scatter\":[{\"fillpattern\":{\"fillmode\":\"overlay\",\"size\":10,\"solidity\":0.2},\"type\":\"scatter\"}],\"parcoords\":[{\"type\":\"parcoords\",\"line\":{\"colorbar\":{\"outlinewidth\":0,\"ticks\":\"\"}}}],\"scatterpolargl\":[{\"type\":\"scatterpolargl\",\"marker\":{\"colorbar\":{\"outlinewidth\":0,\"ticks\":\"\"}}}],\"bar\":[{\"error_x\":{\"color\":\"#2a3f5f\"},\"error_y\":{\"color\":\"#2a3f5f\"},\"marker\":{\"line\":{\"color\":\"#E5ECF6\",\"width\":0.5},\"pattern\":{\"fillmode\":\"overlay\",\"size\":10,\"solidity\":0.2}},\"type\":\"bar\"}],\"scattergeo\":[{\"type\":\"scattergeo\",\"marker\":{\"colorbar\":{\"outlinewidth\":0,\"ticks\":\"\"}}}],\"scatterpolar\":[{\"type\":\"scatterpolar\",\"marker\":{\"colorbar\":{\"outlinewidth\":0,\"ticks\":\"\"}}}],\"histogram\":[{\"marker\":{\"pattern\":{\"fillmode\":\"overlay\",\"size\":10,\"solidity\":0.2}},\"type\":\"histogram\"}],\"scattergl\":[{\"type\":\"scattergl\",\"marker\":{\"colorbar\":{\"outlinewidth\":0,\"ticks\":\"\"}}}],\"scatter3d\":[{\"type\":\"scatter3d\",\"line\":{\"colorbar\":{\"outlinewidth\":0,\"ticks\":\"\"}},\"marker\":{\"colorbar\":{\"outlinewidth\":0,\"ticks\":\"\"}}}],\"scattermapbox\":[{\"type\":\"scattermapbox\",\"marker\":{\"colorbar\":{\"outlinewidth\":0,\"ticks\":\"\"}}}],\"scatterternary\":[{\"type\":\"scatterternary\",\"marker\":{\"colorbar\":{\"outlinewidth\":0,\"ticks\":\"\"}}}],\"scattercarpet\":[{\"type\":\"scattercarpet\",\"marker\":{\"colorbar\":{\"outlinewidth\":0,\"ticks\":\"\"}}}],\"carpet\":[{\"aaxis\":{\"endlinecolor\":\"#2a3f5f\",\"gridcolor\":\"white\",\"linecolor\":\"white\",\"minorgridcolor\":\"white\",\"startlinecolor\":\"#2a3f5f\"},\"baxis\":{\"endlinecolor\":\"#2a3f5f\",\"gridcolor\":\"white\",\"linecolor\":\"white\",\"minorgridcolor\":\"white\",\"startlinecolor\":\"#2a3f5f\"},\"type\":\"carpet\"}],\"table\":[{\"cells\":{\"fill\":{\"color\":\"#EBF0F8\"},\"line\":{\"color\":\"white\"}},\"header\":{\"fill\":{\"color\":\"#C8D4E3\"},\"line\":{\"color\":\"white\"}},\"type\":\"table\"}],\"barpolar\":[{\"marker\":{\"line\":{\"color\":\"#E5ECF6\",\"width\":0.5},\"pattern\":{\"fillmode\":\"overlay\",\"size\":10,\"solidity\":0.2}},\"type\":\"barpolar\"}],\"pie\":[{\"automargin\":true,\"type\":\"pie\"}]},\"layout\":{\"autotypenumbers\":\"strict\",\"colorway\":[\"#636efa\",\"#EF553B\",\"#00cc96\",\"#ab63fa\",\"#FFA15A\",\"#19d3f3\",\"#FF6692\",\"#B6E880\",\"#FF97FF\",\"#FECB52\"],\"font\":{\"color\":\"#2a3f5f\"},\"hovermode\":\"closest\",\"hoverlabel\":{\"align\":\"left\"},\"paper_bgcolor\":\"white\",\"plot_bgcolor\":\"#E5ECF6\",\"polar\":{\"bgcolor\":\"#E5ECF6\",\"angularaxis\":{\"gridcolor\":\"white\",\"linecolor\":\"white\",\"ticks\":\"\"},\"radialaxis\":{\"gridcolor\":\"white\",\"linecolor\":\"white\",\"ticks\":\"\"}},\"ternary\":{\"bgcolor\":\"#E5ECF6\",\"aaxis\":{\"gridcolor\":\"white\",\"linecolor\":\"white\",\"ticks\":\"\"},\"baxis\":{\"gridcolor\":\"white\",\"linecolor\":\"white\",\"ticks\":\"\"},\"caxis\":{\"gridcolor\":\"white\",\"linecolor\":\"white\",\"ticks\":\"\"}},\"coloraxis\":{\"colorbar\":{\"outlinewidth\":0,\"ticks\":\"\"}},\"colorscale\":{\"sequential\":[[0.0,\"#0d0887\"],[0.1111111111111111,\"#46039f\"],[0.2222222222222222,\"#7201a8\"],[0.3333333333333333,\"#9c179e\"],[0.4444444444444444,\"#bd3786\"],[0.5555555555555556,\"#d8576b\"],[0.6666666666666666,\"#ed7953\"],[0.7777777777777778,\"#fb9f3a\"],[0.8888888888888888,\"#fdca26\"],[1.0,\"#f0f921\"]],\"sequentialminus\":[[0.0,\"#0d0887\"],[0.1111111111111111,\"#46039f\"],[0.2222222222222222,\"#7201a8\"],[0.3333333333333333,\"#9c179e\"],[0.4444444444444444,\"#bd3786\"],[0.5555555555555556,\"#d8576b\"],[0.6666666666666666,\"#ed7953\"],[0.7777777777777778,\"#fb9f3a\"],[0.8888888888888888,\"#fdca26\"],[1.0,\"#f0f921\"]],\"diverging\":[[0,\"#8e0152\"],[0.1,\"#c51b7d\"],[0.2,\"#de77ae\"],[0.3,\"#f1b6da\"],[0.4,\"#fde0ef\"],[0.5,\"#f7f7f7\"],[0.6,\"#e6f5d0\"],[0.7,\"#b8e186\"],[0.8,\"#7fbc41\"],[0.9,\"#4d9221\"],[1,\"#276419\"]]},\"xaxis\":{\"gridcolor\":\"white\",\"linecolor\":\"white\",\"ticks\":\"\",\"title\":{\"standoff\":15},\"zerolinecolor\":\"white\",\"automargin\":true,\"zerolinewidth\":2},\"yaxis\":{\"gridcolor\":\"white\",\"linecolor\":\"white\",\"ticks\":\"\",\"title\":{\"standoff\":15},\"zerolinecolor\":\"white\",\"automargin\":true,\"zerolinewidth\":2},\"scene\":{\"xaxis\":{\"backgroundcolor\":\"#E5ECF6\",\"gridcolor\":\"white\",\"linecolor\":\"white\",\"showbackground\":true,\"ticks\":\"\",\"zerolinecolor\":\"white\",\"gridwidth\":2},\"yaxis\":{\"backgroundcolor\":\"#E5ECF6\",\"gridcolor\":\"white\",\"linecolor\":\"white\",\"showbackground\":true,\"ticks\":\"\",\"zerolinecolor\":\"white\",\"gridwidth\":2},\"zaxis\":{\"backgroundcolor\":\"#E5ECF6\",\"gridcolor\":\"white\",\"linecolor\":\"white\",\"showbackground\":true,\"ticks\":\"\",\"zerolinecolor\":\"white\",\"gridwidth\":2}},\"shapedefaults\":{\"line\":{\"color\":\"#2a3f5f\"}},\"annotationdefaults\":{\"arrowcolor\":\"#2a3f5f\",\"arrowhead\":0,\"arrowwidth\":1},\"geo\":{\"bgcolor\":\"white\",\"landcolor\":\"#E5ECF6\",\"subunitcolor\":\"white\",\"showland\":true,\"showlakes\":true,\"lakecolor\":\"white\"},\"title\":{\"x\":0.05},\"mapbox\":{\"style\":\"light\"}}},\"title\":{\"text\":\"Demographics Cluster 3\"}},                        {\"responsive\": true}                    ).then(function(){\n",
       "                            \n",
       "var gd = document.getElementById('3972a1db-8bf4-43e8-bec3-1300435f4cc1');\n",
       "var x = new MutationObserver(function (mutations, observer) {{\n",
       "        var display = window.getComputedStyle(gd).display;\n",
       "        if (!display || display === 'none') {{\n",
       "            console.log([gd, 'removed!']);\n",
       "            Plotly.purge(gd);\n",
       "            observer.disconnect();\n",
       "        }}\n",
       "}});\n",
       "\n",
       "// Listen for the removal of the full notebook cells\n",
       "var notebookContainer = gd.closest('#notebook-container');\n",
       "if (notebookContainer) {{\n",
       "    x.observe(notebookContainer, {childList: true});\n",
       "}}\n",
       "\n",
       "// Listen for the clearing of the current output cell\n",
       "var outputEl = gd.closest('.output');\n",
       "if (outputEl) {{\n",
       "    x.observe(outputEl, {childList: true});\n",
       "}}\n",
       "\n",
       "                        })                };                });            </script>        </div>"
      ]
     },
     "metadata": {},
     "output_type": "display_data"
    }
   ],
   "source": [
    "fig = go.Figure()\n",
    "\n",
    "fig.add_trace(go.Scatterpolar(r = df_normal_three.mean(), theta = df_normal_zero.columns, fill='toself'))\n",
    "\n",
    "fig.update_layout(title = 'Demographics Cluster 3')\n",
    "\n",
    "fig.show()"
   ]
  },
  {
   "cell_type": "code",
   "execution_count": 82,
   "id": "79b917e2",
   "metadata": {},
   "outputs": [
    {
     "data": {
      "application/vnd.plotly.v1+json": {
       "config": {
        "plotlyServerURL": "https://plot.ly"
       },
       "data": [
        {
         "fill": "toself",
         "name": "Demographics Cluster 0",
         "r": [
          0.09827638103504908,
          0.22273073989321154,
          0,
          1,
          0,
          0,
          0
         ],
         "theta": [
          "income",
          "age",
          "nbr_children",
          "marital_status_1",
          "marital_status_2",
          "marital_status_3",
          "marital_status_4"
         ],
         "type": "scatterpolar"
        },
        {
         "fill": "toself",
         "name": "Demographics Cluster 1",
         "r": [
          0.18443390951174357,
          0.49731623676755615,
          0.20283286118980193,
          0,
          1,
          0,
          0
         ],
         "theta": [
          "income",
          "age",
          "nbr_children",
          "marital_status_1",
          "marital_status_2",
          "marital_status_3",
          "marital_status_4"
         ],
         "type": "scatterpolar"
        },
        {
         "fill": "toself",
         "name": "Demographics Cluster 2",
         "r": [
          0.1867028904002482,
          0.4516917293233083,
          0.31714285714285706,
          0,
          0,
          0,
          1
         ],
         "theta": [
          "income",
          "age",
          "nbr_children",
          "marital_status_1",
          "marital_status_2",
          "marital_status_3",
          "marital_status_4"
         ],
         "type": "scatterpolar"
        },
        {
         "fill": "toself",
         "name": "Demographics Cluster 3",
         "r": [
          0.2599145376221759,
          0.43969298245614025,
          0.2708333333333334,
          0,
          0,
          1,
          0
         ],
         "theta": [
          "income",
          "age",
          "nbr_children",
          "marital_status_1",
          "marital_status_2",
          "marital_status_3",
          "marital_status_4"
         ],
         "type": "scatterpolar"
        }
       ],
       "layout": {
        "showlegend": true,
        "template": {
         "data": {
          "bar": [
           {
            "error_x": {
             "color": "#2a3f5f"
            },
            "error_y": {
             "color": "#2a3f5f"
            },
            "marker": {
             "line": {
              "color": "#E5ECF6",
              "width": 0.5
             },
             "pattern": {
              "fillmode": "overlay",
              "size": 10,
              "solidity": 0.2
             }
            },
            "type": "bar"
           }
          ],
          "barpolar": [
           {
            "marker": {
             "line": {
              "color": "#E5ECF6",
              "width": 0.5
             },
             "pattern": {
              "fillmode": "overlay",
              "size": 10,
              "solidity": 0.2
             }
            },
            "type": "barpolar"
           }
          ],
          "carpet": [
           {
            "aaxis": {
             "endlinecolor": "#2a3f5f",
             "gridcolor": "white",
             "linecolor": "white",
             "minorgridcolor": "white",
             "startlinecolor": "#2a3f5f"
            },
            "baxis": {
             "endlinecolor": "#2a3f5f",
             "gridcolor": "white",
             "linecolor": "white",
             "minorgridcolor": "white",
             "startlinecolor": "#2a3f5f"
            },
            "type": "carpet"
           }
          ],
          "choropleth": [
           {
            "colorbar": {
             "outlinewidth": 0,
             "ticks": ""
            },
            "type": "choropleth"
           }
          ],
          "contour": [
           {
            "colorbar": {
             "outlinewidth": 0,
             "ticks": ""
            },
            "colorscale": [
             [
              0,
              "#0d0887"
             ],
             [
              0.1111111111111111,
              "#46039f"
             ],
             [
              0.2222222222222222,
              "#7201a8"
             ],
             [
              0.3333333333333333,
              "#9c179e"
             ],
             [
              0.4444444444444444,
              "#bd3786"
             ],
             [
              0.5555555555555556,
              "#d8576b"
             ],
             [
              0.6666666666666666,
              "#ed7953"
             ],
             [
              0.7777777777777778,
              "#fb9f3a"
             ],
             [
              0.8888888888888888,
              "#fdca26"
             ],
             [
              1,
              "#f0f921"
             ]
            ],
            "type": "contour"
           }
          ],
          "contourcarpet": [
           {
            "colorbar": {
             "outlinewidth": 0,
             "ticks": ""
            },
            "type": "contourcarpet"
           }
          ],
          "heatmap": [
           {
            "colorbar": {
             "outlinewidth": 0,
             "ticks": ""
            },
            "colorscale": [
             [
              0,
              "#0d0887"
             ],
             [
              0.1111111111111111,
              "#46039f"
             ],
             [
              0.2222222222222222,
              "#7201a8"
             ],
             [
              0.3333333333333333,
              "#9c179e"
             ],
             [
              0.4444444444444444,
              "#bd3786"
             ],
             [
              0.5555555555555556,
              "#d8576b"
             ],
             [
              0.6666666666666666,
              "#ed7953"
             ],
             [
              0.7777777777777778,
              "#fb9f3a"
             ],
             [
              0.8888888888888888,
              "#fdca26"
             ],
             [
              1,
              "#f0f921"
             ]
            ],
            "type": "heatmap"
           }
          ],
          "heatmapgl": [
           {
            "colorbar": {
             "outlinewidth": 0,
             "ticks": ""
            },
            "colorscale": [
             [
              0,
              "#0d0887"
             ],
             [
              0.1111111111111111,
              "#46039f"
             ],
             [
              0.2222222222222222,
              "#7201a8"
             ],
             [
              0.3333333333333333,
              "#9c179e"
             ],
             [
              0.4444444444444444,
              "#bd3786"
             ],
             [
              0.5555555555555556,
              "#d8576b"
             ],
             [
              0.6666666666666666,
              "#ed7953"
             ],
             [
              0.7777777777777778,
              "#fb9f3a"
             ],
             [
              0.8888888888888888,
              "#fdca26"
             ],
             [
              1,
              "#f0f921"
             ]
            ],
            "type": "heatmapgl"
           }
          ],
          "histogram": [
           {
            "marker": {
             "pattern": {
              "fillmode": "overlay",
              "size": 10,
              "solidity": 0.2
             }
            },
            "type": "histogram"
           }
          ],
          "histogram2d": [
           {
            "colorbar": {
             "outlinewidth": 0,
             "ticks": ""
            },
            "colorscale": [
             [
              0,
              "#0d0887"
             ],
             [
              0.1111111111111111,
              "#46039f"
             ],
             [
              0.2222222222222222,
              "#7201a8"
             ],
             [
              0.3333333333333333,
              "#9c179e"
             ],
             [
              0.4444444444444444,
              "#bd3786"
             ],
             [
              0.5555555555555556,
              "#d8576b"
             ],
             [
              0.6666666666666666,
              "#ed7953"
             ],
             [
              0.7777777777777778,
              "#fb9f3a"
             ],
             [
              0.8888888888888888,
              "#fdca26"
             ],
             [
              1,
              "#f0f921"
             ]
            ],
            "type": "histogram2d"
           }
          ],
          "histogram2dcontour": [
           {
            "colorbar": {
             "outlinewidth": 0,
             "ticks": ""
            },
            "colorscale": [
             [
              0,
              "#0d0887"
             ],
             [
              0.1111111111111111,
              "#46039f"
             ],
             [
              0.2222222222222222,
              "#7201a8"
             ],
             [
              0.3333333333333333,
              "#9c179e"
             ],
             [
              0.4444444444444444,
              "#bd3786"
             ],
             [
              0.5555555555555556,
              "#d8576b"
             ],
             [
              0.6666666666666666,
              "#ed7953"
             ],
             [
              0.7777777777777778,
              "#fb9f3a"
             ],
             [
              0.8888888888888888,
              "#fdca26"
             ],
             [
              1,
              "#f0f921"
             ]
            ],
            "type": "histogram2dcontour"
           }
          ],
          "mesh3d": [
           {
            "colorbar": {
             "outlinewidth": 0,
             "ticks": ""
            },
            "type": "mesh3d"
           }
          ],
          "parcoords": [
           {
            "line": {
             "colorbar": {
              "outlinewidth": 0,
              "ticks": ""
             }
            },
            "type": "parcoords"
           }
          ],
          "pie": [
           {
            "automargin": true,
            "type": "pie"
           }
          ],
          "scatter": [
           {
            "fillpattern": {
             "fillmode": "overlay",
             "size": 10,
             "solidity": 0.2
            },
            "type": "scatter"
           }
          ],
          "scatter3d": [
           {
            "line": {
             "colorbar": {
              "outlinewidth": 0,
              "ticks": ""
             }
            },
            "marker": {
             "colorbar": {
              "outlinewidth": 0,
              "ticks": ""
             }
            },
            "type": "scatter3d"
           }
          ],
          "scattercarpet": [
           {
            "marker": {
             "colorbar": {
              "outlinewidth": 0,
              "ticks": ""
             }
            },
            "type": "scattercarpet"
           }
          ],
          "scattergeo": [
           {
            "marker": {
             "colorbar": {
              "outlinewidth": 0,
              "ticks": ""
             }
            },
            "type": "scattergeo"
           }
          ],
          "scattergl": [
           {
            "marker": {
             "colorbar": {
              "outlinewidth": 0,
              "ticks": ""
             }
            },
            "type": "scattergl"
           }
          ],
          "scattermapbox": [
           {
            "marker": {
             "colorbar": {
              "outlinewidth": 0,
              "ticks": ""
             }
            },
            "type": "scattermapbox"
           }
          ],
          "scatterpolar": [
           {
            "marker": {
             "colorbar": {
              "outlinewidth": 0,
              "ticks": ""
             }
            },
            "type": "scatterpolar"
           }
          ],
          "scatterpolargl": [
           {
            "marker": {
             "colorbar": {
              "outlinewidth": 0,
              "ticks": ""
             }
            },
            "type": "scatterpolargl"
           }
          ],
          "scatterternary": [
           {
            "marker": {
             "colorbar": {
              "outlinewidth": 0,
              "ticks": ""
             }
            },
            "type": "scatterternary"
           }
          ],
          "surface": [
           {
            "colorbar": {
             "outlinewidth": 0,
             "ticks": ""
            },
            "colorscale": [
             [
              0,
              "#0d0887"
             ],
             [
              0.1111111111111111,
              "#46039f"
             ],
             [
              0.2222222222222222,
              "#7201a8"
             ],
             [
              0.3333333333333333,
              "#9c179e"
             ],
             [
              0.4444444444444444,
              "#bd3786"
             ],
             [
              0.5555555555555556,
              "#d8576b"
             ],
             [
              0.6666666666666666,
              "#ed7953"
             ],
             [
              0.7777777777777778,
              "#fb9f3a"
             ],
             [
              0.8888888888888888,
              "#fdca26"
             ],
             [
              1,
              "#f0f921"
             ]
            ],
            "type": "surface"
           }
          ],
          "table": [
           {
            "cells": {
             "fill": {
              "color": "#EBF0F8"
             },
             "line": {
              "color": "white"
             }
            },
            "header": {
             "fill": {
              "color": "#C8D4E3"
             },
             "line": {
              "color": "white"
             }
            },
            "type": "table"
           }
          ]
         },
         "layout": {
          "annotationdefaults": {
           "arrowcolor": "#2a3f5f",
           "arrowhead": 0,
           "arrowwidth": 1
          },
          "autotypenumbers": "strict",
          "coloraxis": {
           "colorbar": {
            "outlinewidth": 0,
            "ticks": ""
           }
          },
          "colorscale": {
           "diverging": [
            [
             0,
             "#8e0152"
            ],
            [
             0.1,
             "#c51b7d"
            ],
            [
             0.2,
             "#de77ae"
            ],
            [
             0.3,
             "#f1b6da"
            ],
            [
             0.4,
             "#fde0ef"
            ],
            [
             0.5,
             "#f7f7f7"
            ],
            [
             0.6,
             "#e6f5d0"
            ],
            [
             0.7,
             "#b8e186"
            ],
            [
             0.8,
             "#7fbc41"
            ],
            [
             0.9,
             "#4d9221"
            ],
            [
             1,
             "#276419"
            ]
           ],
           "sequential": [
            [
             0,
             "#0d0887"
            ],
            [
             0.1111111111111111,
             "#46039f"
            ],
            [
             0.2222222222222222,
             "#7201a8"
            ],
            [
             0.3333333333333333,
             "#9c179e"
            ],
            [
             0.4444444444444444,
             "#bd3786"
            ],
            [
             0.5555555555555556,
             "#d8576b"
            ],
            [
             0.6666666666666666,
             "#ed7953"
            ],
            [
             0.7777777777777778,
             "#fb9f3a"
            ],
            [
             0.8888888888888888,
             "#fdca26"
            ],
            [
             1,
             "#f0f921"
            ]
           ],
           "sequentialminus": [
            [
             0,
             "#0d0887"
            ],
            [
             0.1111111111111111,
             "#46039f"
            ],
            [
             0.2222222222222222,
             "#7201a8"
            ],
            [
             0.3333333333333333,
             "#9c179e"
            ],
            [
             0.4444444444444444,
             "#bd3786"
            ],
            [
             0.5555555555555556,
             "#d8576b"
            ],
            [
             0.6666666666666666,
             "#ed7953"
            ],
            [
             0.7777777777777778,
             "#fb9f3a"
            ],
            [
             0.8888888888888888,
             "#fdca26"
            ],
            [
             1,
             "#f0f921"
            ]
           ]
          },
          "colorway": [
           "#636efa",
           "#EF553B",
           "#00cc96",
           "#ab63fa",
           "#FFA15A",
           "#19d3f3",
           "#FF6692",
           "#B6E880",
           "#FF97FF",
           "#FECB52"
          ],
          "font": {
           "color": "#2a3f5f"
          },
          "geo": {
           "bgcolor": "white",
           "lakecolor": "white",
           "landcolor": "#E5ECF6",
           "showlakes": true,
           "showland": true,
           "subunitcolor": "white"
          },
          "hoverlabel": {
           "align": "left"
          },
          "hovermode": "closest",
          "mapbox": {
           "style": "light"
          },
          "paper_bgcolor": "white",
          "plot_bgcolor": "#E5ECF6",
          "polar": {
           "angularaxis": {
            "gridcolor": "white",
            "linecolor": "white",
            "ticks": ""
           },
           "bgcolor": "#E5ECF6",
           "radialaxis": {
            "gridcolor": "white",
            "linecolor": "white",
            "ticks": ""
           }
          },
          "scene": {
           "xaxis": {
            "backgroundcolor": "#E5ECF6",
            "gridcolor": "white",
            "gridwidth": 2,
            "linecolor": "white",
            "showbackground": true,
            "ticks": "",
            "zerolinecolor": "white"
           },
           "yaxis": {
            "backgroundcolor": "#E5ECF6",
            "gridcolor": "white",
            "gridwidth": 2,
            "linecolor": "white",
            "showbackground": true,
            "ticks": "",
            "zerolinecolor": "white"
           },
           "zaxis": {
            "backgroundcolor": "#E5ECF6",
            "gridcolor": "white",
            "gridwidth": 2,
            "linecolor": "white",
            "showbackground": true,
            "ticks": "",
            "zerolinecolor": "white"
           }
          },
          "shapedefaults": {
           "line": {
            "color": "#2a3f5f"
           }
          },
          "ternary": {
           "aaxis": {
            "gridcolor": "white",
            "linecolor": "white",
            "ticks": ""
           },
           "baxis": {
            "gridcolor": "white",
            "linecolor": "white",
            "ticks": ""
           },
           "bgcolor": "#E5ECF6",
           "caxis": {
            "gridcolor": "white",
            "linecolor": "white",
            "ticks": ""
           }
          },
          "title": {
           "x": 0.05
          },
          "xaxis": {
           "automargin": true,
           "gridcolor": "white",
           "linecolor": "white",
           "ticks": "",
           "title": {
            "standoff": 15
           },
           "zerolinecolor": "white",
           "zerolinewidth": 2
          },
          "yaxis": {
           "automargin": true,
           "gridcolor": "white",
           "linecolor": "white",
           "ticks": "",
           "title": {
            "standoff": 15
           },
           "zerolinecolor": "white",
           "zerolinewidth": 2
          }
         }
        },
        "title": {
         "text": "All Demographics Clusters"
        }
       }
      },
      "text/html": [
       "<div>                            <div id=\"b6d15cac-fd39-45f2-907c-819946a2afc2\" class=\"plotly-graph-div\" style=\"height:525px; width:100%;\"></div>            <script type=\"text/javascript\">                require([\"plotly\"], function(Plotly) {                    window.PLOTLYENV=window.PLOTLYENV || {};                                    if (document.getElementById(\"b6d15cac-fd39-45f2-907c-819946a2afc2\")) {                    Plotly.newPlot(                        \"b6d15cac-fd39-45f2-907c-819946a2afc2\",                        [{\"fill\":\"toself\",\"name\":\"Demographics Cluster 0\",\"r\":[0.09827638103504908,0.22273073989321154,0.0,1.0,0.0,0.0,0.0],\"theta\":[\"income\",\"age\",\"nbr_children\",\"marital_status_1\",\"marital_status_2\",\"marital_status_3\",\"marital_status_4\"],\"type\":\"scatterpolar\"},{\"fill\":\"toself\",\"name\":\"Demographics Cluster 1\",\"r\":[0.18443390951174357,0.49731623676755615,0.20283286118980193,0.0,1.0,0.0,0.0],\"theta\":[\"income\",\"age\",\"nbr_children\",\"marital_status_1\",\"marital_status_2\",\"marital_status_3\",\"marital_status_4\"],\"type\":\"scatterpolar\"},{\"fill\":\"toself\",\"name\":\"Demographics Cluster 2\",\"r\":[0.1867028904002482,0.4516917293233083,0.31714285714285706,0.0,0.0,0.0,1.0],\"theta\":[\"income\",\"age\",\"nbr_children\",\"marital_status_1\",\"marital_status_2\",\"marital_status_3\",\"marital_status_4\"],\"type\":\"scatterpolar\"},{\"fill\":\"toself\",\"name\":\"Demographics Cluster 3\",\"r\":[0.2599145376221759,0.43969298245614025,0.2708333333333334,0.0,0.0,1.0,0.0],\"theta\":[\"income\",\"age\",\"nbr_children\",\"marital_status_1\",\"marital_status_2\",\"marital_status_3\",\"marital_status_4\"],\"type\":\"scatterpolar\"}],                        {\"template\":{\"data\":{\"histogram2dcontour\":[{\"type\":\"histogram2dcontour\",\"colorbar\":{\"outlinewidth\":0,\"ticks\":\"\"},\"colorscale\":[[0.0,\"#0d0887\"],[0.1111111111111111,\"#46039f\"],[0.2222222222222222,\"#7201a8\"],[0.3333333333333333,\"#9c179e\"],[0.4444444444444444,\"#bd3786\"],[0.5555555555555556,\"#d8576b\"],[0.6666666666666666,\"#ed7953\"],[0.7777777777777778,\"#fb9f3a\"],[0.8888888888888888,\"#fdca26\"],[1.0,\"#f0f921\"]]}],\"choropleth\":[{\"type\":\"choropleth\",\"colorbar\":{\"outlinewidth\":0,\"ticks\":\"\"}}],\"histogram2d\":[{\"type\":\"histogram2d\",\"colorbar\":{\"outlinewidth\":0,\"ticks\":\"\"},\"colorscale\":[[0.0,\"#0d0887\"],[0.1111111111111111,\"#46039f\"],[0.2222222222222222,\"#7201a8\"],[0.3333333333333333,\"#9c179e\"],[0.4444444444444444,\"#bd3786\"],[0.5555555555555556,\"#d8576b\"],[0.6666666666666666,\"#ed7953\"],[0.7777777777777778,\"#fb9f3a\"],[0.8888888888888888,\"#fdca26\"],[1.0,\"#f0f921\"]]}],\"heatmap\":[{\"type\":\"heatmap\",\"colorbar\":{\"outlinewidth\":0,\"ticks\":\"\"},\"colorscale\":[[0.0,\"#0d0887\"],[0.1111111111111111,\"#46039f\"],[0.2222222222222222,\"#7201a8\"],[0.3333333333333333,\"#9c179e\"],[0.4444444444444444,\"#bd3786\"],[0.5555555555555556,\"#d8576b\"],[0.6666666666666666,\"#ed7953\"],[0.7777777777777778,\"#fb9f3a\"],[0.8888888888888888,\"#fdca26\"],[1.0,\"#f0f921\"]]}],\"heatmapgl\":[{\"type\":\"heatmapgl\",\"colorbar\":{\"outlinewidth\":0,\"ticks\":\"\"},\"colorscale\":[[0.0,\"#0d0887\"],[0.1111111111111111,\"#46039f\"],[0.2222222222222222,\"#7201a8\"],[0.3333333333333333,\"#9c179e\"],[0.4444444444444444,\"#bd3786\"],[0.5555555555555556,\"#d8576b\"],[0.6666666666666666,\"#ed7953\"],[0.7777777777777778,\"#fb9f3a\"],[0.8888888888888888,\"#fdca26\"],[1.0,\"#f0f921\"]]}],\"contourcarpet\":[{\"type\":\"contourcarpet\",\"colorbar\":{\"outlinewidth\":0,\"ticks\":\"\"}}],\"contour\":[{\"type\":\"contour\",\"colorbar\":{\"outlinewidth\":0,\"ticks\":\"\"},\"colorscale\":[[0.0,\"#0d0887\"],[0.1111111111111111,\"#46039f\"],[0.2222222222222222,\"#7201a8\"],[0.3333333333333333,\"#9c179e\"],[0.4444444444444444,\"#bd3786\"],[0.5555555555555556,\"#d8576b\"],[0.6666666666666666,\"#ed7953\"],[0.7777777777777778,\"#fb9f3a\"],[0.8888888888888888,\"#fdca26\"],[1.0,\"#f0f921\"]]}],\"surface\":[{\"type\":\"surface\",\"colorbar\":{\"outlinewidth\":0,\"ticks\":\"\"},\"colorscale\":[[0.0,\"#0d0887\"],[0.1111111111111111,\"#46039f\"],[0.2222222222222222,\"#7201a8\"],[0.3333333333333333,\"#9c179e\"],[0.4444444444444444,\"#bd3786\"],[0.5555555555555556,\"#d8576b\"],[0.6666666666666666,\"#ed7953\"],[0.7777777777777778,\"#fb9f3a\"],[0.8888888888888888,\"#fdca26\"],[1.0,\"#f0f921\"]]}],\"mesh3d\":[{\"type\":\"mesh3d\",\"colorbar\":{\"outlinewidth\":0,\"ticks\":\"\"}}],\"scatter\":[{\"fillpattern\":{\"fillmode\":\"overlay\",\"size\":10,\"solidity\":0.2},\"type\":\"scatter\"}],\"parcoords\":[{\"type\":\"parcoords\",\"line\":{\"colorbar\":{\"outlinewidth\":0,\"ticks\":\"\"}}}],\"scatterpolargl\":[{\"type\":\"scatterpolargl\",\"marker\":{\"colorbar\":{\"outlinewidth\":0,\"ticks\":\"\"}}}],\"bar\":[{\"error_x\":{\"color\":\"#2a3f5f\"},\"error_y\":{\"color\":\"#2a3f5f\"},\"marker\":{\"line\":{\"color\":\"#E5ECF6\",\"width\":0.5},\"pattern\":{\"fillmode\":\"overlay\",\"size\":10,\"solidity\":0.2}},\"type\":\"bar\"}],\"scattergeo\":[{\"type\":\"scattergeo\",\"marker\":{\"colorbar\":{\"outlinewidth\":0,\"ticks\":\"\"}}}],\"scatterpolar\":[{\"type\":\"scatterpolar\",\"marker\":{\"colorbar\":{\"outlinewidth\":0,\"ticks\":\"\"}}}],\"histogram\":[{\"marker\":{\"pattern\":{\"fillmode\":\"overlay\",\"size\":10,\"solidity\":0.2}},\"type\":\"histogram\"}],\"scattergl\":[{\"type\":\"scattergl\",\"marker\":{\"colorbar\":{\"outlinewidth\":0,\"ticks\":\"\"}}}],\"scatter3d\":[{\"type\":\"scatter3d\",\"line\":{\"colorbar\":{\"outlinewidth\":0,\"ticks\":\"\"}},\"marker\":{\"colorbar\":{\"outlinewidth\":0,\"ticks\":\"\"}}}],\"scattermapbox\":[{\"type\":\"scattermapbox\",\"marker\":{\"colorbar\":{\"outlinewidth\":0,\"ticks\":\"\"}}}],\"scatterternary\":[{\"type\":\"scatterternary\",\"marker\":{\"colorbar\":{\"outlinewidth\":0,\"ticks\":\"\"}}}],\"scattercarpet\":[{\"type\":\"scattercarpet\",\"marker\":{\"colorbar\":{\"outlinewidth\":0,\"ticks\":\"\"}}}],\"carpet\":[{\"aaxis\":{\"endlinecolor\":\"#2a3f5f\",\"gridcolor\":\"white\",\"linecolor\":\"white\",\"minorgridcolor\":\"white\",\"startlinecolor\":\"#2a3f5f\"},\"baxis\":{\"endlinecolor\":\"#2a3f5f\",\"gridcolor\":\"white\",\"linecolor\":\"white\",\"minorgridcolor\":\"white\",\"startlinecolor\":\"#2a3f5f\"},\"type\":\"carpet\"}],\"table\":[{\"cells\":{\"fill\":{\"color\":\"#EBF0F8\"},\"line\":{\"color\":\"white\"}},\"header\":{\"fill\":{\"color\":\"#C8D4E3\"},\"line\":{\"color\":\"white\"}},\"type\":\"table\"}],\"barpolar\":[{\"marker\":{\"line\":{\"color\":\"#E5ECF6\",\"width\":0.5},\"pattern\":{\"fillmode\":\"overlay\",\"size\":10,\"solidity\":0.2}},\"type\":\"barpolar\"}],\"pie\":[{\"automargin\":true,\"type\":\"pie\"}]},\"layout\":{\"autotypenumbers\":\"strict\",\"colorway\":[\"#636efa\",\"#EF553B\",\"#00cc96\",\"#ab63fa\",\"#FFA15A\",\"#19d3f3\",\"#FF6692\",\"#B6E880\",\"#FF97FF\",\"#FECB52\"],\"font\":{\"color\":\"#2a3f5f\"},\"hovermode\":\"closest\",\"hoverlabel\":{\"align\":\"left\"},\"paper_bgcolor\":\"white\",\"plot_bgcolor\":\"#E5ECF6\",\"polar\":{\"bgcolor\":\"#E5ECF6\",\"angularaxis\":{\"gridcolor\":\"white\",\"linecolor\":\"white\",\"ticks\":\"\"},\"radialaxis\":{\"gridcolor\":\"white\",\"linecolor\":\"white\",\"ticks\":\"\"}},\"ternary\":{\"bgcolor\":\"#E5ECF6\",\"aaxis\":{\"gridcolor\":\"white\",\"linecolor\":\"white\",\"ticks\":\"\"},\"baxis\":{\"gridcolor\":\"white\",\"linecolor\":\"white\",\"ticks\":\"\"},\"caxis\":{\"gridcolor\":\"white\",\"linecolor\":\"white\",\"ticks\":\"\"}},\"coloraxis\":{\"colorbar\":{\"outlinewidth\":0,\"ticks\":\"\"}},\"colorscale\":{\"sequential\":[[0.0,\"#0d0887\"],[0.1111111111111111,\"#46039f\"],[0.2222222222222222,\"#7201a8\"],[0.3333333333333333,\"#9c179e\"],[0.4444444444444444,\"#bd3786\"],[0.5555555555555556,\"#d8576b\"],[0.6666666666666666,\"#ed7953\"],[0.7777777777777778,\"#fb9f3a\"],[0.8888888888888888,\"#fdca26\"],[1.0,\"#f0f921\"]],\"sequentialminus\":[[0.0,\"#0d0887\"],[0.1111111111111111,\"#46039f\"],[0.2222222222222222,\"#7201a8\"],[0.3333333333333333,\"#9c179e\"],[0.4444444444444444,\"#bd3786\"],[0.5555555555555556,\"#d8576b\"],[0.6666666666666666,\"#ed7953\"],[0.7777777777777778,\"#fb9f3a\"],[0.8888888888888888,\"#fdca26\"],[1.0,\"#f0f921\"]],\"diverging\":[[0,\"#8e0152\"],[0.1,\"#c51b7d\"],[0.2,\"#de77ae\"],[0.3,\"#f1b6da\"],[0.4,\"#fde0ef\"],[0.5,\"#f7f7f7\"],[0.6,\"#e6f5d0\"],[0.7,\"#b8e186\"],[0.8,\"#7fbc41\"],[0.9,\"#4d9221\"],[1,\"#276419\"]]},\"xaxis\":{\"gridcolor\":\"white\",\"linecolor\":\"white\",\"ticks\":\"\",\"title\":{\"standoff\":15},\"zerolinecolor\":\"white\",\"automargin\":true,\"zerolinewidth\":2},\"yaxis\":{\"gridcolor\":\"white\",\"linecolor\":\"white\",\"ticks\":\"\",\"title\":{\"standoff\":15},\"zerolinecolor\":\"white\",\"automargin\":true,\"zerolinewidth\":2},\"scene\":{\"xaxis\":{\"backgroundcolor\":\"#E5ECF6\",\"gridcolor\":\"white\",\"linecolor\":\"white\",\"showbackground\":true,\"ticks\":\"\",\"zerolinecolor\":\"white\",\"gridwidth\":2},\"yaxis\":{\"backgroundcolor\":\"#E5ECF6\",\"gridcolor\":\"white\",\"linecolor\":\"white\",\"showbackground\":true,\"ticks\":\"\",\"zerolinecolor\":\"white\",\"gridwidth\":2},\"zaxis\":{\"backgroundcolor\":\"#E5ECF6\",\"gridcolor\":\"white\",\"linecolor\":\"white\",\"showbackground\":true,\"ticks\":\"\",\"zerolinecolor\":\"white\",\"gridwidth\":2}},\"shapedefaults\":{\"line\":{\"color\":\"#2a3f5f\"}},\"annotationdefaults\":{\"arrowcolor\":\"#2a3f5f\",\"arrowhead\":0,\"arrowwidth\":1},\"geo\":{\"bgcolor\":\"white\",\"landcolor\":\"#E5ECF6\",\"subunitcolor\":\"white\",\"showland\":true,\"showlakes\":true,\"lakecolor\":\"white\"},\"title\":{\"x\":0.05},\"mapbox\":{\"style\":\"light\"}}},\"title\":{\"text\":\"All Demographics Clusters\"},\"showlegend\":true},                        {\"responsive\": true}                    ).then(function(){\n",
       "                            \n",
       "var gd = document.getElementById('b6d15cac-fd39-45f2-907c-819946a2afc2');\n",
       "var x = new MutationObserver(function (mutations, observer) {{\n",
       "        var display = window.getComputedStyle(gd).display;\n",
       "        if (!display || display === 'none') {{\n",
       "            console.log([gd, 'removed!']);\n",
       "            Plotly.purge(gd);\n",
       "            observer.disconnect();\n",
       "        }}\n",
       "}});\n",
       "\n",
       "// Listen for the removal of the full notebook cells\n",
       "var notebookContainer = gd.closest('#notebook-container');\n",
       "if (notebookContainer) {{\n",
       "    x.observe(notebookContainer, {childList: true});\n",
       "}}\n",
       "\n",
       "// Listen for the clearing of the current output cell\n",
       "var outputEl = gd.closest('.output');\n",
       "if (outputEl) {{\n",
       "    x.observe(outputEl, {childList: true});\n",
       "}}\n",
       "\n",
       "                        })                };                });            </script>        </div>"
      ]
     },
     "metadata": {},
     "output_type": "display_data"
    }
   ],
   "source": [
    "fig = go.Figure()\n",
    "\n",
    "fig.add_trace(go.Scatterpolar(r = df_normal_zero.mean(), theta = df_normal_zero.columns,fill='toself', name = 'Demographics Cluster 0'))\n",
    "fig.add_trace(go.Scatterpolar(r = df_normal_one.mean(), theta = df_normal_zero.columns, fill='toself', name = 'Demographics Cluster 1'))\n",
    "fig.add_trace(go.Scatterpolar(r = df_normal_two.mean(), theta = df_normal_zero.columns, fill='toself', name = 'Demographics Cluster 2'))\n",
    "fig.add_trace(go.Scatterpolar(r = df_normal_three.mean(), theta = df_normal_zero.columns, fill='toself', name = 'Demographics Cluster 3'))\n",
    "\n",
    "fig.update_layout(title = 'All Demographics Clusters', showlegend=True)\n",
    "\n",
    "fig.show()"
   ]
  },
  {
   "cell_type": "code",
   "execution_count": 35,
   "id": "7d54eb6c",
   "metadata": {},
   "outputs": [
    {
     "data": {
      "text/html": [
       "<div>\n",
       "<style scoped>\n",
       "    .dataframe tbody tr th:only-of-type {\n",
       "        vertical-align: middle;\n",
       "    }\n",
       "\n",
       "    .dataframe tbody tr th {\n",
       "        vertical-align: top;\n",
       "    }\n",
       "\n",
       "    .dataframe thead th {\n",
       "        text-align: right;\n",
       "    }\n",
       "</style>\n",
       "<table border=\"1\" class=\"dataframe\">\n",
       "  <thead>\n",
       "    <tr style=\"text-align: right;\">\n",
       "      <th></th>\n",
       "      <th>income</th>\n",
       "      <th>age</th>\n",
       "      <th>nbr_children</th>\n",
       "      <th>marital_status_1</th>\n",
       "      <th>marital_status_2</th>\n",
       "      <th>marital_status_3</th>\n",
       "      <th>marital_status_4</th>\n",
       "    </tr>\n",
       "  </thead>\n",
       "  <tbody>\n",
       "    <tr>\n",
       "      <th>count</th>\n",
       "      <td>70.000000</td>\n",
       "      <td>70.000000</td>\n",
       "      <td>70.000000</td>\n",
       "      <td>70.0</td>\n",
       "      <td>70.0</td>\n",
       "      <td>70.0</td>\n",
       "      <td>70.0</td>\n",
       "    </tr>\n",
       "    <tr>\n",
       "      <th>mean</th>\n",
       "      <td>0.186703</td>\n",
       "      <td>0.451692</td>\n",
       "      <td>0.317143</td>\n",
       "      <td>0.0</td>\n",
       "      <td>0.0</td>\n",
       "      <td>0.0</td>\n",
       "      <td>1.0</td>\n",
       "    </tr>\n",
       "    <tr>\n",
       "      <th>std</th>\n",
       "      <td>0.147362</td>\n",
       "      <td>0.215086</td>\n",
       "      <td>0.277657</td>\n",
       "      <td>0.0</td>\n",
       "      <td>0.0</td>\n",
       "      <td>0.0</td>\n",
       "      <td>0.0</td>\n",
       "    </tr>\n",
       "    <tr>\n",
       "      <th>min</th>\n",
       "      <td>0.019229</td>\n",
       "      <td>0.118421</td>\n",
       "      <td>0.000000</td>\n",
       "      <td>0.0</td>\n",
       "      <td>0.0</td>\n",
       "      <td>0.0</td>\n",
       "      <td>1.0</td>\n",
       "    </tr>\n",
       "    <tr>\n",
       "      <th>25%</th>\n",
       "      <td>0.083236</td>\n",
       "      <td>0.289474</td>\n",
       "      <td>0.050000</td>\n",
       "      <td>0.0</td>\n",
       "      <td>0.0</td>\n",
       "      <td>0.0</td>\n",
       "      <td>1.0</td>\n",
       "    </tr>\n",
       "    <tr>\n",
       "      <th>50%</th>\n",
       "      <td>0.135873</td>\n",
       "      <td>0.388158</td>\n",
       "      <td>0.200000</td>\n",
       "      <td>0.0</td>\n",
       "      <td>0.0</td>\n",
       "      <td>0.0</td>\n",
       "      <td>1.0</td>\n",
       "    </tr>\n",
       "    <tr>\n",
       "      <th>75%</th>\n",
       "      <td>0.253971</td>\n",
       "      <td>0.592105</td>\n",
       "      <td>0.400000</td>\n",
       "      <td>0.0</td>\n",
       "      <td>0.0</td>\n",
       "      <td>0.0</td>\n",
       "      <td>1.0</td>\n",
       "    </tr>\n",
       "    <tr>\n",
       "      <th>max</th>\n",
       "      <td>0.626040</td>\n",
       "      <td>0.986842</td>\n",
       "      <td>1.000000</td>\n",
       "      <td>0.0</td>\n",
       "      <td>0.0</td>\n",
       "      <td>0.0</td>\n",
       "      <td>1.0</td>\n",
       "    </tr>\n",
       "  </tbody>\n",
       "</table>\n",
       "</div>"
      ],
      "text/plain": [
       "          income        age  nbr_children  marital_status_1  marital_status_2  \\\n",
       "count  70.000000  70.000000     70.000000              70.0              70.0   \n",
       "mean    0.186703   0.451692      0.317143               0.0               0.0   \n",
       "std     0.147362   0.215086      0.277657               0.0               0.0   \n",
       "min     0.019229   0.118421      0.000000               0.0               0.0   \n",
       "25%     0.083236   0.289474      0.050000               0.0               0.0   \n",
       "50%     0.135873   0.388158      0.200000               0.0               0.0   \n",
       "75%     0.253971   0.592105      0.400000               0.0               0.0   \n",
       "max     0.626040   0.986842      1.000000               0.0               0.0   \n",
       "\n",
       "       marital_status_3  marital_status_4  \n",
       "count              70.0              70.0  \n",
       "mean                0.0               1.0  \n",
       "std                 0.0               0.0  \n",
       "min                 0.0               1.0  \n",
       "25%                 0.0               1.0  \n",
       "50%                 0.0               1.0  \n",
       "75%                 0.0               1.0  \n",
       "max                 0.0               1.0  "
      ]
     },
     "execution_count": 35,
     "metadata": {},
     "output_type": "execute_result"
    }
   ],
   "source": [
    "df_normal_zero.describe()"
   ]
  },
  {
   "cell_type": "code",
   "execution_count": 296,
   "id": "eea73ee4",
   "metadata": {},
   "outputs": [],
   "source": [
    "# exporting this as a csv \n",
    "demographics_df.to_csv('customer_demographics_clustered.csv',index=False)"
   ]
  },
  {
   "cell_type": "code",
   "execution_count": 294,
   "id": "eb310ab7",
   "metadata": {},
   "outputs": [
    {
     "data": {
      "application/vnd.plotly.v1+json": {
       "config": {
        "plotlyServerURL": "https://plot.ly"
       },
       "data": [
        {
         "marker": {
          "color": "mediumorchid",
          "line": {
           "color": "lavenderblush",
           "width": 1
          }
         },
         "mode": "markers",
         "name": "cluster 0",
         "type": "scatter",
         "x": [
          1.1942775297354518,
          1.0852031634678472,
          1.3871645534405126,
          1.0558277093484443,
          0.9463725036111715,
          0.695609253742357,
          1.461063427466753,
          0.9786904411160683,
          1.1581641578796609,
          1.2184475958977203,
          1.5992424314272249,
          1.0215356247500809,
          0.23278677918697105,
          0.4431540597302344,
          1.3438429296498984,
          1.1685323119925455,
          1.00132020928239,
          2.0665848280011865,
          1.548731508579775,
          1.3469683069586669,
          1.0855153187871827,
          1.1677369043876842,
          0.2730784168109278,
          1.6586507721211445,
          1.1698651134814033,
          1.0730993934475412,
          1.208700969087777,
          1.1276798899847014,
          1.3229683851741525,
          2.238709490130349,
          1.2843245713595501,
          1.4424125290457177,
          0.5421769564639675,
          1.6712530447015324,
          2.8812138761020325,
          0.8688408998206756,
          1.2488155268513021,
          0.8057211796862406,
          0.8223810175070563,
          1.0203129270487215,
          0.6049267690047597,
          0.3565025466753363,
          0.6070932029927685,
          1.7982280163434057,
          1.167997622304655,
          1.1189082888730144,
          0.8502651644376817,
          1.417785969828973,
          1.1492321321823231,
          1.2478849995734034,
          1.418774124422669,
          1.5906894627967776,
          1.1153818395175048,
          1.1020241265983657,
          0.9141681619786853,
          1.3748339681570434,
          1.1661149256985461,
          1.4478953863053803,
          1.293725307764243,
          0.8154664351593255,
          1.4610359614338981,
          1.4199857281268105,
          1.152898813918593,
          1.4633562510868277,
          0.8579028602479701,
          0.7148750304322928,
          1.333549812353035,
          1.3727446907594254,
          1.3777402202005982,
          0.36906825661994497,
          1.2866570786653546,
          1.3302042220225767,
          1.0960996078103606,
          1.4234713730091964,
          0.555257165155087,
          2.3795867533439927,
          1.0586481180010863,
          0.8082560265772741,
          2.8941492972246556,
          1.2716370388363016,
          1.9995213006199324,
          1.4763039171053125,
          1.0480973580183202,
          0.5616741164441778,
          0.7841783250131942,
          1.0785639658635926,
          1.1689642521240409,
          0.8834014876664965,
          1.3286042669694809,
          0.614048374822101,
          0.35899248087060126,
          1.6915894903860473,
          2.296083809103693,
          1.4805659452574562,
          2.242430927708246,
          1.1788216904969784,
          1.1502878479017542,
          0.8896579800755071,
          1.0206275757558232,
          1.9527244268248467,
          0.9731654554700541,
          1.4253921727605838,
          1.4737871858852485,
          0.8709547717769791,
          0.39761681025580736,
          1.9601636778857772,
          2.491402720939796,
          1.3391547792710443,
          2.6294636093980617,
          0.8213607881913791,
          -0.05227773646945164,
          2.0595881067605446,
          1.7824362186150378,
          1.3031828791229167,
          0.670891206875564,
          1.3175792250820937,
          1.2302438625282623,
          1.7223956763430637,
          1.0973857911044909,
          1.3960277267885683,
          1.2247707724843295,
          0.8476792114381214,
          1.416498541130176,
          0.4333662157765047,
          1.1910084350124588,
          1.4084896497121957,
          1.043998158780262,
          1.6932552209526084,
          1.0139227727844293,
          0.6052655547546876,
          1.1012485372951726,
          1.032433980637057,
          0.8572114072319821,
          0.7161614604339418,
          1.1745361052507346,
          0.9620750603697383,
          1.4243962083145019,
          1.31869796819458,
          0.8882130802731174,
          2.46821275023289,
          1.5313741935028544,
          2.153117925976035,
          1.119508252634206,
          0.8894025353827079,
          1.1501446293492565,
          1.3433123126267117,
          1.2501187011870627,
          1.3334956726491396,
          2.070294881923725,
          0.8004392131400713,
          1.0307375053395018,
          1.1917010946656743,
          1.515520606734655,
          1.0288243920867401,
          2.2466522763457735,
          0.8185235047994237,
          2.8478195891544154,
          1.258571834685905,
          1.4428642487114423,
          1.2567222890338023,
          1.4543125051623627,
          1.3986813642676224,
          1.9485196850647852,
          1.1543325335326944,
          1.029033548273902,
          0.8882164047901376,
          1.493591391055506,
          1.8336474046327587,
          1.6294296680553864,
          1.092033860077835,
          0.9310561027868881,
          1.294552167875594,
          1.0597817756212817,
          0.9565978976611019,
          0.9303295818257387,
          0.9341519807693281,
          1.1787328179837058,
          1.1680067647264607,
          1.5872315662127077,
          1.2047509296607617,
          0.5553553422113632,
          1.0427302990971814,
          0.5414728301738228,
          1.0102929090476498,
          0.12326247886590642,
          1.7475115940933375,
          1.23341432170544,
          1.0609075388027704,
          1.3687471606625552,
          0.7436155358269132,
          1.5861655084856867,
          0.9678123178061714,
          0.9040502921374194,
          1.080090425583851,
          1.1866964670168274,
          2.076736767090467,
          0.8594446099839099,
          0.09029280792992903,
          0.9382799327907796,
          1.5131065837251145,
          1.1540057088084184,
          1.013856088606831,
          1.0850048507284387,
          2.8840521139770026,
          0.8840111728245358,
          0.913874492391597,
          1.6258023806879434,
          0.9910597069151104,
          0.9904398418706797,
          0.24155838029865803,
          0.5812711599533066,
          1.3240963508217545,
          1.41767187956784,
          0.4024898535569775,
          1.366404516079743,
          1.0299718879826198,
          1.7639707103733016,
          1.539401573231517,
          1.565512046928324,
          1.811700320963842,
          1.051697140585468,
          1.2011372700504903,
          1.728866227128446,
          1.2652639627783935,
          2.085972092133978,
          0.8743728641898213,
          1.2825181156282566,
          0.3003556600246699,
          1.9133906847961226,
          1.7493858188904468,
          1.711270627572998,
          1.2457505169536154,
          2.2348125099920217,
          1.3320776986720024,
          0.3507288111894449,
          1.2605292358405116,
          1.2230567643327914,
          1.5825658950911794,
          1.6278672688885232,
          1.3833192997316262,
          1.1571471684946841,
          1.1120168089717837,
          1.4193610438747417,
          1.1042362214298271,
          0.967670676925863,
          2.5685342558537076,
          0.5054285512970706,
          1.4265558699147112,
          1.9504084488616316,
          1.4205029237281572,
          1.4176681795428483,
          1.3627239201376602,
          0.7301224600265437,
          0.9499306521806897,
          1.2510062257089056,
          1.4311834853145913,
          0.17549738341595514,
          1.012521331359379,
          0.8749419986336975,
          0.5414406295196497,
          1.0352256807204383,
          1.1781033962420582,
          0.836379327883121,
          0.6373020419301183,
          0.6585548424547477,
          1.0278194140193055,
          0.7700050122843027,
          2.1951684113854317,
          0.9183843617194851,
          0.7224878823979441,
          0.7940143231981415,
          1.216216302111822,
          1.0384089823444143,
          1.7701314345274808,
          2.0662201997094742,
          1.2746978139480858,
          0.5433146005577972,
          1.7307035121770544,
          1.0142127423465257,
          1.1737480932228481,
          1.375553171076096,
          1.4927131781281096,
          2.646215720179299,
          1.1198385649703844,
          1.18299505407593,
          1.954027516574287,
          1.854906398570145,
          1.1135742213631161,
          2.3511723719495947,
          1.5798107948062674,
          0.8824607003888952,
          0.4860178550286877,
          0.31007091730969505,
          0.6376588632377052,
          1.6694529842453165,
          1.6104632096846834,
          0.9168254104234023,
          1.9714517679830181,
          0.45652909595852725,
          1.326415729232119,
          1.131246517414662,
          0.9701401263898359,
          1.3759802548372628,
          1.1843073724382451,
          1.4792839176096013,
          1.6532026531175525,
          0.9096312876859186,
          1.253112411166583,
          0.46549065974963205,
          2.3135674750452404,
          1.078214084511698,
          2.3982125186034873,
          1.3716378285592794,
          1.5383792260360472,
          1.5381451817901157,
          0.8144856761426041,
          1.3966123591882065,
          1.8587850550974223,
          1.933773668272226,
          0.8134875938167291,
          1.073584351232025,
          0.31069863802539355,
          1.4118484464729713,
          1.130551656900082,
          1.370917248856675,
          1.5974458274979804,
          1.26241030895555,
          1.1532607408824593,
          1.4492244877692455,
          1.5032075571734287,
          0.9270622727150105,
          0.627263659945809,
          1.442546605176411,
          1.3943805719872688,
          1.0024676205919492,
          1.0647282367204114,
          1.6109699389509962,
          1.405240533807315,
          0.3351477402689856,
          1.9423886338825853,
          1.4360817092009315,
          1.0812171432483544,
          1.2296124462605815,
          1.6840065520221346,
          1.6222216682747794,
          1.0488087123175476,
          1.0053833860922723,
          1.2465486701004547,
          1.0832725593380383,
          0.13649583544645175,
          1.4033282145211186,
          2.1333508668896095,
          0.39029799891220684
         ],
         "y": [
          -0.7127502729704948,
          -1.577657776156395,
          -0.5003861361631136,
          -1.688684526688426,
          -0.8799581610797571,
          -1.1453398349387485,
          -0.39905420792483437,
          -1.5207780024659356,
          -0.7253449477126597,
          -1.719484139501097,
          -0.7815325501171475,
          -1.5830931132807495,
          -0.6286600261312015,
          -0.6412357706188236,
          -0.7545726878336219,
          -1.3412444179422867,
          -1.2363096614915179,
          -0.2788582949243566,
          0.17495993570816265,
          -0.6097628394666043,
          -0.16321598582392416,
          -0.8218649778313779,
          -1.0838925275668772,
          0.4225771612652383,
          -0.7689411899974321,
          -0.2745670156987038,
          -1.6628065300888564,
          -0.7061809468570617,
          -0.4339779805797713,
          -0.1180054087326455,
          -0.8837125703516558,
          -0.6998523084637359,
          -0.6891863407753536,
          0.18761642869913492,
          -0.03160366000012187,
          -0.3865918582487986,
          0.14614998709428628,
          -1.4969588738495014,
          -1.3570012215800649,
          -1.4927043160245512,
          -0.7638202775269396,
          -1.001880142749132,
          -1.3220001240367714,
          -0.061934781896443566,
          -1.3555860258892443,
          -0.29515801006718473,
          -1.3639379930351019,
          -0.6274667974542307,
          -0.8533595863960898,
          -1.5194198823262255,
          -1.392394756499905,
          -0.58082849806448,
          -0.24604819693176208,
          -1.1683865152690112,
          -0.3560193607980367,
          -1.7942132971003608,
          -1.7290374973791973,
          -1.7706787375422623,
          0.09920838189022144,
          -1.3616649943546517,
          -0.012910141421236872,
          0.09537324901650794,
          0.004223213602596486,
          -0.8401911470300052,
          -0.7851644527329882,
          -1.197814697538641,
          -1.6161054030566118,
          0.023784800182800228,
          0.0014100303459421949,
          -0.6772244653911056,
          -1.7904356179230745,
          -1.1292226659852664,
          -0.35529970760160434,
          -1.0030639472110694,
          -1.3827068570903525,
          -0.09348778509496858,
          -1.3896153379377179,
          -1.4952491610536114,
          1.1019551926992441,
          -0.4803633389739203,
          -0.6005467180908054,
          -0.11735205034846648,
          -1.5136893127574282,
          -0.6245474794642462,
          -1.3827683132435629,
          -0.7790339761611021,
          -1.0974923219464305,
          -1.44456477580268,
          -1.7481619565474096,
          -0.8656770683486247,
          -0.6465130343514669,
          -0.39803318319543995,
          -0.016055818482496206,
          -1.3624803876360636,
          -0.1669837054991536,
          -1.3343044003211009,
          -1.4962518432220666,
          -0.32106273228657706,
          -0.155493362321548,
          0.31924519908134924,
          -0.0330407499276638,
          -0.6738248834862094,
          -1.3927967228266105,
          -1.0667972903345657,
          -0.6719499010822627,
          -0.6270927913240282,
          0.6568307309637362,
          0.06659826798935135,
          0.8204523313802679,
          -1.4981734178433685,
          -0.9686656886950465,
          -0.021103267429429737,
          -0.4000100997829723,
          -0.8592297457036682,
          -0.31415230830604507,
          -0.9127711955494842,
          -1.3136019542742,
          -0.4662506369747289,
          -1.2090223738398198,
          -1.316523343043126,
          -0.3384953906679414,
          -1.3259570347809542,
          -0.7055676654472917,
          -1.2074785822074967,
          -1.5577821954742361,
          -0.5235100843807564,
          -1.5282173599429576,
          -0.4226538479476086,
          -1.3307861295701788,
          -1.077554319272136,
          -0.12686001430706872,
          -0.7189344103303116,
          -1.4107412113926376,
          -0.41737159986954075,
          -1.4659158214863421,
          -1.4944774281068185,
          -0.28108381546015665,
          0.1417962059648763,
          -0.1675722568288483,
          0.8331618886137527,
          -0.19716570870653505,
          -0.32346982589686074,
          -0.29475334431667827,
          -1.169094470784111,
          -0.8852190253846275,
          0.13265400616957904,
          -0.15517038601177732,
          -1.3329560186798355,
          -0.2903368926864808,
          -0.25251846833776515,
          -0.31490262112278145,
          -0.46377703900390504,
          -0.7277746233939976,
          -1.0890376757816775,
          -0.26038243539290595,
          -0.9594594904644443,
          0.9934740434869119,
          -1.7439093418556266,
          -0.397348288037441,
          -0.9868126148714524,
          -1.6891179773823712,
          -0.4153857171239179,
          -0.3399973691374663,
          -0.30877231314792564,
          -1.063152430559176,
          -0.2705467056681445,
          -0.5763372798777413,
          0.3228929429272906,
          -0.014071234175459186,
          -1.6127757242257141,
          -1.4896550351981772,
          -1.6424086768395307,
          -0.6887255653126579,
          -1.4209391664507174,
          -0.9305039908871299,
          -0.03361052814452145,
          -1.2196244479060585,
          -1.6387657601973076,
          -0.538922685077272,
          -1.651489798626935,
          -0.5000885254392063,
          -0.7774590259002755,
          -0.7154054352420227,
          -0.3029479943614644,
          -1.0304758922093917,
          -0.5713004943169183,
          -0.8150740104428318,
          -0.7137104292402823,
          0.11230201834290583,
          -0.9327511727857021,
          -0.6543816190620398,
          -0.9052224981242397,
          -0.812777347661956,
          -1.492110511611673,
          -1.6519040342788567,
          -0.3044858813550948,
          -1.3577466070523534,
          -1.001225050780073,
          -0.9508857819027435,
          -0.7551470152496101,
          -1.1193448192161264,
          -1.5882728348872321,
          -1.4748148436860182,
          0.2210216823647884,
          -1.4301725846369089,
          -0.592947464951793,
          -0.09375029859549523,
          -1.3579700981027967,
          -0.850235461705059,
          -1.0396829629210786,
          -1.2224590103415138,
          -0.6766779456243104,
          -0.45406527054003704,
          -0.6171747674397497,
          -1.3365037144743814,
          -0.966273575211068,
          0.10241867258543487,
          -1.1425875086863764,
          -0.5278279730357813,
          0.05737899640875048,
          -1.5112613182543901,
          -1.539187257496118,
          0.1749872329718682,
          -1.353233018946357,
          0.29385916867241924,
          -1.4763986075576254,
          -0.32528992439152005,
          -1.025769331581271,
          -0.47843120110723747,
          0.16308318942936445,
          0.2146076342579146,
          -0.8722227624610736,
          -0.0573823082529667,
          -1.3993817330284382,
          -0.677830917274517,
          -1.510891551634302,
          -1.704612126427638,
          0.050565877501047594,
          0.06210747150269604,
          -1.6597692156815742,
          -1.3231793383483224,
          -1.7280184157829697,
          0.08097094120697489,
          -1.0756810065911635,
          -0.6993646502395117,
          1.022817237743077,
          -0.9014319868296697,
          -1.4503976462450543,
          -0.4534633243009897,
          -1.1970385315831664,
          -0.8452628317212468,
          -1.1587770067274648,
          -0.9815771731534223,
          -0.5171398289267075,
          0.1218834048738107,
          -0.7214070834134703,
          -0.929774988792894,
          -0.3086951978078561,
          -1.4502705628848207,
          -0.49771056741263325,
          -0.9817434200557251,
          -1.3862772236413567,
          -1.4762804539986223,
          -0.6507701982423809,
          -0.9643790473539292,
          -1.5531106273343707,
          -1.4180721538091017,
          0.674742117768094,
          -1.575434435807098,
          -1.450121681249212,
          -0.24287098309668284,
          -0.18980020435371409,
          -0.37519764935121086,
          -0.08761619771214361,
          -0.09386254751580562,
          -1.6440369097429717,
          -0.8243901202655398,
          -0.4091587919105667,
          -1.4850555865976323,
          -1.5319166367969126,
          -0.8411938131487392,
          -0.4291953140052674,
          0.2855717467042142,
          -1.6315292823378873,
          -1.293982157706935,
          -0.3357629195577774,
          0.3232508183674801,
          -1.6497354482021807,
          0.7217451630756481,
          -1.166820494809415,
          -1.573920185408847,
          -0.6498322183932848,
          -0.8904956853739467,
          -1.2241515674189962,
          -0.5209730596185106,
          -0.6122490439567045,
          -0.7851472970145809,
          -0.02906144175917835,
          -0.5034936633334097,
          -0.4641277067724192,
          -1.2773973542684676,
          -1.5008008772008288,
          -0.19899968924840808,
          -0.4945081565887211,
          -0.6374757824469681,
          -0.29520361353496966,
          -1.4643805815099316,
          -0.11342603627791963,
          -1.2233185469160228,
          0.009717596916268181,
          -0.27111724017563626,
          0.6197196354761467,
          -1.1410015168941219,
          -0.7123568582997017,
          -0.07564112811501475,
          -1.1821172907304565,
          0.020869710247605852,
          0.36559205008333473,
          -0.5486464609114888,
          -0.217973376054426,
          -0.42870495635724265,
          -1.1357508216395948,
          -1.2028758350342217,
          -0.7697133010895426,
          0.05502712390181531,
          0.03485797590378341,
          -0.6225577193041051,
          -1.274312324663203,
          -1.5895730707786173,
          -0.26765199011246066,
          -1.009940255856862,
          -1.2054187893366966,
          -1.027705391993111,
          -1.7177778824196426,
          -1.4672333064539715,
          -0.22872487849862058,
          -0.15524288369641515,
          -0.9498910361915528,
          -0.8220934325831292,
          0.6139537113234983,
          0.1952254478416379,
          -0.725756105795463,
          -0.09176900140586294,
          -0.49939371173040653,
          -0.5785739830369543,
          -1.3962518562460233,
          -0.8283930810791256,
          -1.791743911134606,
          -0.8905980022972454,
          -1.150271073459845,
          -0.8291907309485266,
          -0.03460304126263306,
          -1.0563181809813285
         ]
        },
        {
         "marker": {
          "color": "sandybrown",
          "line": {
           "color": "lemonchiffon",
           "width": 1
          }
         },
         "mode": "markers",
         "name": "cluster 1",
         "type": "scatter",
         "x": [
          -1.72799974656669,
          -0.962432689218386,
          -2.334657511495855,
          -1.8037376524863666,
          -2.3552071014459153,
          -2.119651064329461,
          -2.3552071014459153,
          -2.3141079215457943,
          -1.9783523705598045,
          -1.549413884014028,
          -1.365274993385889,
          -2.3552071014459153,
          -1.4798625447903118,
          -1.9330181684461025,
          -1.5648579640891762,
          -2.3963062813460354,
          -2.3963062813460354,
          -1.4746883975576395,
          -1.1269652705618307,
          -1.1102746421911398,
          -1.0879436979553285,
          -2.4788435114825256,
          -1.8388366545669703,
          -1.2954975844682592,
          -1.6701515654108272,
          -1.3678023601136278,
          -2.4788435114825256,
          -2.2532096466047062,
          -1.708708418256619,
          -2.499393101432586,
          -2.058334227728097,
          -1.391506746585473,
          -2.4788435114825256,
          -1.2210981358210244,
          -2.519942691382646,
          -2.4788435114825256,
          -1.5971159898042742,
          -2.458293921532465,
          -1.2806479024037296,
          -2.437744331582404,
          -1.552910335181478,
          -1.7015496947581363,
          -2.214433664020692,
          -1.2689883286454047,
          -2.375756691395975,
          -1.2384810412855165,
          -2.321860499979031,
          -2.458293921532465,
          -2.3756622502638693,
          -1.9395552800553244,
          -0.7236057691882319,
          -2.3552071014459153,
          -0.9908987284533651,
          -2.4788435114825256,
          -2.309530413557293,
          -2.1604169396439064,
          -1.5651998708890538,
          -1.8063044507456207,
          -2.499393101432586,
          -1.154216923388001,
          -2.458293921532465,
          -1.5893389789335504,
          -1.3361603805372184,
          -1.9940705899737639,
          -2.1436854308699616,
          -2.0963574713012045,
          -2.499393101432586,
          -2.3005467873627072,
          -2.3963062813460354,
          -2.437744331582404,
          -2.0667711987361312,
          -2.199962031669714,
          -0.8761265308341452,
          -2.3661978219310753,
          -2.2069835608558157,
          -1.083606214238743,
          -2.3346575114958545,
          -1.299680129236455,
          -2.458293921532465,
          -2.326013586766772,
          -2.3552071014459153,
          -2.091429709321097,
          -2.437744331582404,
          -2.3552071014459153,
          -1.5027825318046817,
          -1.7533068336336064,
          -1.3015497382929968,
          -1.519324039131769,
          -1.277395592387031,
          -1.4106939123665878,
          -2.4788435114825256,
          -2.519942691382646,
          -2.4788435114825256,
          -2.458293921532465,
          -2.3346247289983784,
          -2.3552071014459153,
          -1.0080977412974372,
          -2.437744331582404,
          -2.375756691395975,
          -2.4788435114825256,
          -2.519942691382646,
          -1.6186530265725354,
          -2.437744331582404,
          -0.9200822651688437,
          -2.170550761457468,
          -1.8710988746957824,
          -1.634453721619939,
          -1.7804649152243643,
          -2.229401097603907,
          -1.6081803344227252,
          -2.3141079215457943,
          -0.8538770952506283,
          -1.885994346404217,
          -2.217885949035307,
          -1.3986504709899255,
          -1.0270462929109343,
          -2.3346575114958545,
          -2.458293921532465,
          -2.375756691395975,
          -1.0678980071432829,
          -1.3250477141196575,
          -1.6887896213850646,
          -1.9515856755181178,
          -2.4788435114825256,
          -2.3963062813460354,
          -1.7141425368633283,
          -1.3659094019030666,
          -2.437744331582404,
          -2.3346575114958545,
          -1.600439139644846,
          -2.0106418045672596,
          -2.3963062813460354,
          -1.9316232527013326,
          -1.4490277319820941,
          -1.8863893483919605,
          -2.437744331582404,
          -2.4788435114825256,
          -2.3552071014459153,
          -1.1174757920490686,
          -2.3552071014459153,
          -0.8574151416482688,
          -2.437744331582404,
          -2.3346575114958545,
          -1.3885785987326444,
          -0.5990482668219294,
          -1.5527448049395467,
          -2.4788435114825256,
          -2.519942691382646,
          -1.5027800384169165,
          -2.3600173640615494,
          -2.3346575114958545,
          -1.8809841087906645,
          -0.7707092437867065,
          0.07008716038855904,
          -1.4964931767848844,
          -1.7732186905494682,
          -0.9230194779085991,
          -1.45548706381175,
          -2.437744331582404,
          -2.017769989670079,
          -1.190301419106643,
          -2.3963062813460354,
          -2.4788435114825256,
          -2.206758574445369,
          -0.6475719982667935,
          -1.8781248475815489,
          -2.3346575114958545,
          -2.499393101432586,
          -1.793985747979241,
          -2.2185917375839623,
          -0.775890871182674,
          -1.453228018518038,
          -2.499393101432586,
          -1.5420693147149633,
          -2.1258476433439233,
          -2.519942691382646,
          -1.4553220737774224,
          -2.3141079215457943,
          -2.375756691395975,
          -2.0814561429205454,
          -2.3141079215457943,
          -2.4788435114825256,
          -2.346083205707879,
          -1.408243242134948,
          -0.8888837811303614,
          -2.287121767076795,
          -1.4519831324810049,
          -2.4788435114825256,
          -2.3346575114958545,
          -2.271477712003729,
          -2.227202339607966,
          -1.32384529320951,
          -1.448922738323886,
          -1.3975488880917109,
          -2.1969022164876386,
          -1.133080745279708,
          -2.2636940133315258,
          -2.375756691395975,
          -2.458293921532465,
          -2.008448903243542,
          -2.437744331582404,
          -2.0325590963834466,
          -0.6565472744013902,
          -2.3141079215457943,
          -2.119568840850229,
          -2.437744331582404,
          -2.437744331582404,
          -2.3552071014459153,
          -1.0263949349878259,
          -1.4140156908703019,
          -2.458293921532465,
          -2.519942691382646,
          -2.139935117154912,
          -2.375756691395975,
          -2.375756691395975,
          -2.3338439449795745,
          -1.9909357793215392,
          -0.8741308201989292,
          -1.804957604645748,
          -1.8325559376605522,
          -1.3366342427197344,
          -1.9208900102024438,
          -2.375756691395975,
          -1.6400853606042394,
          -2.458293921532465,
          -0.8769006270514696,
          -2.499393101432586,
          -1.5612467590992305,
          -2.4788435114825256,
          -1.641812458883778,
          -2.4788435114825256,
          -2.1761754217186375,
          -2.4788435114825256,
          -2.519942691382646,
          -2.458293921532465,
          -1.566488670924708,
          -0.9937566929922403,
          -2.3552071014459153,
          -1.9292317477165566,
          -1.091788530337362,
          -2.090316451845873,
          -2.3963062813460354,
          -2.0075381141540007,
          -1.499073561165611,
          -1.056410402142417,
          -0.6404323907411766,
          -2.389986385062315,
          -2.162720403244665,
          -1.2815467647620487,
          -2.375756691395975,
          -2.212540453655919,
          -1.3331422381202112,
          -2.4788435114825256,
          -1.4589371075928133,
          -2.3552071014459153,
          -2.3346575114958545,
          -1.7103291515410908,
          -2.437744331582404,
          -0.8159727223788519,
          -1.0835640012660703,
          -2.1813942753117472,
          -2.3141079215457943,
          -2.172062345437456,
          -0.5913917501436078,
          -2.3552071014459153,
          -2.519942691382646,
          -2.3141079215457943,
          -1.3523886079156295,
          -1.7994620795586227,
          -1.4552754142368225,
          -1.2460597006493943,
          -2.437744331582404,
          -1.357918788277254,
          -1.1928687963409403,
          -2.4788435114825256,
          -2.1490859358499392
         ],
         "y": [
          -0.09184901281340639,
          0.012606689475631155,
          -0.04939785345572624,
          0.08876456271733266,
          -0.037514043200747964,
          -0.04708135158236352,
          -0.037514043200747964,
          -0.061281663710704634,
          0.13943579470664025,
          -0.1773491498537566,
          0.10131455887937779,
          -0.037514043200747964,
          -0.2966661494235636,
          0.1045436589662525,
          -0.3422309661882416,
          -0.013746422690791488,
          -0.013746422690791488,
          -0.12694803062817892,
          -0.3300654024891775,
          -0.6792262655626345,
          0.19937426198318695,
          -0.0061648854587449875,
          -0.04964903596491303,
          -0.3665051751769656,
          0.05014533101847239,
          -0.13208766380492798,
          -0.0061648854587449875,
          0.06878895003349406,
          -0.1560698455640974,
          0.005718924796233264,
          -0.17195238857787157,
          0.032133324518835646,
          -0.0061648854587449875,
          0.3412613251904605,
          0.017602735051211675,
          -0.0061648854587449875,
          -0.05505840376007483,
          -0.018048695713723306,
          -0.059322438128602814,
          -0.029932505968701468,
          -0.12821910343080856,
          -0.27996226753842823,
          -0.0080339746793231,
          -0.06543921469651663,
          -0.02563023294576979,
          -0.48251348549403483,
          0.022485071531794226,
          -0.018048695713723306,
          -0.013803329644871213,
          0.022901965656260317,
          -0.3272109439602579,
          -0.037514043200747964,
          0.2390853349177805,
          -0.0061648854587449875,
          0.005057340494877587,
          -0.12606561374892447,
          -0.12252722590092661,
          -0.001962423433876948,
          0.005718924796233264,
          0.06346056779501417,
          -0.018048695713723306,
          -0.2815104921794326,
          -0.07102052448438755,
          0.10308993983354742,
          0.1169170705786215,
          -0.03137020381895081,
          0.005718924796233264,
          0.03686082231853561,
          -0.013746422690791488,
          -0.029932505968701468,
          0.05405456751592896,
          0.07895942318111697,
          -0.12115363122110785,
          -0.007419727430632007,
          -0.014772206167602983,
          -0.19784373653202816,
          -0.04939785345572625,
          -0.5870428199036627,
          -0.018048695713723306,
          -0.031804463210110906,
          -0.037514043200747964,
          0.037422805170114246,
          -0.029932505968701468,
          -0.037514043200747964,
          -0.12015289218581912,
          -0.14642560648916342,
          -0.6022848091454968,
          -0.20854238688550647,
          0.020103710197366648,
          0.12216858598568797,
          -0.0061648854587449875,
          0.017602735051211675,
          -0.0061648854587449875,
          -0.018048695713723306,
          0.013875807689769648,
          -0.037514043200747964,
          -0.39037526515753096,
          -0.029932505968701468,
          -0.02563023294576979,
          -0.0061648854587449875,
          0.017602735051211675,
          -0.12107312862290419,
          -0.029932505968701468,
          -0.8201495481886545,
          0.009801121531900776,
          -0.09715354890822099,
          0.0742229431736058,
          -0.17872425711484416,
          -0.06961760957410683,
          -0.2169861601158628,
          -0.061281663710704634,
          -0.7497510704104443,
          0.08477211274254712,
          0.06687003388473697,
          0.1560358631369289,
          -0.10820664848338508,
          -0.04939785345572625,
          -0.018048695713723306,
          -0.02563023294576979,
          -0.315969671561642,
          -0.012036867036607609,
          -0.1426349426472835,
          -0.09995223491901249,
          -0.0061648854587449875,
          -0.013746422690791488,
          -0.17149827404450332,
          0.08912345640302345,
          -0.029932505968701468,
          -0.04939785345572625,
          -0.26325319635397765,
          0.15516447633377747,
          -0.013746422690791488,
          0.10548450683618005,
          -0.1728918810082365,
          -0.22442438315693286,
          -0.029932505968701468,
          -0.0061648854587449875,
          -0.037514043200747964,
          0.29419524269212605,
          -0.037514043200747964,
          0.12316445008310926,
          -0.029932505968701468,
          -0.04939785345572625,
          -0.06886837878674158,
          0.06573112900653078,
          -0.29433569704668594,
          -0.0061648854587449875,
          0.017602735051211675,
          -0.19738372881529126,
          -0.028995282410239746,
          -0.04939785345572625,
          -0.07807680493799066,
          0.45085109321161604,
          0.645772901595488,
          0.05253518022494395,
          -0.22532514259712688,
          0.4908221622661768,
          -0.19122956324144477,
          -0.029932505968701468,
          0.11284925489836681,
          -0.06385452593724446,
          -0.013746422690791488,
          -0.0061648854587449875,
          -0.014620456511163095,
          0.08449101085397005,
          -0.2188501124437066,
          -0.04939785345572625,
          0.005718924796233264,
          0.018109544533590247,
          0.09213816383771589,
          0.5128254843046475,
          -0.009496664564514798,
          0.005718924796233264,
          -0.017930321151108514,
          -0.14025656552413712,
          0.017602735051211675,
          -0.19111828016005547,
          -0.061281663710704634,
          -0.02563023294576979,
          0.06989398548210787,
          -0.061281663710704634,
          -0.0061648854587449875,
          -0.019596920354727466,
          -0.05638768654976632,
          0.26816760816631324,
          0.020171606276293275,
          -0.4720521195528089,
          -0.0061648854587449875,
          -0.04939785345572625,
          0.030723265720748804,
          -0.028409441959670212,
          -0.08845837216506681,
          -0.1728210645018978,
          -0.04917451954698883,
          0.08102321850869981,
          -0.46291105419346323,
          0.061717416043393945,
          -0.02563023294576979,
          -0.018048695713723306,
          -0.08681720700361263,
          -0.029932505968701468,
          0.10287424414838289,
          0.2586465433526669,
          -0.061281663710704634,
          0.04418759368118593,
          -0.029932505968701468,
          -0.029932505968701468,
          -0.037514043200747964,
          0.009190341452969436,
          -0.2779976955153054,
          -0.018048695713723306,
          0.017602735051211675,
          -0.04678164517797997,
          -0.02563023294576979,
          -0.02563023294576979,
          -0.011341739044395999,
          0.10520431837994357,
          -0.14555172981049777,
          -0.22098834858909372,
          -0.23960297311239015,
          -0.11106527806611821,
          0.1524490447515708,
          -0.02563023294576979,
          -0.3275013014668377,
          -0.018048695713723306,
          0.1615101542550606,
          0.005718924796233264,
          0.08609246573100794,
          -0.0061648854587449875,
          -0.11094961438262886,
          -0.0061648854587449875,
          0.00600738012090286,
          -0.0061648854587449875,
          0.017602735051211675,
          -0.018048695713723306,
          -0.008656604986896804,
          -0.755101850073227,
          -0.037514043200747964,
          -0.09885584448414897,
          -0.5755441984023001,
          -0.064803012030745,
          -0.013746422690791488,
          0.042517969315029554,
          0.21702299419503293,
          -0.7201282344403905,
          0.5527016697055919,
          -0.023464724438212545,
          -0.01066160263381401,
          -0.40858392089733886,
          -0.02563023294576979,
          -0.10973372640452377,
          -0.17196152792738859,
          -0.0061648854587449875,
          0.12935448062629534,
          -0.037514043200747964,
          -0.04939785345572625,
          -0.13141883088064085,
          -0.029932505968701468,
          -0.7756735360418476,
          -0.2610668144587108,
          -0.023256824118327225,
          -0.061281663710704634,
          -0.094195108327424,
          0.46882112055493325,
          -0.037514043200747964,
          0.017602735051211675,
          -0.061281663710704634,
          -0.5711054816660058,
          0.06590419397986703,
          -0.24257515464841553,
          0.10449080687553625,
          -0.029932505968701468,
          -0.09967718335551021,
          -0.45174877181178247,
          -0.0061648854587449875,
          0.13901869103388748
         ]
        },
        {
         "marker": {
          "color": "slateblue",
          "line": {
           "color": "lightcyan",
           "width": 1
          }
         },
         "mode": "markers",
         "name": "cluster 2",
         "type": "scatter",
         "x": [
          1.3123398186114241,
          1.8622418444658897,
          0.22588762475415686,
          0.5847196380292232,
          -0.31181373630125603,
          0.6794870746162573,
          0.6559842408145191,
          0.3904355419321643,
          1.379833080789799,
          0.5847523366298436,
          1.2627432958191773,
          1.379832827030837,
          0.07145483474369861,
          2.239538983423278,
          1.6668497182988966,
          1.353677652136066,
          0.6218604707675035,
          1.9496445989728144,
          0.032505178882559424,
          1.2786196076369365,
          1.0909538914558519,
          0.8709836211137358,
          0.1944646903296493,
          0.4701270188206748,
          -0.2530909964241103,
          0.8831931745756325,
          0.9415048345605468,
          1.8752781292386838,
          0.31790723419477906,
          0.6419529409161826,
          1.1516800352340637,
          0.6227791956416234,
          0.7494760872899333,
          -0.09902271135160443,
          0.40646936550992446,
          1.32579055969011,
          0.6771160517787318,
          0.8211961062082206,
          0.9000578066020039,
          0.23573463395475044,
          1.0457624574358393,
          0.9765150442411886,
          2.648873647710147,
          0.39003696327318804,
          0.4748849680010909,
          0.5100758348444631,
          1.2383022966438366,
          0.6817052782741554,
          1.871884435658364,
          -0.4161701622262521,
          1.1202253522189412,
          0.7567058992087772,
          0.8073390999719314,
          0.7360843861513752,
          0.7704698321561021,
          0.8023812571064117,
          0.2724263656577996,
          0.7573821045342483,
          -0.1688248795275516,
          0.5201473351514972,
          0.7309923806798748,
          0.6815861960750186,
          0.7164442597728798,
          2.111636476753001,
          0.5204268719835249,
          0.3964875317467354,
          0.05452895904757348,
          0.1133429847124459,
          0.797638759083583,
          -0.4043439785002539,
          0.4960697975975843,
          0.44232638143035485,
          1.4895630859335287,
          0.6681279376703466,
          2.1421612072820855,
          1.392255655163481,
          2.3179146972881903,
          0.5015282205307913,
          0.1136812302547701,
          0.3350509058602034,
          1.9734900402984834,
          0.6704934361031717,
          0.10094018826824375,
          0.47697254339907613,
          0.18448530602431215,
          0.26327725315119577,
          0.2298467220166568,
          1.8990497824208952,
          0.5996769747076185,
          0.6327854176281668,
          1.0043024258245845,
          0.02908480291100071,
          1.4344351065742795,
          1.4533120683272507,
          0.6483094799489941,
          2.1651685650676673,
          0.6444505183696247,
          0.7498345266418976,
          0.6456047001780157,
          0.4948338069906182,
          0.7039591956353133,
          0.8274100507929932,
          -0.22919373960967052,
          0.4852602735674727,
          0.2553910542085489,
          0.27509641233518123,
          1.0442639987935656,
          0.8817744476935823,
          0.4221635279943692,
          0.24294076709449236,
          0.413353863194307,
          1.0146918535368594,
          0.6628958318280378,
          0.5556852108933015,
          0.3011672501181171,
          0.26204516632051156,
          0.4730129889105443,
          0.06368438832069435
         ],
         "y": [
          2.5983737274197205,
          3.8758716843866465,
          2.0665003894036316,
          2.5452567460600384,
          2.2819646158542066,
          2.323698991123897,
          1.9284148526049205,
          2.4399594716121125,
          3.397728078447382,
          1.4119425135653614,
          2.353935827427921,
          2.3366648418481937,
          2.53374227187325,
          3.931129785962267,
          2.600754831471712,
          2.3872344504305425,
          1.931143100254691,
          3.6913626542649345,
          1.51461914672686,
          2.060153856138595,
          2.1793280986274866,
          2.038211984571328,
          1.3687074032546411,
          1.0889510866274252,
          1.7759120417448715,
          2.1869311970815764,
          3.0881018723558724,
          3.4229675920539537,
          1.451967381421342,
          3.040524053030712,
          3.112830773203855,
          1.3088701444545874,
          1.9142410565481156,
          2.310748788637461,
          1.280003536307677,
          3.277314032292807,
          1.219089543034395,
          2.8501996235560547,
          2.6946956366682544,
          2.6585272797771786,
          2.6479782684375537,
          2.3271077912023257,
          3.331324767205089,
          2.556648296485081,
          1.4945947471833823,
          2.7523524487952766,
          3.0940235543037504,
          2.3766834788204205,
          3.7513636493563487,
          1.9070876281633886,
          2.9719159115094773,
          2.4553052857641187,
          2.732844134489973,
          2.68707493589414,
          2.0828660310747855,
          1.2123653896954045,
          1.3837839018848068,
          2.5446839208576053,
          2.301175744214183,
          1.1741773179955477,
          2.238739286080799,
          2.1796714493167686,
          2.9105580204873194,
          3.7491351824820263,
          2.707845708571864,
          2.493238844191307,
          2.19209158846516,
          2.508215857562145,
          1.1459151024084333,
          2.2452986526921745,
          1.4691584271949345,
          1.4843977170129674,
          2.825324405086286,
          2.653002626443844,
          3.0785512310389045,
          3.3031302106435696,
          3.8344871838096872,
          1.6389951082781822,
          2.3607096925142157,
          2.4210241977395364,
          3.597219085641241,
          2.1374237193975327,
          1.277591541264056,
          2.589540751523641,
          1.5164415084114151,
          2.5063673797744097,
          1.4183161781005826,
          2.9543016899150185,
          2.0986808455190515,
          1.4466309828139714,
          3.092950444141989,
          2.074244171081197,
          3.310867862084436,
          2.993365607337818,
          1.4571017091083256,
          2.7353491556476777,
          1.1198246562898473,
          2.783053962371725,
          2.5980127525873753,
          2.496320249485105,
          3.082346258345554,
          2.908170114414014,
          2.18322541644,
          1.124902392393774,
          2.3980715763159544,
          2.5563552919612813,
          2.2838076310104714,
          2.230139219676878,
          1.9532067543781342,
          1.2446477467160482,
          2.0289370872465904,
          2.858719209093499,
          2.9259288266742667,
          2.3661759890864955,
          1.283920557802699,
          1.2457701474313556,
          2.373666476524678,
          2.2005577170809523
         ]
        }
       ],
       "layout": {
        "template": {
         "data": {
          "bar": [
           {
            "error_x": {
             "color": "#2a3f5f"
            },
            "error_y": {
             "color": "#2a3f5f"
            },
            "marker": {
             "line": {
              "color": "#E5ECF6",
              "width": 0.5
             },
             "pattern": {
              "fillmode": "overlay",
              "size": 10,
              "solidity": 0.2
             }
            },
            "type": "bar"
           }
          ],
          "barpolar": [
           {
            "marker": {
             "line": {
              "color": "#E5ECF6",
              "width": 0.5
             },
             "pattern": {
              "fillmode": "overlay",
              "size": 10,
              "solidity": 0.2
             }
            },
            "type": "barpolar"
           }
          ],
          "carpet": [
           {
            "aaxis": {
             "endlinecolor": "#2a3f5f",
             "gridcolor": "white",
             "linecolor": "white",
             "minorgridcolor": "white",
             "startlinecolor": "#2a3f5f"
            },
            "baxis": {
             "endlinecolor": "#2a3f5f",
             "gridcolor": "white",
             "linecolor": "white",
             "minorgridcolor": "white",
             "startlinecolor": "#2a3f5f"
            },
            "type": "carpet"
           }
          ],
          "choropleth": [
           {
            "colorbar": {
             "outlinewidth": 0,
             "ticks": ""
            },
            "type": "choropleth"
           }
          ],
          "contour": [
           {
            "colorbar": {
             "outlinewidth": 0,
             "ticks": ""
            },
            "colorscale": [
             [
              0,
              "#0d0887"
             ],
             [
              0.1111111111111111,
              "#46039f"
             ],
             [
              0.2222222222222222,
              "#7201a8"
             ],
             [
              0.3333333333333333,
              "#9c179e"
             ],
             [
              0.4444444444444444,
              "#bd3786"
             ],
             [
              0.5555555555555556,
              "#d8576b"
             ],
             [
              0.6666666666666666,
              "#ed7953"
             ],
             [
              0.7777777777777778,
              "#fb9f3a"
             ],
             [
              0.8888888888888888,
              "#fdca26"
             ],
             [
              1,
              "#f0f921"
             ]
            ],
            "type": "contour"
           }
          ],
          "contourcarpet": [
           {
            "colorbar": {
             "outlinewidth": 0,
             "ticks": ""
            },
            "type": "contourcarpet"
           }
          ],
          "heatmap": [
           {
            "colorbar": {
             "outlinewidth": 0,
             "ticks": ""
            },
            "colorscale": [
             [
              0,
              "#0d0887"
             ],
             [
              0.1111111111111111,
              "#46039f"
             ],
             [
              0.2222222222222222,
              "#7201a8"
             ],
             [
              0.3333333333333333,
              "#9c179e"
             ],
             [
              0.4444444444444444,
              "#bd3786"
             ],
             [
              0.5555555555555556,
              "#d8576b"
             ],
             [
              0.6666666666666666,
              "#ed7953"
             ],
             [
              0.7777777777777778,
              "#fb9f3a"
             ],
             [
              0.8888888888888888,
              "#fdca26"
             ],
             [
              1,
              "#f0f921"
             ]
            ],
            "type": "heatmap"
           }
          ],
          "heatmapgl": [
           {
            "colorbar": {
             "outlinewidth": 0,
             "ticks": ""
            },
            "colorscale": [
             [
              0,
              "#0d0887"
             ],
             [
              0.1111111111111111,
              "#46039f"
             ],
             [
              0.2222222222222222,
              "#7201a8"
             ],
             [
              0.3333333333333333,
              "#9c179e"
             ],
             [
              0.4444444444444444,
              "#bd3786"
             ],
             [
              0.5555555555555556,
              "#d8576b"
             ],
             [
              0.6666666666666666,
              "#ed7953"
             ],
             [
              0.7777777777777778,
              "#fb9f3a"
             ],
             [
              0.8888888888888888,
              "#fdca26"
             ],
             [
              1,
              "#f0f921"
             ]
            ],
            "type": "heatmapgl"
           }
          ],
          "histogram": [
           {
            "marker": {
             "pattern": {
              "fillmode": "overlay",
              "size": 10,
              "solidity": 0.2
             }
            },
            "type": "histogram"
           }
          ],
          "histogram2d": [
           {
            "colorbar": {
             "outlinewidth": 0,
             "ticks": ""
            },
            "colorscale": [
             [
              0,
              "#0d0887"
             ],
             [
              0.1111111111111111,
              "#46039f"
             ],
             [
              0.2222222222222222,
              "#7201a8"
             ],
             [
              0.3333333333333333,
              "#9c179e"
             ],
             [
              0.4444444444444444,
              "#bd3786"
             ],
             [
              0.5555555555555556,
              "#d8576b"
             ],
             [
              0.6666666666666666,
              "#ed7953"
             ],
             [
              0.7777777777777778,
              "#fb9f3a"
             ],
             [
              0.8888888888888888,
              "#fdca26"
             ],
             [
              1,
              "#f0f921"
             ]
            ],
            "type": "histogram2d"
           }
          ],
          "histogram2dcontour": [
           {
            "colorbar": {
             "outlinewidth": 0,
             "ticks": ""
            },
            "colorscale": [
             [
              0,
              "#0d0887"
             ],
             [
              0.1111111111111111,
              "#46039f"
             ],
             [
              0.2222222222222222,
              "#7201a8"
             ],
             [
              0.3333333333333333,
              "#9c179e"
             ],
             [
              0.4444444444444444,
              "#bd3786"
             ],
             [
              0.5555555555555556,
              "#d8576b"
             ],
             [
              0.6666666666666666,
              "#ed7953"
             ],
             [
              0.7777777777777778,
              "#fb9f3a"
             ],
             [
              0.8888888888888888,
              "#fdca26"
             ],
             [
              1,
              "#f0f921"
             ]
            ],
            "type": "histogram2dcontour"
           }
          ],
          "mesh3d": [
           {
            "colorbar": {
             "outlinewidth": 0,
             "ticks": ""
            },
            "type": "mesh3d"
           }
          ],
          "parcoords": [
           {
            "line": {
             "colorbar": {
              "outlinewidth": 0,
              "ticks": ""
             }
            },
            "type": "parcoords"
           }
          ],
          "pie": [
           {
            "automargin": true,
            "type": "pie"
           }
          ],
          "scatter": [
           {
            "fillpattern": {
             "fillmode": "overlay",
             "size": 10,
             "solidity": 0.2
            },
            "type": "scatter"
           }
          ],
          "scatter3d": [
           {
            "line": {
             "colorbar": {
              "outlinewidth": 0,
              "ticks": ""
             }
            },
            "marker": {
             "colorbar": {
              "outlinewidth": 0,
              "ticks": ""
             }
            },
            "type": "scatter3d"
           }
          ],
          "scattercarpet": [
           {
            "marker": {
             "colorbar": {
              "outlinewidth": 0,
              "ticks": ""
             }
            },
            "type": "scattercarpet"
           }
          ],
          "scattergeo": [
           {
            "marker": {
             "colorbar": {
              "outlinewidth": 0,
              "ticks": ""
             }
            },
            "type": "scattergeo"
           }
          ],
          "scattergl": [
           {
            "marker": {
             "colorbar": {
              "outlinewidth": 0,
              "ticks": ""
             }
            },
            "type": "scattergl"
           }
          ],
          "scattermapbox": [
           {
            "marker": {
             "colorbar": {
              "outlinewidth": 0,
              "ticks": ""
             }
            },
            "type": "scattermapbox"
           }
          ],
          "scatterpolar": [
           {
            "marker": {
             "colorbar": {
              "outlinewidth": 0,
              "ticks": ""
             }
            },
            "type": "scatterpolar"
           }
          ],
          "scatterpolargl": [
           {
            "marker": {
             "colorbar": {
              "outlinewidth": 0,
              "ticks": ""
             }
            },
            "type": "scatterpolargl"
           }
          ],
          "scatterternary": [
           {
            "marker": {
             "colorbar": {
              "outlinewidth": 0,
              "ticks": ""
             }
            },
            "type": "scatterternary"
           }
          ],
          "surface": [
           {
            "colorbar": {
             "outlinewidth": 0,
             "ticks": ""
            },
            "colorscale": [
             [
              0,
              "#0d0887"
             ],
             [
              0.1111111111111111,
              "#46039f"
             ],
             [
              0.2222222222222222,
              "#7201a8"
             ],
             [
              0.3333333333333333,
              "#9c179e"
             ],
             [
              0.4444444444444444,
              "#bd3786"
             ],
             [
              0.5555555555555556,
              "#d8576b"
             ],
             [
              0.6666666666666666,
              "#ed7953"
             ],
             [
              0.7777777777777778,
              "#fb9f3a"
             ],
             [
              0.8888888888888888,
              "#fdca26"
             ],
             [
              1,
              "#f0f921"
             ]
            ],
            "type": "surface"
           }
          ],
          "table": [
           {
            "cells": {
             "fill": {
              "color": "#EBF0F8"
             },
             "line": {
              "color": "white"
             }
            },
            "header": {
             "fill": {
              "color": "#C8D4E3"
             },
             "line": {
              "color": "white"
             }
            },
            "type": "table"
           }
          ]
         },
         "layout": {
          "annotationdefaults": {
           "arrowcolor": "#2a3f5f",
           "arrowhead": 0,
           "arrowwidth": 1
          },
          "autotypenumbers": "strict",
          "coloraxis": {
           "colorbar": {
            "outlinewidth": 0,
            "ticks": ""
           }
          },
          "colorscale": {
           "diverging": [
            [
             0,
             "#8e0152"
            ],
            [
             0.1,
             "#c51b7d"
            ],
            [
             0.2,
             "#de77ae"
            ],
            [
             0.3,
             "#f1b6da"
            ],
            [
             0.4,
             "#fde0ef"
            ],
            [
             0.5,
             "#f7f7f7"
            ],
            [
             0.6,
             "#e6f5d0"
            ],
            [
             0.7,
             "#b8e186"
            ],
            [
             0.8,
             "#7fbc41"
            ],
            [
             0.9,
             "#4d9221"
            ],
            [
             1,
             "#276419"
            ]
           ],
           "sequential": [
            [
             0,
             "#0d0887"
            ],
            [
             0.1111111111111111,
             "#46039f"
            ],
            [
             0.2222222222222222,
             "#7201a8"
            ],
            [
             0.3333333333333333,
             "#9c179e"
            ],
            [
             0.4444444444444444,
             "#bd3786"
            ],
            [
             0.5555555555555556,
             "#d8576b"
            ],
            [
             0.6666666666666666,
             "#ed7953"
            ],
            [
             0.7777777777777778,
             "#fb9f3a"
            ],
            [
             0.8888888888888888,
             "#fdca26"
            ],
            [
             1,
             "#f0f921"
            ]
           ],
           "sequentialminus": [
            [
             0,
             "#0d0887"
            ],
            [
             0.1111111111111111,
             "#46039f"
            ],
            [
             0.2222222222222222,
             "#7201a8"
            ],
            [
             0.3333333333333333,
             "#9c179e"
            ],
            [
             0.4444444444444444,
             "#bd3786"
            ],
            [
             0.5555555555555556,
             "#d8576b"
            ],
            [
             0.6666666666666666,
             "#ed7953"
            ],
            [
             0.7777777777777778,
             "#fb9f3a"
            ],
            [
             0.8888888888888888,
             "#fdca26"
            ],
            [
             1,
             "#f0f921"
            ]
           ]
          },
          "colorway": [
           "#636efa",
           "#EF553B",
           "#00cc96",
           "#ab63fa",
           "#FFA15A",
           "#19d3f3",
           "#FF6692",
           "#B6E880",
           "#FF97FF",
           "#FECB52"
          ],
          "font": {
           "color": "#2a3f5f"
          },
          "geo": {
           "bgcolor": "white",
           "lakecolor": "white",
           "landcolor": "#E5ECF6",
           "showlakes": true,
           "showland": true,
           "subunitcolor": "white"
          },
          "hoverlabel": {
           "align": "left"
          },
          "hovermode": "closest",
          "mapbox": {
           "style": "light"
          },
          "paper_bgcolor": "white",
          "plot_bgcolor": "#E5ECF6",
          "polar": {
           "angularaxis": {
            "gridcolor": "white",
            "linecolor": "white",
            "ticks": ""
           },
           "bgcolor": "#E5ECF6",
           "radialaxis": {
            "gridcolor": "white",
            "linecolor": "white",
            "ticks": ""
           }
          },
          "scene": {
           "xaxis": {
            "backgroundcolor": "#E5ECF6",
            "gridcolor": "white",
            "gridwidth": 2,
            "linecolor": "white",
            "showbackground": true,
            "ticks": "",
            "zerolinecolor": "white"
           },
           "yaxis": {
            "backgroundcolor": "#E5ECF6",
            "gridcolor": "white",
            "gridwidth": 2,
            "linecolor": "white",
            "showbackground": true,
            "ticks": "",
            "zerolinecolor": "white"
           },
           "zaxis": {
            "backgroundcolor": "#E5ECF6",
            "gridcolor": "white",
            "gridwidth": 2,
            "linecolor": "white",
            "showbackground": true,
            "ticks": "",
            "zerolinecolor": "white"
           }
          },
          "shapedefaults": {
           "line": {
            "color": "#2a3f5f"
           }
          },
          "ternary": {
           "aaxis": {
            "gridcolor": "white",
            "linecolor": "white",
            "ticks": ""
           },
           "baxis": {
            "gridcolor": "white",
            "linecolor": "white",
            "ticks": ""
           },
           "bgcolor": "#E5ECF6",
           "caxis": {
            "gridcolor": "white",
            "linecolor": "white",
            "ticks": ""
           }
          },
          "title": {
           "x": 0.05
          },
          "xaxis": {
           "automargin": true,
           "gridcolor": "white",
           "linecolor": "white",
           "ticks": "",
           "title": {
            "standoff": 15
           },
           "zerolinecolor": "white",
           "zerolinewidth": 2
          },
          "yaxis": {
           "automargin": true,
           "gridcolor": "white",
           "linecolor": "white",
           "ticks": "",
           "title": {
            "standoff": 15
           },
           "zerolinecolor": "white",
           "zerolinewidth": 2
          }
         }
        },
        "title": {
         "text": "Customer Demographics Clusters"
        }
       }
      },
      "text/html": [
       "<div>                            <div id=\"fc686baf-8518-4912-b0fa-e9c955f0dd1b\" class=\"plotly-graph-div\" style=\"height:525px; width:100%;\"></div>            <script type=\"text/javascript\">                require([\"plotly\"], function(Plotly) {                    window.PLOTLYENV=window.PLOTLYENV || {};                                    if (document.getElementById(\"fc686baf-8518-4912-b0fa-e9c955f0dd1b\")) {                    Plotly.newPlot(                        \"fc686baf-8518-4912-b0fa-e9c955f0dd1b\",                        [{\"marker\":{\"color\":\"mediumorchid\",\"line\":{\"color\":\"lavenderblush\",\"width\":1}},\"mode\":\"markers\",\"name\":\"cluster 0\",\"x\":[1.1942775297354518,1.0852031634678472,1.3871645534405126,1.0558277093484443,0.9463725036111715,0.695609253742357,1.461063427466753,0.9786904411160683,1.1581641578796609,1.2184475958977203,1.5992424314272249,1.0215356247500809,0.23278677918697105,0.4431540597302344,1.3438429296498984,1.1685323119925455,1.00132020928239,2.0665848280011865,1.548731508579775,1.3469683069586669,1.0855153187871827,1.1677369043876842,0.2730784168109278,1.6586507721211445,1.1698651134814033,1.0730993934475412,1.208700969087777,1.1276798899847014,1.3229683851741525,2.238709490130349,1.2843245713595501,1.4424125290457177,0.5421769564639675,1.6712530447015324,2.8812138761020325,0.8688408998206756,1.2488155268513021,0.8057211796862406,0.8223810175070563,1.0203129270487215,0.6049267690047597,0.3565025466753363,0.6070932029927685,1.7982280163434057,1.167997622304655,1.1189082888730144,0.8502651644376817,1.417785969828973,1.1492321321823231,1.2478849995734034,1.418774124422669,1.5906894627967776,1.1153818395175048,1.1020241265983657,0.9141681619786853,1.3748339681570434,1.1661149256985461,1.4478953863053803,1.293725307764243,0.8154664351593255,1.4610359614338981,1.4199857281268105,1.152898813918593,1.4633562510868277,0.8579028602479701,0.7148750304322928,1.333549812353035,1.3727446907594254,1.3777402202005982,0.36906825661994497,1.2866570786653546,1.3302042220225767,1.0960996078103606,1.4234713730091964,0.555257165155087,2.3795867533439927,1.0586481180010863,0.8082560265772741,2.8941492972246556,1.2716370388363016,1.9995213006199324,1.4763039171053125,1.0480973580183202,0.5616741164441778,0.7841783250131942,1.0785639658635926,1.1689642521240409,0.8834014876664965,1.3286042669694809,0.614048374822101,0.35899248087060126,1.6915894903860473,2.296083809103693,1.4805659452574562,2.242430927708246,1.1788216904969784,1.1502878479017542,0.8896579800755071,1.0206275757558232,1.9527244268248467,0.9731654554700541,1.4253921727605838,1.4737871858852485,0.8709547717769791,0.39761681025580736,1.9601636778857772,2.491402720939796,1.3391547792710443,2.6294636093980617,0.8213607881913791,-0.05227773646945164,2.0595881067605446,1.7824362186150378,1.3031828791229167,0.670891206875564,1.3175792250820937,1.2302438625282623,1.7223956763430637,1.0973857911044909,1.3960277267885683,1.2247707724843295,0.8476792114381214,1.416498541130176,0.4333662157765047,1.1910084350124588,1.4084896497121957,1.043998158780262,1.6932552209526084,1.0139227727844293,0.6052655547546876,1.1012485372951726,1.032433980637057,0.8572114072319821,0.7161614604339418,1.1745361052507346,0.9620750603697383,1.4243962083145019,1.31869796819458,0.8882130802731174,2.46821275023289,1.5313741935028544,2.153117925976035,1.119508252634206,0.8894025353827079,1.1501446293492565,1.3433123126267117,1.2501187011870627,1.3334956726491396,2.070294881923725,0.8004392131400713,1.0307375053395018,1.1917010946656743,1.515520606734655,1.0288243920867401,2.2466522763457735,0.8185235047994237,2.8478195891544154,1.258571834685905,1.4428642487114423,1.2567222890338023,1.4543125051623627,1.3986813642676224,1.9485196850647852,1.1543325335326944,1.029033548273902,0.8882164047901376,1.493591391055506,1.8336474046327587,1.6294296680553864,1.092033860077835,0.9310561027868881,1.294552167875594,1.0597817756212817,0.9565978976611019,0.9303295818257387,0.9341519807693281,1.1787328179837058,1.1680067647264607,1.5872315662127077,1.2047509296607617,0.5553553422113632,1.0427302990971814,0.5414728301738228,1.0102929090476498,0.12326247886590642,1.7475115940933375,1.23341432170544,1.0609075388027704,1.3687471606625552,0.7436155358269132,1.5861655084856867,0.9678123178061714,0.9040502921374194,1.080090425583851,1.1866964670168274,2.076736767090467,0.8594446099839099,0.09029280792992903,0.9382799327907796,1.5131065837251145,1.1540057088084184,1.013856088606831,1.0850048507284387,2.8840521139770026,0.8840111728245358,0.913874492391597,1.6258023806879434,0.9910597069151104,0.9904398418706797,0.24155838029865803,0.5812711599533066,1.3240963508217545,1.41767187956784,0.4024898535569775,1.366404516079743,1.0299718879826198,1.7639707103733016,1.539401573231517,1.565512046928324,1.811700320963842,1.051697140585468,1.2011372700504903,1.728866227128446,1.2652639627783935,2.085972092133978,0.8743728641898213,1.2825181156282566,0.3003556600246699,1.9133906847961226,1.7493858188904468,1.711270627572998,1.2457505169536154,2.2348125099920217,1.3320776986720024,0.3507288111894449,1.2605292358405116,1.2230567643327914,1.5825658950911794,1.6278672688885232,1.3833192997316262,1.1571471684946841,1.1120168089717837,1.4193610438747417,1.1042362214298271,0.967670676925863,2.5685342558537076,0.5054285512970706,1.4265558699147112,1.9504084488616316,1.4205029237281572,1.4176681795428483,1.3627239201376602,0.7301224600265437,0.9499306521806897,1.2510062257089056,1.4311834853145913,0.17549738341595514,1.012521331359379,0.8749419986336975,0.5414406295196497,1.0352256807204383,1.1781033962420582,0.836379327883121,0.6373020419301183,0.6585548424547477,1.0278194140193055,0.7700050122843027,2.1951684113854317,0.9183843617194851,0.7224878823979441,0.7940143231981415,1.216216302111822,1.0384089823444143,1.7701314345274808,2.0662201997094742,1.2746978139480858,0.5433146005577972,1.7307035121770544,1.0142127423465257,1.1737480932228481,1.375553171076096,1.4927131781281096,2.646215720179299,1.1198385649703844,1.18299505407593,1.954027516574287,1.854906398570145,1.1135742213631161,2.3511723719495947,1.5798107948062674,0.8824607003888952,0.4860178550286877,0.31007091730969505,0.6376588632377052,1.6694529842453165,1.6104632096846834,0.9168254104234023,1.9714517679830181,0.45652909595852725,1.326415729232119,1.131246517414662,0.9701401263898359,1.3759802548372628,1.1843073724382451,1.4792839176096013,1.6532026531175525,0.9096312876859186,1.253112411166583,0.46549065974963205,2.3135674750452404,1.078214084511698,2.3982125186034873,1.3716378285592794,1.5383792260360472,1.5381451817901157,0.8144856761426041,1.3966123591882065,1.8587850550974223,1.933773668272226,0.8134875938167291,1.073584351232025,0.31069863802539355,1.4118484464729713,1.130551656900082,1.370917248856675,1.5974458274979804,1.26241030895555,1.1532607408824593,1.4492244877692455,1.5032075571734287,0.9270622727150105,0.627263659945809,1.442546605176411,1.3943805719872688,1.0024676205919492,1.0647282367204114,1.6109699389509962,1.405240533807315,0.3351477402689856,1.9423886338825853,1.4360817092009315,1.0812171432483544,1.2296124462605815,1.6840065520221346,1.6222216682747794,1.0488087123175476,1.0053833860922723,1.2465486701004547,1.0832725593380383,0.13649583544645175,1.4033282145211186,2.1333508668896095,0.39029799891220684],\"y\":[-0.7127502729704948,-1.577657776156395,-0.5003861361631136,-1.688684526688426,-0.8799581610797571,-1.1453398349387485,-0.39905420792483437,-1.5207780024659356,-0.7253449477126597,-1.719484139501097,-0.7815325501171475,-1.5830931132807495,-0.6286600261312015,-0.6412357706188236,-0.7545726878336219,-1.3412444179422867,-1.2363096614915179,-0.2788582949243566,0.17495993570816265,-0.6097628394666043,-0.16321598582392416,-0.8218649778313779,-1.0838925275668772,0.4225771612652383,-0.7689411899974321,-0.2745670156987038,-1.6628065300888564,-0.7061809468570617,-0.4339779805797713,-0.1180054087326455,-0.8837125703516558,-0.6998523084637359,-0.6891863407753536,0.18761642869913492,-0.03160366000012187,-0.3865918582487986,0.14614998709428628,-1.4969588738495014,-1.3570012215800649,-1.4927043160245512,-0.7638202775269396,-1.001880142749132,-1.3220001240367714,-0.061934781896443566,-1.3555860258892443,-0.29515801006718473,-1.3639379930351019,-0.6274667974542307,-0.8533595863960898,-1.5194198823262255,-1.392394756499905,-0.58082849806448,-0.24604819693176208,-1.1683865152690112,-0.3560193607980367,-1.7942132971003608,-1.7290374973791973,-1.7706787375422623,0.09920838189022144,-1.3616649943546517,-0.012910141421236872,0.09537324901650794,0.004223213602596486,-0.8401911470300052,-0.7851644527329882,-1.197814697538641,-1.6161054030566118,0.023784800182800228,0.0014100303459421949,-0.6772244653911056,-1.7904356179230745,-1.1292226659852664,-0.35529970760160434,-1.0030639472110694,-1.3827068570903525,-0.09348778509496858,-1.3896153379377179,-1.4952491610536114,1.1019551926992441,-0.4803633389739203,-0.6005467180908054,-0.11735205034846648,-1.5136893127574282,-0.6245474794642462,-1.3827683132435629,-0.7790339761611021,-1.0974923219464305,-1.44456477580268,-1.7481619565474096,-0.8656770683486247,-0.6465130343514669,-0.39803318319543995,-0.016055818482496206,-1.3624803876360636,-0.1669837054991536,-1.3343044003211009,-1.4962518432220666,-0.32106273228657706,-0.155493362321548,0.31924519908134924,-0.0330407499276638,-0.6738248834862094,-1.3927967228266105,-1.0667972903345657,-0.6719499010822627,-0.6270927913240282,0.6568307309637362,0.06659826798935135,0.8204523313802679,-1.4981734178433685,-0.9686656886950465,-0.021103267429429737,-0.4000100997829723,-0.8592297457036682,-0.31415230830604507,-0.9127711955494842,-1.3136019542742,-0.4662506369747289,-1.2090223738398198,-1.316523343043126,-0.3384953906679414,-1.3259570347809542,-0.7055676654472917,-1.2074785822074967,-1.5577821954742361,-0.5235100843807564,-1.5282173599429576,-0.4226538479476086,-1.3307861295701788,-1.077554319272136,-0.12686001430706872,-0.7189344103303116,-1.4107412113926376,-0.41737159986954075,-1.4659158214863421,-1.4944774281068185,-0.28108381546015665,0.1417962059648763,-0.1675722568288483,0.8331618886137527,-0.19716570870653505,-0.32346982589686074,-0.29475334431667827,-1.169094470784111,-0.8852190253846275,0.13265400616957904,-0.15517038601177732,-1.3329560186798355,-0.2903368926864808,-0.25251846833776515,-0.31490262112278145,-0.46377703900390504,-0.7277746233939976,-1.0890376757816775,-0.26038243539290595,-0.9594594904644443,0.9934740434869119,-1.7439093418556266,-0.397348288037441,-0.9868126148714524,-1.6891179773823712,-0.4153857171239179,-0.3399973691374663,-0.30877231314792564,-1.063152430559176,-0.2705467056681445,-0.5763372798777413,0.3228929429272906,-0.014071234175459186,-1.6127757242257141,-1.4896550351981772,-1.6424086768395307,-0.6887255653126579,-1.4209391664507174,-0.9305039908871299,-0.03361052814452145,-1.2196244479060585,-1.6387657601973076,-0.538922685077272,-1.651489798626935,-0.5000885254392063,-0.7774590259002755,-0.7154054352420227,-0.3029479943614644,-1.0304758922093917,-0.5713004943169183,-0.8150740104428318,-0.7137104292402823,0.11230201834290583,-0.9327511727857021,-0.6543816190620398,-0.9052224981242397,-0.812777347661956,-1.492110511611673,-1.6519040342788567,-0.3044858813550948,-1.3577466070523534,-1.001225050780073,-0.9508857819027435,-0.7551470152496101,-1.1193448192161264,-1.5882728348872321,-1.4748148436860182,0.2210216823647884,-1.4301725846369089,-0.592947464951793,-0.09375029859549523,-1.3579700981027967,-0.850235461705059,-1.0396829629210786,-1.2224590103415138,-0.6766779456243104,-0.45406527054003704,-0.6171747674397497,-1.3365037144743814,-0.966273575211068,0.10241867258543487,-1.1425875086863764,-0.5278279730357813,0.05737899640875048,-1.5112613182543901,-1.539187257496118,0.1749872329718682,-1.353233018946357,0.29385916867241924,-1.4763986075576254,-0.32528992439152005,-1.025769331581271,-0.47843120110723747,0.16308318942936445,0.2146076342579146,-0.8722227624610736,-0.0573823082529667,-1.3993817330284382,-0.677830917274517,-1.510891551634302,-1.704612126427638,0.050565877501047594,0.06210747150269604,-1.6597692156815742,-1.3231793383483224,-1.7280184157829697,0.08097094120697489,-1.0756810065911635,-0.6993646502395117,1.022817237743077,-0.9014319868296697,-1.4503976462450543,-0.4534633243009897,-1.1970385315831664,-0.8452628317212468,-1.1587770067274648,-0.9815771731534223,-0.5171398289267075,0.1218834048738107,-0.7214070834134703,-0.929774988792894,-0.3086951978078561,-1.4502705628848207,-0.49771056741263325,-0.9817434200557251,-1.3862772236413567,-1.4762804539986223,-0.6507701982423809,-0.9643790473539292,-1.5531106273343707,-1.4180721538091017,0.674742117768094,-1.575434435807098,-1.450121681249212,-0.24287098309668284,-0.18980020435371409,-0.37519764935121086,-0.08761619771214361,-0.09386254751580562,-1.6440369097429717,-0.8243901202655398,-0.4091587919105667,-1.4850555865976323,-1.5319166367969126,-0.8411938131487392,-0.4291953140052674,0.2855717467042142,-1.6315292823378873,-1.293982157706935,-0.3357629195577774,0.3232508183674801,-1.6497354482021807,0.7217451630756481,-1.166820494809415,-1.573920185408847,-0.6498322183932848,-0.8904956853739467,-1.2241515674189962,-0.5209730596185106,-0.6122490439567045,-0.7851472970145809,-0.02906144175917835,-0.5034936633334097,-0.4641277067724192,-1.2773973542684676,-1.5008008772008288,-0.19899968924840808,-0.4945081565887211,-0.6374757824469681,-0.29520361353496966,-1.4643805815099316,-0.11342603627791963,-1.2233185469160228,0.009717596916268181,-0.27111724017563626,0.6197196354761467,-1.1410015168941219,-0.7123568582997017,-0.07564112811501475,-1.1821172907304565,0.020869710247605852,0.36559205008333473,-0.5486464609114888,-0.217973376054426,-0.42870495635724265,-1.1357508216395948,-1.2028758350342217,-0.7697133010895426,0.05502712390181531,0.03485797590378341,-0.6225577193041051,-1.274312324663203,-1.5895730707786173,-0.26765199011246066,-1.009940255856862,-1.2054187893366966,-1.027705391993111,-1.7177778824196426,-1.4672333064539715,-0.22872487849862058,-0.15524288369641515,-0.9498910361915528,-0.8220934325831292,0.6139537113234983,0.1952254478416379,-0.725756105795463,-0.09176900140586294,-0.49939371173040653,-0.5785739830369543,-1.3962518562460233,-0.8283930810791256,-1.791743911134606,-0.8905980022972454,-1.150271073459845,-0.8291907309485266,-0.03460304126263306,-1.0563181809813285],\"type\":\"scatter\"},{\"marker\":{\"color\":\"sandybrown\",\"line\":{\"color\":\"lemonchiffon\",\"width\":1}},\"mode\":\"markers\",\"name\":\"cluster 1\",\"x\":[-1.72799974656669,-0.962432689218386,-2.334657511495855,-1.8037376524863666,-2.3552071014459153,-2.119651064329461,-2.3552071014459153,-2.3141079215457943,-1.9783523705598045,-1.549413884014028,-1.365274993385889,-2.3552071014459153,-1.4798625447903118,-1.9330181684461025,-1.5648579640891762,-2.3963062813460354,-2.3963062813460354,-1.4746883975576395,-1.1269652705618307,-1.1102746421911398,-1.0879436979553285,-2.4788435114825256,-1.8388366545669703,-1.2954975844682592,-1.6701515654108272,-1.3678023601136278,-2.4788435114825256,-2.2532096466047062,-1.708708418256619,-2.499393101432586,-2.058334227728097,-1.391506746585473,-2.4788435114825256,-1.2210981358210244,-2.519942691382646,-2.4788435114825256,-1.5971159898042742,-2.458293921532465,-1.2806479024037296,-2.437744331582404,-1.552910335181478,-1.7015496947581363,-2.214433664020692,-1.2689883286454047,-2.375756691395975,-1.2384810412855165,-2.321860499979031,-2.458293921532465,-2.3756622502638693,-1.9395552800553244,-0.7236057691882319,-2.3552071014459153,-0.9908987284533651,-2.4788435114825256,-2.309530413557293,-2.1604169396439064,-1.5651998708890538,-1.8063044507456207,-2.499393101432586,-1.154216923388001,-2.458293921532465,-1.5893389789335504,-1.3361603805372184,-1.9940705899737639,-2.1436854308699616,-2.0963574713012045,-2.499393101432586,-2.3005467873627072,-2.3963062813460354,-2.437744331582404,-2.0667711987361312,-2.199962031669714,-0.8761265308341452,-2.3661978219310753,-2.2069835608558157,-1.083606214238743,-2.3346575114958545,-1.299680129236455,-2.458293921532465,-2.326013586766772,-2.3552071014459153,-2.091429709321097,-2.437744331582404,-2.3552071014459153,-1.5027825318046817,-1.7533068336336064,-1.3015497382929968,-1.519324039131769,-1.277395592387031,-1.4106939123665878,-2.4788435114825256,-2.519942691382646,-2.4788435114825256,-2.458293921532465,-2.3346247289983784,-2.3552071014459153,-1.0080977412974372,-2.437744331582404,-2.375756691395975,-2.4788435114825256,-2.519942691382646,-1.6186530265725354,-2.437744331582404,-0.9200822651688437,-2.170550761457468,-1.8710988746957824,-1.634453721619939,-1.7804649152243643,-2.229401097603907,-1.6081803344227252,-2.3141079215457943,-0.8538770952506283,-1.885994346404217,-2.217885949035307,-1.3986504709899255,-1.0270462929109343,-2.3346575114958545,-2.458293921532465,-2.375756691395975,-1.0678980071432829,-1.3250477141196575,-1.6887896213850646,-1.9515856755181178,-2.4788435114825256,-2.3963062813460354,-1.7141425368633283,-1.3659094019030666,-2.437744331582404,-2.3346575114958545,-1.600439139644846,-2.0106418045672596,-2.3963062813460354,-1.9316232527013326,-1.4490277319820941,-1.8863893483919605,-2.437744331582404,-2.4788435114825256,-2.3552071014459153,-1.1174757920490686,-2.3552071014459153,-0.8574151416482688,-2.437744331582404,-2.3346575114958545,-1.3885785987326444,-0.5990482668219294,-1.5527448049395467,-2.4788435114825256,-2.519942691382646,-1.5027800384169165,-2.3600173640615494,-2.3346575114958545,-1.8809841087906645,-0.7707092437867065,0.07008716038855904,-1.4964931767848844,-1.7732186905494682,-0.9230194779085991,-1.45548706381175,-2.437744331582404,-2.017769989670079,-1.190301419106643,-2.3963062813460354,-2.4788435114825256,-2.206758574445369,-0.6475719982667935,-1.8781248475815489,-2.3346575114958545,-2.499393101432586,-1.793985747979241,-2.2185917375839623,-0.775890871182674,-1.453228018518038,-2.499393101432586,-1.5420693147149633,-2.1258476433439233,-2.519942691382646,-1.4553220737774224,-2.3141079215457943,-2.375756691395975,-2.0814561429205454,-2.3141079215457943,-2.4788435114825256,-2.346083205707879,-1.408243242134948,-0.8888837811303614,-2.287121767076795,-1.4519831324810049,-2.4788435114825256,-2.3346575114958545,-2.271477712003729,-2.227202339607966,-1.32384529320951,-1.448922738323886,-1.3975488880917109,-2.1969022164876386,-1.133080745279708,-2.2636940133315258,-2.375756691395975,-2.458293921532465,-2.008448903243542,-2.437744331582404,-2.0325590963834466,-0.6565472744013902,-2.3141079215457943,-2.119568840850229,-2.437744331582404,-2.437744331582404,-2.3552071014459153,-1.0263949349878259,-1.4140156908703019,-2.458293921532465,-2.519942691382646,-2.139935117154912,-2.375756691395975,-2.375756691395975,-2.3338439449795745,-1.9909357793215392,-0.8741308201989292,-1.804957604645748,-1.8325559376605522,-1.3366342427197344,-1.9208900102024438,-2.375756691395975,-1.6400853606042394,-2.458293921532465,-0.8769006270514696,-2.499393101432586,-1.5612467590992305,-2.4788435114825256,-1.641812458883778,-2.4788435114825256,-2.1761754217186375,-2.4788435114825256,-2.519942691382646,-2.458293921532465,-1.566488670924708,-0.9937566929922403,-2.3552071014459153,-1.9292317477165566,-1.091788530337362,-2.090316451845873,-2.3963062813460354,-2.0075381141540007,-1.499073561165611,-1.056410402142417,-0.6404323907411766,-2.389986385062315,-2.162720403244665,-1.2815467647620487,-2.375756691395975,-2.212540453655919,-1.3331422381202112,-2.4788435114825256,-1.4589371075928133,-2.3552071014459153,-2.3346575114958545,-1.7103291515410908,-2.437744331582404,-0.8159727223788519,-1.0835640012660703,-2.1813942753117472,-2.3141079215457943,-2.172062345437456,-0.5913917501436078,-2.3552071014459153,-2.519942691382646,-2.3141079215457943,-1.3523886079156295,-1.7994620795586227,-1.4552754142368225,-1.2460597006493943,-2.437744331582404,-1.357918788277254,-1.1928687963409403,-2.4788435114825256,-2.1490859358499392],\"y\":[-0.09184901281340639,0.012606689475631155,-0.04939785345572624,0.08876456271733266,-0.037514043200747964,-0.04708135158236352,-0.037514043200747964,-0.061281663710704634,0.13943579470664025,-0.1773491498537566,0.10131455887937779,-0.037514043200747964,-0.2966661494235636,0.1045436589662525,-0.3422309661882416,-0.013746422690791488,-0.013746422690791488,-0.12694803062817892,-0.3300654024891775,-0.6792262655626345,0.19937426198318695,-0.0061648854587449875,-0.04964903596491303,-0.3665051751769656,0.05014533101847239,-0.13208766380492798,-0.0061648854587449875,0.06878895003349406,-0.1560698455640974,0.005718924796233264,-0.17195238857787157,0.032133324518835646,-0.0061648854587449875,0.3412613251904605,0.017602735051211675,-0.0061648854587449875,-0.05505840376007483,-0.018048695713723306,-0.059322438128602814,-0.029932505968701468,-0.12821910343080856,-0.27996226753842823,-0.0080339746793231,-0.06543921469651663,-0.02563023294576979,-0.48251348549403483,0.022485071531794226,-0.018048695713723306,-0.013803329644871213,0.022901965656260317,-0.3272109439602579,-0.037514043200747964,0.2390853349177805,-0.0061648854587449875,0.005057340494877587,-0.12606561374892447,-0.12252722590092661,-0.001962423433876948,0.005718924796233264,0.06346056779501417,-0.018048695713723306,-0.2815104921794326,-0.07102052448438755,0.10308993983354742,0.1169170705786215,-0.03137020381895081,0.005718924796233264,0.03686082231853561,-0.013746422690791488,-0.029932505968701468,0.05405456751592896,0.07895942318111697,-0.12115363122110785,-0.007419727430632007,-0.014772206167602983,-0.19784373653202816,-0.04939785345572625,-0.5870428199036627,-0.018048695713723306,-0.031804463210110906,-0.037514043200747964,0.037422805170114246,-0.029932505968701468,-0.037514043200747964,-0.12015289218581912,-0.14642560648916342,-0.6022848091454968,-0.20854238688550647,0.020103710197366648,0.12216858598568797,-0.0061648854587449875,0.017602735051211675,-0.0061648854587449875,-0.018048695713723306,0.013875807689769648,-0.037514043200747964,-0.39037526515753096,-0.029932505968701468,-0.02563023294576979,-0.0061648854587449875,0.017602735051211675,-0.12107312862290419,-0.029932505968701468,-0.8201495481886545,0.009801121531900776,-0.09715354890822099,0.0742229431736058,-0.17872425711484416,-0.06961760957410683,-0.2169861601158628,-0.061281663710704634,-0.7497510704104443,0.08477211274254712,0.06687003388473697,0.1560358631369289,-0.10820664848338508,-0.04939785345572625,-0.018048695713723306,-0.02563023294576979,-0.315969671561642,-0.012036867036607609,-0.1426349426472835,-0.09995223491901249,-0.0061648854587449875,-0.013746422690791488,-0.17149827404450332,0.08912345640302345,-0.029932505968701468,-0.04939785345572625,-0.26325319635397765,0.15516447633377747,-0.013746422690791488,0.10548450683618005,-0.1728918810082365,-0.22442438315693286,-0.029932505968701468,-0.0061648854587449875,-0.037514043200747964,0.29419524269212605,-0.037514043200747964,0.12316445008310926,-0.029932505968701468,-0.04939785345572625,-0.06886837878674158,0.06573112900653078,-0.29433569704668594,-0.0061648854587449875,0.017602735051211675,-0.19738372881529126,-0.028995282410239746,-0.04939785345572625,-0.07807680493799066,0.45085109321161604,0.645772901595488,0.05253518022494395,-0.22532514259712688,0.4908221622661768,-0.19122956324144477,-0.029932505968701468,0.11284925489836681,-0.06385452593724446,-0.013746422690791488,-0.0061648854587449875,-0.014620456511163095,0.08449101085397005,-0.2188501124437066,-0.04939785345572625,0.005718924796233264,0.018109544533590247,0.09213816383771589,0.5128254843046475,-0.009496664564514798,0.005718924796233264,-0.017930321151108514,-0.14025656552413712,0.017602735051211675,-0.19111828016005547,-0.061281663710704634,-0.02563023294576979,0.06989398548210787,-0.061281663710704634,-0.0061648854587449875,-0.019596920354727466,-0.05638768654976632,0.26816760816631324,0.020171606276293275,-0.4720521195528089,-0.0061648854587449875,-0.04939785345572625,0.030723265720748804,-0.028409441959670212,-0.08845837216506681,-0.1728210645018978,-0.04917451954698883,0.08102321850869981,-0.46291105419346323,0.061717416043393945,-0.02563023294576979,-0.018048695713723306,-0.08681720700361263,-0.029932505968701468,0.10287424414838289,0.2586465433526669,-0.061281663710704634,0.04418759368118593,-0.029932505968701468,-0.029932505968701468,-0.037514043200747964,0.009190341452969436,-0.2779976955153054,-0.018048695713723306,0.017602735051211675,-0.04678164517797997,-0.02563023294576979,-0.02563023294576979,-0.011341739044395999,0.10520431837994357,-0.14555172981049777,-0.22098834858909372,-0.23960297311239015,-0.11106527806611821,0.1524490447515708,-0.02563023294576979,-0.3275013014668377,-0.018048695713723306,0.1615101542550606,0.005718924796233264,0.08609246573100794,-0.0061648854587449875,-0.11094961438262886,-0.0061648854587449875,0.00600738012090286,-0.0061648854587449875,0.017602735051211675,-0.018048695713723306,-0.008656604986896804,-0.755101850073227,-0.037514043200747964,-0.09885584448414897,-0.5755441984023001,-0.064803012030745,-0.013746422690791488,0.042517969315029554,0.21702299419503293,-0.7201282344403905,0.5527016697055919,-0.023464724438212545,-0.01066160263381401,-0.40858392089733886,-0.02563023294576979,-0.10973372640452377,-0.17196152792738859,-0.0061648854587449875,0.12935448062629534,-0.037514043200747964,-0.04939785345572625,-0.13141883088064085,-0.029932505968701468,-0.7756735360418476,-0.2610668144587108,-0.023256824118327225,-0.061281663710704634,-0.094195108327424,0.46882112055493325,-0.037514043200747964,0.017602735051211675,-0.061281663710704634,-0.5711054816660058,0.06590419397986703,-0.24257515464841553,0.10449080687553625,-0.029932505968701468,-0.09967718335551021,-0.45174877181178247,-0.0061648854587449875,0.13901869103388748],\"type\":\"scatter\"},{\"marker\":{\"color\":\"slateblue\",\"line\":{\"color\":\"lightcyan\",\"width\":1}},\"mode\":\"markers\",\"name\":\"cluster 2\",\"x\":[1.3123398186114241,1.8622418444658897,0.22588762475415686,0.5847196380292232,-0.31181373630125603,0.6794870746162573,0.6559842408145191,0.3904355419321643,1.379833080789799,0.5847523366298436,1.2627432958191773,1.379832827030837,0.07145483474369861,2.239538983423278,1.6668497182988966,1.353677652136066,0.6218604707675035,1.9496445989728144,0.032505178882559424,1.2786196076369365,1.0909538914558519,0.8709836211137358,0.1944646903296493,0.4701270188206748,-0.2530909964241103,0.8831931745756325,0.9415048345605468,1.8752781292386838,0.31790723419477906,0.6419529409161826,1.1516800352340637,0.6227791956416234,0.7494760872899333,-0.09902271135160443,0.40646936550992446,1.32579055969011,0.6771160517787318,0.8211961062082206,0.9000578066020039,0.23573463395475044,1.0457624574358393,0.9765150442411886,2.648873647710147,0.39003696327318804,0.4748849680010909,0.5100758348444631,1.2383022966438366,0.6817052782741554,1.871884435658364,-0.4161701622262521,1.1202253522189412,0.7567058992087772,0.8073390999719314,0.7360843861513752,0.7704698321561021,0.8023812571064117,0.2724263656577996,0.7573821045342483,-0.1688248795275516,0.5201473351514972,0.7309923806798748,0.6815861960750186,0.7164442597728798,2.111636476753001,0.5204268719835249,0.3964875317467354,0.05452895904757348,0.1133429847124459,0.797638759083583,-0.4043439785002539,0.4960697975975843,0.44232638143035485,1.4895630859335287,0.6681279376703466,2.1421612072820855,1.392255655163481,2.3179146972881903,0.5015282205307913,0.1136812302547701,0.3350509058602034,1.9734900402984834,0.6704934361031717,0.10094018826824375,0.47697254339907613,0.18448530602431215,0.26327725315119577,0.2298467220166568,1.8990497824208952,0.5996769747076185,0.6327854176281668,1.0043024258245845,0.02908480291100071,1.4344351065742795,1.4533120683272507,0.6483094799489941,2.1651685650676673,0.6444505183696247,0.7498345266418976,0.6456047001780157,0.4948338069906182,0.7039591956353133,0.8274100507929932,-0.22919373960967052,0.4852602735674727,0.2553910542085489,0.27509641233518123,1.0442639987935656,0.8817744476935823,0.4221635279943692,0.24294076709449236,0.413353863194307,1.0146918535368594,0.6628958318280378,0.5556852108933015,0.3011672501181171,0.26204516632051156,0.4730129889105443,0.06368438832069435],\"y\":[2.5983737274197205,3.8758716843866465,2.0665003894036316,2.5452567460600384,2.2819646158542066,2.323698991123897,1.9284148526049205,2.4399594716121125,3.397728078447382,1.4119425135653614,2.353935827427921,2.3366648418481937,2.53374227187325,3.931129785962267,2.600754831471712,2.3872344504305425,1.931143100254691,3.6913626542649345,1.51461914672686,2.060153856138595,2.1793280986274866,2.038211984571328,1.3687074032546411,1.0889510866274252,1.7759120417448715,2.1869311970815764,3.0881018723558724,3.4229675920539537,1.451967381421342,3.040524053030712,3.112830773203855,1.3088701444545874,1.9142410565481156,2.310748788637461,1.280003536307677,3.277314032292807,1.219089543034395,2.8501996235560547,2.6946956366682544,2.6585272797771786,2.6479782684375537,2.3271077912023257,3.331324767205089,2.556648296485081,1.4945947471833823,2.7523524487952766,3.0940235543037504,2.3766834788204205,3.7513636493563487,1.9070876281633886,2.9719159115094773,2.4553052857641187,2.732844134489973,2.68707493589414,2.0828660310747855,1.2123653896954045,1.3837839018848068,2.5446839208576053,2.301175744214183,1.1741773179955477,2.238739286080799,2.1796714493167686,2.9105580204873194,3.7491351824820263,2.707845708571864,2.493238844191307,2.19209158846516,2.508215857562145,1.1459151024084333,2.2452986526921745,1.4691584271949345,1.4843977170129674,2.825324405086286,2.653002626443844,3.0785512310389045,3.3031302106435696,3.8344871838096872,1.6389951082781822,2.3607096925142157,2.4210241977395364,3.597219085641241,2.1374237193975327,1.277591541264056,2.589540751523641,1.5164415084114151,2.5063673797744097,1.4183161781005826,2.9543016899150185,2.0986808455190515,1.4466309828139714,3.092950444141989,2.074244171081197,3.310867862084436,2.993365607337818,1.4571017091083256,2.7353491556476777,1.1198246562898473,2.783053962371725,2.5980127525873753,2.496320249485105,3.082346258345554,2.908170114414014,2.18322541644,1.124902392393774,2.3980715763159544,2.5563552919612813,2.2838076310104714,2.230139219676878,1.9532067543781342,1.2446477467160482,2.0289370872465904,2.858719209093499,2.9259288266742667,2.3661759890864955,1.283920557802699,1.2457701474313556,2.373666476524678,2.2005577170809523],\"type\":\"scatter\"}],                        {\"template\":{\"data\":{\"histogram2dcontour\":[{\"type\":\"histogram2dcontour\",\"colorbar\":{\"outlinewidth\":0,\"ticks\":\"\"},\"colorscale\":[[0.0,\"#0d0887\"],[0.1111111111111111,\"#46039f\"],[0.2222222222222222,\"#7201a8\"],[0.3333333333333333,\"#9c179e\"],[0.4444444444444444,\"#bd3786\"],[0.5555555555555556,\"#d8576b\"],[0.6666666666666666,\"#ed7953\"],[0.7777777777777778,\"#fb9f3a\"],[0.8888888888888888,\"#fdca26\"],[1.0,\"#f0f921\"]]}],\"choropleth\":[{\"type\":\"choropleth\",\"colorbar\":{\"outlinewidth\":0,\"ticks\":\"\"}}],\"histogram2d\":[{\"type\":\"histogram2d\",\"colorbar\":{\"outlinewidth\":0,\"ticks\":\"\"},\"colorscale\":[[0.0,\"#0d0887\"],[0.1111111111111111,\"#46039f\"],[0.2222222222222222,\"#7201a8\"],[0.3333333333333333,\"#9c179e\"],[0.4444444444444444,\"#bd3786\"],[0.5555555555555556,\"#d8576b\"],[0.6666666666666666,\"#ed7953\"],[0.7777777777777778,\"#fb9f3a\"],[0.8888888888888888,\"#fdca26\"],[1.0,\"#f0f921\"]]}],\"heatmap\":[{\"type\":\"heatmap\",\"colorbar\":{\"outlinewidth\":0,\"ticks\":\"\"},\"colorscale\":[[0.0,\"#0d0887\"],[0.1111111111111111,\"#46039f\"],[0.2222222222222222,\"#7201a8\"],[0.3333333333333333,\"#9c179e\"],[0.4444444444444444,\"#bd3786\"],[0.5555555555555556,\"#d8576b\"],[0.6666666666666666,\"#ed7953\"],[0.7777777777777778,\"#fb9f3a\"],[0.8888888888888888,\"#fdca26\"],[1.0,\"#f0f921\"]]}],\"heatmapgl\":[{\"type\":\"heatmapgl\",\"colorbar\":{\"outlinewidth\":0,\"ticks\":\"\"},\"colorscale\":[[0.0,\"#0d0887\"],[0.1111111111111111,\"#46039f\"],[0.2222222222222222,\"#7201a8\"],[0.3333333333333333,\"#9c179e\"],[0.4444444444444444,\"#bd3786\"],[0.5555555555555556,\"#d8576b\"],[0.6666666666666666,\"#ed7953\"],[0.7777777777777778,\"#fb9f3a\"],[0.8888888888888888,\"#fdca26\"],[1.0,\"#f0f921\"]]}],\"contourcarpet\":[{\"type\":\"contourcarpet\",\"colorbar\":{\"outlinewidth\":0,\"ticks\":\"\"}}],\"contour\":[{\"type\":\"contour\",\"colorbar\":{\"outlinewidth\":0,\"ticks\":\"\"},\"colorscale\":[[0.0,\"#0d0887\"],[0.1111111111111111,\"#46039f\"],[0.2222222222222222,\"#7201a8\"],[0.3333333333333333,\"#9c179e\"],[0.4444444444444444,\"#bd3786\"],[0.5555555555555556,\"#d8576b\"],[0.6666666666666666,\"#ed7953\"],[0.7777777777777778,\"#fb9f3a\"],[0.8888888888888888,\"#fdca26\"],[1.0,\"#f0f921\"]]}],\"surface\":[{\"type\":\"surface\",\"colorbar\":{\"outlinewidth\":0,\"ticks\":\"\"},\"colorscale\":[[0.0,\"#0d0887\"],[0.1111111111111111,\"#46039f\"],[0.2222222222222222,\"#7201a8\"],[0.3333333333333333,\"#9c179e\"],[0.4444444444444444,\"#bd3786\"],[0.5555555555555556,\"#d8576b\"],[0.6666666666666666,\"#ed7953\"],[0.7777777777777778,\"#fb9f3a\"],[0.8888888888888888,\"#fdca26\"],[1.0,\"#f0f921\"]]}],\"mesh3d\":[{\"type\":\"mesh3d\",\"colorbar\":{\"outlinewidth\":0,\"ticks\":\"\"}}],\"scatter\":[{\"fillpattern\":{\"fillmode\":\"overlay\",\"size\":10,\"solidity\":0.2},\"type\":\"scatter\"}],\"parcoords\":[{\"type\":\"parcoords\",\"line\":{\"colorbar\":{\"outlinewidth\":0,\"ticks\":\"\"}}}],\"scatterpolargl\":[{\"type\":\"scatterpolargl\",\"marker\":{\"colorbar\":{\"outlinewidth\":0,\"ticks\":\"\"}}}],\"bar\":[{\"error_x\":{\"color\":\"#2a3f5f\"},\"error_y\":{\"color\":\"#2a3f5f\"},\"marker\":{\"line\":{\"color\":\"#E5ECF6\",\"width\":0.5},\"pattern\":{\"fillmode\":\"overlay\",\"size\":10,\"solidity\":0.2}},\"type\":\"bar\"}],\"scattergeo\":[{\"type\":\"scattergeo\",\"marker\":{\"colorbar\":{\"outlinewidth\":0,\"ticks\":\"\"}}}],\"scatterpolar\":[{\"type\":\"scatterpolar\",\"marker\":{\"colorbar\":{\"outlinewidth\":0,\"ticks\":\"\"}}}],\"histogram\":[{\"marker\":{\"pattern\":{\"fillmode\":\"overlay\",\"size\":10,\"solidity\":0.2}},\"type\":\"histogram\"}],\"scattergl\":[{\"type\":\"scattergl\",\"marker\":{\"colorbar\":{\"outlinewidth\":0,\"ticks\":\"\"}}}],\"scatter3d\":[{\"type\":\"scatter3d\",\"line\":{\"colorbar\":{\"outlinewidth\":0,\"ticks\":\"\"}},\"marker\":{\"colorbar\":{\"outlinewidth\":0,\"ticks\":\"\"}}}],\"scattermapbox\":[{\"type\":\"scattermapbox\",\"marker\":{\"colorbar\":{\"outlinewidth\":0,\"ticks\":\"\"}}}],\"scatterternary\":[{\"type\":\"scatterternary\",\"marker\":{\"colorbar\":{\"outlinewidth\":0,\"ticks\":\"\"}}}],\"scattercarpet\":[{\"type\":\"scattercarpet\",\"marker\":{\"colorbar\":{\"outlinewidth\":0,\"ticks\":\"\"}}}],\"carpet\":[{\"aaxis\":{\"endlinecolor\":\"#2a3f5f\",\"gridcolor\":\"white\",\"linecolor\":\"white\",\"minorgridcolor\":\"white\",\"startlinecolor\":\"#2a3f5f\"},\"baxis\":{\"endlinecolor\":\"#2a3f5f\",\"gridcolor\":\"white\",\"linecolor\":\"white\",\"minorgridcolor\":\"white\",\"startlinecolor\":\"#2a3f5f\"},\"type\":\"carpet\"}],\"table\":[{\"cells\":{\"fill\":{\"color\":\"#EBF0F8\"},\"line\":{\"color\":\"white\"}},\"header\":{\"fill\":{\"color\":\"#C8D4E3\"},\"line\":{\"color\":\"white\"}},\"type\":\"table\"}],\"barpolar\":[{\"marker\":{\"line\":{\"color\":\"#E5ECF6\",\"width\":0.5},\"pattern\":{\"fillmode\":\"overlay\",\"size\":10,\"solidity\":0.2}},\"type\":\"barpolar\"}],\"pie\":[{\"automargin\":true,\"type\":\"pie\"}]},\"layout\":{\"autotypenumbers\":\"strict\",\"colorway\":[\"#636efa\",\"#EF553B\",\"#00cc96\",\"#ab63fa\",\"#FFA15A\",\"#19d3f3\",\"#FF6692\",\"#B6E880\",\"#FF97FF\",\"#FECB52\"],\"font\":{\"color\":\"#2a3f5f\"},\"hovermode\":\"closest\",\"hoverlabel\":{\"align\":\"left\"},\"paper_bgcolor\":\"white\",\"plot_bgcolor\":\"#E5ECF6\",\"polar\":{\"bgcolor\":\"#E5ECF6\",\"angularaxis\":{\"gridcolor\":\"white\",\"linecolor\":\"white\",\"ticks\":\"\"},\"radialaxis\":{\"gridcolor\":\"white\",\"linecolor\":\"white\",\"ticks\":\"\"}},\"ternary\":{\"bgcolor\":\"#E5ECF6\",\"aaxis\":{\"gridcolor\":\"white\",\"linecolor\":\"white\",\"ticks\":\"\"},\"baxis\":{\"gridcolor\":\"white\",\"linecolor\":\"white\",\"ticks\":\"\"},\"caxis\":{\"gridcolor\":\"white\",\"linecolor\":\"white\",\"ticks\":\"\"}},\"coloraxis\":{\"colorbar\":{\"outlinewidth\":0,\"ticks\":\"\"}},\"colorscale\":{\"sequential\":[[0.0,\"#0d0887\"],[0.1111111111111111,\"#46039f\"],[0.2222222222222222,\"#7201a8\"],[0.3333333333333333,\"#9c179e\"],[0.4444444444444444,\"#bd3786\"],[0.5555555555555556,\"#d8576b\"],[0.6666666666666666,\"#ed7953\"],[0.7777777777777778,\"#fb9f3a\"],[0.8888888888888888,\"#fdca26\"],[1.0,\"#f0f921\"]],\"sequentialminus\":[[0.0,\"#0d0887\"],[0.1111111111111111,\"#46039f\"],[0.2222222222222222,\"#7201a8\"],[0.3333333333333333,\"#9c179e\"],[0.4444444444444444,\"#bd3786\"],[0.5555555555555556,\"#d8576b\"],[0.6666666666666666,\"#ed7953\"],[0.7777777777777778,\"#fb9f3a\"],[0.8888888888888888,\"#fdca26\"],[1.0,\"#f0f921\"]],\"diverging\":[[0,\"#8e0152\"],[0.1,\"#c51b7d\"],[0.2,\"#de77ae\"],[0.3,\"#f1b6da\"],[0.4,\"#fde0ef\"],[0.5,\"#f7f7f7\"],[0.6,\"#e6f5d0\"],[0.7,\"#b8e186\"],[0.8,\"#7fbc41\"],[0.9,\"#4d9221\"],[1,\"#276419\"]]},\"xaxis\":{\"gridcolor\":\"white\",\"linecolor\":\"white\",\"ticks\":\"\",\"title\":{\"standoff\":15},\"zerolinecolor\":\"white\",\"automargin\":true,\"zerolinewidth\":2},\"yaxis\":{\"gridcolor\":\"white\",\"linecolor\":\"white\",\"ticks\":\"\",\"title\":{\"standoff\":15},\"zerolinecolor\":\"white\",\"automargin\":true,\"zerolinewidth\":2},\"scene\":{\"xaxis\":{\"backgroundcolor\":\"#E5ECF6\",\"gridcolor\":\"white\",\"linecolor\":\"white\",\"showbackground\":true,\"ticks\":\"\",\"zerolinecolor\":\"white\",\"gridwidth\":2},\"yaxis\":{\"backgroundcolor\":\"#E5ECF6\",\"gridcolor\":\"white\",\"linecolor\":\"white\",\"showbackground\":true,\"ticks\":\"\",\"zerolinecolor\":\"white\",\"gridwidth\":2},\"zaxis\":{\"backgroundcolor\":\"#E5ECF6\",\"gridcolor\":\"white\",\"linecolor\":\"white\",\"showbackground\":true,\"ticks\":\"\",\"zerolinecolor\":\"white\",\"gridwidth\":2}},\"shapedefaults\":{\"line\":{\"color\":\"#2a3f5f\"}},\"annotationdefaults\":{\"arrowcolor\":\"#2a3f5f\",\"arrowhead\":0,\"arrowwidth\":1},\"geo\":{\"bgcolor\":\"white\",\"landcolor\":\"#E5ECF6\",\"subunitcolor\":\"white\",\"showland\":true,\"showlakes\":true,\"lakecolor\":\"white\"},\"title\":{\"x\":0.05},\"mapbox\":{\"style\":\"light\"}}},\"title\":{\"text\":\"Customer Demographics Clusters\"}},                        {\"responsive\": true}                    ).then(function(){\n",
       "                            \n",
       "var gd = document.getElementById('fc686baf-8518-4912-b0fa-e9c955f0dd1b');\n",
       "var x = new MutationObserver(function (mutations, observer) {{\n",
       "        var display = window.getComputedStyle(gd).display;\n",
       "        if (!display || display === 'none') {{\n",
       "            console.log([gd, 'removed!']);\n",
       "            Plotly.purge(gd);\n",
       "            observer.disconnect();\n",
       "        }}\n",
       "}});\n",
       "\n",
       "// Listen for the removal of the full notebook cells\n",
       "var notebookContainer = gd.closest('#notebook-container');\n",
       "if (notebookContainer) {{\n",
       "    x.observe(notebookContainer, {childList: true});\n",
       "}}\n",
       "\n",
       "// Listen for the clearing of the current output cell\n",
       "var outputEl = gd.closest('.output');\n",
       "if (outputEl) {{\n",
       "    x.observe(outputEl, {childList: true});\n",
       "}}\n",
       "\n",
       "                        })                };                });            </script>        </div>"
      ]
     },
     "metadata": {},
     "output_type": "display_data"
    }
   ],
   "source": [
    "fig = go.Figure()\n",
    "fig.add_trace(go.Scatter(\n",
    "        x=x0['pc1'],\n",
    "        y=x0['pc2'],\n",
    "        name='cluster 0',\n",
    "        mode='markers',\n",
    "        marker=dict(\n",
    "                color='mediumorchid',\n",
    "                line=dict(\n",
    "                color='lavenderblush',\n",
    "                width=1))\n",
    "        ))\n",
    "fig.add_trace(go.Scatter(\n",
    "        x=x1['pc1'],\n",
    "        y=x1['pc2'],\n",
    "        name='cluster 1',\n",
    "        mode='markers',\n",
    "        marker=dict(\n",
    "                color='sandybrown',\n",
    "                line=dict(\n",
    "                color='lemonchiffon',\n",
    "                width=1))\n",
    "        ))\n",
    "fig.add_trace(go.Scatter(\n",
    "        x=x2['pc1'],\n",
    "        y=x2['pc2'],\n",
    "        name='cluster 2',\n",
    "        mode='markers',\n",
    "        marker=dict(\n",
    "                color='slateblue',\n",
    "                line=dict(\n",
    "                color='lightcyan',\n",
    "                width=1))\n",
    "        ))\n",
    "fig.update_layout(title='Customer Demographics Clusters')\n",
    "fig.show()"
   ]
  }
 ],
 "metadata": {
  "kernelspec": {
   "display_name": "Python 3 (ipykernel)",
   "language": "python",
   "name": "python3"
  },
  "language_info": {
   "codemirror_mode": {
    "name": "ipython",
    "version": 3
   },
   "file_extension": ".py",
   "mimetype": "text/x-python",
   "name": "python",
   "nbconvert_exporter": "python",
   "pygments_lexer": "ipython3",
   "version": "3.9.13"
  }
 },
 "nbformat": 4,
 "nbformat_minor": 5
}
